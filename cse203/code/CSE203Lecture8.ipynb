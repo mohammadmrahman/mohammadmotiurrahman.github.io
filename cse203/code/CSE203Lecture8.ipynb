{
  "nbformat": 4,
  "nbformat_minor": 0,
  "metadata": {
    "colab": {
      "name": "CSE203Lecture8.ipynb",
      "provenance": [],
      "include_colab_link": true
    },
    "kernelspec": {
      "name": "python3",
      "display_name": "Python 3"
    }
  },
  "cells": [
    {
      "cell_type": "markdown",
      "metadata": {
        "id": "view-in-github",
        "colab_type": "text"
      },
      "source": [
        "<a href=\"https://colab.research.google.com/github/mohammadmotiurrahman/cse203/blob/master/CSE203Lecture8.ipynb\" target=\"_parent\"><img src=\"https://colab.research.google.com/assets/colab-badge.svg\" alt=\"Open In Colab\"/></a>"
      ]
    },
    {
      "cell_type": "markdown",
      "metadata": {
        "id": "xydmic_uTabg",
        "colab_type": "text"
      },
      "source": [
        "# Binary Search Tree\n",
        "\n",
        "In singly linked list , we managed to solve one problem that arrays had. It is the problem of extra space. However, at the same time, we also introduced another problem in the mix, the search time of an element in a linked list in the worst case is O(n). It means that to find an element, in the worst case, one has to search `n` number of elements to find the number that he/she is looking for. Is there something that can be done better than O(n), at the same time keeping the flexibility. Enter Binary Search Tree, where searching can done much faster, without sacrificing much space for insertion or deletion. In a binary search tree the node which are larger than the parent node are kept on the right side of the tree. The nodes which are smaller than the parent node are kept on the left side of the tree. What is a tree, you may ask ... it is a way of representing data in a inverted tree shape.\n",
        "\n",
        "Example of a generic binary search tree is the following:\n",
        "\n",
        "                  16\n",
        "                 /  \\\n",
        "                /    \\\n",
        "               /      \\\n",
        "             10        20\n",
        "            / \\        /\\\n",
        "           /   \\      /  \\\n",
        "          /     \\    /    \\\n",
        "         5      11  18    25\n",
        "\n",
        "Here every value on the right is greater than the parent node, and any value on the left is less than the value of the parent node. This relationship recursively trickles downwards. Now let us define binary search tree using C++ notations.\n",
        "\n",
        "```\n",
        "struct node{\n",
        "    int data;\n",
        "    node* left;//Left node\n",
        "    node* right;//Right node\n",
        "}\n",
        "```\n",
        "Remember that doubly linked list was also defined somewhat similarly:\n",
        "```\n",
        "struct node{\n",
        "    int data;\n",
        "    node* next;\n",
        "    node* previous;\n",
        "}\n",
        "```\n",
        "Doubly linked list looked like the following:\n",
        "```\n",
        "NULL <-2-> <-4-> <-6-> <-8-> <-10-> NULL\n",
        "```\n",
        "\n",
        "while binary search tree is a little bit different.\n",
        "\n"
      ]
    },
    {
      "cell_type": "code",
      "metadata": {
        "id": "3TKmwvQmQUM2",
        "colab_type": "code",
        "colab": {
          "base_uri": "https://localhost:8080/",
          "height": 35
        },
        "outputId": "f54e64e1-bd85-4196-da8b-f39039deb375"
      },
      "source": [
        "%%writefile test.cpp\n",
        "#include <iostream>\n",
        "using namespace std;\n",
        "struct node {\n",
        "\tint data;\n",
        "\tnode* left;//Left node\n",
        "\tnode* right;//Right node\n",
        "};\n",
        "\n",
        "/*There are 3 functions that we will focus most here\n",
        "a - Insertion\n",
        "b - Deletion\n",
        "c - Search\n",
        "Lets begin ....\n",
        "*/\n",
        "void insert(node *&n, int val) {\n",
        "\t/*This will result in something like\n",
        "\tNULL <- 2 -> NULL,\n",
        "\twhere the address of left node is null\n",
        "\tand the address of right node is null*/\n",
        "\tif (n == NULL) {\n",
        "\t\tn = new node;\n",
        "\t\tn->data = val;\n",
        "\t\tn->left = n->right = NULL;\n",
        "\t}\n",
        "\telse if ( val > n->data) {\n",
        "\t\t/*call insert function recursively,\n",
        "\t\twhen you call the function,\n",
        "\t\tn = n->right. The n on the left hand\n",
        "\t\tside contains the address of n->right.\n",
        "\t\tTake special note of \"&\" before n, it\n",
        "\t\tensures that the value stick around\n",
        "\t\t*/\n",
        "\t\tinsert(n->right, val);\n",
        "\n",
        "\t}\n",
        "\telse if ( val < n->data) {\n",
        "\t\t/*similar to the last one, here\n",
        "\t\tn = n->left. Also pass by reference\n",
        "\t\thelps the address to stick around*/\n",
        "\n",
        "\t\tinsert(n->left, val);\n",
        "\t}\n",
        "}\n",
        "\n",
        "/*In the folllowing function if a\n",
        "node is null, there is nothing to do.\n",
        "Else go to the left side, print the\n",
        "data of the parent node, and then go \n",
        "the right side*/\n",
        "\n",
        "void printBST(node*n) {    \n",
        "\tif (n == NULL)return;\n",
        "\tprintBST(n->left);\n",
        "\tcout << n->data << \" \";\n",
        "\tprintBST(n->right);\n",
        "}\n",
        "\n",
        "int main() {\n",
        "\tnode* a = NULL;\n",
        "\tinsert(a, 2);\n",
        "\tinsert(a, 4);\n",
        "\tinsert(a, 1);\n",
        "\tprintBST(a);\n",
        "\n",
        "\treturn 0;\n",
        "\n",
        "}"
      ],
      "execution_count": 7,
      "outputs": [
        {
          "output_type": "stream",
          "text": [
            "Overwriting test.cpp\n"
          ],
          "name": "stdout"
        }
      ]
    },
    {
      "cell_type": "code",
      "metadata": {
        "id": "zTeSB3Az_owf",
        "colab_type": "code",
        "colab": {
          "base_uri": "https://localhost:8080/",
          "height": 35
        },
        "outputId": "cf0c87f4-9c93-4fae-9a48-5e792796edb0"
      },
      "source": [
        "%%script bash\n",
        "g++ test.cpp -o test \n",
        "./test"
      ],
      "execution_count": 8,
      "outputs": [
        {
          "output_type": "stream",
          "text": [
            "1 2 4 "
          ],
          "name": "stdout"
        }
      ]
    },
    {
      "cell_type": "markdown",
      "metadata": {
        "id": "C-cHu9ZRygrv",
        "colab_type": "text"
      },
      "source": [
        "If you are curious about the addressing of the binary search tree, you can also print the address as you go along."
      ]
    },
    {
      "cell_type": "code",
      "metadata": {
        "id": "25cJ6_JwyNf0",
        "colab_type": "code",
        "colab": {
          "base_uri": "https://localhost:8080/",
          "height": 35
        },
        "outputId": "ddfec2d3-9901-481d-e005-6a8d8d6c0c18"
      },
      "source": [
        "%%writefile test.cpp\n",
        "#include <iostream>\n",
        "using namespace std;\n",
        "struct node {\n",
        "\tint data;\n",
        "\tnode* left;//Left node\n",
        "\tnode* right;//Right node\n",
        "};\n",
        "\n",
        "\n",
        "void insert(node *&n, int val) {\n",
        "\tif (n == NULL) {\n",
        "\t\tn = new node;\n",
        "\t\tn->data = val;\n",
        "\t\tn->left = n->right = NULL;\n",
        "\t}\n",
        "\telse if ( val > n->data) {\n",
        "\t\tinsert(n->right, val);\n",
        "\t}\n",
        "\telse if ( val < n->data) {\n",
        "\t\tinsert(n->left, val);\n",
        "\t}\n",
        "}\n",
        "\n",
        "void printBST(node*n) {\n",
        "\tif (n == NULL)return;\n",
        "\tprintBST(n->left);\n",
        "\tcout << \"Address: \" << n << \" Data: \" << n->data << endl;\n",
        "\tprintBST(n->right);\n",
        "}\n",
        "\n",
        "int main() {\n",
        "\tnode* a = NULL;\n",
        "\tinsert(a, 2);\n",
        "\tinsert(a, 4);\n",
        "\tinsert(a, 1);\n",
        "\tprintBST(a);\n",
        "\n",
        "\treturn 0;\n",
        "\n",
        "}"
      ],
      "execution_count": 16,
      "outputs": [
        {
          "output_type": "stream",
          "text": [
            "Overwriting test.cpp\n"
          ],
          "name": "stdout"
        }
      ]
    },
    {
      "cell_type": "code",
      "metadata": {
        "id": "xSPaDC3Vy6zR",
        "colab_type": "code",
        "colab": {
          "base_uri": "https://localhost:8080/",
          "height": 69
        },
        "outputId": "cff71d81-2087-49de-cf7e-19a461bd9a5b"
      },
      "source": [
        "%%script bash\n",
        "g++ test.cpp -o test \n",
        "./test"
      ],
      "execution_count": 17,
      "outputs": [
        {
          "output_type": "stream",
          "text": [
            "Address: 0x563078d54060 Data: 1\n",
            "Address: 0x563078d54020 Data: 2\n",
            "Address: 0x563078d54040 Data: 4\n"
          ],
          "name": "stdout"
        }
      ]
    },
    {
      "cell_type": "markdown",
      "metadata": {
        "id": "-f1ATnTc0lM1",
        "colab_type": "text"
      },
      "source": [
        "If you understand how insert works in the binary search tree , understanding how find operation works is quite trivial."
      ]
    },
    {
      "cell_type": "code",
      "metadata": {
        "id": "108t34IU1L7r",
        "colab_type": "code",
        "colab": {
          "base_uri": "https://localhost:8080/",
          "height": 35
        },
        "outputId": "602c3d8e-4d29-44b0-90e5-a545047b7ef9"
      },
      "source": [
        "%%writefile test.cpp\n",
        "#include <iostream>\n",
        "using namespace std;\n",
        "struct node {\n",
        "\tint data;\n",
        "\tnode* left;//Left node\n",
        "\tnode* right;//Right node\n",
        "};\n",
        "\n",
        "\n",
        "void insert(node *&n, int val) {\n",
        "\tif (n == NULL) {\n",
        "\t\tn = new node;\n",
        "\t\tn->data = val;\n",
        "\t\tn->left = n->right = NULL;\n",
        "\t}\n",
        "\telse if ( val > n->data) {\n",
        "\t\tinsert(n->right, val);\n",
        "\t}\n",
        "\telse if ( val < n->data) {\n",
        "\t\tinsert(n->left, val);\n",
        "\t}\n",
        "}\n",
        "\n",
        "void printBST(node*n) {\n",
        "\tif (n == NULL)return;\n",
        "\tprintBST(n->left);\n",
        "\tcout << n->data << \" \";\n",
        "\tprintBST(n->right);\n",
        "}\n",
        "\n",
        "bool isFound(node*n, int val) {\n",
        "\t/*If you reach a node which is NULL return false*/\n",
        "\tif (n == NULL)return false;\n",
        "\n",
        "\t/*If you have already found the data then return true*/\n",
        "\telse if (val == n->data) return true;\n",
        "\n",
        "\t/*Try to find the best path which is suitable for your data */\n",
        "\telse if ( val > n->data) return isFound(n->right, val);\n",
        "\telse if ( val < n->data) return isFound(n->left, val);\n",
        "}\n",
        "\n",
        "int main() {\n",
        "\tnode* a = NULL;\n",
        "\tinsert(a, 2);\n",
        "\tinsert(a, 4);\n",
        "\tinsert(a, 1);\n",
        "\t//printBST(a);\n",
        "\tif (isFound(a, 1)) {\n",
        "\t\tcout << \"Found\" << endl;\n",
        "\t}\n",
        "\telse {\n",
        "\t\tcout << \"Not found\" << endl;\n",
        "\t}\n",
        "\treturn 0;\n",
        "\n",
        "}"
      ],
      "execution_count": 19,
      "outputs": [
        {
          "output_type": "stream",
          "text": [
            "Overwriting test.cpp\n"
          ],
          "name": "stdout"
        }
      ]
    },
    {
      "cell_type": "code",
      "metadata": {
        "id": "Hgoe2PLi2I9Z",
        "colab_type": "code",
        "colab": {
          "base_uri": "https://localhost:8080/",
          "height": 35
        },
        "outputId": "460e89b0-8e59-49fc-c2ad-0bbe0fc7bef9"
      },
      "source": [
        "%%script bash\n",
        "g++ test.cpp -o test \n",
        "./test"
      ],
      "execution_count": 20,
      "outputs": [
        {
          "output_type": "stream",
          "text": [
            "Found\n"
          ],
          "name": "stdout"
        }
      ]
    },
    {
      "cell_type": "markdown",
      "metadata": {
        "id": "qabMplaS6czG",
        "colab_type": "text"
      },
      "source": [
        "The last function that will be shown here is the remove function. Removing an element from a binary search tree is important. But before doing that there are couple of helper functions that needs to be defined , one is finding maximum value in a BST and another one is finding minimum value in a BST."
      ]
    },
    {
      "cell_type": "code",
      "metadata": {
        "id": "CIGWC4z22LH4",
        "colab_type": "code",
        "colab": {
          "base_uri": "https://localhost:8080/",
          "height": 35
        },
        "outputId": "51a014aa-8dcb-4a7c-8c24-f48add5e21af"
      },
      "source": [
        "%%writefile test.cpp\n",
        "#include <iostream>\n",
        "using namespace std;\n",
        "struct node {\n",
        "\tint data;\n",
        "\tnode* left;//Left node\n",
        "\tnode* right;//Right node\n",
        "};\n",
        "\n",
        "\n",
        "void insert(node *&n, int val) {\n",
        "\tif (n == NULL) {\n",
        "\t\tn = new node;\n",
        "\t\tn->data = val;\n",
        "\t\tn->left = n->right = NULL;\n",
        "\t}\n",
        "\telse if ( val > n->data) {\n",
        "\t\tinsert(n->right, val);\n",
        "\t}\n",
        "\telse if ( val < n->data) {\n",
        "\t\tinsert(n->left, val);\n",
        "\t}\n",
        "}\n",
        "\n",
        "void printBST(node*n) {\n",
        "\tif (n == NULL)return;\n",
        "\tprintBST(n->left);\n",
        "\tcout << n->data << \" \";\n",
        "\tprintBST(n->right);\n",
        "}\n",
        "\n",
        "/*Since the larger value is on the right\n",
        "side, keeping on looking on the right side.\n",
        "If the right side pointer is NULL stop there,\n",
        "the parent node contains the largest value.\n",
        "10 is the largest value in the following example.\n",
        "                8\n",
        "               / \\\n",
        "              /   \\\n",
        "             4    10\n",
        "                 /  \\\n",
        "                /    \\\n",
        "               9    NULL\n",
        "*/\n",
        "int findMaximum(node*n) {\n",
        "\t/*If the node n is NULL to begin\n",
        "\twith return a large negative value*/\n",
        "\tif (n == NULL)return -1000;\n",
        "\telse if (n->right == NULL)return n->data;\n",
        "\telse return findMaximum(n->right);\n",
        "}\n",
        "\n",
        "\n",
        "/*The condition below is just the opposite.\n",
        "Here is the left pointer is NULL return\n",
        "the node data, else move to the left. In\n",
        "the example below 4 is the smallest element.\n",
        "                8\n",
        "               / \\\n",
        "              /   \\\n",
        "             4    10\n",
        "            /  \\\n",
        "           /    \\\n",
        "          NULL   5\n",
        "*/\n",
        "int findMinimum(node*n) {\n",
        "\t/*If the node n is NULL to begin\n",
        "\twith return a large positive value*/\n",
        "\tif (n == NULL)return 1000;\n",
        "\telse if (n->left == NULL) return n->data;\n",
        "\telse return findMinimum(n->left);\n",
        "}\n",
        "\n",
        "\n",
        "int main() {\n",
        "\tnode* a = NULL;\n",
        "\tinsert(a, 2);\n",
        "\tinsert(a, 4);\n",
        "\tinsert(a, 1);\n",
        "\tinsert(a, 11);\n",
        "\tinsert(a, -21);\n",
        "\tinsert(a, 15);\n",
        "\n",
        "\tprintBST(a); cout << endl;\n",
        "\tcout << \"Max is : \" << findMaximum(a) << endl;\n",
        "\tcout << \"Min is : \" << findMinimum(a) << endl;\n",
        "\treturn 0;\n",
        "\n",
        "}"
      ],
      "execution_count": 17,
      "outputs": [
        {
          "output_type": "stream",
          "text": [
            "Overwriting test.cpp\n"
          ],
          "name": "stdout"
        }
      ]
    },
    {
      "cell_type": "code",
      "metadata": {
        "id": "u2b9nMSg86IV",
        "colab_type": "code",
        "colab": {
          "base_uri": "https://localhost:8080/",
          "height": 69
        },
        "outputId": "bf29d4db-6624-4f18-9ac5-5813c3a521a7"
      },
      "source": [
        "%%script bash\n",
        "g++ test.cpp -o test \n",
        "./test"
      ],
      "execution_count": 18,
      "outputs": [
        {
          "output_type": "stream",
          "text": [
            "-21 1 2 4 11 15 \n",
            "Max is : 15\n",
            "Min is : -21\n"
          ],
          "name": "stdout"
        }
      ]
    },
    {
      "cell_type": "markdown",
      "metadata": {
        "id": "MXQZXyZ8BZ4k",
        "colab_type": "text"
      },
      "source": [
        "So, in order to remove an element from a binary search treee, one has to do the usually traversal, if the value that is supposed to be removed is greater than the value that is being looked at this moment, go to the right of the tree else go to the left of the tree. If you find the value that you are looking for, then the next step would to work on the children nodes of the value. There are 4 different ways the value that you were looking for can present itself:\n",
        "\n",
        "a. The node containing the value do not have any children\n",
        "\n",
        "```\n",
        "                        3\n",
        "                       / \\\n",
        "                      /   \\\n",
        "                    NULL   5\n",
        "                          / \\\n",
        "                         /   \\\n",
        "                      NULL  NULL\n",
        "```\n",
        "\n",
        "Lets say you want to delete the node containing value 5 , and it has no children, go on and simply delete node containing the value 5. It will end up looking like this:\n",
        "```\n",
        "                        3\n",
        "                       / \\\n",
        "                      /   \\\n",
        "                    NULL  NULL\n",
        "```\n",
        "\n",
        "b. The node containing the value do not have a right child.\n",
        "```\n",
        "                        1\n",
        "                       / \\\n",
        "                      /   \\\n",
        "                   NULL    5\n",
        "                          / \\\n",
        "                         /   \\\n",
        "                        3   NULL\n",
        "                       / \\\n",
        "                      /   \\\n",
        "                     2     4\n",
        "```\n",
        "Lets say you are interested to delete the node containing the value 5. In the above scenario just say that n = n->left and the whole left subtree will come along and look like the following:\n",
        "```\n",
        "                       1\n",
        "                      / \\\n",
        "                     /   \\\n",
        "                   NULL   3\n",
        "                         / \\\n",
        "                        /   \\\n",
        "                       1     4\n",
        "```\n",
        "c. The node containing the value do not have a left child.\n",
        " ```\n",
        "                        1\n",
        "                       / \\\n",
        "                      /   \\\n",
        "                    NULL   5\n",
        "                          / \\\n",
        "                         /   \\\n",
        "                      NULL    8   \n",
        "                             / \\\n",
        "                            /   \\\n",
        "                           6    10\n",
        "```\n",
        "\n",
        "In this case if you want to remove 5 and the left child is NULL, do the following n = n->right. This will move the right subtree of 5 upwards. The resulting tree will look like the following.\n",
        "```\n",
        "                            1\n",
        "                           / \\\n",
        "                          /   \\\n",
        "                        NULL   8   \n",
        "                              /\\\n",
        "                             /  \\\n",
        "                            6    10\n",
        "```\n",
        "d. The node containing the value have both left and right child.\n",
        "```\n",
        "                        1\n",
        "                       / \\\n",
        "                      /   \\\n",
        "                    NULL   5\n",
        "                         /  \\\n",
        "                        /    \\\n",
        "                       3       8   \n",
        "                      / \\     / \\\n",
        "                     /   \\   /   \\\n",
        "                    2     4  6    10                  \n",
        "```\n",
        "\n",
        "So, if you want to remove the node containing the value 5, replace 5 with either with the largest from left side of the node, or replace 5 with the smallest value from the right side of the node. If you replace 5 with the largest value from the left side, it will look something like the following:\n",
        "```\n",
        "                        1\n",
        "                       / \\\n",
        "                      /   \\\n",
        "                    NULL   4\n",
        "                         /  \\\n",
        "                        /    \\\n",
        "                       3       8   \n",
        "                      / \\     / \\\n",
        "                     /   \\   /   \\\n",
        "                    2     4  6    10     \n",
        "```\n",
        "\n",
        "You could have also replace 5 with the smallest value from the right side, it would result it something like this:\n",
        "```\n",
        "                        1\n",
        "                       / \\\n",
        "                      /   \\\n",
        "                    NULL   6\n",
        "                         /  \\\n",
        "                        /    \\\n",
        "                       3       8   \n",
        "                      / \\     / \\\n",
        "                     /   \\   /   \\\n",
        "                    2     4  6    10     \n",
        "```\n",
        "However, there is this issue of the trailing duplicate value at the end for both the former and the latter case. In the former it is 4 and in the later it is 6. Invoking the remove function recursively will delete 4 and 6 in the former and later cases respectively. \n",
        "\n",
        "Let us now implement the function:\n"
      ]
    },
    {
      "cell_type": "code",
      "metadata": {
        "id": "2uKJ48Ev89RK",
        "colab_type": "code",
        "colab": {
          "base_uri": "https://localhost:8080/",
          "height": 35
        },
        "outputId": "f7ef7563-11d2-4ac2-8978-83e9d378d4a0"
      },
      "source": [
        "%%writefile test.cpp\n",
        "#include <iostream>\n",
        "using namespace std;\n",
        "struct node {\n",
        "\tint data;\n",
        "\tnode* left;//Left node\n",
        "\tnode* right;//Right node\n",
        "};\n",
        "\n",
        "\n",
        "void insert(node *&n, int val) {\n",
        "\tif (n == NULL) {\n",
        "\t\tn = new node;\n",
        "\t\tn->data = val;\n",
        "\t\tn->left = n->right = NULL;\n",
        "\t}\n",
        "\telse if ( val > n->data) {\n",
        "\t\tinsert(n->right, val);\n",
        "\t}\n",
        "\telse if ( val < n->data) {\n",
        "\t\tinsert(n->left, val);\n",
        "\t}\n",
        "}\n",
        "\n",
        "void printBST(node*n) {\n",
        "\tif (n == NULL)return;\n",
        "\tprintBST(n->left);\n",
        "\tcout << n->data << \" \";\n",
        "\tprintBST(n->right);\n",
        "}\n",
        "\n",
        "\n",
        "int findMaximum(node*n) {\n",
        "\tif (n == NULL)return -1000;\n",
        "\telse if (n->right == NULL)return n->data;\n",
        "\telse return findMaximum(n->right);\n",
        "}\n",
        "\n",
        "int findMinimum(node*n) {\n",
        "\tif (n == NULL)return 1000;\n",
        "\telse if (n->left == NULL) return n->data;\n",
        "\telse return findMinimum(n->left);\n",
        "}\n",
        "\n",
        "void removeElement(node *&n, int val) {\n",
        "\tif (n == NULL)return;\n",
        "\t/*Move left or right depending on the value of val*/\n",
        "\telse if (val > n->data) { removeElement(n->right, val);}\n",
        "\telse if (val < n->data) { removeElement(n->left, val);}\n",
        "\n",
        "\t/*So these are the 4 cases*/\n",
        "\telse {\n",
        "\t\tif (n->right == NULL && n->left == NULL) {\n",
        "\t\t\tn = NULL;\n",
        "\t\t}\n",
        "\t\telse if (n->right == NULL) {\n",
        "\t\t\tn = n->left;\n",
        "\t\t}\n",
        "\t\telse if (n->left == NULL) {\n",
        "\t\t\tn = n->right;\n",
        "\t\t}\n",
        "\t\telse {\n",
        "\t\t\tint minVal = findMinimum(n->right);\n",
        "\t\t\tn->data = minVal;\n",
        "\n",
        "\t\t\t/*Go to right subtree and remove minVal*/\n",
        "\t\t\tremoveElement(n->right, minVal);\n",
        "\t\t}\n",
        "\t}\n",
        "}\n",
        "\n",
        "int main() {\n",
        "\tnode* a = NULL;\n",
        "\tinsert(a, 2);\n",
        "\tinsert(a, 4);\n",
        "\tinsert(a, 1);\n",
        "\tinsert(a, 11);\n",
        "\tinsert(a, -21);\n",
        "\tinsert(a, 15);\n",
        "\n",
        "\tcout << \"The binary search tree: \";\n",
        "\tprintBST(a); cout << endl;\n",
        "\tcout << \"Max is : \" << findMaximum(a) << endl;\n",
        "\tcout << \"Min is : \" << findMinimum(a) << endl;\n",
        "\tremoveElement(a, 11);\n",
        "\tcout << \"The new binary search is: \";\n",
        "\tprintBST(a);\n",
        "\treturn 0;\n",
        "\n",
        "}"
      ],
      "execution_count": 15,
      "outputs": [
        {
          "output_type": "stream",
          "text": [
            "Overwriting test.cpp\n"
          ],
          "name": "stdout"
        }
      ]
    },
    {
      "cell_type": "code",
      "metadata": {
        "id": "MuyZa46bpjD1",
        "colab_type": "code",
        "colab": {
          "base_uri": "https://localhost:8080/",
          "height": 87
        },
        "outputId": "5ceb3aad-1323-486a-a784-158023bde1e9"
      },
      "source": [
        "%%script bash\n",
        "g++ test.cpp -o test \n",
        "./test"
      ],
      "execution_count": 16,
      "outputs": [
        {
          "output_type": "stream",
          "text": [
            "The binary search tree: -21 1 2 4 11 15 \n",
            "Max is : 15\n",
            "Min is : -21\n",
            "The new binary search is: -21 1 2 4 15 "
          ],
          "name": "stdout"
        }
      ]
    },
    {
      "cell_type": "markdown",
      "metadata": {
        "id": "3yaOH5ZburP0",
        "colab_type": "text"
      },
      "source": [
        "So, this is about it. There are lots of other functions that will be taught in class. These were the basic ones. I hope it will help you to improve your understanding of Binary Search Trees."
      ]
    }
  ]
}