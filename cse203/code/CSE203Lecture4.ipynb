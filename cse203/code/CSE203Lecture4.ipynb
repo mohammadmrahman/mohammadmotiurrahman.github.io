{
  "nbformat": 4,
  "nbformat_minor": 0,
  "metadata": {
    "colab": {
      "name": "CSE203Lecture4.ipynb",
      "provenance": [],
      "include_colab_link": true
    },
    "kernelspec": {
      "name": "python3",
      "display_name": "Python 3"
    }
  },
  "cells": [
    {
      "cell_type": "markdown",
      "metadata": {
        "id": "view-in-github",
        "colab_type": "text"
      },
      "source": [
        "<a href=\"https://colab.research.google.com/github/mohammadmotiurrahman/cse203/blob/master/CSE203Lecture4.ipynb\" target=\"_parent\"><img src=\"https://colab.research.google.com/assets/colab-badge.svg\" alt=\"Open In Colab\"/></a>"
      ]
    },
    {
      "cell_type": "markdown",
      "metadata": {
        "id": "1Jrc3ZueYuF0",
        "colab_type": "text"
      },
      "source": [
        "## About `structs`\n",
        "Structs are used to assemble multiple data type such as `int`, `string`, `float` together. This is useful in situations where just describing something with a simple data type is not good enough. For example in order to represent a patient in a hospital more than one data type is required. The hospital authorities needs to know his/her name, his/her age, gender, blood type, COVID positive or negative(unfortunately) these days. There are entities that requires such input, for example, in order to describe a student, students name, id, gender, age, highest degree achieved is required. For other trivial cases such as describing a flower, name of the flower/color of the flower/no of petals of the flower is required. In this notebook we would be focusing on the data representation for a rectangle. In order to represent a rectangle, two things are required, one is it length and another is its width. So here we go."
      ]
    },
    {
      "cell_type": "code",
      "metadata": {
        "id": "7n3MfwFElAGR",
        "colab_type": "code",
        "colab": {
          "base_uri": "https://localhost:8080/",
          "height": 35
        },
        "outputId": "5995bda1-296e-4866-bbf6-4a4653313c21"
      },
      "source": [
        "%%writefile test.cpp\n",
        "#include <iostream>\n",
        "using namespace std;\n",
        "/*Let us start with describing a\n",
        "student. In order to describe an\n",
        "entity like student, keyword \"struct\"\n",
        "is used like the following. And\n",
        "all the elements relevant to that\n",
        "entity which is student is enclosed\n",
        "in it.*/\n",
        "\n",
        "struct student {\n",
        "\tstring name;\n",
        "\tint id;\n",
        "};\n",
        "\n",
        "int main() {\n",
        "\t/*Afterwards in order to instantiate\n",
        "\ta student, one has to declare a\n",
        "\tvariable of the student, similar\n",
        "\tto a variable of int type*/\n",
        "\n",
        "\tstudent s;//to declare a variable like \"s\"\n",
        "\tint x;//to declare a variable like \"x\"\n",
        "\n",
        "\t/*To write to an elements of the variable \"s\"\n",
        "\tthat describes a student, do something like this*/\n",
        "\n",
        "\ts.name = \"motiur\";\n",
        "\ts.id = 123;\n",
        "\n",
        "\t/*In order to display the elements that was\n",
        "\twritten do something like this.*/\n",
        "\n",
        "\tcout << \"Name is : \" << s.name << \" Id is :\" << s.id << endl;\n",
        "\n",
        "\treturn 0;\n",
        "}\n",
        "\n"
      ],
      "execution_count": 1,
      "outputs": [
        {
          "output_type": "stream",
          "text": [
            "Overwriting test.cpp\n"
          ],
          "name": "stdout"
        }
      ]
    },
    {
      "cell_type": "code",
      "metadata": {
        "id": "APpipyGncGJV",
        "colab_type": "code",
        "colab": {
          "base_uri": "https://localhost:8080/",
          "height": 35
        },
        "outputId": "78d3694c-f334-4da1-db40-a6fff1ea69ab"
      },
      "source": [
        "%%script bash\n",
        "g++ test.cpp -o test \n",
        "./test"
      ],
      "execution_count": 2,
      "outputs": [
        {
          "output_type": "stream",
          "text": [
            "Name is : motiur Id is :123\n"
          ],
          "name": "stdout"
        }
      ]
    },
    {
      "cell_type": "markdown",
      "metadata": {
        "id": "9LRA0sVQ6PXx",
        "colab_type": "text"
      },
      "source": [
        "The code block above is a basic example of the usage of `struct` construct. Things gets a little bit more involved to make a robust system of data structures. Below will be a given highlights of arrays of structs and how structs are used in conjunction with dynamic and static memory."
      ]
    },
    {
      "cell_type": "code",
      "metadata": {
        "id": "3DwV_wdq6H-o",
        "colab_type": "code",
        "colab": {
          "base_uri": "https://localhost:8080/",
          "height": 35
        },
        "outputId": "9b9846d0-ec62-411f-d4ba-2110fbee4a64"
      },
      "source": [
        "%%writefile test.cpp\n",
        "#include <iostream>\n",
        "using namespace std;\n",
        "/*So let us rewrite the above code\n",
        "using dynamic memory constructs.*/\n",
        "\n",
        "struct student {\n",
        "\tstring name;\n",
        "\tint id;\n",
        "};\n",
        "\n",
        "int main() {\n",
        "\t/*Remember that an integer can be\n",
        "\tdeclared like this, even though\n",
        "\tit is strictly not necessary*/\n",
        "\n",
        "\tint *x = new int(3);\n",
        "\t/*Similarly student data variable\n",
        "\tcan be declared as follows using\n",
        "\tdynamic memory notations.*/\n",
        "\n",
        "\tstudent *s = new student;\n",
        "\ts->name = \"motiur\";\n",
        "\ts->id = 124;\n",
        "\n",
        "\t/*After that the dat variable\n",
        "\tcan be read as:*/\n",
        "\tcout << \"Name: \" << s->name << \" Id: \" << s->id << endl;\n",
        "\n",
        "\tdelete[] s;\n",
        "\n",
        "\treturn 0;\n",
        "}\n",
        "\n"
      ],
      "execution_count": 3,
      "outputs": [
        {
          "output_type": "stream",
          "text": [
            "Overwriting test.cpp\n"
          ],
          "name": "stdout"
        }
      ]
    },
    {
      "cell_type": "code",
      "metadata": {
        "id": "s5mvlXvNTWOV",
        "colab_type": "code",
        "colab": {
          "base_uri": "https://localhost:8080/",
          "height": 35
        },
        "outputId": "65be08d0-64f1-49dc-82e2-7c889fec4b90"
      },
      "source": [
        "%%script bash\n",
        "g++ test.cpp -o test \n",
        "./test"
      ],
      "execution_count": 4,
      "outputs": [
        {
          "output_type": "stream",
          "text": [
            "Name: motiur Id: 124\n"
          ],
          "name": "stdout"
        }
      ]
    },
    {
      "cell_type": "markdown",
      "metadata": {
        "id": "TMqopiMNULD8",
        "colab_type": "text"
      },
      "source": [
        "Structs can be initialized to work with functions in couple of ways. Some of them are displayed below:\n",
        "1. Using static memory \n",
        "*   structs passed to functions for a single element.   "
      ]
    },
    {
      "cell_type": "code",
      "metadata": {
        "id": "SkPmXgFITagU",
        "colab_type": "code",
        "colab": {
          "base_uri": "https://localhost:8080/",
          "height": 35
        },
        "outputId": "4f6737ec-ee04-4e81-950e-b3a96d1609af"
      },
      "source": [
        "%%writefile test.cpp\n",
        "#include <iostream>\n",
        "using namespace std;\n",
        "\n",
        "struct rectangle {\n",
        "\tfloat height;\n",
        "\tfloat width;\n",
        "};\n",
        "void setLengthWidth(rectangle r) {\n",
        "\tr.height = 3;\n",
        "\tr.width  = 4;\n",
        "}\n",
        "void getArea(rectangle r) {\n",
        "\tcout << \"Area is: \" << r.height*r.width << endl;\n",
        "}\n",
        "\n",
        "int main() {\n",
        "\trectangle r;\n",
        "\tsetLengthWidth(r);\n",
        "\tgetArea(r);\n",
        "\n",
        "\treturn 0;\n",
        "}\n"
      ],
      "execution_count": 5,
      "outputs": [
        {
          "output_type": "stream",
          "text": [
            "Overwriting test.cpp\n"
          ],
          "name": "stdout"
        }
      ]
    },
    {
      "cell_type": "code",
      "metadata": {
        "id": "SieDSfOxXNtp",
        "colab_type": "code",
        "colab": {
          "base_uri": "https://localhost:8080/",
          "height": 35
        },
        "outputId": "44e4ee89-703f-4ff3-c39b-d42f7f5a1c29"
      },
      "source": [
        "%%script bash\n",
        "g++ test.cpp -o test \n",
        "./test"
      ],
      "execution_count": 6,
      "outputs": [
        {
          "output_type": "stream",
          "text": [
            "Area is: -0\n"
          ],
          "name": "stdout"
        }
      ]
    },
    {
      "cell_type": "markdown",
      "metadata": {
        "id": "IyAolxn4XZjK",
        "colab_type": "text"
      },
      "source": [
        "So after running the above code block the output from `getArea()` function turns out to be `-0`, even though the length and width were set to be `3` and `4` respectively. There is a reason for these type of return value, the reason is the values are not transferred to the functions in the way it is supposed to. The proper way to send this is pass by reference. Pass by reference helps variables to be \"remembered\" across functions. Let us rewrite the code again, but this time using pass by reference notations. "
      ]
    },
    {
      "cell_type": "code",
      "metadata": {
        "id": "Zm_1z_bdZKPv",
        "colab_type": "code",
        "colab": {
          "base_uri": "https://localhost:8080/",
          "height": 35
        },
        "outputId": "e342044d-a42c-410c-ad7e-246a854b9e2c"
      },
      "source": [
        "%%writefile test.cpp\n",
        "#include <iostream>\n",
        "using namespace std;\n",
        "\n",
        "struct rectangle {\n",
        "\tfloat height;\n",
        "\tfloat width;\n",
        "};\n",
        "void setLengthWidth(rectangle &r) {\n",
        "\tr.height = 3;\n",
        "\tr.width  = 4;\n",
        "}\n",
        "void getArea(rectangle &r) {\n",
        "\tcout << \"Area is: \" << r.height*r.width << endl;\n",
        "}\n",
        "\n",
        "int main() {\n",
        "\trectangle r;\n",
        "\tsetLengthWidth(r);\n",
        "\tgetArea(r);\n",
        "\n",
        "\treturn 0;\n",
        "}\n"
      ],
      "execution_count": 7,
      "outputs": [
        {
          "output_type": "stream",
          "text": [
            "Overwriting test.cpp\n"
          ],
          "name": "stdout"
        }
      ]
    },
    {
      "cell_type": "code",
      "metadata": {
        "id": "IC4b5MQEZOG2",
        "colab_type": "code",
        "colab": {
          "base_uri": "https://localhost:8080/",
          "height": 35
        },
        "outputId": "e54c0d8f-8bf5-4aeb-9543-f3e61ea5e700"
      },
      "source": [
        "%%script bash\n",
        "g++ test.cpp -o test \n",
        "./test"
      ],
      "execution_count": 8,
      "outputs": [
        {
          "output_type": "stream",
          "text": [
            "Area is: 12\n"
          ],
          "name": "stdout"
        }
      ]
    },
    {
      "cell_type": "markdown",
      "metadata": {
        "id": "uPqYlWpXZ-Cv",
        "colab_type": "text"
      },
      "source": [
        "*    structs passed to functions for multiple elements"
      ]
    },
    {
      "cell_type": "code",
      "metadata": {
        "id": "O8tDmP7DZSnE",
        "colab_type": "code",
        "colab": {
          "base_uri": "https://localhost:8080/",
          "height": 35
        },
        "outputId": "9ebbcec8-f52a-4144-f2f2-c185649ed47e"
      },
      "source": [
        "%%writefile test.cpp\n",
        "#include <iostream>\n",
        "using namespace std;\n",
        "\n",
        "struct rectangle {\n",
        "\tfloat height;\n",
        "\tfloat width;\n",
        "};\n",
        "\n",
        "//This is just like a 1d array of integers\n",
        "void setLengthWidth(rectangle r[], int n) {\n",
        "\tfor (int i = 0; i < n; ++i) {\n",
        "\t\tr[i].height = 5.0; r[i].width = 4.0;\n",
        "\t}\n",
        "}\n",
        "\n",
        "/*Note that without even displaying the\n",
        "values like the following, the values\n",
        "could have been stored in the rectangle \"r\"*/\n",
        "\n",
        "void getArea(rectangle r[], int n) {\n",
        "\tfor (int i = 0; i < n; ++i) {\n",
        "\t\tcout << r[i].height*r[i].width << endl;\n",
        "\t}\n",
        "}\n",
        "\n",
        "int main() {\n",
        "\t/*So, here an array of rectangles\n",
        "\tis initialized .*/\n",
        "\trectangle r[3];\n",
        "\n",
        "\t/*This function helps to set the\n",
        "\tvalues in this array of rectangles*/\n",
        "\n",
        "\tsetLengthWidth(r, 3);\n",
        "\n",
        "\t/*Get the area printed out*/\n",
        "\tcout << \"The areas of the rectangle: \" << endl;\n",
        "\n",
        "\tgetArea(r, 3);\n",
        "\n",
        "\treturn 0;\n",
        "}\n"
      ],
      "execution_count": 9,
      "outputs": [
        {
          "output_type": "stream",
          "text": [
            "Overwriting test.cpp\n"
          ],
          "name": "stdout"
        }
      ]
    },
    {
      "cell_type": "code",
      "metadata": {
        "id": "a7G-yUFFaG8_",
        "colab_type": "code",
        "colab": {
          "base_uri": "https://localhost:8080/",
          "height": 87
        },
        "outputId": "74b6bb40-4cfe-40f0-de04-5d7dd7020089"
      },
      "source": [
        "%%script bash\n",
        "g++ test.cpp -o test \n",
        "./test"
      ],
      "execution_count": 10,
      "outputs": [
        {
          "output_type": "stream",
          "text": [
            "The areas of the rectangle: \n",
            "20\n",
            "20\n",
            "20\n"
          ],
          "name": "stdout"
        }
      ]
    },
    {
      "cell_type": "markdown",
      "metadata": {
        "id": "eLBBUpc6jgEQ",
        "colab_type": "text"
      },
      "source": [
        "2.   Dynamic Memory\n",
        "*    `structs` with `function` for single element\n",
        "\n",
        "It is similar to static memory with couple of notational change. "
      ]
    },
    {
      "cell_type": "code",
      "metadata": {
        "id": "jgs4lGZalhCS",
        "colab_type": "code",
        "colab": {
          "base_uri": "https://localhost:8080/",
          "height": 35
        },
        "outputId": "bda44aee-c79c-4629-c00d-0f699a8eb0de"
      },
      "source": [
        "%%writefile test.cpp\n",
        "\n",
        "//Single Element\n",
        "#include <iostream>\n",
        "using namespace std;\n",
        "\n",
        "struct rectangle {\n",
        "\tfloat length;\n",
        "\tfloat width;\n",
        "};\n",
        "\n",
        "\n",
        "void setLengthWidth(rectangle *r) {\n",
        "\t/*Look at the notation to access the\n",
        "\tthe variable length and the variable width*/\n",
        "\tr->length = 5.0; r->width = 4.0;\n",
        "\n",
        "\t//It can also be written like this\n",
        "\t//(*r).length = 5.0; (*r).width = 4.0;\n",
        "}\n",
        "\n",
        "void getArea(rectangle *r) {\n",
        "\t//Printing the area of the rectangle\n",
        "\tcout << r->length*r->width << endl;\n",
        "\n",
        "\t//It can also be written like this\n",
        "\t//cout<<(*r).length*(*r).width<<endl;\n",
        "}\n",
        "\n",
        "\n",
        "int main() {\n",
        "\n",
        "\t/*Pointer to data type of rectangle,\n",
        "\tthe memory is allocated from the heap.\n",
        "\tThis is similar to int * x = new int;*/\n",
        "\n",
        "\trectangle *r = new rectangle;\n",
        "\n",
        "\t//The variable \"r\" is send as an address\n",
        "\tsetLengthWidth(r);\n",
        "\n",
        "\t//The variable \"r\" is send as an address\n",
        "\tcout << \"The area is : \";\n",
        "\tgetArea(r);\n",
        "\n",
        "\t//Reclaim the memory\n",
        "\tdelete[] r;\n",
        "\n",
        "\treturn 0;\n",
        "}"
      ],
      "execution_count": 11,
      "outputs": [
        {
          "output_type": "stream",
          "text": [
            "Overwriting test.cpp\n"
          ],
          "name": "stdout"
        }
      ]
    },
    {
      "cell_type": "code",
      "metadata": {
        "id": "iTQNqmewn5_N",
        "colab_type": "code",
        "colab": {
          "base_uri": "https://localhost:8080/",
          "height": 35
        },
        "outputId": "e2acf078-14c0-408f-dc5a-ac59936da765"
      },
      "source": [
        "%%script bash\n",
        "g++ test.cpp -o test \n",
        "./test"
      ],
      "execution_count": 12,
      "outputs": [
        {
          "output_type": "stream",
          "text": [
            "The area is : 20\n"
          ],
          "name": "stdout"
        }
      ]
    },
    {
      "cell_type": "markdown",
      "metadata": {
        "id": "QysoJu0iqfd2",
        "colab_type": "text"
      },
      "source": [
        "*   `structs` with `function` for mutliple elements"
      ]
    },
    {
      "cell_type": "code",
      "metadata": {
        "id": "4OfhC5Hnn606",
        "colab_type": "code",
        "colab": {
          "base_uri": "https://localhost:8080/",
          "height": 35
        },
        "outputId": "698a2cff-38f9-41e4-df02-da5df724553f"
      },
      "source": [
        "%%writefile test.cpp\n",
        "\n",
        "//Single Element\n",
        "#include <iostream>\n",
        "using namespace std;\n",
        "\n",
        "struct rectangle {\n",
        "\tfloat length;\n",
        "\tfloat width;\n",
        "};\n",
        "\n",
        "void setLengthWidth(rectangle *r, int n) {\n",
        "\t/*Be careful of the way memory is kept\n",
        "\tinside the array. Compare the \".\" notation\n",
        "\tfor a single element to the \"->\" notation\n",
        "\tfor mutliple elements */\n",
        "\n",
        "\tfor (int i = 0; i < n; ++i) {\n",
        "\t\tr[i].length = 5; r[i].width = 6;\n",
        "\t}\n",
        "}\n",
        "\n",
        "void getArea(rectangle *r, int n) {\n",
        "\tfor (int i = 0; i < n; ++i)\n",
        "\t\tcout << r[i].length*r[i].width << endl;\n",
        "}\n",
        "\n",
        "int main() {\n",
        "\n",
        "\t/*An array of rectangle taking memory\n",
        "\tfrom the heap. It is similar to this\n",
        "\ttype of notation, int * x = new int[3]*/\n",
        "\trectangle *r = new rectangle[3];\n",
        "\n",
        "\tsetLengthWidth(r, 3);\n",
        "\n",
        "\tcout << \"Areas of the rectangle: \" << endl;\n",
        "\tgetArea(r, 3);\n",
        "\n",
        "\t/*Free the memory*/\n",
        "\tdelete[] r;\n",
        "\n",
        "\treturn 0;\n",
        "}"
      ],
      "execution_count": 13,
      "outputs": [
        {
          "output_type": "stream",
          "text": [
            "Overwriting test.cpp\n"
          ],
          "name": "stdout"
        }
      ]
    },
    {
      "cell_type": "code",
      "metadata": {
        "id": "4_OS4qf1sQ0h",
        "colab_type": "code",
        "colab": {
          "base_uri": "https://localhost:8080/",
          "height": 87
        },
        "outputId": "eb9c5323-ae6e-46a3-9915-6fec014378dc"
      },
      "source": [
        "%%script bash\n",
        "g++ test.cpp -o test \n",
        "./test"
      ],
      "execution_count": 14,
      "outputs": [
        {
          "output_type": "stream",
          "text": [
            "Areas of the rectangle: \n",
            "30\n",
            "30\n",
            "30\n"
          ],
          "name": "stdout"
        }
      ]
    }
  ]
}