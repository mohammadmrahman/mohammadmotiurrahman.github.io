{
  "nbformat": 4,
  "nbformat_minor": 0,
  "metadata": {
    "colab": {
      "name": "CSE203Lecture3.ipynb",
      "provenance": [],
      "include_colab_link": true
    },
    "kernelspec": {
      "name": "python3",
      "display_name": "Python 3"
    }
  },
  "cells": [
    {
      "cell_type": "markdown",
      "metadata": {
        "id": "view-in-github",
        "colab_type": "text"
      },
      "source": [
        "<a href=\"https://colab.research.google.com/github/mohammadmotiurrahman/cse203/blob/master/CSE203Lecture3.ipynb\" target=\"_parent\"><img src=\"https://colab.research.google.com/assets/colab-badge.svg\" alt=\"Open In Colab\"/></a>"
      ]
    },
    {
      "cell_type": "markdown",
      "metadata": {
        "id": "GiyIo9yvY_-A",
        "colab_type": "text"
      },
      "source": [
        "# Something about `const` and `c string`\n",
        "So `const` in C++ allows data types in a way that helps to write safe and secure way. Let's begin.\n",
        "\n"
      ]
    },
    {
      "cell_type": "markdown",
      "metadata": {
        "id": "3noLN0ufaHRX",
        "colab_type": "text"
      },
      "source": [
        "## C strings\n",
        "So, string in C++ is written using class convention\n",
        "Strings in C is not written using class convention. \n",
        "However it is useful to know how it works in fine details.\n",
        "Here we go:"
      ]
    },
    {
      "cell_type": "code",
      "metadata": {
        "id": "tVTac166a1V1",
        "colab_type": "code",
        "colab": {
          "base_uri": "https://localhost:8080/",
          "height": 35
        },
        "outputId": "d8a41ba0-b17d-49a6-c4f5-a2f0db8d1f35"
      },
      "source": [
        "%%writefile test.cpp\n",
        "#include <iostream>\n",
        "using namespace std;\n",
        "\n",
        "int main() {\n",
        "\n",
        "\t/*So these are the way in which\n",
        "\tcharacter array can be respresented\n",
        "\tin C++, but firstly let me show\n",
        "\tthe standard way of writing it.*/\n",
        "\n",
        "\tchar a[4] = {'i', 'c', 'e', '\\0'};\n",
        "\n",
        "\t/*The character 'i','c' and 'e'\n",
        "\tare the first 3 characters, which\n",
        "\tis followed by the '\\0' character,\n",
        "\tthat signifies that the character\n",
        "\tarray has ended.There are other\n",
        "\tconventions of writing character\n",
        "\tarray as shown below.*/\n",
        "\n",
        "\tchar b[] = { 'r', 'i', 'c', 'e', '\\0' };\n",
        "\n",
        "\t/*In the above notation you don't have\n",
        "\texplicitly mention the size of the\n",
        "\tcharacter array, however, you need\n",
        "\tto put the '\\0' sign after the array\n",
        "\tis over*/\n",
        "\n",
        "\t/*In the notation below, the compiler\n",
        "\tautomatically puts a '\\0' at the end\n",
        "\tof the string.Notice the empty \"[]\"\n",
        "\tnotation after the variable \"c\". */\n",
        "\n",
        "\tchar c[] = \"nice\";\n",
        "\n",
        "\t/*If you put a number inside the empty\n",
        "\t\"[]\", it has to be 1 more than the\n",
        "\tnumber of characters you want to write.\n",
        "\tFor example, the word \"dice\" has 4\n",
        "\tcharacters, to signify the last '\\0'\n",
        "\tcharacter, the size of the array is\n",
        "\tallocated for 5 characters.*/\n",
        "\n",
        "\tchar d[5] = \"dice\";\n",
        "\n",
        "\t/*If you want to write dynamic memory\n",
        "\tfrom the heap to represent character array,\n",
        "\tyou can do that as well*/\n",
        "\n",
        "\tchar *e = new char[6] {'s', 'p', 'i', 'c', 'e', '\\0'};\n",
        "\n",
        "\t/*And finally a character array, also known\n",
        "\tas c string can also be written be written\n",
        "\tint the following way. The context of the\n",
        "\tkeyword \"const\" with regard to a \"char *\"\n",
        "\twill be explained in the subsequent sections*/\n",
        "\n",
        "\tconst char *f = \"price\";\n",
        "\n",
        "\t/*Now, let us print the content that is\n",
        "\tpresent in each of the character array*/\n",
        "\n",
        "\tcout << \"Content of the character array/ cstring: \" << endl;\n",
        "\tcout << a << endl;\n",
        "\tcout << b << endl;\n",
        "\tcout << c << endl;\n",
        "\tcout << d << endl;\n",
        "\tcout << e << endl;\n",
        "\tcout << f << endl;\n",
        "\n",
        "\t/*How about the address of each of the variable\n",
        "\tthat reprsents a character array or c string.\n",
        "\tBut before doing that realize that what did you\n",
        "\tdo just above, what does a,b,c,d,e,f represents.\n",
        "\tShouldn't they represent some kind of address,\n",
        "\tinstead of the value that it holds.So just remember\n",
        "\tthat when it comes to c string , things are a little\n",
        "\tbit different*/\n",
        "\n",
        "\t/*Now, if you want to print the address of a\n",
        "\tc string , you have to do the following. The\n",
        "\tvariable when written as cout<<...<<endl will\n",
        "\tonly show the value contained in it. In order\n",
        "\tshow the address , one has to type the variable\n",
        "\tto a \"void *\" pointer type.*/\n",
        "\n",
        "\tcout << \"Value of address of character array / cstring: \" << endl;\n",
        "\tcout << (void*)a << endl;\n",
        "\tcout << (void*)b << endl;\n",
        "\tcout << (void*)c << endl;\n",
        "\tcout << (void*)d << endl;\n",
        "\tcout << (void*)e << endl;\n",
        "\tcout << (void*)f << endl;\n",
        "\n",
        "\t/*One can also use any other pointer type,\n",
        "\t\"int *\" , \"float* \" or \"double*\".\n",
        "\tIt can also be printed like this:*/\n",
        "\tcout << \"Address of character array/ cstring\" << endl;\n",
        "\tcout << (void*)a << endl;\n",
        "\tcout << (int*)b << endl;\n",
        "\tcout << (float*)c << endl;\n",
        "\tcout << (double*)d << endl;\n",
        "\n",
        "\t/*However be careful of \"char*\", it will\n",
        "\tconvert the address into char * type, and\n",
        "\tprint out the whole cstring. In general\n",
        "\t\"char *\" is an address which when used in\n",
        "\tcombination of cout, would print the whole\n",
        "\tstring.Look back at line 65 to line 70 for\n",
        "\tcomparsion.*/\n",
        "\tcout << \"The whole cstring is:\" << endl;\n",
        "\tcout << (char*)e << endl;\n",
        "\n",
        "\treturn 0;\n",
        "}"
      ],
      "execution_count": 1,
      "outputs": [
        {
          "output_type": "stream",
          "text": [
            "Overwriting test.cpp\n"
          ],
          "name": "stdout"
        }
      ]
    },
    {
      "cell_type": "code",
      "metadata": {
        "id": "RwSrFTRgtFDy",
        "colab_type": "code",
        "colab": {
          "base_uri": "https://localhost:8080/",
          "height": 381
        },
        "outputId": "885d628e-4fad-45f2-b956-696ca1243b5c"
      },
      "source": [
        "%%script bash\n",
        "g++ test.cpp -o test \n",
        "./test"
      ],
      "execution_count": 2,
      "outputs": [
        {
          "output_type": "stream",
          "text": [
            "Content of the character array/ cstring: \n",
            "ice\n",
            "rice\n",
            "nice\n",
            "dice\n",
            "spice\n",
            "price\n",
            "Value of address of character array / cstring: \n",
            "0x7ffe4a8d75b5\n",
            "0x7ffe4a8d75b9\n",
            "0x7ffe4a8d75be\n",
            "0x7ffe4a8d75c3\n",
            "0x55965bdfc008\n",
            "0x5596599d9ea9\n",
            "Address of character array/ cstring\n",
            "0x7ffe4a8d75b5\n",
            "0x7ffe4a8d75b9\n",
            "0x7ffe4a8d75be\n",
            "0x7ffe4a8d75c3\n",
            "The whole cstring is:\n",
            "spice\n"
          ],
          "name": "stdout"
        }
      ]
    },
    {
      "cell_type": "markdown",
      "metadata": {
        "id": "lS_WhEpn5H44",
        "colab_type": "text"
      },
      "source": [
        "### The thing about (void *)"
      ]
    },
    {
      "cell_type": "code",
      "metadata": {
        "id": "eNsOlUeNuCGs",
        "colab_type": "code",
        "colab": {
          "base_uri": "https://localhost:8080/",
          "height": 35
        },
        "outputId": "b7a6621d-1796-4894-82e1-32d20c61ce8c"
      },
      "source": [
        "%%writefile test.cpp\n",
        "#include <iostream>\n",
        "using namespace std;\n",
        "\n",
        "int main() {\n",
        "\tint a = 12;\n",
        "\t/*The code below will give problem\n",
        "\tdue to derefencing a void pointer.*/\n",
        "\tvoid* x = &a;\n",
        "\t//Uncomment the line to see the effect\n",
        "\t//cout<<\"Derefencing x using void* : \"<<*x<<endl;\n",
        "\n",
        "\t/*However if it is like so, it will\n",
        "\tnot be problematic.*/\n",
        "\tint *y = &a;\n",
        "\tcout << \"Deferencing y using int* : \" << *y << endl;\n",
        "\n",
        "\treturn 0;\n",
        "}"
      ],
      "execution_count": 3,
      "outputs": [
        {
          "output_type": "stream",
          "text": [
            "Overwriting test.cpp\n"
          ],
          "name": "stdout"
        }
      ]
    },
    {
      "cell_type": "code",
      "metadata": {
        "id": "WUnx8Vxi6dOL",
        "colab_type": "code",
        "colab": {
          "base_uri": "https://localhost:8080/",
          "height": 35
        },
        "outputId": "feb2e195-6d3e-4f7a-f1b6-d0d0653c56f2"
      },
      "source": [
        "%%script bash\n",
        "g++ test.cpp -o test \n",
        "./test"
      ],
      "execution_count": 4,
      "outputs": [
        {
          "output_type": "stream",
          "text": [
            "Deferencing y using int* : 12\n"
          ],
          "name": "stdout"
        }
      ]
    },
    {
      "cell_type": "markdown",
      "metadata": {
        "id": "ZOJjzHCk-dEo",
        "colab_type": "text"
      },
      "source": [
        "### About printing character arrays"
      ]
    },
    {
      "cell_type": "code",
      "metadata": {
        "id": "W4XxA2747Jh_",
        "colab_type": "code",
        "colab": {
          "base_uri": "https://localhost:8080/",
          "height": 35
        },
        "outputId": "cbfdf9fc-edb0-428f-cb45-07a9211914e3"
      },
      "source": [
        "%%writefile test.cpp\n",
        "#include <iostream>\n",
        "using namespace std;\n",
        "\n",
        "/*The program below shows how to print\n",
        "address of characters and values of characters\n",
        "in a character array using C++.*/\n",
        "\n",
        "int main() {\n",
        "\n",
        "\t/*In the example below the address of the\n",
        "\tcharacters in the character array can be\n",
        "\tprinted using (void*)(&a[i]). \"&a[i]\" gives\n",
        "\tthe address of each character which is then\n",
        "\ttype casted to \"void*\". Another thing to observe\n",
        "\tis this line : \"cout<<&a[i]<<endl\".This line\n",
        "\twas supposed to print the address of each character\n",
        "\tin the array \"a\".However, since the address of\n",
        "\tcharacters can not be printed like this, what\n",
        "\tends up happening is the array gets printed\n",
        "\tfrom the address that the index \"i\" begins to\n",
        "\trepresent.Look at Line 30 and Line 31. Line 30\n",
        "\tprints the address of each character element,\n",
        "\tand line 32 prints the content of the character\n",
        "\tarray starting from that character till the end\n",
        "\tof the array.*/\n",
        "\n",
        "\tchar a[8] = {'i', 'c', 'e', '\\0'};\n",
        "\tfor (int i = 0; i < 3; ++i) {\n",
        "\t\tcout << (void*)(&a[i]) << \" \";\n",
        "\t\tcout << &a[i] << \" \";\n",
        "\t\tcout << a[i] << endl;\n",
        "\t}\n",
        "\tcout << \"-------------------------\" << endl;\n",
        "\n",
        "\tchar b[] = { 'r', 'i', 'c', 'e', '\\0' };\n",
        "\tfor (int i = 0; i < 4; ++i) {\n",
        "\t\tcout << (void*)(&b[i]) << \" \";\n",
        "\t\tcout << &b[i] << \" \";\n",
        "\t\tcout << b[i] << endl;\n",
        "\t}\n",
        "\n",
        "\tcout << \"-------------------------\" << endl;\n",
        "\n",
        "\tchar c[] = \"nice\";\n",
        "\tfor (int i = 0; i < 4; ++i) {\n",
        "\t\tcout << (void*)(&c[i]) << \" \";\n",
        "\t\tcout << &c[i] << \" \";\n",
        "\t\tcout << c[i] << endl;\n",
        "\t}\n",
        "\n",
        "\tcout << \"-------------------------\" << endl;\n",
        "\n",
        "\tchar d[5] = \"dice\";\n",
        "\tfor (int i = 0; i < 4; ++i) {\n",
        "\t\tcout << (void*)(&d[i]) << \" \";\n",
        "\t\tcout << &d[i] << \" \";\n",
        "\t\tcout << d[i] << endl;\n",
        "\t}\n",
        "\n",
        "\tcout << \"-------------------------\" << endl;\n",
        "\n",
        "\t/*\n",
        "\tIf the character array is represented as\n",
        "\tcharacter pointer, then the notation changes\n",
        "\tbut the concept remains the same. The pointers\n",
        "\tare incremented or decremented using pointer\n",
        "\tarithmetic like pointer++ or pointer--.\n",
        "\t\"(void*)e\" as shown in line 79 will print\n",
        "\tthe address of a particular character. \"e[0]\"\n",
        "\tin line 80 will print the first element of\n",
        "\tthe array, and \"e\" in line 81 will print\n",
        "\tthe whole array starting from a particular\n",
        "\tcharacter address.\n",
        "\t*/\n",
        "\n",
        "\tchar *e = new char[6] {'s', 'p', 'i', 'c', 'e', '\\0'};\n",
        "\tfor (int i = 0; i < 5; ++i) {\n",
        "\t\tcout << (void*)e << \" \";\n",
        "\t\tcout << e[0] << \" \";\n",
        "\t\tcout << e << endl;\n",
        "\t\te = e + 1;\n",
        "\t}\n",
        "\n",
        "\tcout << \"-------------------------\" << endl;\n",
        "\n",
        "\tconst char* f = \"pierre\";\n",
        "\tfor (int i = 0 ; i < 6; ++i) {\n",
        "\t\tcout << (void*)f << \" \";\n",
        "\t\tcout << f[0] << \" \";\n",
        "\t\tcout << f << endl;\n",
        "\t\tf = f + 1;\n",
        "\t}\n",
        "\n",
        "\treturn 0;\n",
        "}"
      ],
      "execution_count": 5,
      "outputs": [
        {
          "output_type": "stream",
          "text": [
            "Overwriting test.cpp\n"
          ],
          "name": "stdout"
        }
      ]
    },
    {
      "cell_type": "code",
      "metadata": {
        "id": "jwMjjJYJyvfa",
        "colab_type": "code",
        "colab": {
          "base_uri": "https://localhost:8080/",
          "height": 555
        },
        "outputId": "25802ca8-d7dd-47a0-b453-c2e1af7b6e38"
      },
      "source": [
        "%%script bash\n",
        "g++ test.cpp -o test \n",
        "./test"
      ],
      "execution_count": 6,
      "outputs": [
        {
          "output_type": "stream",
          "text": [
            "0x7ffcee4e9a90 ice i\n",
            "0x7ffcee4e9a91 ce c\n",
            "0x7ffcee4e9a92 e e\n",
            "-------------------------\n",
            "0x7ffcee4e9a81 rice r\n",
            "0x7ffcee4e9a82 ice i\n",
            "0x7ffcee4e9a83 ce c\n",
            "0x7ffcee4e9a84 e e\n",
            "-------------------------\n",
            "0x7ffcee4e9a86 nice n\n",
            "0x7ffcee4e9a87 ice i\n",
            "0x7ffcee4e9a88 ce c\n",
            "0x7ffcee4e9a89 e e\n",
            "-------------------------\n",
            "0x7ffcee4e9a8b dice d\n",
            "0x7ffcee4e9a8c ice i\n",
            "0x7ffcee4e9a8d ce c\n",
            "0x7ffcee4e9a8e e e\n",
            "-------------------------\n",
            "0x556ac6946008 s spice\n",
            "0x556ac6946009 p pice\n",
            "0x556ac694600a i ice\n",
            "0x556ac694600b c ce\n",
            "0x556ac694600c e e\n",
            "-------------------------\n",
            "0x556ac515d051 p pierre\n",
            "0x556ac515d052 i ierre\n",
            "0x556ac515d053 e erre\n",
            "0x556ac515d054 r rre\n",
            "0x556ac515d055 r re\n",
            "0x556ac515d056 e e\n"
          ],
          "name": "stdout"
        }
      ]
    },
    {
      "cell_type": "markdown",
      "metadata": {
        "id": "xXYE4kAk1CJH",
        "colab_type": "text"
      },
      "source": [
        "The code block above shows array of characters represented in couple of different ways. But do they have any inherent differences among them. They do have and that difference is highlighted below."
      ]
    },
    {
      "cell_type": "code",
      "metadata": {
        "id": "1ibrCmu-S-mu",
        "colab_type": "code",
        "colab": {
          "base_uri": "https://localhost:8080/",
          "height": 35
        },
        "outputId": "b6b68a36-93f4-4d89-9fd8-dab397cccd12"
      },
      "source": [
        "%%writefile test.cpp\n",
        "#include <iostream>\n",
        "using namespace std;\n",
        "\n",
        "void swapAddress(const char*& a, const char*& b) {\n",
        "\tconst char* temp = a;\n",
        "\ta = b;\n",
        "\tb = temp;\n",
        "}\n",
        "void swapAddressNoConst(char*& a, char*&b) {\n",
        "\tchar* temp = a;\n",
        "\ta = b;\n",
        "\tb = temp;\n",
        "}\n",
        "void swapAddressArr(char x[], char y[]) {\n",
        "\n",
        "}\n",
        "\n",
        "int main() {\n",
        "\t/*There is a portion of memory underneath\n",
        "\tthe global variable declaration portion which\n",
        "\tis known as the \"read only portion\" memory.\n",
        "\tCharacter array pointer of the following\n",
        "\ttype \"const char *\" is kept here. The reason\n",
        "\tfor the \"const\" infront of the \"char *\" will\n",
        "\tbe discussed in more detail in the upcoming\n",
        "\tsection, but for now just remember that it is\n",
        "\tnecessary since the character string \"ice\"\n",
        "\tis stored in read only portion of memory.\n",
        "\tThe \"const\" keyword ensures that there is\n",
        "\tno change to that character string.\n",
        "\t*/\n",
        "\tcout << \"Example 1: \" << endl;\n",
        "\tconst char* x = \"ice\";\n",
        "\tconst char* y = \"water\";\n",
        "\tcout << \"Before swapping address of x: \" << (void*)x << \" and y: \" << (void*)y << endl;\n",
        "\tcout << \"Before swapping value of x is: \" << x << \" y is: \" << y << endl;\n",
        "\tswapAddress(x, y);\n",
        "\tcout << \"After swapping address of x:\" << (void*)x << \" and y: \" << (void*)y << endl;\n",
        "\tcout << \"After swapping value of x is: \" << x << \" y is: \" << y << endl;\n",
        "\n",
        "\t/*Doing something like the following is not valid,\n",
        "\tas the \"char *\" is of \"const\", and it will therefore\n",
        "\tgive an error. Uncomment the following line\n",
        "\tto see the full effect*/\n",
        "\n",
        "\t//x[0] = 'f'; y[0] = 'a';\n",
        "\n",
        "\t/*If the character pointer is initialized\n",
        "\tusing memory address from the heap, then\n",
        "\tit is possible to swap the address.\n",
        "\tAlso consider this fact, if the addresses\n",
        "\t\"a\" and \"b\" were to be to passed to the\n",
        "\tfunction \"swapAddress\", then the \"char *a\"\n",
        "\tin line 62 needs to be changed to \"const char*a\",\n",
        "\tsame goes for \"char *b\" in line 63 . In those\n",
        "\tcases it would not be possible to change the\n",
        "\tcontent of the character array \"a\" and\n",
        "\tcharacter array \"b\".*/\n",
        "\n",
        "\tcout << \"\\nExample 2:\" << endl;\n",
        "\tchar *a = new char[6] {'b', 'e', 'a', 'n', 's', '\\0'};\n",
        "\tchar *b = new char[6] {'a', 'p', 'p', 'l', 'e', '\\0'};\n",
        "\n",
        "\tcout << \"Before swapping address of a: \" << (void*)a << \" and b: \" << (void*)b << endl;\n",
        "\tcout << \"Before swapping value of a is: \" << a << \" b is: \" << b << endl;\n",
        "\tswapAddressNoConst(a, b);\n",
        "\tcout << \"After swapping a is: \" << a << \" b is: \" << b << endl;\n",
        "\tcout << \"After swapping address of a: \" << (void*)a << \" and b: \" << (void*)b << endl;\n",
        "\ta[0] = 'y';\n",
        "\tb[0] = 'r';\n",
        "\tcout << \"a is: \" << a << \"b is: \" << b << endl;\n",
        "\n",
        "\n",
        "\t/*In the example below it is simply not possible to\n",
        "\texchange the address of the character arrays \"m\"\n",
        "\tand \"n\".The characters are physically there in\n",
        "\tthe memory and are represented by some electronic\n",
        "\timpulse. The same is true for an integer array.\n",
        "\tThe address of \"k\" and \"p\" cannot be exchanged.\n",
        "\tThe only thing that can be exchanged, is if there\n",
        "\tare variables into which the address values of the\n",
        "\tarrays are kept, only the content of those variables\n",
        "\tcan be exchanged.*/\n",
        "\n",
        "\tcout << \"\\nExample 3:\" << endl;\n",
        "\tchar m[4] = \"ice\";\n",
        "\tchar n[4] = \"the\";\n",
        "\tm[0] = 'a'; n[0] = 'p';\n",
        "\tcout << \"m is: \" << m << \" n is: \" << n << endl;\n",
        "\tint k[4] = {1, 2, 3, 4};\n",
        "\tint p[4] = {4, 5, 5, 6};\n",
        "\tk[0] = 23;\n",
        "\tp[0] = 973;\n",
        "\tfor (int i = 0; i < 4; ++i)cout << k[i] << \" \";\n",
        "\tcout << endl;\n",
        "\tfor (int i = 0; i < 4; ++i)cout << p[i] << \" \";\n",
        "\n",
        "\treturn 0;\n",
        "}"
      ],
      "execution_count": 7,
      "outputs": [
        {
          "output_type": "stream",
          "text": [
            "Overwriting test.cpp\n"
          ],
          "name": "stdout"
        }
      ]
    },
    {
      "cell_type": "code",
      "metadata": {
        "id": "5I7ogPoTb4YB",
        "colab_type": "code",
        "colab": {
          "base_uri": "https://localhost:8080/",
          "height": 312
        },
        "outputId": "74359a1b-e15d-4885-8754-8f1992d0551e"
      },
      "source": [
        "%%script bash\n",
        "g++ test.cpp -o test \n",
        "./test"
      ],
      "execution_count": 8,
      "outputs": [
        {
          "output_type": "stream",
          "text": [
            "Example 1: \n",
            "Before swapping address of x: 0x55a875c10155 and y: 0x55a875c10159\n",
            "Before swapping value of x is: ice y is: water\n",
            "After swapping address of x:0x55a875c10159 and y: 0x55a875c10155\n",
            "After swapping value of x is: water y is: ice\n",
            "\n",
            "Example 2:\n",
            "Before swapping address of a: 0x55a878186008 and b: 0x55a878186010\n",
            "Before swapping value of a is: beans b is: apple\n",
            "After swapping a is: apple b is: beans\n",
            "After swapping address of a: 0x55a878186010 and b: 0x55a878186008\n",
            "a is: yppleb is: reans\n",
            "\n",
            "Example 3:\n",
            "m is: ace n is: phe\n",
            "23 2 3 4 \n",
            "973 5 5 6 "
          ],
          "name": "stdout"
        }
      ]
    },
    {
      "cell_type": "markdown",
      "metadata": {
        "id": "W78nd1U6N0sZ",
        "colab_type": "text"
      },
      "source": [
        "### Going further on `const`"
      ]
    },
    {
      "cell_type": "code",
      "metadata": {
        "id": "bBqqe72kN6Ko",
        "colab_type": "code",
        "colab": {
          "base_uri": "https://localhost:8080/",
          "height": 35
        },
        "outputId": "c2fdb105-db2f-47e3-ebab-39cfa76a4b8c"
      },
      "source": [
        "%%writefile test.cpp\n",
        "#include <iostream>\n",
        "using namespace std;\n",
        "\n",
        "int main() {\n",
        "\t/*One of the reason of using\n",
        "\t\"const\" in code is security\n",
        "\treason. Below are given couple of\n",
        "\texample to show the reasoning.*/\n",
        "\n",
        "\tstring str = \"hello\";//Lets say we have the string str\n",
        "\tint len = str.length();//The length of the string is len\n",
        "\t//Iterating over the string\n",
        "\tfor (int i = 0; i < len; ++i) {\n",
        "\t\tcout << str[i] << \" \";\n",
        "\t}\n",
        "\n",
        "\t/*\n",
        "\tNow think about if somehow the length of the\n",
        "\tstring has been accidentally modified, will it\n",
        "\titerate the same length, no!. It is also true\n",
        "\tthat if say someone changes value of len to 450,\n",
        "\tthen the for loop will iterate 450 times.So to\n",
        "\tprevent that the following is done.\n",
        "\t*/\n",
        "\tstring st = \"hello\";\n",
        "\tconst int l = st.length();\n",
        "\tfor (int i = 0; i < len; ++i) {\n",
        "\t\tcout << st[i] << \" \";\n",
        "\t}\n",
        "\t/*The code above will prevent the value of the\n",
        "\tvariable \"len\" to remain unchanged, and the\n",
        "\tprogram will show an error if someone tries\n",
        "\tto change the value. The are other examples\n",
        "\twhere such security issues can occur.*/\n",
        "\t//Let's say we have the following scenario\n",
        "\tint *b = new int[2] {451, 3};\n",
        "\tint *a = new int[2] {293, 2};\n",
        "\t//The following two lines are valid lines\n",
        "\ta[0] = 234;//It is valid\n",
        "\ta = b;//This is also valid\n",
        "\tcout << \"\\n\" << endl;\n",
        "\t//And this results in the following\n",
        "\tcout << a[0] << endl;\n",
        "\tcout << b[0] << endl;\n",
        "\n",
        "\t/*Here is another situation*/\n",
        "\tconst char* x = \"hello\";\n",
        "\tconst char* y = \"jello\";\n",
        "\t//x[1]  = 'c'; //Invalid as \"x\" is \"const\" already\n",
        "\tx = y;//This is valid as \"x\" and \"y\" are of same type \"const char*\"\n",
        "\tx = \"blackbear\";//It is valid, since \"blackbear\" is of type \"const char*\"\n",
        "\n",
        "\t/*Is there a way to prevent the valid codes above,\n",
        "\tthe next section will highlight, how to mitigate\n",
        "\tthis issue.*/\n",
        "\n",
        "\treturn 0;\n",
        "}"
      ],
      "execution_count": 9,
      "outputs": [
        {
          "output_type": "stream",
          "text": [
            "Overwriting test.cpp\n"
          ],
          "name": "stdout"
        }
      ]
    },
    {
      "cell_type": "code",
      "metadata": {
        "id": "V7d-_tPhavk0",
        "colab_type": "code",
        "colab": {
          "base_uri": "https://localhost:8080/",
          "height": 87
        },
        "outputId": "167a4527-1163-4822-b175-61d8c24864ca"
      },
      "source": [
        "%%script bash\n",
        "g++ test.cpp -o test \n",
        "./test"
      ],
      "execution_count": 10,
      "outputs": [
        {
          "output_type": "stream",
          "text": [
            "h e l l o h e l l o \n",
            "\n",
            "451\n",
            "451\n"
          ],
          "name": "stdout"
        }
      ]
    },
    {
      "cell_type": "markdown",
      "metadata": {
        "id": "Z2P503wimoaQ",
        "colab_type": "text"
      },
      "source": [
        "The placement of the keyword `const` and `char` and `*` infront of a variable will determine, how the variable will behave. Some of the example in the code block below will hopefully clear some of the concepts."
      ]
    },
    {
      "cell_type": "code",
      "metadata": {
        "id": "DOOsL4NRngpJ",
        "colab_type": "code",
        "colab": {
          "base_uri": "https://localhost:8080/",
          "height": 35
        },
        "outputId": "3af45c5b-af30-44eb-c5cc-b8244fa98e03"
      },
      "source": [
        "%%writefile test.cpp\n",
        "#include <iostream>\n",
        "using namespace std;\n",
        "\n",
        "/*Note before running this codeblock,\n",
        "uncomment the lines one at a time to\n",
        "see the effect*/\n",
        "\n",
        "int main() {\n",
        "\t/*Both of the data type below are the same.*/\n",
        "\n",
        "\t//const char* fruit = \"apple\";\n",
        "\t//char const* vegetable = \"unripe banana\";\n",
        "\n",
        "\t/*As you have seen this previously,\n",
        "\tyou can not do this :*/\n",
        "\t//fruit[0] = 'p';\n",
        "\t//vegetable[0] = 'k';\n",
        "\n",
        "\n",
        "\t/*However you can do the following,\n",
        "\tit is legitimate, and that is a problem*/\n",
        "\n",
        "\t//fruit = \"brocolli\";\n",
        "\t//vegetable = \"mango\";\n",
        "\t//cout<<\"Fruit is: \"<<fruit<<\" \"<<\"Vegetable is: \"<<vegetable<<endl;\n",
        "\n",
        "\t/*So in order to prevent it, you need to\n",
        "\tdo the following, add an extra \"const\".\n",
        "\tBoth of the data types below have the\n",
        "\tsame effect*/\n",
        "\n",
        "\t//const char* const laptop = \"MacBook Pro\";\n",
        "\t//char const* const plane = \"boeing 747\";\n",
        "\n",
        "\t/*Here, not any one of these are allowed\n",
        "\tand that is what we were looking for.\n",
        "\tYou will get read-only error while trying\n",
        "\tto execute the following line of code*/\n",
        "\n",
        "\t//Example 1:\n",
        "\t//laptop[0] = 'e';\n",
        "\t//laptop = \"iPhone 12\";\n",
        "\n",
        "\t//Example 2:\n",
        "\t//plane[0] = 'g';\n",
        "\t//plane = \"rolls royce phantom\";\n",
        "\n",
        "\t/*Finally there is something that needs\n",
        "\tsome look out. The following notation is\n",
        "\tnot valid one. So, be careful of that.\n",
        "\tIt does not works because both of them\n",
        "\tare of different types.*/\n",
        "\n",
        "\t//char * const bird = \"penguin\";\n",
        "\n",
        "\n",
        "\treturn 0;\n",
        "}"
      ],
      "execution_count": 11,
      "outputs": [
        {
          "output_type": "stream",
          "text": [
            "Overwriting test.cpp\n"
          ],
          "name": "stdout"
        }
      ]
    },
    {
      "cell_type": "code",
      "metadata": {
        "id": "bONieJLmni-0",
        "colab_type": "code",
        "colab": {}
      },
      "source": [
        "%%script bash\n",
        "g++ test.cpp -o test \n",
        "./test"
      ],
      "execution_count": 12,
      "outputs": []
    },
    {
      "cell_type": "markdown",
      "metadata": {
        "id": "QNULl0Ci8dHu",
        "colab_type": "text"
      },
      "source": [
        "Just to be really , really pedantic the code block above can be replicated using integet array, here is how."
      ]
    },
    {
      "cell_type": "code",
      "metadata": {
        "id": "F8aCAVPH_Ki8",
        "colab_type": "code",
        "colab": {
          "base_uri": "https://localhost:8080/",
          "height": 35
        },
        "outputId": "72c9be35-6499-480f-e20c-0ef33ecb3a5a"
      },
      "source": [
        "%%writefile test.cpp\n",
        "#include <iostream>\n",
        "using namespace std;\n",
        "\n",
        "/*Note before running this codeblock,\n",
        "uncomment the lines one at a time to\n",
        "see the effect*/\n",
        "\n",
        "int main() {\n",
        "\t/*Both of the data type means the same*/\n",
        "\t//const int* odd = new int[2]{1,3};\n",
        "\t//int const* even = new int[2]{2,4};\n",
        "\n",
        "\t//The following will not work:\n",
        "\t//odd[0] = 666;\n",
        "\t//even[0] = 111;\n",
        "\n",
        "\t/*The following will work , which is\n",
        "\twhy it is a security risk*/\n",
        "\n",
        "\t//odd = new int[4]{2,3,5,7};\n",
        "\t//even = new int[3]{1,2,3};\n",
        "\t//cout<<\"\\n Odd Numbers: \";\n",
        "\t//for(int i=0; i<4; ++i){cout<<odd[i]<<\" \";}cout<<endl;\n",
        "\t//cout<<\"Even numbers: \";\n",
        "\t//for(int i=0; i<4; ++i){cout<<even[i]<<\" \";}cout<<endl;\n",
        "\n",
        "\n",
        "\t/*To prevent it from happeing,let us\n",
        "\tdo the following.*/\n",
        "\n",
        "\t//const int* const a = new int[3]{1,2,3};\n",
        "\t//int const* const b = new int[2]{2,4};\n",
        "\n",
        "\t/*The following is not allowed, and it\n",
        "\tis a very good news. This is what we\n",
        "\twere looking for from the beginning*/\n",
        "\n",
        "\t//a[0] = 9000;\n",
        "\t//a = new int[4]{4,5,6,7};\n",
        "\n",
        "\t//b[0] = 8000;\n",
        "\t//b = new int[4]{100,200,300,400};\n",
        "\n",
        "\t/*Just like before though the following\n",
        "\tis a syntax error, due to type mismatch*/\n",
        "\n",
        "\tint * const z = new int[3] {111, 222, 333};\n",
        "\t//z = new int[4]{1,2,3,4};\n",
        "\n",
        "\treturn 0;\n",
        "}"
      ],
      "execution_count": 13,
      "outputs": [
        {
          "output_type": "stream",
          "text": [
            "Overwriting test.cpp\n"
          ],
          "name": "stdout"
        }
      ]
    },
    {
      "cell_type": "code",
      "metadata": {
        "id": "8m9u6P-__Z6m",
        "colab_type": "code",
        "colab": {}
      },
      "source": [
        "%%script bash\n",
        "g++ test.cpp -o test \n",
        "./test"
      ],
      "execution_count": 14,
      "outputs": []
    }
  ]
}