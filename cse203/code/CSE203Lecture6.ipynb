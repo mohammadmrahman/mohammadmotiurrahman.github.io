{
  "nbformat": 4,
  "nbformat_minor": 0,
  "metadata": {
    "colab": {
      "name": "CSE203Lecture6.ipynb",
      "provenance": [],
      "include_colab_link": true
    },
    "kernelspec": {
      "name": "python3",
      "display_name": "Python 3"
    }
  },
  "cells": [
    {
      "cell_type": "markdown",
      "metadata": {
        "id": "view-in-github",
        "colab_type": "text"
      },
      "source": [
        "<a href=\"https://colab.research.google.com/github/mohammadmotiurrahman/cse203/blob/master/CSE203Lecture6.ipynb\" target=\"_parent\"><img src=\"https://colab.research.google.com/assets/colab-badge.svg\" alt=\"Open In Colab\"/></a>"
      ]
    },
    {
      "cell_type": "markdown",
      "metadata": {
        "id": "GednbwDeiak6",
        "colab_type": "text"
      },
      "source": [
        "## Stack And Queue\n",
        "Stack is a data structure which follows last in first out data retrieval policy , something similar to a stack of unwashed dish on a kitchen sink.\n",
        "\n",
        "Queue on the other hand is a data structure which follows first in first out data retrieval policy, something similar to a queue of passengers at a bus stop.\n",
        "\n",
        "In this notebook , we will try to simulate the behaviour of stack and queues with two methods, linked list and arrays. We will not be concerned about the running time of these data structures yet.\n",
        "\n",
        "### Using linked list\n",
        "\n",
        "Let us start with representing stack and queues using linked list.\n",
        "\n",
        "So, a stack when represented as a linked list can be thought of having two operations adding an element at the back and then removing an element from the back. Think of the stack of plates in the kitchen sink but horizontally. You put a plate on top of the stack, you can also say that you put a plate in the back, if you think horizonatally. Afterwards you can also say that you take a plate from top of the stack or take a plate from the back in the horizontal fashion. So, in a linked list terminology, it is adding an element back, and then removing an element from the back. Let us implement it for a stack.\n"
      ]
    },
    {
      "cell_type": "code",
      "metadata": {
        "id": "hPM0rTCNiedh",
        "colab_type": "code",
        "colab": {
          "base_uri": "https://localhost:8080/",
          "height": 35
        },
        "outputId": "3070928e-06cf-4ca9-a86e-af63097b6156"
      },
      "source": [
        "%%writefile test.cpp\n",
        "#include <iostream>\n",
        "using namespace std;\n",
        "/*Implementing the two functions for Stack.\n",
        "addBack() and removeBack() is\n",
        "quite trivial if someone has followed\n",
        "the last lectures notebook quite closely.*/\n",
        "\n",
        "struct node {\n",
        "\tint data;\n",
        "\tnode *next;\n",
        "};\n",
        "\n",
        "void printLinkedList(node *p) {\n",
        "\tcout << \"The linked list is : \";\n",
        "\twhile (p != NULL) {\n",
        "\t\tcout << p->data << \" \";\n",
        "\t\tp = p->next;\n",
        "\t}\n",
        "\tcout << endl;\n",
        "}\n",
        "\n",
        "/*The function addNode can be repurposed\n",
        "as addBack, as it is adding an element\n",
        "to the back of an existing linked list.*/\n",
        "void addBack(node *&a, int val) {\n",
        "\tif (a == NULL) {\n",
        "\t\ta = new node;\n",
        "\t\ta->data = val;\n",
        "\t\ta->next = NULL;\n",
        "\t}\n",
        "\telse {\n",
        "\n",
        "\t\tnode *current = a;\n",
        "\t\twhile (current->next != NULL) {\n",
        "\t\t\tcurrent = current->next;\n",
        "\t\t}\n",
        "\n",
        "\t\tnode* h = new node;\n",
        "\t\th->data = val;\n",
        "\t\th->next = NULL;\n",
        "\n",
        "\t\tcurrent->next = h;\n",
        "\t}\n",
        "}\n",
        "\n",
        "/*Some modifications is required for the\n",
        "function removeElement to work as required\n",
        "by the specification of removeBack function*/\n",
        "\n",
        "int removeBack(node *&a) {\n",
        "\n",
        "\tif (a == NULL)return -5000;\n",
        "\t/*Think about the linked list in the\n",
        "\tsequence: 2->null . If you just delete\n",
        "\tnode value 2, by shifting it to the\n",
        "\tnext position, the linked list a becomes\n",
        "\tnull. Remember to store the value 2\n",
        "\tbefore deleting it.*/\n",
        "\n",
        "\tif (a->next == NULL) {\n",
        "\t\tint d = a->data;\n",
        "\t\ta = a->next;\n",
        "\t\treturn d;\n",
        "\t}\n",
        "\t/*Now, think of the linked list as something\n",
        "\tlike this: 2->4->null, or something like the\n",
        "\tfollowing: 2->4->6->8->10->12->14->null. In\n",
        "\tboth of these accounts you have to make the\n",
        "\tlast element null. One of the ways to make the\n",
        "\tlast element null, is to iterate the nodes till\n",
        "\tyou can point the current->next to the element\n",
        "\tyou want to remove. In the above cases, the current\n",
        "\tnode will be 2 for the former example, and for\n",
        "\tthe later example it will be 12. And the element\n",
        "\tthat needs to be removed will be 4 in the former\n",
        "\tcase and 14 in the later case.*/\n",
        "\n",
        "\tnode *current = a;\n",
        "\twhile (current->next->next != NULL) {\n",
        "\t\tcurrent = current->next;\n",
        "\t}\n",
        "\t/*When you reach such a situation store the value\n",
        "\tof the element that you want to remove in a variable\n",
        "\tand then delete the node.*/\n",
        "\n",
        "\tint p = current->next->data;\n",
        "\tcurrent->next = NULL;\n",
        "\treturn p;\n",
        "\n",
        "}\n",
        "\n",
        "\n",
        "int main() {\n",
        "\n",
        "\tnode* n = NULL;\n",
        "\taddBack(n, 2);\n",
        "\taddBack(n, 4);\n",
        "\taddBack(n, 6);\n",
        "\taddBack(n, 8);\n",
        "\taddBack(n, 10);\n",
        "\taddBack(n, 12);\n",
        "\taddBack(n, 14);\n",
        "\tprintLinkedList(n);\n",
        "\tint x = removeBack(n);\n",
        "\tprintLinkedList(n);\n",
        "\tcout << \"The last element is: \" << x << endl;\n",
        "\n",
        "\treturn 0;\n",
        "\n",
        "}"
      ],
      "execution_count": 2,
      "outputs": [
        {
          "output_type": "stream",
          "text": [
            "Writing test.cpp\n"
          ],
          "name": "stdout"
        }
      ]
    },
    {
      "cell_type": "code",
      "metadata": {
        "id": "X4RAllaYNUde",
        "colab_type": "code",
        "colab": {
          "base_uri": "https://localhost:8080/",
          "height": 69
        },
        "outputId": "2414718c-aaa1-45b5-d2de-5609ac9a2419"
      },
      "source": [
        "%%script bash\n",
        "g++ test.cpp -o test \n",
        "./test"
      ],
      "execution_count": 3,
      "outputs": [
        {
          "output_type": "stream",
          "text": [
            "The linked list is : 2 4 6 8 10 12 14 \n",
            "The linked list is : 2 4 6 8 10 12 \n",
            "The last element is: 14\n"
          ],
          "name": "stdout"
        }
      ]
    },
    {
      "cell_type": "markdown",
      "metadata": {
        "id": "g6RCaxqEXi_H",
        "colab_type": "text"
      },
      "source": [
        "In common data structure inserting an element in the back is referred to as `push` and removing an element from the back is called `pop`.\n",
        "\n",
        "Queue is represented similarly, however, in queue the value is removed from the front instead of the back. A given value is usually added to the back though. In the following codeblock we will refer anything that is removed from the front with the function removeFront and the function that is used in stack for inserting elements addBack can be reused here. So lets implement the ideas:"
      ]
    },
    {
      "cell_type": "code",
      "metadata": {
        "id": "hLF5-GVYYAd9",
        "colab_type": "code",
        "colab": {
          "base_uri": "https://localhost:8080/",
          "height": 35
        },
        "outputId": "56f9caf5-1dab-4394-aab7-34b37af3884d"
      },
      "source": [
        "%%writefile test.cpp\n",
        "#include <iostream>\n",
        "using namespace std;\n",
        "/*Implementing the two functions,\n",
        "addBack() and removeFront() for Queue.*/\n",
        "\n",
        "struct node {\n",
        "\tint data;\n",
        "\tnode *next;\n",
        "};\n",
        "\n",
        "void printLinkedList(node *p) {\n",
        "\tcout << \"The linked list is : \";\n",
        "\twhile (p != NULL) {\n",
        "\t\tcout << p->data << \" \";\n",
        "\t\tp = p->next;\n",
        "\t}\n",
        "\tcout << endl;\n",
        "}\n",
        "\n",
        "/*The function addNode remains unchanged.*/\n",
        "void addBack(node *&a, int val) {\n",
        "\tif (a == NULL) {\n",
        "\t\ta = new node;\n",
        "\t\ta->data = val;\n",
        "\t\ta->next = NULL;\n",
        "\t}\n",
        "\telse {\n",
        "\n",
        "\t\tnode *current = a;\n",
        "\t\twhile (current->next != NULL) {\n",
        "\t\t\tcurrent = current->next;\n",
        "\t\t}\n",
        "\n",
        "\t\tnode* h = new node;\n",
        "\t\th->data = val;\n",
        "\t\th->next = NULL;\n",
        "\n",
        "\t\tcurrent->next = h;\n",
        "\t}\n",
        "}\n",
        "\n",
        "/*Some minor modifications to removeBack function*/\n",
        "\n",
        "int removeFront(node *&a) {\n",
        "\n",
        "\tif (a == NULL)return -5000;\n",
        "\t/*If there is an element in the list,\n",
        "\tjust shift to the next element in the list.\n",
        "\tDelete the intial element*/\n",
        "\telse {\n",
        "\t\tnode* t = a;\n",
        "\t\tint d = a->data;\n",
        "\t\ta = a->next;\n",
        "\t\tdelete t;\n",
        "\t\treturn d;\n",
        "\t}\n",
        "}\n",
        "\n",
        "\n",
        "int main() {\n",
        "\n",
        "\tnode* n = NULL;\n",
        "\taddBack(n, 2);\n",
        "\taddBack(n, 4);\n",
        "\taddBack(n, 6);\n",
        "\taddBack(n, 8);\n",
        "\taddBack(n, 10);\n",
        "\taddBack(n, 12);\n",
        "\taddBack(n, 14);\n",
        "\tprintLinkedList(n);\n",
        "\tint x = removeFront(n);\n",
        "\tprintLinkedList(n);\n",
        "\tcout << \"The last element is: \" << x << endl;\n",
        "\n",
        "\treturn 0;\n",
        "\n",
        "}"
      ],
      "execution_count": 4,
      "outputs": [
        {
          "output_type": "stream",
          "text": [
            "Overwriting test.cpp\n"
          ],
          "name": "stdout"
        }
      ]
    },
    {
      "cell_type": "code",
      "metadata": {
        "id": "HKwXX9i1bc2I",
        "colab_type": "code",
        "colab": {
          "base_uri": "https://localhost:8080/",
          "height": 69
        },
        "outputId": "c9535fcc-8722-49f9-f544-70cf7413c9c6"
      },
      "source": [
        "%%script bash\n",
        "g++ test.cpp -o test \n",
        "./test"
      ],
      "execution_count": 5,
      "outputs": [
        {
          "output_type": "stream",
          "text": [
            "The linked list is : 2 4 6 8 10 12 14 \n",
            "The linked list is : 4 6 8 10 12 14 \n",
            "The last element is: 2\n"
          ],
          "name": "stdout"
        }
      ]
    },
    {
      "cell_type": "markdown",
      "metadata": {
        "id": "93_fcJ4Hboq8",
        "colab_type": "text"
      },
      "source": [
        "Again, in populare literature inserting an element in the back of a Queue is known as enqueue and remove  and element from the front is known as dequeue."
      ]
    },
    {
      "cell_type": "markdown",
      "metadata": {
        "id": "AZhQwupYcO1W",
        "colab_type": "text"
      },
      "source": [
        "### Using an array\n",
        "Stacks can be very effectively implemented using an array. There are couple of functions that needs to be implemented are isEmpty( ), push( ) and pop( )"
      ]
    },
    {
      "cell_type": "code",
      "metadata": {
        "id": "TZvVLkCNbe7z",
        "colab_type": "code",
        "colab": {
          "base_uri": "https://localhost:8080/",
          "height": 35
        },
        "outputId": "394b87e0-6fe3-45e2-f7f8-58b6e4dae98c"
      },
      "source": [
        "%%writefile test.cpp\n",
        "#include <iostream>\n",
        "using namespace std;\n",
        "\n",
        "/*First of all a stack struct is constructed*/\n",
        "struct myStack {\n",
        "\t/*Counter counts number of element\n",
        "\t in the array at the moment. Maxsize\n",
        "\t is the maximum number of element\n",
        "\t that is allowed to be in the stack.\n",
        "\t Elements is a pointer which points\n",
        "\t to an array containing maximum size of\n",
        "\t elements. The memory is allocated from\n",
        "\t the heap*/\n",
        "\tint counter = 0;\n",
        "\tint maxSize = 100;\n",
        "\tint *elements = new int[maxSize];\n",
        "};\n",
        "\n",
        "/*isEmpty( ) function denotes whether\n",
        "the stack contains any value at any\n",
        "moment, if the counter is 0 it means\n",
        "that there are no elements in the stack*/\n",
        "\n",
        "bool isEmpty(myStack &st) {\n",
        "\treturn (st.counter == 0);\n",
        "}\n",
        "\n",
        "/*So here in the elements field, the\n",
        "array is first populated with the variable\n",
        "val and then the counter variable is incremented*/\n",
        "\n",
        "void push(myStack &st, int val) {\n",
        "\tif (st.counter < st.maxSize) {\n",
        "\t\tst.elements[st.counter++] = val;\n",
        "\t}\n",
        "}\n",
        "\n",
        "/*In the function the counter varible is decremented\n",
        "first , then the value at that position of counter is\n",
        "returned.See the slides for more details.*/\n",
        "int pop(myStack &st) {\n",
        "\tif (!isEmpty(st)) {\n",
        "\t\treturn st.elements[--st.counter];\n",
        "\t}\n",
        "}\n",
        "\n",
        "int main() {\n",
        "\tmyStack st;\n",
        "\tpush(st, 1);\n",
        "\tpush(st, 2);\n",
        "\tpush(st, 3);\n",
        "\tpush(st, 4);\n",
        "\t/*So util the stack is empty spill\n",
        "\tout everything*/\n",
        "\twhile (!isEmpty(st)) {\n",
        "\t\tcout << pop(st) << endl;\n",
        "\t}\n",
        "\treturn 0;\n",
        "}"
      ],
      "execution_count": 6,
      "outputs": [
        {
          "output_type": "stream",
          "text": [
            "Overwriting test.cpp\n"
          ],
          "name": "stdout"
        }
      ]
    },
    {
      "cell_type": "code",
      "metadata": {
        "id": "EfIYGJiSRMEN",
        "colab_type": "code",
        "colab": {
          "base_uri": "https://localhost:8080/",
          "height": 87
        },
        "outputId": "d0c67686-56ce-41e6-b897-4f3799423ccb"
      },
      "source": [
        "%%script bash\n",
        "g++ test.cpp -o test \n",
        "./test"
      ],
      "execution_count": 7,
      "outputs": [
        {
          "output_type": "stream",
          "text": [
            "4\n",
            "3\n",
            "2\n",
            "1\n"
          ],
          "name": "stdout"
        }
      ]
    },
    {
      "cell_type": "markdown",
      "metadata": {
        "id": "DXk1ssP2S79e",
        "colab_type": "text"
      },
      "source": [
        "Queue will be implemented using an array as well. The functions that will be implemented are isEmpty( ), enqueue( ), dequeue( )."
      ]
    },
    {
      "cell_type": "code",
      "metadata": {
        "id": "oQpgzt6iRM-Q",
        "colab_type": "code",
        "colab": {
          "base_uri": "https://localhost:8080/",
          "height": 35
        },
        "outputId": "80963573-3738-46eb-d8b5-37b3f4a35124"
      },
      "source": [
        "%%writefile test.cpp\n",
        "#include <iostream>\n",
        "using namespace std;\n",
        "\n",
        "/*Queue has the same elements as\n",
        "that of Stack, how it has one\n",
        "extra variable tail . The tail\n",
        "increments when a value is inserted\n",
        "into the queue, head increments\n",
        "when a value is removed from\n",
        "the queue.  */\n",
        "struct myQueue {\n",
        "\tint maxSize = 100;\n",
        "\tint head = 0;\n",
        "\tint tail = 0;\n",
        "\tint* elements = new int[maxSize];\n",
        "};\n",
        "\n",
        "/*Whenever, the head of a queue\n",
        "equals to the tail of the queue,\n",
        "it signifies that the queue is\n",
        "empty*/\n",
        "bool isEmpty(myQueue &q) {\n",
        "\tif (q.head == q.tail) return true;\n",
        "\treturn false;\n",
        "}\n",
        "\n",
        "/*Here a value is inserted ,into the\n",
        "queue. The field tail is incremented\n",
        "after the value is inserted.*/\n",
        "void enqueue(myQueue &q, int val) {\n",
        "\tif (q.tail < q.maxSize) {\n",
        "\t\tq.elements[q.tail++] = val;\n",
        "\t}\n",
        "}\n",
        "\n",
        "/*Here value is returned, after that\n",
        "the variable head is incremented.*/\n",
        "int dequeue(myQueue &q) {\n",
        "\tif (!isEmpty(q)) {\n",
        "\t\tint result = q.elements[q.head++];\n",
        "\t\treturn result;\n",
        "\t}\n",
        "}\n",
        "int main() {\n",
        "\tmyQueue q;\n",
        "\tenqueue(q, 1);\n",
        "\tenqueue(q, 2);\n",
        "\tenqueue(q, 3);\n",
        "\tenqueue(q, 4);\n",
        "\n",
        "\tcout << dequeue(q) << endl;\n",
        "\tcout << dequeue(q) << endl;\n",
        "\tcout << dequeue(q) << endl;\n",
        "\tcout << dequeue(q) << endl;\n",
        "\treturn 0;\n",
        "\n",
        "}"
      ],
      "execution_count": 8,
      "outputs": [
        {
          "output_type": "stream",
          "text": [
            "Overwriting test.cpp\n"
          ],
          "name": "stdout"
        }
      ]
    },
    {
      "cell_type": "code",
      "metadata": {
        "id": "u6XljXcUZULc",
        "colab_type": "code",
        "colab": {
          "base_uri": "https://localhost:8080/",
          "height": 87
        },
        "outputId": "b992a2db-0002-480e-f680-b383db217b17"
      },
      "source": [
        "%%script bash\n",
        "g++ test.cpp -o test \n",
        "./test"
      ],
      "execution_count": 9,
      "outputs": [
        {
          "output_type": "stream",
          "text": [
            "1\n",
            "2\n",
            "3\n",
            "4\n"
          ],
          "name": "stdout"
        }
      ]
    },
    {
      "cell_type": "markdown",
      "metadata": {
        "id": "GFzn0dCfvgiK",
        "colab_type": "text"
      },
      "source": [
        "So the above implementation of stack and queue using an array is a basic implementation. Compare the output of the stack with queue. In the stack th output comes out as `4`,`3`,`2`,`1` and in the queue it comes out as `1`,`2`,`3`,`4` - even though the data input in both the datastructure is done as `1`,`2`,`3`,`4`. \n",
        "\n",
        "FInally several other features can be added to make the implementation of the stack and queue more robust. Those will be part of assignments. Also ability to use a stack or a queue to solve a given problem is the most important part. We will talk about it more in assignments."
      ]
    }
  ]
}