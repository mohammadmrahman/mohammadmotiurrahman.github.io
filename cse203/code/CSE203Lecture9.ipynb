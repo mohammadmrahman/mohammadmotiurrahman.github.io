{
  "nbformat": 4,
  "nbformat_minor": 0,
  "metadata": {
    "colab": {
      "name": "CSE203Lecture9.ipynb",
      "provenance": [],
      "include_colab_link": true
    },
    "kernelspec": {
      "name": "python3",
      "display_name": "Python 3"
    }
  },
  "cells": [
    {
      "cell_type": "markdown",
      "metadata": {
        "id": "view-in-github",
        "colab_type": "text"
      },
      "source": [
        "<a href=\"https://colab.research.google.com/github/mohammadmotiurrahman/cse203/blob/master/CSE203Lecture9.ipynb\" target=\"_parent\"><img src=\"https://colab.research.google.com/assets/colab-badge.svg\" alt=\"Open In Colab\"/></a>"
      ]
    },
    {
      "cell_type": "markdown",
      "metadata": {
        "id": "wgdObAz6wxjk",
        "colab_type": "text"
      },
      "source": [
        "## Graph\n",
        "So, as you have seen in the previous lecture on binary search trees each parent has 0 to 2 child/children(left and right node). What if we want to accommodate more that 2 children, enter graph. Here a single parent can have 0 to n number of child/chidren. In real life, this situation simulates scenarios such as road connection between cities, chemical bonds between elements, internet connections between different nodes.\n",
        "\n",
        "There are two ways to represent a relationship like that, one is known as adjacency matrix representation and another is known as adjacency list representation.\n",
        "\n",
        "In adjacency list representation, the nodes are represented as 2 dimesional array. If there is a connection between two nodes, a `1` is used to denote the relationship. If there is no connection between two node, a `0` is used to denote the relationship. Below is a representation of it:\n",
        "\n",
        "```\n",
        "         0 | 1 | 2 | 3 | 4 |    \n",
        "   ---------------------------\n",
        "    0  | 1 | 1 | 0 | 1 | 1 |    \n",
        "   ---------------------------\n",
        "    1  | 1 | 0 | 1 | 0 | 0 |    \n",
        "   ---------------------------\n",
        "    2  | 0 | 1 | 1 | 1 | 1 |    \n",
        "   ---------------------------\n",
        "    3  | 1 | 1 | 0 | 1 | 0 |    \n",
        "   ---------------------------\n",
        "    4  | 1 | 0 | 1 | 0 | 1 |  \n",
        "```\n",
        "\n",
        "  The 2 dimensional matrix above represents 5 node, `0`, `1`, `2`, `3` and `4` and their connection with each other.\n",
        "\n",
        "In adjacency list representation an array of singly linked list. In order to traverse a node, one has to go to a specific index of the array to find the relevant nodes which are its neighbors.\n",
        "\n",
        "```\n",
        "    0  | 1 -> 2 -> 4 -> NULL\n",
        "   ------------------------------\n",
        "    1  | 0 -> 2 -> 3 -> 4 -> NULL\n",
        "   ------------------------------\n",
        "    2  | 3 -> 4 -> 1 -> NULL\n",
        "   ------------------------------\n",
        "    3  | 1 -> NULL\n",
        "   ------------------------------\n",
        "    4  | 2 -> 4 -> 3 -> NULL\n",
        "```\n",
        "\n",
        "There are pros and cons in both of these representation methods. In the case of 2d matrix arrays, access time of checking relationship betwee two nodes is very fast, however, there are lots of realtionships which are denoted by 0. On the other hand if a linked list representation has been used, there would not be such wastage of bit to store useless relationship, but the traversal time of a linked in in the order of O(n).\n",
        "\n",
        "Anyhow, in real life scenarios, data points' relationship are usually representated using adjacency list since there is a small cluster where the relationship is actually concentrated. Moving on, let us write some code to represent our ideas.\n"
      ]
    },
    {
      "cell_type": "code",
      "metadata": {
        "id": "3aA-uRNNwziE",
        "colab_type": "code",
        "colab": {
          "base_uri": "https://localhost:8080/",
          "height": 35
        },
        "outputId": "4a8c39a4-441a-4905-9869-ce572822f6ef"
      },
      "source": [
        "%%writefile test.cpp\n",
        "#include <iostream>\n",
        "using namespace std;\n",
        "\n",
        "/*The first thing that is needed is a\n",
        "node definition. This is used to create\n",
        "a linked list. Think about linked list\n",
        "in earlier lectures and compare the node\n",
        "definition*/\n",
        "\n",
        "struct node {\n",
        "\tint dest;\n",
        "\tnode* next;\n",
        "};\n",
        "\n",
        "/*The second is the definition of array's of\n",
        "linked list. The struct graph will help to do\n",
        "that.*/\n",
        "\n",
        "struct graph {\n",
        "\t/*numVertex refers to the length of the array*/\n",
        "\tint numVertex;\n",
        "\t/*adj is the name of the array where the arrays\n",
        "\tof linked list will be kept*/\n",
        "\tnode** adj;\n",
        "};\n",
        "\n",
        "/*The definition of graph above is similar to the\n",
        "following definition of a struct:\n",
        "struct g{\n",
        "    int len;\n",
        "    int ** arr;//Review 2d dynamic memory if you need to\n",
        "};\n",
        "*/\n",
        "\n",
        "/*Let us intialize the array of list in the graph*/\n",
        "void createGraph(graph *g, int numVertex) {\n",
        "\tg->numVertex = numVertex;\n",
        "\n",
        "\t/*Remember when int ** arr = new int*[len]\n",
        "\tin the second lecture. Below in an array\n",
        "\tof linked list. new node* represents address\n",
        "\tof the head node. There are \"numVertex\"\n",
        "\tamount of head nodes */\n",
        "\n",
        "\tg->adj = new node*[numVertex];\n",
        "\n",
        "\t/*Initialize every head nodes with NULL*/\n",
        "\tfor (int i = 0; i < g->numVertex ; ++i) {\n",
        "\t\tg->adj[i] = NULL;\n",
        "\t}\n",
        "}\n",
        "\n",
        "/*There is a concept in graph about source and destination\n",
        "nodes. In graph any node is also known as a vertex. A source\n",
        "vertex is usually the parent node and the destination vertex\n",
        "or destination vertices are the children nodes.\n",
        "\n",
        "          2------->0\n",
        "         ^  \\      ^|\n",
        "        /    \\    / |\n",
        "       /      v  /  |\n",
        "      4 ------>1    |\n",
        "       \\        \\   |\n",
        "        \\        \\  |\n",
        "         v        v v\n",
        "         5 -------> 3\n",
        "\n",
        "In the above figure when 2 is considered as the source node, then\n",
        "the destination nodes are 0 and 1. When 4 is considered as the\n",
        "source node, then 1 and 2 is considered to be the destination node,\n",
        "as so on...\n",
        "The resulting adjacency list will be the following:\n",
        "\n",
        "    0  | 3 -> NULL\n",
        "   ------------------------------\n",
        "    1  | 0 -> 3 -> NULL\n",
        "   ------------------------------\n",
        "    2  | 1 -> 0 -> NULL\n",
        "   ------------------------------\n",
        "    3  | NULL\n",
        "   ------------------------------\n",
        "    4  | 2 -> 1 -> 5 -> NULL\n",
        " ------------------------------\n",
        "    5  | 3 -> NULL\n",
        "\n",
        "So when the adjacency list is represented using C++ code,\n",
        "the source vertex will refer to the array index where the\n",
        "destination vertex can be found. The destination vertices\n",
        "are the linked list at each array index.*/\n",
        "\n",
        "void addEdge(graph *g, int src, int dest) {\n",
        "\t/*Here, let us initialize a node with\n",
        "\tthe destination value dest*/\n",
        "\tnode* n = new node;\n",
        "\tn->dest = dest;\n",
        "\n",
        "\t/*Let us find the destination linked list\n",
        "\tand assign the next pointer of n to it*/\n",
        "\tn->next = g->adj[src];\n",
        "\n",
        "\t/*Update the address of the head node */\n",
        "\tg->adj[src] = n;\n",
        "\n",
        "\t/*For undirected graph the following is relevant,\n",
        "\tlet us comment it since it is not used in this example*/\n",
        "\n",
        "\t/*\n",
        "\t node*m = new node;\n",
        "\t m->dest = src;\n",
        "\t m->next = g->adj[dest];\n",
        "\t g->adj[dest] = m;\n",
        "\t*/\n",
        "\n",
        "}\n",
        "\n",
        "void printGraph(graph *g) {\n",
        "\tfor (int i = 0; i < g->numVertex; ++i) {\n",
        "\t\t/*Head of the each of the linked list*/\n",
        "\t\tnode *n = g->adj[i];\n",
        "\n",
        "\t\t//Now iterate the linked list till null is reached\n",
        "\t\tcout << i << \" \"; //i represent source vertex\n",
        "\t\twhile (n != NULL) {\n",
        "\t\t\tcout << n->dest << \" \"; //these are the destination vertices\n",
        "\t\t\tn = n->next;\n",
        "\t\t}\n",
        "\t\tcout << endl;\n",
        "\t}\n",
        "}\n",
        "\n",
        "int main() {\n",
        "\tgraph *g = new graph;\n",
        "\tcreateGraph(g, 6);\n",
        "\taddEdge(g, 0, 3);\n",
        "\taddEdge(g, 1, 0);\n",
        "\taddEdge(g, 1, 3);\n",
        "\taddEdge(g, 2, 1);\n",
        "\taddEdge(g, 2, 0);\n",
        "\taddEdge(g, 4, 2);\n",
        "\taddEdge(g, 4, 1);\n",
        "\taddEdge(g, 4, 5);\n",
        "\taddEdge(g, 5, 3);\n",
        "\n",
        "\tprintGraph(g);\n",
        "\n",
        "}"
      ],
      "execution_count": 1,
      "outputs": [
        {
          "output_type": "stream",
          "text": [
            "Writing test.cpp\n"
          ],
          "name": "stdout"
        }
      ]
    },
    {
      "cell_type": "code",
      "metadata": {
        "id": "6tbZvVyyQFR3",
        "colab_type": "code",
        "colab": {
          "base_uri": "https://localhost:8080/",
          "height": 121
        },
        "outputId": "5ed733a0-1fce-4543-bc03-ec96689fd99a"
      },
      "source": [
        "\n",
        "%%script bash\n",
        "g++ test.cpp -o test \n",
        "./test"
      ],
      "execution_count": 2,
      "outputs": [
        {
          "output_type": "stream",
          "text": [
            "0 3 \n",
            "1 3 0 \n",
            "2 0 1 \n",
            "3 \n",
            "4 5 1 2 \n",
            "5 3 \n"
          ],
          "name": "stdout"
        }
      ]
    },
    {
      "cell_type": "markdown",
      "metadata": {
        "id": "0oaqckBPtk_w",
        "colab_type": "text"
      },
      "source": [
        "Compare the adjacency list below with result from the main function above. The adjacency is the one described in the example in the code.\n",
        "```    \n",
        "    0  | 3 -> NULL\n",
        "   ------------------------------\n",
        "    1  | 0 -> 3 -> NULL\n",
        "   ------------------------------\n",
        "    2  | 1 -> 0 -> NULL\n",
        "   ------------------------------\n",
        "    3  | NULL\n",
        "   ------------------------------\n",
        "    4  | 2 -> 1 -> 5 -> NULL\n",
        " ------------------------------\n",
        "    5  | 3 -> NULL\n",
        "```"
      ]
    },
    {
      "cell_type": "markdown",
      "metadata": {
        "id": "UjcPRm9xwahy",
        "colab_type": "text"
      },
      "source": [
        "So that is all about the basics of graphs. They are couple of problems that will be solved in class based on graphs, namely breadth first search and depth first search. There were also be problems based on minor modifications of these problems."
      ]
    }
  ]
}