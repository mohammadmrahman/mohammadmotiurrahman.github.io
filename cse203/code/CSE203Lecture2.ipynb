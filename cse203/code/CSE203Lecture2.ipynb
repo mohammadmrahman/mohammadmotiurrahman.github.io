{
  "nbformat": 4,
  "nbformat_minor": 0,
  "metadata": {
    "colab": {
      "name": "CSE203Lecture2.ipynb",
      "provenance": [],
      "include_colab_link": true
    },
    "kernelspec": {
      "name": "python3",
      "display_name": "Python 3"
    }
  },
  "cells": [
    {
      "cell_type": "markdown",
      "metadata": {
        "id": "view-in-github",
        "colab_type": "text"
      },
      "source": [
        "<a href=\"https://colab.research.google.com/github/mohammadmotiurrahman/cse203/blob/master/CSE203Lecture2.ipynb\" target=\"_parent\"><img src=\"https://colab.research.google.com/assets/colab-badge.svg\" alt=\"Open In Colab\"/></a>"
      ]
    },
    {
      "cell_type": "markdown",
      "metadata": {
        "id": "Fos5XqIPZEk6",
        "colab_type": "text"
      },
      "source": [
        "# Dynamic Memory\n",
        "The type of memory shown in the previous lecture is known as Static Memory. The amount of memory that can be allocated using static memory is limited.\n",
        "An example is given below:"
      ]
    },
    {
      "cell_type": "code",
      "metadata": {
        "id": "RYgTxBQSm-O3",
        "colab_type": "code",
        "colab": {
          "base_uri": "https://localhost:8080/",
          "height": 35
        },
        "outputId": "e19a52e6-d4af-4efc-8ec9-36012b51f395"
      },
      "source": [
        "%%writefile test.cpp\n",
        "#include <iostream>\n",
        "using namespace std;\n",
        "int main() {\n",
        "\n",
        "\tint N = 1000000;\n",
        "\tint arr[N];\n",
        "\tfor (int i = 0; i < N; ++i)\n",
        "\t\tarr[i] = i;\n",
        "\n",
        "\tcout << (N * 4) / 1000 << \" KB \" << endl;\n",
        "\n",
        "\treturn 0;\n",
        "}"
      ],
      "execution_count": 1,
      "outputs": [
        {
          "output_type": "stream",
          "text": [
            "Overwriting test.cpp\n"
          ],
          "name": "stdout"
        }
      ]
    },
    {
      "cell_type": "code",
      "metadata": {
        "id": "n_22rP90nTdp",
        "colab_type": "code",
        "colab": {
          "base_uri": "https://localhost:8080/",
          "height": 35
        },
        "outputId": "3238d494-afb6-4437-c4f0-270f4386625e"
      },
      "source": [
        "%%script bash\n",
        "g++ test.cpp -o test \n",
        "./test"
      ],
      "execution_count": 2,
      "outputs": [
        {
          "output_type": "stream",
          "text": [
            "4000 KB \n"
          ],
          "name": "stdout"
        }
      ]
    },
    {
      "cell_type": "markdown",
      "metadata": {
        "id": "cteEDEXGpDKZ",
        "colab_type": "text"
      },
      "source": [
        ""
      ]
    },
    {
      "cell_type": "markdown",
      "metadata": {
        "id": "qODp2yi1pp8E",
        "colab_type": "text"
      },
      "source": [
        "So allocating memory like that above maxes at `N = 1000,000`, which is 1million entry. Now what if in an area there are more than 1 million people and somehow all of their ages needs to recorded. In comes dynamic memory, where more memory can be allocated on demand."
      ]
    },
    {
      "cell_type": "code",
      "metadata": {
        "id": "ozn_txySqtt9",
        "colab_type": "code",
        "colab": {
          "base_uri": "https://localhost:8080/",
          "height": 35
        },
        "outputId": "7bcd7021-1536-4689-f850-a87fa01b68c6"
      },
      "source": [
        "%%writefile test.cpp\n",
        "#include <iostream>\n",
        "using namespace std;\n",
        "\n",
        "int main() {\n",
        "\tlong N = 100000000;\n",
        "\tlong *arr = new long[N];\n",
        "\tfor (long i = 0; i < N; ++i)\n",
        "\t\tarr[i] = i;\n",
        "\tdelete[] arr;\n",
        "\tcout << (N * 4) / 1000000 << \" MB \" << endl;\n",
        "\n",
        "\treturn 0;\n",
        "}"
      ],
      "execution_count": 3,
      "outputs": [
        {
          "output_type": "stream",
          "text": [
            "Overwriting test.cpp\n"
          ],
          "name": "stdout"
        }
      ]
    },
    {
      "cell_type": "code",
      "metadata": {
        "id": "1rIH2f7Yq5xt",
        "colab_type": "code",
        "colab": {
          "base_uri": "https://localhost:8080/",
          "height": 35
        },
        "outputId": "d89dc777-ff54-4d5b-e376-4fabf19d7a54"
      },
      "source": [
        "%%script bash\n",
        "g++ test.cpp -o test \n",
        "./test"
      ],
      "execution_count": 4,
      "outputs": [
        {
          "output_type": "stream",
          "text": [
            "400 MB \n"
          ],
          "name": "stdout"
        }
      ]
    },
    {
      "cell_type": "markdown",
      "metadata": {
        "id": "KHXX1yPUtQ6D",
        "colab_type": "text"
      },
      "source": [
        "So, as shown above around 400MB of data can be allocated using dynamic memory, which is 100 times more than that of static memory.At the same time 100,000,000 data points could be stored, which is 100 times more than the previous one.\n"
      ]
    },
    {
      "cell_type": "markdown",
      "metadata": {
        "id": "DvE6OPNBBM8i",
        "colab_type": "text"
      },
      "source": [
        "# Pointer Arithmetic\n",
        "\n",
        "Before moving any further there are some things that needs to be said about pointers , arrays and pointer arithmetic."
      ]
    },
    {
      "cell_type": "code",
      "metadata": {
        "id": "KGv5EflVBkJ1",
        "colab_type": "code",
        "colab": {
          "base_uri": "https://localhost:8080/",
          "height": 35
        },
        "outputId": "dde72f0a-8a7c-4a33-dc30-925b9919894c"
      },
      "source": [
        "%%writefile test.cpp\n",
        "/*\n",
        "  So this program illustrates the memory\n",
        "  addressing in an array of integers\n",
        "*/\n",
        "#include <iostream>\n",
        "using namespace std;\n",
        "int main() {\n",
        "\t/*\n",
        "\tSo, first initialize and declare\n",
        "\tan array containing odd numbers\n",
        "\t*/\n",
        "\tconst int N = 5;\n",
        "\tint arr[N];\n",
        "\tcout << \"Contents of the array arr: \";\n",
        "\tfor (int i = 0; i < N; ++i) {\n",
        "\t\tarr[i] = i;\n",
        "\t}\n",
        "\tcout << endl;\n",
        "\t/*\n",
        "\t  In order to display the numbers,\n",
        "\t  this is done\n",
        "\t*/\n",
        "\tfor (int i = 0; i < N; ++i) {\n",
        "\t\tcout << arr[i] << \" \";\n",
        "\t}\n",
        "\tcout << endl;\n",
        "\t/*\n",
        "\t  Now, in order to find the address of\n",
        "\t  particular number in an array, this\n",
        "\t  is done.\n",
        "\t*/\n",
        "\tcout << \"Address of: \" << arr[0] << \" is \" << &arr[0] << endl;\n",
        "\tcout << \"Address of: \" << arr[1] << \" is \" << &arr[1] << endl;\n",
        "\t//So on ... so forth\n",
        "\t/*\n",
        "\t  To iterate all the addresses in an array,\n",
        "\t  a for-loop can be used as such\n",
        "\t*/\n",
        "\tcout << \"Iterating the addresses using a for-loop:\" << endl;\n",
        "\tfor (int i = 0; i < N; ++i) {\n",
        "\t\tcout << &arr[i] << \" \";\n",
        "\t}\n",
        "\tcout << endl;\n",
        "\t//Note that just printing the following\n",
        "\tcout << \"Printing the address of the variable arr: \" << endl;\n",
        "\tcout << arr << endl;\n",
        "\t//will give the same address as arr[0]\n",
        "\n",
        "\treturn 0;\n",
        "}"
      ],
      "execution_count": 5,
      "outputs": [
        {
          "output_type": "stream",
          "text": [
            "Overwriting test.cpp\n"
          ],
          "name": "stdout"
        }
      ]
    },
    {
      "cell_type": "code",
      "metadata": {
        "id": "pn_JTlaCGp3U",
        "colab_type": "code",
        "colab": {
          "base_uri": "https://localhost:8080/",
          "height": 156
        },
        "outputId": "5209f48c-475f-4735-956a-4baa1e10724a"
      },
      "source": [
        "%%script bash\n",
        "g++ test.cpp -o test \n",
        "./test"
      ],
      "execution_count": 6,
      "outputs": [
        {
          "output_type": "stream",
          "text": [
            "Contents of the array arr: \n",
            "0 1 2 3 4 \n",
            "Address of: 0 is 0x7ffe74e68b60\n",
            "Address of: 1 is 0x7ffe74e68b64\n",
            "Iterating the addresses using a for-loop:\n",
            "0x7ffe74e68b60 0x7ffe74e68b64 0x7ffe74e68b68 0x7ffe74e68b6c 0x7ffe74e68b70 \n",
            "Printing the address of the variable arr: \n",
            "0x7ffe74e68b60\n"
          ],
          "name": "stdout"
        }
      ]
    },
    {
      "cell_type": "markdown",
      "metadata": {
        "id": "tJMbVeZtMDL2",
        "colab_type": "text"
      },
      "source": [
        "Having said all of these, let us move to pointer arithmetic"
      ]
    },
    {
      "cell_type": "code",
      "metadata": {
        "id": "oj77kSDQMMmM",
        "colab_type": "code",
        "colab": {
          "base_uri": "https://localhost:8080/",
          "height": 35
        },
        "outputId": "dd9eb2eb-f099-43e7-b580-c6a6e33d2a19"
      },
      "source": [
        "%%writefile test.cpp\n",
        "/*\n",
        "  So this program illustrates the memory\n",
        "  addressing in an array of integers\n",
        "*/\n",
        "#include <iostream>\n",
        "using namespace std;\n",
        "int main() {\n",
        "\t/*\n",
        "\tSo, first initialize and declare\n",
        "\tan array containing odd numbers\n",
        "\t*/\n",
        "\tconst int N = 5;\n",
        "\tint arr[N];\n",
        "\tfor (int i = 0; i < N; ++i) {\n",
        "\t\tarr[i] = i;\n",
        "\t}\n",
        "\t/*\n",
        "\t  Let us store the address of the\n",
        "\t  first variable into a pointer,\n",
        "\t  and then iterate the pointer.\n",
        "\t  For example:\n",
        "\t*/\n",
        "\tint *p = &arr[0];\n",
        "\tcout << *p << endl;\n",
        "\t/*\n",
        "\t  Incrementing the pointer will\n",
        "\t  point the pointer to the address\n",
        "\t  of the next array position\n",
        "\t*/\n",
        "\tp++;//It will give value of array at index 1\n",
        "\tcout << *p << endl;\n",
        "\n",
        "\tp++;//It will give value of array at index 2\n",
        "\tcout << *p << endl;\n",
        "\n",
        "\t//Decrementing the pointer will have the opposite effect\n",
        "\tp--;//It will give value of array at that position 1\n",
        "\tcout << *p << endl;\n",
        "\n",
        "\tp--;//It will give value of array at that position 0\n",
        "\tcout << *p << endl;\n",
        "\n",
        "\treturn 0;\n",
        "}"
      ],
      "execution_count": 7,
      "outputs": [
        {
          "output_type": "stream",
          "text": [
            "Overwriting test.cpp\n"
          ],
          "name": "stdout"
        }
      ]
    },
    {
      "cell_type": "code",
      "metadata": {
        "id": "C6tX1WrqO6Ue",
        "colab_type": "code",
        "colab": {
          "base_uri": "https://localhost:8080/",
          "height": 104
        },
        "outputId": "e9bd864a-23b6-4828-a789-b10200b5969d"
      },
      "source": [
        "%%script bash\n",
        "g++ test.cpp -o test \n",
        "./test"
      ],
      "execution_count": 8,
      "outputs": [
        {
          "output_type": "stream",
          "text": [
            "0\n",
            "1\n",
            "2\n",
            "1\n",
            "0\n"
          ],
          "name": "stdout"
        }
      ]
    },
    {
      "cell_type": "markdown",
      "metadata": {
        "id": "i3x8JHOvPSBi",
        "colab_type": "text"
      },
      "source": [
        "The above code is an example of pointer arithmetic.Notice line 31 and 35 increments the pointers, line 39 and 42 decrements the pointers. "
      ]
    },
    {
      "cell_type": "markdown",
      "metadata": {
        "id": "OwDuTcspSldJ",
        "colab_type": "text"
      },
      "source": [
        "# 1d array using dynamic memory\n",
        "So there are couple of steps that needs to be followed inorder to use an 1d array that uses dynamic memory."
      ]
    },
    {
      "cell_type": "code",
      "metadata": {
        "id": "qG3unG_eVK06",
        "colab_type": "code",
        "colab": {
          "base_uri": "https://localhost:8080/",
          "height": 35
        },
        "outputId": "2170cd3b-e22a-4e4d-ac33-f5aac87c4fd7"
      },
      "source": [
        "%%writefile test.cpp\n",
        "#include <iostream>\n",
        "using namespace std;\n",
        "int main() {\n",
        "\tconst int N = 5;\n",
        "\tint *arr = new int [N];\n",
        "\tfor (int i = 0; i < N; ++i) {\n",
        "\t\t//You can either write this way\n",
        "\t\t*(arr + i) = i;\n",
        "\t\t//Or, you can write\n",
        "\t\t//arr[i] = i;\n",
        "\t}\n",
        "\t//For display or doing some computation\n",
        "\tfor (int i = 0; i < N; ++i) {\n",
        "\t\tcout << arr[i] << endl;\n",
        "\t\t//OR\n",
        "\t\t//cout<<*(arr+i)<<endl;\n",
        "\t}\n",
        "\n",
        "\t/*Finally free memory stored by the array */\n",
        "\tdelete[] arr;\n",
        "\treturn 0;\n",
        "}"
      ],
      "execution_count": 9,
      "outputs": [
        {
          "output_type": "stream",
          "text": [
            "Overwriting test.cpp\n"
          ],
          "name": "stdout"
        }
      ]
    },
    {
      "cell_type": "code",
      "metadata": {
        "id": "IqS2fPb8XWg2",
        "colab_type": "code",
        "colab": {
          "base_uri": "https://localhost:8080/",
          "height": 104
        },
        "outputId": "67a9a91e-5b4c-4bc9-9a04-8fd35424e48b"
      },
      "source": [
        "%%script bash\n",
        "g++ test.cpp -o test \n",
        "./test"
      ],
      "execution_count": 10,
      "outputs": [
        {
          "output_type": "stream",
          "text": [
            "0\n",
            "1\n",
            "2\n",
            "3\n",
            "4\n"
          ],
          "name": "stdout"
        }
      ]
    },
    {
      "cell_type": "markdown",
      "metadata": {
        "id": "yYsMwvMnZZJp",
        "colab_type": "text"
      },
      "source": [
        "# 2d array using Dynamic Memory\n",
        "In normal scenarios where static memory is used, these type of code can be written:\n",
        "`int arrS[3] = {2,3,4};`.This signifies that the integers `2`,`3`, and `4` are allocated in the stack portion of the memory. Similarly the code `int *arrD[3] = {1,2,3};` signifies that the integers `1`,`2`, and `3` are allocated in the heap portion of the memory. It is also evident that the variables `arrS` and the `arrD` are memory addresses that is important in signifying where the 1st integer can be found in the RAM. If we can find the address of the 1st element in the RAM, the next elements can be traced fairly, given the length of the arrar. Now, 2dimensional array with dynamic memory is similar to that 2dimensional array with static memory, but here we have more flexibility."
      ]
    },
    {
      "cell_type": "code",
      "metadata": {
        "id": "WTgxuhQ8ok3w",
        "colab_type": "code",
        "colab": {
          "base_uri": "https://localhost:8080/",
          "height": 35
        },
        "outputId": "d9a03515-3017-4c1e-b3b6-1475e9d703e8"
      },
      "source": [
        "%%writefile test.cpp\n",
        "#include <iostream>\n",
        "using namespace std;\n",
        "int main() {\n",
        "\t/*So let us begin from the beginning.\n",
        "\tThis is what was taught in CSC 101.\n",
        "\tIt shown 4 integers were kept in\n",
        "\tan array using static memory.*/\n",
        "\tint arrS[4] = {1, 2, 3, 4};\n",
        "\n",
        "\t/*This is how integers are kept\n",
        "\tin an array using dynamic memory.\n",
        "\tThe memory for the integers are\n",
        "\tallocated from the heap.\n",
        "\t*/\n",
        "\tint *arrD = new int[4] {1, 2, 3, 4};\n",
        "\tdelete[] arrD;\n",
        "\n",
        "\t/*Both of the two above code snippets\n",
        "\tare examples of 1dimensional array.\n",
        "\tBelow is given examples of creating\n",
        "\ta 2dimensional array using dynamic\n",
        "\tarray step by step.*/\n",
        "\n",
        "\t//First 1d array using dynamic memory\n",
        "\tint *a = new int[3] {1, 2, 3};\n",
        "\n",
        "\t//Second 1d array using dynamic memory\n",
        "\tint *b = new int[2] {8, 81};\n",
        "\n",
        "\t//3rd 1d array using dynamic memory\n",
        "\tint *c = new int[4] {2, 4, 6, 8};\n",
        "\n",
        "\t/*As you know that 2d array are a collection\n",
        "\tof 1d array. In other words, it is a collection\n",
        "\tof addresse of 1d arrays.So, it can be written\n",
        "\tlike the following.*/\n",
        "\n",
        "\tint *arr[3];\n",
        "\t/*The code above represents an array which\n",
        "\tis interested in taking 3 addresses of type\n",
        "\tinteger.Thererefore the code below is entirely\n",
        "\tfeasible to write.\n",
        "\t*/\n",
        "\tarr[0] = a;\n",
        "\t/*Rememeber cout<<a<<endl gives first element\n",
        "\taddress of array a. And if one has the address\n",
        "\tof the first element he/she can iterate to find\n",
        "\tthe other elements as well. So, we also can\n",
        "\twrite the following.*/\n",
        "\n",
        "\tarr[1] = b;\n",
        "\tarr[2] = c;\n",
        "\n",
        "\t/*Finally the variable arr represents 2 dimensional\n",
        "\tdynamic memory. It can be iterated in the following way.*/\n",
        "\n",
        "\tint size[3] = {3, 2, 4}; //lengths of each 1d array\n",
        "\tfor (int i = 0; i < 3; ++i) {\n",
        "\t\tcout << \"Array[\" << i << \"] is : \";\n",
        "\t\tfor (int j = 0; j < size[i]; ++j) {\n",
        "\t\t\tcout << arr[i][j] << \" \";\n",
        "\t\t}\n",
        "\t\tcout << endl;\n",
        "\t}\n",
        "\t/*Free memory*/\n",
        "\tfor (int i = 0; i < 3; ++i) {delete[] arr[i];}\n",
        "\n",
        "\treturn 0;\n",
        "}"
      ],
      "execution_count": 11,
      "outputs": [
        {
          "output_type": "stream",
          "text": [
            "Overwriting test.cpp\n"
          ],
          "name": "stdout"
        }
      ]
    },
    {
      "cell_type": "code",
      "metadata": {
        "id": "Eu0pXzw2XXOV",
        "colab_type": "code",
        "colab": {
          "base_uri": "https://localhost:8080/",
          "height": 69
        },
        "outputId": "e6989998-1afd-4507-9a79-6fbfc6a6a1dd"
      },
      "source": [
        "%%script bash\n",
        "g++ test.cpp -o test \n",
        "./test"
      ],
      "execution_count": 12,
      "outputs": [
        {
          "output_type": "stream",
          "text": [
            "Array[0] is : 1 2 3 \n",
            "Array[1] is : 8 81 \n",
            "Array[2] is : 2 4 6 8 \n"
          ],
          "name": "stdout"
        }
      ]
    },
    {
      "cell_type": "markdown",
      "metadata": {
        "id": "sp-U_7BU6A5l",
        "colab_type": "text"
      },
      "source": [
        "### Couple of important and interesting ways to represent 2dimensional array with dynamic memory. "
      ]
    },
    {
      "cell_type": "code",
      "metadata": {
        "id": "FScPlDrJ3tKb",
        "colab_type": "code",
        "colab": {
          "base_uri": "https://localhost:8080/",
          "height": 35
        },
        "outputId": "98547eaf-2199-427e-91e7-34138d5b58c5"
      },
      "source": [
        "%%writefile test.cpp\n",
        "\n",
        "#include <iostream>\n",
        "using namespace std;\n",
        "int main() {\n",
        "\t/*2dimensional dynamic memory can be\n",
        "\tstored in couple of ways, here are some.\n",
        "\tSo if you remember how you represented\n",
        "\t1dimensional dynamic memory.*/\n",
        "\n",
        "\tint* arr1d = new int[4] { 1, 2, 3, 4 };\n",
        "\tdelete[] arr1d;\n",
        "\n",
        "\t/*2dimensional array with dynamic memory can\n",
        "\tbe represented utilizing the same inspiration.\n",
        "\tBut first you have to understand the notation\n",
        "\tof the code below.*/\n",
        "\n",
        "\tint** arr2D = new int* [3];\n",
        "\n",
        "\t/*Here the first \"*\" after \"int\" represents\n",
        "\tthe data type that will be stored in \"arr2d\".\n",
        "\tThe data type is of integer address. The second\n",
        "\t\"*\" after \"int *\" represents the address\n",
        "\tof the array \"arr2d\". On the right hand side\n",
        "\t\"*\" after \"new int\" represents that the data type\n",
        "\tthat will be kept in the array \"arr2d\" will be\n",
        "\tkept in the heap.\n",
        "\tHaving said that, let us initialize some 1d array\n",
        "\tusing dynamic memory.*/\n",
        "\n",
        "\tint* odd = new int[2] {3, 5};\n",
        "\tint* even = new int[3] {4, 6};\n",
        "\tint* natural = new int[4] {1, 2, 3, 4};\n",
        "\n",
        "\t//And you can do this.\n",
        "\tint** number2d = new int* [3];\n",
        "\tnumber2d[0] = odd;\n",
        "\tnumber2d[1] = even;\n",
        "\tnumber2d[2] = natural;\n",
        "\n",
        "\t//Free memory\n",
        "\tdelete[] number2d[0];\n",
        "\tdelete[] number2d[1];\n",
        "\tdelete[] number2d[2];\n",
        "\n",
        "\n",
        "\t//You could have done this as well\n",
        "\tint* prime = new int[2] { 3, 5 };\n",
        "\tint* fib = new int[3] { 0, 1, 1 };\n",
        "\tint* random = new int[4] { 11, 12, 223, 24 };\n",
        "\n",
        "\tint** number2d_1 = new int* [3] { prime, fib, random };\n",
        "\n",
        "\t//Free memory\n",
        "\tdelete[] number2d_1[0];\n",
        "\tdelete[] number2d_1[1];\n",
        "\tdelete[] number2d_1[2];\n",
        "\n",
        "\n",
        "\t//Or just, this could have also been possible\n",
        "\tint** number2d_2 = new int* [3] { new int[2]{3, 5}, new int[3]{4, 6}, new int[4]{1, 2, 3, 4} };\n",
        "\n",
        "\t//Free up memory\n",
        "\tdelete[] number2d_2[0];\n",
        "\tdelete[] number2d_2[1];\n",
        "\tdelete[] number2d_2[2];\n",
        "\n",
        "\t/*Finally if you want to have the content\n",
        "\t of the 2d array displayed, you can follow\n",
        "\t the code written in the code block above*/\n",
        "\n",
        "\treturn 0;\n",
        "}"
      ],
      "execution_count": 13,
      "outputs": [
        {
          "output_type": "stream",
          "text": [
            "Overwriting test.cpp\n"
          ],
          "name": "stdout"
        }
      ]
    },
    {
      "cell_type": "code",
      "metadata": {
        "id": "sm5x4eGyCH2l",
        "colab_type": "code",
        "colab": {}
      },
      "source": [
        "%%script bash\n",
        "g++ test.cpp -o test \n",
        "./test"
      ],
      "execution_count": 14,
      "outputs": []
    },
    {
      "cell_type": "markdown",
      "metadata": {
        "id": "ImSPCMuJIEjF",
        "colab_type": "text"
      },
      "source": [
        "Finally, below is a cool little example which shows the power dynamic memory and the extent to which we can utilize it."
      ]
    },
    {
      "cell_type": "code",
      "metadata": {
        "id": "iEY2QbceIZSo",
        "colab_type": "code",
        "colab": {
          "base_uri": "https://localhost:8080/",
          "height": 35
        },
        "outputId": "a0cc4d80-f968-4391-ba8c-5fefb1d6dc02"
      },
      "source": [
        "%%writefile test.cpp\n",
        "\n",
        "#include <iostream>\n",
        "using namespace std;\n",
        "void swappingValues(int &p, int &q) {\n",
        "\tint temp = p;\n",
        "\tp = q;\n",
        "\tq = temp;\n",
        "}\n",
        "\n",
        "/*Notice the difference between the\n",
        "two function, in the function swappingValues\n",
        "data type \"int\" was swapped. And in the\n",
        "function swappingAddresses \"int*\" was\n",
        "swapped. \"p\" and \"q\" was ready beforehand\n",
        "to care of \"int*\" type of address.\n",
        "\"int*\" in \"int* temp\" contains address\n",
        "from p. And then the address from q is\n",
        "swapped to p, after address in 'temp'\n",
        "was transferred to \"q\". */\n",
        "\n",
        "void swappingAddresses(int* &p, int* &q) {\n",
        "\tint* temp = p;\n",
        "\tp = q;\n",
        "\tq = temp;\n",
        "}\n",
        "\n",
        "int main() {\n",
        "\t/*Remember that back in CSC 101, swapping of\n",
        "\tvalues was taught, and something like the\n",
        "\tfunction swappingValues was used to swap\n",
        "\tvalues of two variables*/\n",
        "\n",
        "\tint a = 3; int b = 5;\n",
        "\tcout << \"Before swapping : a is \" << a << \" b is \" << b << endl;\n",
        "\tswappingValues(a, b);\n",
        "\tcout << \"After swapping: a is \" << a << \" b is \" << b << endl;\n",
        "\n",
        "\t/*Hopefully you will see that the values of\n",
        "\ta and b interchange after swapping. So that was\n",
        "\tswapping of values like \"int\", \"float\" or \"double\".\n",
        "\tWhat if we want to swap something like \"int *\" or\n",
        "\t\"float *\". Below is an example, which shows that\n",
        "\tin action.*/\n",
        "\n",
        "\t//x and y are generic variables\n",
        "\tint x = 3; int y = 5;\n",
        "\n",
        "\t/* m contains address of a,\n",
        "\tn contains address of b */\n",
        "\tint* m = &x; int* n = &y;\n",
        "\n",
        "\tcout << \"Before swapping value dreferenced by m: \" << *m << \" and n: \" << *n << endl;\n",
        "\tcout << \"Address value before swapping m: \" << m << \" n: \" << n << endl;\n",
        "\tswappingAddresses(m, n);\n",
        "\tcout << \"Address value after swapping m: \" << m << \" n: \" << n << endl;\n",
        "\tcout << \"After swapping value dereferenced by m: \" << *m << \" and n: \" << *n << endl;\n",
        "\n",
        "\t/*Couple of things to notice about the address\n",
        "\tof the variables 'x' and 'y'. It does not change.\n",
        "\tIts value also does not does not change. The address\n",
        "\tkept in 'm' and 'n' do change, so does the value the\n",
        "\tvariables 'm' and 'n' references change. This leads\n",
        "\tto an interesting effect as shown below.*/\n",
        "\n",
        "\t/*Lets say we have an 1d array whose values\n",
        "\thave been allocated dynamically as given,\n",
        "\tlet us swap the address of the variables, and\n",
        "\tthen see the effect.*/\n",
        "\tint *odd = new int[3] {1, 3, 5};\n",
        "\tint *even = new int[5] {2, 4, 6, 8, 10};\n",
        "\n",
        "\tcout << \"\\nBefore swapping the addresses ... \" << endl;\n",
        "\tcout << \"Odd values: \";\n",
        "\tfor (int i = 0; i < 3; ++i) cout << odd[i] << \" \";\n",
        "\tcout << endl;\n",
        "\tcout << \"Even values: \";\n",
        "\tfor (int i = 0; i < 5; ++i) cout << even[i] << \" \";\n",
        "\n",
        "\t//Now swap the address of the variable odd and even\n",
        "\tswappingAddresses(odd, even);\n",
        "\n",
        "\tcout << \"\\nAfter swapping the addresses ... \" << endl;\n",
        "\tcout << \"Odd values: \";\n",
        "\tfor (int i = 0; i < 5; ++i) cout << odd[i] << \" \";\n",
        "\tcout << endl;\n",
        "\tcout << \"Even values: \";\n",
        "\tfor (int i = 0; i < 3; ++i) cout << even[i] << \" \";\n",
        "\n",
        "\t/*Finally take a moment and appreciate what just\n",
        "\thappened to the value of odd number array and then\n",
        "\twhat happened to the value of even number array.\n",
        "\tYour appreciation will help you a lot in the\n",
        "\tcoming days.*/\n",
        "\n",
        "\treturn 0;\n",
        "}\n"
      ],
      "execution_count": 15,
      "outputs": [
        {
          "output_type": "stream",
          "text": [
            "Overwriting test.cpp\n"
          ],
          "name": "stdout"
        }
      ]
    },
    {
      "cell_type": "code",
      "metadata": {
        "id": "mcuYbN2ClJc6",
        "colab_type": "code",
        "colab": {
          "base_uri": "https://localhost:8080/",
          "height": 243
        },
        "outputId": "f7146ee4-9994-4e2e-963e-b34213b6e68a"
      },
      "source": [
        "%%script bash\n",
        "g++ test.cpp -o test \n",
        "./test"
      ],
      "execution_count": 16,
      "outputs": [
        {
          "output_type": "stream",
          "text": [
            "Before swapping : a is 3 b is 5\n",
            "After swapping: a is 5 b is 3\n",
            "Before swapping value dreferenced by m: 3 and n: 5\n",
            "Address value before swapping m: 0x7ffef9f78460 n: 0x7ffef9f78464\n",
            "Address value after swapping m: 0x7ffef9f78464 n: 0x7ffef9f78460\n",
            "After swapping value dereferenced by m: 5 and n: 3\n",
            "\n",
            "Before swapping the addresses ... \n",
            "Odd values: 1 3 5 \n",
            "Even values: 2 4 6 8 10 \n",
            "After swapping the addresses ... \n",
            "Odd values: 2 4 6 8 10 \n",
            "Even values: 1 3 5 "
          ],
          "name": "stdout"
        }
      ]
    }
  ]
}