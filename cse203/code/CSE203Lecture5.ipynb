{
  "nbformat": 4,
  "nbformat_minor": 0,
  "metadata": {
    "colab": {
      "name": "CSE203Lecture5.ipynb",
      "provenance": [],
      "collapsed_sections": [],
      "include_colab_link": true
    },
    "kernelspec": {
      "name": "python3",
      "display_name": "Python 3"
    }
  },
  "cells": [
    {
      "cell_type": "markdown",
      "metadata": {
        "id": "view-in-github",
        "colab_type": "text"
      },
      "source": [
        "<a href=\"https://colab.research.google.com/github/mohammadmotiurrahman/cse203/blob/master/CSE203Lecture5.ipynb\" target=\"_parent\"><img src=\"https://colab.research.google.com/assets/colab-badge.svg\" alt=\"Open In Colab\"/></a>"
      ]
    },
    {
      "cell_type": "markdown",
      "metadata": {
        "id": "CcOeNP6Dyhe1",
        "colab_type": "text"
      },
      "source": [
        "# Linked List\n",
        "So linked list is a data structure which is designed to alleviate one of the weakest point of array data structure, it is inability to insert/remove an element without copying the orginal array again.It leads to wastage of space. So, computer scientist have designed linked list to cause minimal space wastage, even then there is considerable amount of code complexity as well as time complexity involved. Anyhow in the code blocks below, there is a step by step process in which linked list are developed. Hopefully, you will find it useful.\n",
        "\n",
        "So, in linked list is a list of numbers which are connected by means of links or in this case pointers. Theses pointers contains adddresses of the next number in the link. Formally, a linked list is a list of nodes, and each node contain the address of the next node in the list. If any number is required to be removed from the list, a node containing the number is removed from the list. There is no necessity of adding extra space for this removal. On the comtrary if a number is required to be added to a particular place in the list, no extra space is required for that either. A for loop or while loop is used to find the relevant place for that node containing that number.\n"
      ]
    },
    {
      "cell_type": "code",
      "metadata": {
        "id": "3BsPD8JQyKPu",
        "colab_type": "code",
        "colab": {
          "base_uri": "https://localhost:8080/",
          "height": 35
        },
        "outputId": "18c6e592-bc1e-4054-9e84-c776dea67c1c"
      },
      "source": [
        "%%writefile test.cpp\n",
        "#include <iostream>\n",
        "using namespace std;\n",
        "/*So a node in linked list is\n",
        "defined in the following way*/\n",
        "\n",
        "struct node {\n",
        "\tint data;\n",
        "\tnode *next;\n",
        "};\n",
        "\n",
        "/*Here the variable \"next\" is of\n",
        "type \"node*\" and it contains the\n",
        "address of the next node*. It does\n",
        "not contain the address of the node it\n",
        "is contained in.*/\n",
        "\n",
        "int main() {\n",
        "\t/*Let us intialize a node \"n\" first like\n",
        "\tso, this is similar to declaring\n",
        "\t\"int *x = new int\" using dynamic memory.*/\n",
        "\tnode * n = new node;\n",
        "\n",
        "\t//What can we do with \"n\", we can do the following\n",
        "\tn->data = 67;\n",
        "\tn->next = NULL;\n",
        "\t/*Why is \"n->next = NULL\", you might ask. It is\n",
        "\tbecause, we still do not know who is going to\n",
        "\tsit beside \"n\". So, let us put someone out there.*/\n",
        "\n",
        "\tnode *m = new node;\n",
        "\tm->data = 98;\n",
        "\tm->next = NULL;\n",
        "\n",
        "\t//So, if we just do the following ...\n",
        "\n",
        "\tn->next = m;\n",
        "\n",
        "\t/*... it will give us our first proper ,\n",
        "\tlinked list, where one node is linked\n",
        "\twith the other one. A linked list can\n",
        "\talso be formed using just one node.*/\n",
        "\n",
        "\t/*So, the next step is how do we iterate\n",
        "\tit,we can iterate it like the following*/\n",
        "\n",
        "\tnode *temporary = n;\n",
        "\tcout << \"1st node value: \";\n",
        "\tcout << temporary->data << endl;\n",
        "\n",
        "\t/*And after that we move temporary to\n",
        "\tthe next node, like the following.*/\n",
        "\ttemporary = temporary->next;\n",
        "\n",
        "\t/*Since temporary = n, and the node next\n",
        "\tto n is m, so doing temporary = temporary->next\n",
        "\twould allow temporary to move to point to\n",
        "\tthe next node.*/\n",
        "\tcout << \"2nd node value: \";\n",
        "\tcout << temporary->data << endl;\n",
        "\n",
        "\n",
        "\treturn 0;\n",
        "}"
      ],
      "execution_count": 1,
      "outputs": [
        {
          "output_type": "stream",
          "text": [
            "Overwriting test.cpp\n"
          ],
          "name": "stdout"
        }
      ]
    },
    {
      "cell_type": "code",
      "metadata": {
        "id": "uUITKQNRyawA",
        "colab_type": "code",
        "colab": {
          "base_uri": "https://localhost:8080/",
          "height": 52
        },
        "outputId": "3a82e97e-b1ea-4075-9da2-ce04fd0a1c44"
      },
      "source": [
        "%%script bash\n",
        "g++ test.cpp -o test \n",
        "./test"
      ],
      "execution_count": 2,
      "outputs": [
        {
          "output_type": "stream",
          "text": [
            "1st node value: 67\n",
            "2nd node value: 98\n"
          ],
          "name": "stdout"
        }
      ]
    },
    {
      "cell_type": "markdown",
      "metadata": {
        "id": "57j-grf0T15g",
        "colab_type": "text"
      },
      "source": [
        "So that is about that about an introduction to linked list, the rest of the notebook, infact the rest of this course will be build upon the ideas shown in the code block above.\n",
        "\n",
        "Now let us formalize linked list construction a little bit, since we already had an introduction about it."
      ]
    },
    {
      "cell_type": "code",
      "metadata": {
        "id": "fodITCYR0omc",
        "colab_type": "code",
        "colab": {
          "base_uri": "https://localhost:8080/",
          "height": 35
        },
        "outputId": "bd1b20a6-c60c-44cd-8cff-4da1c2206394"
      },
      "source": [
        "%%writefile test.cpp\n",
        "#include <iostream>\n",
        "using namespace std;\n",
        "struct node {\n",
        "\tint data;\n",
        "\tnode *next;\n",
        "};\n",
        "\n",
        "int main() {\n",
        "\t/*So, lets say there are 3 nodes,\n",
        "\t\"a\", \"b\" and \"c\" */\n",
        "\tnode* a = new node;\n",
        "\tnode* b = new node;\n",
        "\tnode* c = new node;\n",
        "\n",
        "\t/*Let us fill the nodes' data field  with data*/\n",
        "\ta->data = 11;\n",
        "\tb->data = 22;\n",
        "\tc->data = 33;\n",
        "\n",
        "\t/*Let us also fill the nodes' next pointer will address.\n",
        "\tInitially all of the next pointers will be NULL,since\n",
        "\tnobody knows who their neighbour is going to be*/\n",
        "\ta->next = NULL;\n",
        "\tb->next = NULL;\n",
        "\tc->next = NULL;\n",
        "\n",
        "\t/*Now, let us fix the neighbour's of these nodes*/\n",
        "\ta->next = b;\n",
        "\tb->next = c;\n",
        "\tc->next = NULL;//since there is no next door neighbour of node c\n",
        "\n",
        "\t/*Now let us iterate. Iteration is the process of\n",
        "\tgoing to every node, until \"null\" is reached.\n",
        "\tIn order to show that we actually reached a node,\n",
        "\twe usually print the value field of the node*/\n",
        "\n",
        "\t//So let us print the value field of the 1st node\n",
        "\tcout << \"Node a value : \";\n",
        "\tcout << a->data << endl;\n",
        "\n",
        "\t/*What about the next node, well you can reach\n",
        "\tthe next node data field like this*/\n",
        "\tcout << \"Node b value : \";\n",
        "\tcout << a->next->data << endl; //This is the data field of the node b\n",
        "\n",
        "\t/*How about the next one*/\n",
        "\tcout << \"Node c value : \";\n",
        "\tcout << a->next->next->data << endl; //This is the data field of the node c\n",
        "\n",
        "\t/*Now the question is if there are thousands of\n",
        "\tnodes in a linked list , is printing like the above is feasible?*/\n",
        "\n",
        "}"
      ],
      "execution_count": 3,
      "outputs": [
        {
          "output_type": "stream",
          "text": [
            "Overwriting test.cpp\n"
          ],
          "name": "stdout"
        }
      ]
    },
    {
      "cell_type": "code",
      "metadata": {
        "id": "zeyey0MMdt1t",
        "colab_type": "code",
        "colab": {
          "base_uri": "https://localhost:8080/",
          "height": 69
        },
        "outputId": "c1fda9a8-d0f8-4816-c96e-ece5df74a336"
      },
      "source": [
        "%%script bash\n",
        "g++ test.cpp -o test \n",
        "./test"
      ],
      "execution_count": 4,
      "outputs": [
        {
          "output_type": "stream",
          "text": [
            "Node a value : 11\n",
            "Node b value : 22\n",
            "Node c value : 33\n"
          ],
          "name": "stdout"
        }
      ]
    },
    {
      "cell_type": "markdown",
      "metadata": {
        "id": "bQVRYJGWjPLO",
        "colab_type": "text"
      },
      "source": [
        "Let us generalize some of the concepts shown above. Let us try to generalize printing the nodes."
      ]
    },
    {
      "cell_type": "code",
      "metadata": {
        "id": "x2yvxgxnd1VM",
        "colab_type": "code",
        "colab": {
          "base_uri": "https://localhost:8080/",
          "height": 35
        },
        "outputId": "18a7f096-6c8d-4985-8302-1bd03652d8f7"
      },
      "source": [
        "%%writefile test.cpp\n",
        "#include <iostream>\n",
        "using namespace std;\n",
        "struct node {\n",
        "\tint data;\n",
        "\tnode *next;\n",
        "};\n",
        "\n",
        "void printLinkedList(node *p) {\n",
        "\t/*Observe that the variable p works\n",
        "\tlike a temporary node like that a couple\n",
        "\tof examples back . It helps to scan the linked list*/\n",
        "\n",
        "\tcout << \"The linked list is : \";\n",
        "\n",
        "\t/*Until node p reaches the end of the\n",
        "\tlist, it updates it neighbors address*/\n",
        "\n",
        "\twhile (p != NULL) {\n",
        "\t\tcout << p->data << \" \";\n",
        "\t\tp = p->next;\n",
        "\t}\n",
        "}\n",
        "\n",
        "int main() {\n",
        "\t/*So, lets say there are 3 nodes, \"a\", \"b\"\n",
        "\tand \"c\" like the previous code blocks */\n",
        "\tnode* a = new node;\n",
        "\tnode* b = new node;\n",
        "\tnode* c = new node;\n",
        "\n",
        "\t/*Let us also fill the nodes' data field  with data*/\n",
        "\ta->data = 11;\n",
        "\tb->data = 22;\n",
        "\tc->data = 33;\n",
        "\n",
        "\t/*Let us also fill the nodes' next pointer will address.*/\n",
        "\ta->next = NULL;\n",
        "\tb->next = NULL;\n",
        "\tc->next = NULL;\n",
        "\n",
        "\t/*Now, let us fix the neighbour's of these nodes*/\n",
        "\ta->next = b;\n",
        "\tb->next = c;\n",
        "\tc->next = NULL;//since there is no next door neighbour of node c\n",
        "\n",
        "\t/*Let us make a function which is useful in\n",
        "\tprinting the linked list*/\n",
        "\tprintLinkedList(a);\n",
        "\n",
        "\treturn 0;\n",
        "\n",
        "}"
      ],
      "execution_count": 5,
      "outputs": [
        {
          "output_type": "stream",
          "text": [
            "Overwriting test.cpp\n"
          ],
          "name": "stdout"
        }
      ]
    },
    {
      "cell_type": "code",
      "metadata": {
        "id": "Z9IshNkYjNvX",
        "colab_type": "code",
        "colab": {
          "base_uri": "https://localhost:8080/",
          "height": 35
        },
        "outputId": "6547563b-90b4-4a30-e9af-51ae248c0822"
      },
      "source": [
        "%%script bash\n",
        "g++ test.cpp -o test \n",
        "./test"
      ],
      "execution_count": 6,
      "outputs": [
        {
          "output_type": "stream",
          "text": [
            "The linked list is : 11 22 33 "
          ],
          "name": "stdout"
        }
      ]
    },
    {
      "cell_type": "markdown",
      "metadata": {
        "id": "C9M_nQCPoyKo",
        "colab_type": "text"
      },
      "source": [
        "The above code is still messy , we need to do something about adding of node into the linked list. We need to modularize the system of adding a node to a linked list. Let's do that."
      ]
    },
    {
      "cell_type": "code",
      "metadata": {
        "id": "BvhMq0n7mhgq",
        "colab_type": "code",
        "colab": {
          "base_uri": "https://localhost:8080/",
          "height": 35
        },
        "outputId": "2dececb2-4359-46cf-9430-de17f5d4a68b"
      },
      "source": [
        "%%writefile test.cpp\n",
        "#include <iostream>\n",
        "using namespace std;\n",
        "struct node {\n",
        "\tint data;\n",
        "\tnode *next;\n",
        "};\n",
        "\n",
        "void printLinkedList(node *p) {\n",
        "\tcout << \"The linked list is : \";\n",
        "\twhile (p != NULL) {\n",
        "\t\tcout << p->data << \" \";\n",
        "\t\tp = p->next;\n",
        "\t}\n",
        "}\n",
        "\n",
        "void addNode(node *&n, int val) {\n",
        "\tcout << \"You have passed the value: \" << val << endl;\n",
        "\tcout << \"Look into the next code block for more\" << endl;\n",
        "}\n",
        "\n",
        "int main() {\n",
        "\n",
        "\t/*So, let us begin with the fact that\n",
        "\t we can have two states for the linked\n",
        "\t list.\n",
        "\t 1. Either the linked is empty.\n",
        "\t 2.The linked list is not empty, and it\n",
        "\t has nodes in it already.All we have to\n",
        "\t do is attach nodes to the end of the\n",
        "\t linked list.\n",
        "\t Also since we have to do this routine\n",
        "\t each time a new node is added to the\n",
        "\t linked list, it is better to have\n",
        "\t a function which does this for us.\n",
        "\t */\n",
        "\t/*So, let us have a node * which is null,\n",
        "\twe have to start from somewhere*/\n",
        "\tnode* n = NULL;\n",
        "\t/*After that add nodes to the initial node.\n",
        "\tWe will be doing it by adding the value of\n",
        "\tthe node, something like the following.*/\n",
        "\n",
        "\taddNode(n, 2);\n",
        "\taddNode(n, 4);\n",
        "\taddNode(n, 6);\n",
        "\taddNode(n, 8);\n",
        "\n",
        "\t/*This will allow to have a linked list\n",
        "\tlike the following: \"2->4->6->8->null\".\n",
        "\tAfter that there will be printing of\n",
        "\tthe linked list. So, let us implement\n",
        "\tthe function \"addNode(n,2)\". But while\n",
        "\tdoing that let us see what is happening\n",
        "\tin the function \"addNode(n,2)\" in the\n",
        "\tnext code block*/\n",
        "\n",
        "\tprintLinkedList(n);\n",
        "\n",
        "\treturn 0;\n",
        "\n",
        "}"
      ],
      "execution_count": 7,
      "outputs": [
        {
          "output_type": "stream",
          "text": [
            "Overwriting test.cpp\n"
          ],
          "name": "stdout"
        }
      ]
    },
    {
      "cell_type": "code",
      "metadata": {
        "id": "0LvAHMNBCI2H",
        "colab_type": "code",
        "colab": {
          "base_uri": "https://localhost:8080/",
          "height": 173
        },
        "outputId": "e8a5fdfd-6bc4-42de-d924-85775d2275de"
      },
      "source": [
        "%%script bash\n",
        "g++ test.cpp -o test \n",
        "./test"
      ],
      "execution_count": 8,
      "outputs": [
        {
          "output_type": "stream",
          "text": [
            "You have passed the value: 2\n",
            "Look into the next code block for more\n",
            "You have passed the value: 4\n",
            "Look into the next code block for more\n",
            "You have passed the value: 6\n",
            "Look into the next code block for more\n",
            "You have passed the value: 8\n",
            "Look into the next code block for more\n",
            "The linked list is : "
          ],
          "name": "stdout"
        }
      ]
    },
    {
      "cell_type": "code",
      "metadata": {
        "id": "GH6vOk1sI1-Z",
        "colab_type": "code",
        "colab": {
          "base_uri": "https://localhost:8080/",
          "height": 35
        },
        "outputId": "8690f422-989d-4a14-a6c4-766fe408f21e"
      },
      "source": [
        "%%writefile test.cpp\n",
        "#include <iostream>\n",
        "using namespace std;\n",
        "\n",
        "\n",
        "struct node {\n",
        "\tint data;\n",
        "\tnode *next;\n",
        "};\n",
        "\n",
        "void printLinkedList(node *p) {\n",
        "\tcout << \"The linked list is : \";\n",
        "\twhile (p != NULL) {\n",
        "\t\tcout << p->data << \" \";\n",
        "\t\tp = p->next;\n",
        "\t}\n",
        "\tcout << endl;\n",
        "}\n",
        "/*So, in this function let us see\n",
        "in detail , how things are passed\n",
        "from the main function to here,\n",
        "and also explore couple of other\n",
        "variations.*/\n",
        "\n",
        "void addNode(node *&a, int val) {\n",
        "\n",
        "//node a is null initially\n",
        "\tif (a == NULL) {\n",
        "\t\t/*Since a is NULL, allocate memory\n",
        "\t\tfrom the heap for a new node. Put the\n",
        "\t\tdesired value into the node. It is our\n",
        "\t\tlinked list, and now print the list\n",
        "\t\tfrom the main function.*/\n",
        "\n",
        "\t\ta = new node;\n",
        "\t\ta->data = val;\n",
        "\t\ta->next = NULL;\n",
        "\t}\n",
        "\n",
        "}\n",
        "\n",
        "/*Look at the parameters \"node* a\" instead\n",
        "of \"node *&a\", and remember this code block\n",
        "from the days of CSC 101:\n",
        "  void squareA(int &x){x = x*x;}\n",
        "  void squareB(int x){x = x*x;}\n",
        "  int main(){\n",
        "    int x = 3; int y = 3;\n",
        "    squareA(x);squareB(y);\n",
        "    cout<<\"x \"<<x<<\"y \"<<y<<endl;\n",
        "    //x is 9 while y stays at 3\n",
        "  }\n",
        "The same concept is used for adding nodes to\n",
        "a linked list, if the functions do not have\n",
        "parameters that is accepted by pass by reference,\n",
        "then the change does not happen permanaently.\n",
        "So, the change of address of the nodes does not\n",
        "happen, even though it seems so.*/\n",
        "void addNodeDifferently(node *a, int val) {\n",
        "\n",
        "//node a is null initially\n",
        "\tif (a == NULL) {\n",
        "\t\ta = new node;\n",
        "\t\ta->data = val;\n",
        "\t\ta->next = NULL;\n",
        "\t}\n",
        "}\n",
        "\n",
        "int main() {\n",
        "\n",
        "\tnode* n = NULL;\n",
        "\taddNode(n, 2);\n",
        "\tprintLinkedList(n);\n",
        "\n",
        "\t/*After calling the above function\n",
        "\tthe list will print 2. Now for a\n",
        "\tsecond let us make a linked list in\n",
        "\ta slightly different way.*/\n",
        "\n",
        "\tnode* m = NULL;\n",
        "\taddNodeDifferently(m, 20);\n",
        "\tprintLinkedList(m);\n",
        "\t/*The is nothing printed in the screen\n",
        "\tfor this linked list*/\n",
        "\n",
        "\treturn 0;\n",
        "\n",
        "}"
      ],
      "execution_count": 9,
      "outputs": [
        {
          "output_type": "stream",
          "text": [
            "Overwriting test.cpp\n"
          ],
          "name": "stdout"
        }
      ]
    },
    {
      "cell_type": "code",
      "metadata": {
        "id": "6HfT3VgVMqYT",
        "colab_type": "code",
        "colab": {
          "base_uri": "https://localhost:8080/",
          "height": 52
        },
        "outputId": "cd9c4e18-010e-455d-e6b4-59ded0233e38"
      },
      "source": [
        "%%script bash\n",
        "g++ test.cpp -o test \n",
        "./test"
      ],
      "execution_count": 10,
      "outputs": [
        {
          "output_type": "stream",
          "text": [
            "The linked list is : 2 \n",
            "The linked list is : \n"
          ],
          "name": "stdout"
        }
      ]
    },
    {
      "cell_type": "markdown",
      "metadata": {
        "id": "nSXcX1hgVbmt",
        "colab_type": "text"
      },
      "source": [
        "Let us continue to add additional values to the linked list. For now, we will just add the value at the end of the list. The way we will find the end of the list , is by looking for a `null` pointer. Since a linked list has to end sometime, the `null` pointer at the end designates the end of the list."
      ]
    },
    {
      "cell_type": "code",
      "metadata": {
        "id": "j98oR-s0Pnim",
        "colab_type": "code",
        "colab": {
          "base_uri": "https://localhost:8080/",
          "height": 35
        },
        "outputId": "21641c75-235d-4384-cefb-5be2a06e9fae"
      },
      "source": [
        "%%writefile test.cpp\n",
        "#include <iostream>\n",
        "using namespace std;\n",
        "\n",
        "struct node {\n",
        "\tint data;\n",
        "\tnode *next;\n",
        "};\n",
        "\n",
        "void printLinkedList(node *p) {\n",
        "\tcout << \"The linked list is : \";\n",
        "\twhile (p != NULL) {\n",
        "\t\tcout << p->data << \" \";\n",
        "\t\tp = p->next;\n",
        "\t}\n",
        "\tcout << endl;\n",
        "}\n",
        "\n",
        "void addNode(node *&a, int val) {\n",
        "\tif (a == NULL) {\n",
        "\t\ta = new node;\n",
        "\t\ta->data = val;\n",
        "\t\ta->next = NULL;\n",
        "\t}\n",
        "//Or a is not null , a can be a node\n",
        "\telse {\n",
        "\t\t/*Take a temporary node pointer\n",
        "\t\t and run it till the end of the\n",
        "\t\t list to check for null*/\n",
        "\t\tnode *current = a;\n",
        "\t\twhile (current->next != NULL) {\n",
        "\t\t\tcurrent = current->next;\n",
        "\t\t}\n",
        "\n",
        "\t\t/*If the end is reached, then\n",
        "\t\t it means the node next to\n",
        "\t\t current is NULL. At that moment\n",
        "\t\t initialize a new node, and make\n",
        "\t\t that current node's next element\n",
        "\t\t to be the new node*/\n",
        "\n",
        "\t\t/*New node created , the value is\n",
        "\t\t inserted into the new node*/\n",
        "\n",
        "\t\tnode* h = new node;\n",
        "\t\th->data = val;\n",
        "\t\th->next = NULL;\n",
        "\n",
        "\t\t/*Now make current node's next value\n",
        "\t\t to be h, instead of NULL.*/\n",
        "\n",
        "\t\tcurrent->next = h;\n",
        "\t}\n",
        "}\n",
        "\n",
        "int main() {\n",
        "\n",
        "\tnode* n = NULL;\n",
        "\taddNode(n, 2);\n",
        "\taddNode(n, 4);\n",
        "\taddNode(n, 6);\n",
        "\taddNode(n, 8);\n",
        "\taddNode(n, 10);\n",
        "\tprintLinkedList(n);\n",
        "\n",
        "\treturn 0;\n",
        "\n",
        "}"
      ],
      "execution_count": 11,
      "outputs": [
        {
          "output_type": "stream",
          "text": [
            "Overwriting test.cpp\n"
          ],
          "name": "stdout"
        }
      ]
    },
    {
      "cell_type": "code",
      "metadata": {
        "id": "POyvnHOyibng",
        "colab_type": "code",
        "colab": {
          "base_uri": "https://localhost:8080/",
          "height": 35
        },
        "outputId": "94b1b22d-d55a-4d3b-b152-e28ee26da7ac"
      },
      "source": [
        "%%script bash\n",
        "g++ test.cpp -o test \n",
        "./test"
      ],
      "execution_count": 12,
      "outputs": [
        {
          "output_type": "stream",
          "text": [
            "The linked list is : 2 4 6 8 10 \n"
          ],
          "name": "stdout"
        }
      ]
    },
    {
      "cell_type": "markdown",
      "metadata": {
        "id": "oZ6kdYB1i1e_",
        "colab_type": "text"
      },
      "source": [
        "Success, the first linked list has been created! Now let us try to remove some elements from the list. While removing an element from a list one has to remember that it is necessary to reclaim space of nodes which were removed."
      ]
    },
    {
      "cell_type": "code",
      "metadata": {
        "id": "7TTS66lkidkH",
        "colab_type": "code",
        "colab": {
          "base_uri": "https://localhost:8080/",
          "height": 35
        },
        "outputId": "ea933610-2d52-48db-9e3b-a62fe8b862ef"
      },
      "source": [
        "%%writefile test.cpp\n",
        "#include <iostream>\n",
        "using namespace std;\n",
        "\n",
        "struct node {\n",
        "\tint data;\n",
        "\tnode *next;\n",
        "};\n",
        "\n",
        "void printLinkedList(node *p) {\n",
        "\tcout << \"The linked list is : \";\n",
        "\twhile (p != NULL) {\n",
        "\t\tcout << p->data << \" \";\n",
        "\t\tp = p->next;\n",
        "\t}\n",
        "\tcout << endl;\n",
        "}\n",
        "\n",
        "void addNode(node *&a, int val) {\n",
        "\tif (a == NULL) {\n",
        "\t\ta = new node;\n",
        "\t\ta->data = val;\n",
        "\t\ta->next = NULL;\n",
        "\t}\n",
        "\telse {\n",
        "\n",
        "\t\tnode *current = a;\n",
        "\t\twhile (current->next != NULL) {\n",
        "\t\t\tcurrent = current->next;\n",
        "\t\t}\n",
        "\n",
        "\t\tnode* h = new node;\n",
        "\t\th->data = val;\n",
        "\t\th->next = NULL;\n",
        "\n",
        "\t\tcurrent->next = h;\n",
        "\t}\n",
        "}\n",
        "\n",
        "void removeElement(node *&a, int val) {\n",
        "\n",
        "\t/*So if the element \"val\" that we are\n",
        "\tinterested to remove , is the first\n",
        "\telement of a the list a, we need to\n",
        "\tdo the following, we just need to shift\n",
        "\tthe list one element. We are not quite\n",
        "\tconcerned about the rest of the list,\n",
        "\twe are only focused on the first element\n",
        "\tof the list. So, if the list is something\n",
        "\tlike the following: 2->4->6->8->null,\n",
        "\tafter removing \"2\" from the list, it would\n",
        "\tlook like this: 4->6->8->null.\n",
        "\tHowever, lets first check whether the\n",
        "\tnode a is null, if it is null, terminate\n",
        "\tfrom the function*/\n",
        "\n",
        "\tif (a == NULL)return;\n",
        "\tif (a->data == val) {\n",
        "\t\tnode *d = a;\n",
        "\t\ta = a->next;\n",
        "\t\tdelete d;\n",
        "\t}\n",
        "\n",
        "\t/*If the element that we are looking to\n",
        "\tdelete is not the first element, then we have\n",
        "\tto look for the element , until we reach the end\n",
        "\tof the list. However, it is convenient to have\n",
        "\ta temporary node, which allow us to iterate\n",
        "\tthrough the list. We name this temporary node,\n",
        "\tthe current node.*/\n",
        "\telse {\n",
        "\n",
        "\t\tnode* current = a;\n",
        "\t\twhile (current->next != NULL) {\n",
        "\n",
        "\t\t\t/*Check if the next value to the current\n",
        "\t\t\tequals the value you are looking for,\n",
        "\t\t\tsomething like this 4->6->8->10.\n",
        "\t\t\tThe current pointer is at 6,\n",
        "\t\t\tand you are checking whether 8 is the\n",
        "\t\t\tvalue that you are looking for.\n",
        "\t\t\tIf it is the value you are looking\n",
        "\t\t\tfor, then do the following: */\n",
        "\n",
        "\t\t\tif (current->next->data == val) {\n",
        "\t\t\t\t//Store current->next which has the value 8 into d\n",
        "\t\t\t\tnode *d = current->next;\n",
        "\n",
        "\t\t\t\t/*Update the neighbour of 6 from 8 to 10,\n",
        "\t\t\t\tso it looks like this, 4->6->10;*/\n",
        "\t\t\t\tcurrent->next = current->next->next;\n",
        "\n",
        "\t\t\t\t//Reclaim the memory of d\n",
        "\t\t\t\tdelete d;\n",
        "\n",
        "\t\t\t}\n",
        "\t\t\t//If you do not find the value, move along\n",
        "\t\t\telse {\n",
        "\t\t\t\tcurrent = current->next;\n",
        "\t\t\t}\n",
        "\t\t}\n",
        "\t}\n",
        "}\n",
        "\n",
        "\n",
        "int main() {\n",
        "\n",
        "\tnode* n = NULL;\n",
        "\taddNode(n, 2);\n",
        "\taddNode(n, 2);\n",
        "\taddNode(n, 8);\n",
        "\taddNode(n, 2);\n",
        "\taddNode(n, 4);\n",
        "\taddNode(n, 8);\n",
        "\taddNode(n, 6);\n",
        "\taddNode(n, 8);\n",
        "\n",
        "\taddNode(n, 10);\n",
        "\tprintLinkedList(n);\n",
        "\n",
        "\t/*So in order to remove an element\n",
        "\tfrom a list, there are two cases\n",
        "\tthat we are going to consider .\n",
        "\ta.Remove an element that is the\n",
        "\tfirst element of a list.\n",
        "\tb.Remove an element which is not\n",
        "\tthe first element of a list.\n",
        "\tNote that the two elements\n",
        "\tthat we are going to remove,one\n",
        "\tis 2 which is the first element of\n",
        "\tthe list and 8 , which is just any\n",
        "\tother generic element in the list*/\n",
        "\n",
        "\tremoveElement(n, 2);\n",
        "\tremoveElement(n, 8);\n",
        "\tprintLinkedList(n);\n",
        "\t/*Look into the second output , it reads\n",
        "\t4 6 10, which means node contaning the\n",
        "\tvalues 2 and 8 are removed from the list*/\n",
        "\n",
        "\treturn 0;\n",
        "\n",
        "}"
      ],
      "execution_count": 13,
      "outputs": [
        {
          "output_type": "stream",
          "text": [
            "Overwriting test.cpp\n"
          ],
          "name": "stdout"
        }
      ]
    },
    {
      "cell_type": "code",
      "metadata": {
        "id": "gyMyoqeJkx_C",
        "colab_type": "code",
        "colab": {
          "base_uri": "https://localhost:8080/",
          "height": 52
        },
        "outputId": "56051964-baf7-4c3f-e472-11ff92673a70"
      },
      "source": [
        "%%script bash\n",
        "g++ test.cpp -o test \n",
        "./test"
      ],
      "execution_count": 14,
      "outputs": [
        {
          "output_type": "stream",
          "text": [
            "The linked list is : 2 2 8 2 4 8 6 8 10 \n",
            "The linked list is : 2 2 4 6 10 \n"
          ],
          "name": "stdout"
        }
      ]
    },
    {
      "cell_type": "markdown",
      "metadata": {
        "id": "wi-T3K_hxP2Q",
        "colab_type": "text"
      },
      "source": [
        "Removing an element and inserting an element into a list are the two most basic operations in a linked list. In the following sections we will try to make modifications of those functions to take care of different corner cases.\n",
        "\n",
        "The first one is removing duplicate elements in a linked list. In the above example when we removed elements we removed one single element from a list, it fails to remove duplicate elements from a list if there is a duplicate number of times in the list. Try adding multiple number of '2's infront of the list and then delete them. Only one '2' will be removed, but try adding any other elements mulitple time e.g '8', all instances of that element will be removed, if that said element is decided for removal. So we have to only fix the issue of removing multiple instances of the same element from the beginning of the list."
      ]
    },
    {
      "cell_type": "code",
      "metadata": {
        "id": "0l_ooEmMwpJW",
        "colab_type": "code",
        "colab": {
          "base_uri": "https://localhost:8080/",
          "height": 35
        },
        "outputId": "c0f8e398-a92e-4775-a220-8c01b3545911"
      },
      "source": [
        "%%writefile test.cpp\n",
        "#include <iostream>\n",
        "using namespace std;\n",
        "\n",
        "struct node {\n",
        "\tint data;\n",
        "\tnode *next;\n",
        "};\n",
        "\n",
        "void printLinkedList(node *p) {\n",
        "\tcout << \"The linked list is : \";\n",
        "\twhile (p != NULL) {\n",
        "\t\tcout << p->data << \" \";\n",
        "\t\tp = p->next;\n",
        "\t}\n",
        "\tcout << endl;\n",
        "}\n",
        "\n",
        "void addNode(node *&a, int val) {\n",
        "\tif (a == NULL) {\n",
        "\t\ta = new node;\n",
        "\t\ta->data = val;\n",
        "\t\ta->next = NULL;\n",
        "\t}\n",
        "\telse {\n",
        "\n",
        "\t\tnode *current = a;\n",
        "\t\twhile (current->next != NULL) {\n",
        "\t\t\tcurrent = current->next;\n",
        "\t\t}\n",
        "\n",
        "\t\tnode* h = new node;\n",
        "\t\th->data = val;\n",
        "\t\th->next = NULL;\n",
        "\n",
        "\t\tcurrent->next = h;\n",
        "\t}\n",
        "}\n",
        "\n",
        "void removeElement(node *&a, int val) {\n",
        "\n",
        "\tif (a == NULL)return;\n",
        "\t/*A simple modification here will allow\n",
        "\tto remove multiple at the front of the list*/\n",
        "\n",
        "\twhile (a->data == val) {\n",
        "\t\tnode *d = a;\n",
        "\t\ta = a->next;\n",
        "\t\tdelete d;\n",
        "\t}\n",
        "\n",
        "\tnode* current = a;\n",
        "\twhile (current->next != NULL) {\n",
        "\n",
        "\t\tif (current->next->data == val) {\n",
        "\t\t\t//Store current->next which has the value 8 into d\n",
        "\t\t\tnode *d = current->next;\n",
        "\n",
        "\t\t\t/*Update the neighbour of 6 from 8 to 10,\n",
        "\t\t\t  so it looks like this, 4->6->10;*/\n",
        "\t\t\tcurrent->next = current->next->next;\n",
        "\n",
        "\t\t\t//Reclaim the memory of d\n",
        "\t\t\tdelete d;\n",
        "\n",
        "\t\t}\n",
        "\t\t//If you do not find the value, move along\n",
        "\t\telse {\n",
        "\t\t\tcurrent = current->next;\n",
        "\t\t}\n",
        "\t}\n",
        "}\n",
        "\n",
        "int main() {\n",
        "\n",
        "\tnode* n = NULL;\n",
        "\taddNode(n, 2);\n",
        "\taddNode(n, 2);\n",
        "\taddNode(n, 8);\n",
        "\taddNode(n, 2);\n",
        "\taddNode(n, 4);\n",
        "\taddNode(n, 8);\n",
        "\taddNode(n, 6);\n",
        "\taddNode(n, 8);\n",
        "\n",
        "\taddNode(n, 10);\n",
        "\tprintLinkedList(n);\n",
        "\n",
        "\t/*So in order to remove an element\n",
        "\tfrom a list, there are two cases\n",
        "\tthat we are going to consider .\n",
        "\ta.Remove an element that is the\n",
        "\tfirst element of a list.\n",
        "\tb.Remove an element which is not\n",
        "\tthe first element of a list.\n",
        "\tNote that the two elements\n",
        "\tthat we are going to remove,one\n",
        "\tis 2 which is the first element of\n",
        "\tthe list and 8 , which is just any\n",
        "\tother generic element in the list*/\n",
        "\n",
        "\tremoveElement(n, 2);\n",
        "\tremoveElement(n, 8);\n",
        "\tprintLinkedList(n);\n",
        "\t/*Look into the second output , it reads\n",
        "\t4 6 10, which means node containing the\n",
        "\tvalues 2 and 8 are removed from the list*/\n",
        "\n",
        "\treturn 0;\n",
        "\n",
        "}"
      ],
      "execution_count": 15,
      "outputs": [
        {
          "output_type": "stream",
          "text": [
            "Overwriting test.cpp\n"
          ],
          "name": "stdout"
        }
      ]
    },
    {
      "cell_type": "code",
      "metadata": {
        "id": "vnz7nleOmr5u",
        "colab_type": "code",
        "colab": {
          "base_uri": "https://localhost:8080/",
          "height": 52
        },
        "outputId": "45cf2874-07f7-49c6-c2df-515ce1196198"
      },
      "source": [
        "%%script bash\n",
        "g++ test.cpp -o test \n",
        "./test"
      ],
      "execution_count": 16,
      "outputs": [
        {
          "output_type": "stream",
          "text": [
            "The linked list is : 2 2 8 2 4 8 6 8 10 \n",
            "The linked list is : 4 6 10 \n"
          ],
          "name": "stdout"
        }
      ]
    },
    {
      "cell_type": "markdown",
      "metadata": {
        "id": "J8PonkGyq1iJ",
        "colab_type": "text"
      },
      "source": [
        "There is something to point here , this is the linked list as it stands out as this moment 2->2->8->2->4->8->6->8->null. When `2` is removed from the list, the first while loop removes the first 2 `2`s, the 2nd while loop removes the 3rd `2` which is the 4th node in the above list. The reason is the 3rd `2` is not in the front of the list, even though its duplicates are in the front of the list. So, the 2nd while loop takes care of that.\n",
        "\n",
        "Finally, there is something that needs to be said about the insert operation in linked list. SO the linked list operation was shown `addNode` function. The job of the `addNode` function was to add nodes at the end of the list. What if someone wants to add node arbitrarily at any point in the list. We also need to accommodate such options."
      ]
    },
    {
      "cell_type": "code",
      "metadata": {
        "id": "_HE79Y8-mw8U",
        "colab_type": "code",
        "colab": {
          "base_uri": "https://localhost:8080/",
          "height": 35
        },
        "outputId": "9e3aaf74-4389-4060-94dd-2b752bb883b8"
      },
      "source": [
        "%%writefile test.cpp\n",
        "#include <iostream>\n",
        "using namespace std;\n",
        "\n",
        "struct node {\n",
        "\tint data;\n",
        "\tnode *next;\n",
        "};\n",
        "\n",
        "void printLinkedList(node *p) {\n",
        "\tcout << \"The linked list is : \";\n",
        "\twhile (p != NULL) {\n",
        "\t\tcout << p->data << \" \";\n",
        "\t\tp = p->next;\n",
        "\t}\n",
        "\tcout << endl;\n",
        "}\n",
        "\n",
        "void addNode(node *&a, int val) {\n",
        "\tif (a == NULL) {\n",
        "\t\ta = new node;\n",
        "\t\ta->data = val;\n",
        "\t\ta->next = NULL;\n",
        "\t}\n",
        "\telse {\n",
        "\n",
        "\t\tnode *current = a;\n",
        "\t\twhile (current->next != NULL) {\n",
        "\t\t\tcurrent = current->next;\n",
        "\t\t}\n",
        "\n",
        "\t\tnode* h = new node;\n",
        "\t\th->data = val;\n",
        "\t\th->next = NULL;\n",
        "\n",
        "\t\tcurrent->next = h;\n",
        "\t}\n",
        "}\n",
        "\n",
        "void removeElement(node *&a, int val) {\n",
        "\n",
        "\tif (a == NULL)return;\n",
        "\n",
        "\t/*A simple modification here will allow\n",
        "\tto remove multiple elements at the front of the list*/\n",
        "\n",
        "\twhile (a->data == val) {\n",
        "\t\tnode *d = a;\n",
        "\t\ta = a->next;\n",
        "\t\tdelete d;\n",
        "\t}\n",
        "\n",
        "\tnode* current = a;\n",
        "\twhile (current->next != NULL) {\n",
        "\n",
        "\t\tif (current->next->data == val) {\n",
        "\t\t\t//Store current->next which has the value 8 into d\n",
        "\t\t\tnode *d = current->next;\n",
        "\n",
        "\t\t\t/*Update the neighbour of 6 from 8 to 10,\n",
        "\t\t\t  so it looks like this, 4->6->10;*/\n",
        "\t\t\tcurrent->next = current->next->next;\n",
        "\n",
        "\t\t\t//Reclaim the memory of d\n",
        "\t\t\tdelete d;\n",
        "\n",
        "\t\t}\n",
        "\t\t//If you do not find the value, move along\n",
        "\t\telse {\n",
        "\t\t\tcurrent = current->next;\n",
        "\t\t}\n",
        "\t}\n",
        "}\n",
        "\n",
        "\n",
        "void insertAt(node *&n, int index, int val) {\n",
        "\t/*If the index is 0 it means the value\n",
        "\tis the first value in the list, everything\n",
        "\telse in the list 'n' will come after it*/\n",
        "\tif (index == 0) {\n",
        "\t\t//Initialize a new node like so:\n",
        "\t\tnode *a = new node;\n",
        "\t\ta->data = val;\n",
        "\t\t//Make the existing linked list as your neighbour\n",
        "\t\ta->next = n;\n",
        "\n",
        "\t\t/*Make the new node 'a' the leader, by\n",
        "\t\tstoring the address of the new node 'a' into 'n'.*/\n",
        "\t\tn = a;\n",
        "\n",
        "\t}\n",
        "\t/*If the index is not 0 then you have to do the following.*/\n",
        "\telse {\n",
        "\t\tnode *current = n;\n",
        "\n",
        "\t\t/*Move the current index to 2 index less than the\n",
        "\t\tindex number you wanted.\n",
        "\n",
        "\t\t2->4->6->8->10->12->14->null\n",
        "\t\t0  1  2  3  4   5   6\n",
        "\n",
        "\t\tIf we want to put the value 365 in index 2, the\n",
        "\t\tlinked list will look like the following:\n",
        "\n",
        "\t\t2->4->365->6->8->10->12->14->null\n",
        "\t\t0  1   2   3  4  5   6    7\n",
        "\n",
        "\t\tIn the for-loop below the value of 'i' goes till i < 2 - 1;\n",
        "\t\twhich is i < 1. Since i starts from 0 , at least one single\n",
        "\t\tloop ensures that current node moves from 0 index to 1 index.\n",
        "\t\tSo the current node points from node with value 2 to the node\n",
        "\t\twith value 4. Similar argument can be made for other indices as well.\n",
        "\t\t*/\n",
        "\t\tfor (int i = 0; i < index - 1; ++i) {\n",
        "\t\t\tcurrent = current->next;\n",
        "\t\t}\n",
        "\n",
        "\t\t/*After reaching the current node reached index 1 in\n",
        "\t\t the above example , a new node is created and the links\n",
        "\t\t  are readjusted*/\n",
        "\n",
        "\t\tnode *h = new node;\n",
        "\t\th->data = val;\n",
        "\n",
        "\t\t/*current is at node with value 4, its next node's value is 6\n",
        "\t\tNode with value 6 will be the next of node with value 365*/\n",
        "\n",
        "\t\th->next = current->next;\n",
        "\n",
        "\t\t/*Finally the current node needs to welcome its new neighbour,\n",
        "\t\tso...*/\n",
        "\t\tcurrent->next = h;\n",
        "\n",
        "\t}\n",
        "}\n",
        "\n",
        "int main() {\n",
        "\n",
        "\tnode* n = NULL;\n",
        "\tinsertAt(n, 0, 2);\n",
        "\tinsertAt(n, 1, 4);\n",
        "\tinsertAt(n, 2, 6);\n",
        "\tinsertAt(n, 3, 8);\n",
        "\tinsertAt(n, 4, 10);\n",
        "\tinsertAt(n, 5, 12);\n",
        "\tinsertAt(n, 2, 365);\n",
        "\tprintLinkedList(n);\n",
        "\n",
        "\treturn 0;\n",
        "\n",
        "}"
      ],
      "execution_count": 17,
      "outputs": [
        {
          "output_type": "stream",
          "text": [
            "Overwriting test.cpp\n"
          ],
          "name": "stdout"
        }
      ]
    },
    {
      "cell_type": "code",
      "metadata": {
        "id": "t58MuAayx3mO",
        "colab_type": "code",
        "colab": {
          "base_uri": "https://localhost:8080/",
          "height": 35
        },
        "outputId": "54a72f9d-28da-42ee-f79d-35a0fa7389d7"
      },
      "source": [
        "%%script bash\n",
        "g++ test.cpp -o test \n",
        "./test"
      ],
      "execution_count": 18,
      "outputs": [
        {
          "output_type": "stream",
          "text": [
            "The linked list is : 2 4 365 6 8 10 12 \n"
          ],
          "name": "stdout"
        }
      ]
    },
    {
      "cell_type": "markdown",
      "metadata": {
        "id": "oVsit4GfQo2U",
        "colab_type": "text"
      },
      "source": [
        "So that is that about linked list. The assignments will help you know further in this topic."
      ]
    }
  ]
}