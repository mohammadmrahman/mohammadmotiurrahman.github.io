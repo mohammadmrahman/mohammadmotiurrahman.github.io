{
  "nbformat": 4,
  "nbformat_minor": 0,
  "metadata": {
    "colab": {
      "name": "CSE203SoftwareRequirement.ipynb",
      "provenance": [],
      "authorship_tag": "ABX9TyMX0fPlFuaPBBMVeA95Tn/z",
      "include_colab_link": true
    },
    "kernelspec": {
      "name": "python3",
      "display_name": "Python 3"
    }
  },
  "cells": [
    {
      "cell_type": "markdown",
      "metadata": {
        "id": "view-in-github",
        "colab_type": "text"
      },
      "source": [
        "<a href=\"https://colab.research.google.com/github/mohammadmotiurrahman/cse203/blob/master/CSE203SoftwareRequirement.ipynb\" target=\"_parent\"><img src=\"https://colab.research.google.com/assets/colab-badge.svg\" alt=\"Open In Colab\"/></a>"
      ]
    },
    {
      "cell_type": "markdown",
      "metadata": {
        "id": "jBkNsGCq2tog",
        "colab_type": "text"
      },
      "source": [
        "Microsoft Visual Studio 2019 is strongly preferred for this course.\n",
        "\n",
        "\n",
        "This detailed [note](https://docs.google.com/document/d/1S5Nc0v4qk72sMvKO03WrSVhvJLR3XP7DYnbxkjkleNI/edit?usp=sharing) shows how to install and use Microsoft Visual Studio in your PC.\n",
        "\n",
        "Thanks.\n"
      ]
    }
  ]
}