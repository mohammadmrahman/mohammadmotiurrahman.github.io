{
  "nbformat": 4,
  "nbformat_minor": 0,
  "metadata": {
    "colab": {
      "name": "CSE203Lecture1.ipynb",
      "provenance": [],
      "include_colab_link": true
    },
    "kernelspec": {
      "name": "python3",
      "display_name": "Python 3"
    }
  },
  "cells": [
    {
      "cell_type": "markdown",
      "metadata": {
        "id": "view-in-github",
        "colab_type": "text"
      },
      "source": [
        "<a href=\"https://colab.research.google.com/github/mohammadmotiurrahman/cse203/blob/master/CSE203Lecture1.ipynb\" target=\"_parent\"><img src=\"https://colab.research.google.com/assets/colab-badge.svg\" alt=\"Open In Colab\"/></a>"
      ]
    },
    {
      "cell_type": "markdown",
      "metadata": {
        "id": "YGoUSIB4ESm_",
        "colab_type": "text"
      },
      "source": [
        "## Review of CSC 101 course taught at IUB .\n",
        "\n",
        "In order to run the code , click on the black and orange icon \"Open in Colab\" above. This will take you to Google Colaboratory. After that try the following key combination, Shift + Enter to run each cell.\n",
        "\n"
      ]
    },
    {
      "cell_type": "markdown",
      "metadata": {
        "id": "a8Ek3ghdYGxf",
        "colab_type": "text"
      },
      "source": [
        "## Basic Idea"
      ]
    },
    {
      "cell_type": "markdown",
      "metadata": {
        "id": "EJQl_gJNK6ig",
        "colab_type": "text"
      },
      "source": [
        "So let us begin with the Hello World of CSC 101."
      ]
    },
    {
      "cell_type": "code",
      "metadata": {
        "id": "k8tTFQsXDkiC",
        "colab_type": "code",
        "colab": {
          "base_uri": "https://localhost:8080/",
          "height": 35
        },
        "outputId": "89a6afe4-be74-4661-f1d6-7a61eb2c6aa8"
      },
      "source": [
        "%%writefile test.cpp\n",
        "\n",
        "//This is where you will write your C++ code\n",
        "#include <iostream>\n",
        "using namespace std;\n",
        "\n",
        "int main() {\n",
        "\tint x = 6;\n",
        "\tcout << \"Hello World\" << endl;\n",
        "\treturn 0;\n",
        "}"
      ],
      "execution_count": null,
      "outputs": [
        {
          "output_type": "stream",
          "text": [
            "Writing test.cpp\n"
          ],
          "name": "stdout"
        }
      ]
    },
    {
      "cell_type": "code",
      "metadata": {
        "id": "6w2AoSydD_-e",
        "colab_type": "code",
        "colab": {
          "base_uri": "https://localhost:8080/",
          "height": 35
        },
        "outputId": "20c3cf1b-6867-4360-8ab7-1bb708e6ba4a"
      },
      "source": [
        "%%script bash\n",
        "g++ test.cpp -o test \n",
        "./test"
      ],
      "execution_count": null,
      "outputs": [
        {
          "output_type": "stream",
          "text": [
            "Hello World\n"
          ],
          "name": "stdout"
        }
      ]
    },
    {
      "cell_type": "markdown",
      "metadata": {
        "id": "3lesbP2vFnEQ",
        "colab_type": "text"
      },
      "source": [
        "Let us move to something more interesting. Add two numbers."
      ]
    },
    {
      "cell_type": "code",
      "metadata": {
        "id": "UKYPa2dEFeJu",
        "colab_type": "code",
        "colab": {
          "base_uri": "https://localhost:8080/",
          "height": 35
        },
        "outputId": "2a7b7ba9-a9ec-4f91-e38f-c3d832d47bb6"
      },
      "source": [
        "%%writefile test.cpp\n",
        "\n",
        "//This is where you will write your C++ code\n",
        "#include <iostream>\n",
        "using namespace std;\n",
        "\n",
        "int main() {\n",
        "\tint x = 6; int y = 5;\n",
        "\tint z = x + y;\n",
        "\tcout << \"The summation is \" << z << endl;\n",
        "\treturn 0;\n",
        "}"
      ],
      "execution_count": null,
      "outputs": [
        {
          "output_type": "stream",
          "text": [
            "Overwriting test.cpp\n"
          ],
          "name": "stdout"
        }
      ]
    },
    {
      "cell_type": "code",
      "metadata": {
        "id": "yqhr6q7SHAiP",
        "colab_type": "code",
        "colab": {
          "base_uri": "https://localhost:8080/",
          "height": 35
        },
        "outputId": "cace5228-bc75-465b-c3b6-1f361b83a732"
      },
      "source": [
        "%%script bash\n",
        "g++ test.cpp -o test \n",
        "./test"
      ],
      "execution_count": null,
      "outputs": [
        {
          "output_type": "stream",
          "text": [
            "The summation is 11\n"
          ],
          "name": "stdout"
        }
      ]
    },
    {
      "cell_type": "markdown",
      "metadata": {
        "id": "ru736VuEHItD",
        "colab_type": "text"
      },
      "source": [
        "Try to write a for-loop"
      ]
    },
    {
      "cell_type": "code",
      "metadata": {
        "id": "sT3_IO6PHSA_",
        "colab_type": "code",
        "colab": {
          "base_uri": "https://localhost:8080/",
          "height": 35
        },
        "outputId": "85faa027-042e-4238-c733-0a29a86b7403"
      },
      "source": [
        "%%writefile test.cpp\n",
        "\n",
        "//This is where you will write your C++ code\n",
        "#include <iostream>\n",
        "using namespace std;\n",
        "\n",
        "int main() {\n",
        "\tfor (int i = 0; i < 10; ++i) {\n",
        "\t\tcout << 2 * i << \" \";\n",
        "\t}\n",
        "\treturn 0;\n",
        "}"
      ],
      "execution_count": null,
      "outputs": [
        {
          "output_type": "stream",
          "text": [
            "Overwriting test.cpp\n"
          ],
          "name": "stdout"
        }
      ]
    },
    {
      "cell_type": "code",
      "metadata": {
        "id": "QPmWKpKQHiNw",
        "colab_type": "code",
        "colab": {
          "base_uri": "https://localhost:8080/",
          "height": 35
        },
        "outputId": "d9a7b7c4-6cd4-4bea-95c5-2a38dd195829"
      },
      "source": [
        "%%script bash\n",
        "g++ test.cpp -o test \n",
        "./test"
      ],
      "execution_count": null,
      "outputs": [
        {
          "output_type": "stream",
          "text": [
            "0 2 4 6 8 10 12 14 16 18 "
          ],
          "name": "stdout"
        }
      ]
    },
    {
      "cell_type": "markdown",
      "metadata": {
        "id": "eBoUasp2INDJ",
        "colab_type": "text"
      },
      "source": [
        "Write a while loop"
      ]
    },
    {
      "cell_type": "code",
      "metadata": {
        "id": "0gjdCUfGIP5J",
        "colab_type": "code",
        "colab": {
          "base_uri": "https://localhost:8080/",
          "height": 35
        },
        "outputId": "75e65585-f664-4d60-d823-77ebe4ab5fc1"
      },
      "source": [
        "%%writefile test.cpp\n",
        "\n",
        "//This is where you will write your C++ code\n",
        "#include <iostream>\n",
        "using namespace std;\n",
        "\n",
        "int main() {\n",
        "\tint i = 0;\n",
        "\twhile (i < 10) {\n",
        "\t\tcout << 2 * i << \" \";\n",
        "\t\ti = i + 1;\n",
        "\t}\n",
        "\treturn 0;\n",
        "}"
      ],
      "execution_count": null,
      "outputs": [
        {
          "output_type": "stream",
          "text": [
            "Overwriting test.cpp\n"
          ],
          "name": "stdout"
        }
      ]
    },
    {
      "cell_type": "code",
      "metadata": {
        "id": "B45fXIkMIdgu",
        "colab_type": "code",
        "colab": {
          "base_uri": "https://localhost:8080/",
          "height": 35
        },
        "outputId": "8d072157-6522-415b-d882-e4f555180106"
      },
      "source": [
        "%%script bash\n",
        "g++ test.cpp -o test \n",
        "./test"
      ],
      "execution_count": null,
      "outputs": [
        {
          "output_type": "stream",
          "text": [
            "0 2 4 6 8 10 12 14 16 18 "
          ],
          "name": "stdout"
        }
      ]
    },
    {
      "cell_type": "markdown",
      "metadata": {
        "id": "vniJJkELI4Z8",
        "colab_type": "text"
      },
      "source": [
        "Find whether a number is prime or not"
      ]
    },
    {
      "cell_type": "code",
      "metadata": {
        "id": "JGiZr3b7I-YG",
        "colab_type": "code",
        "colab": {
          "base_uri": "https://localhost:8080/",
          "height": 35
        },
        "outputId": "4dc5a597-fc0a-4c32-f65e-cfc4f90190e4"
      },
      "source": [
        "%%writefile test.cpp\n",
        "\n",
        "//This is where you will write your C++ code\n",
        "#include <iostream>\n",
        "using namespace std;\n",
        "\n",
        "int main() {\n",
        "\tbool isPrime = true;\n",
        "\tint num = 7;\n",
        "\tfor (int i = 2; i < num ; ++i) {\n",
        "\t\tif (num % i == 0) {\n",
        "\t\t\tisPrime = false;\n",
        "\t\t}\n",
        "\t}\n",
        "\tif (isPrime == false) {\n",
        "\t\tcout << num << \" is not Prime\" << endl;\n",
        "\t}\n",
        "\telse {\n",
        "\t\tcout << num << \" is Prime\" << endl;\n",
        "\t}\n",
        "\n",
        "\treturn 0;\n",
        "}"
      ],
      "execution_count": null,
      "outputs": [
        {
          "output_type": "stream",
          "text": [
            "Overwriting test.cpp\n"
          ],
          "name": "stdout"
        }
      ]
    },
    {
      "cell_type": "code",
      "metadata": {
        "id": "m8UuismrJclT",
        "colab_type": "code",
        "colab": {
          "base_uri": "https://localhost:8080/",
          "height": 35
        },
        "outputId": "f8e88797-b97f-4d09-fbc0-1e01e3e599cb"
      },
      "source": [
        "%%script bash\n",
        "g++ test.cpp -o test \n",
        "./test"
      ],
      "execution_count": null,
      "outputs": [
        {
          "output_type": "stream",
          "text": [
            "7 is Prime\n"
          ],
          "name": "stdout"
        }
      ]
    },
    {
      "cell_type": "markdown",
      "metadata": {
        "id": "RC74eIxXYCGU",
        "colab_type": "text"
      },
      "source": [
        "## Functions"
      ]
    },
    {
      "cell_type": "markdown",
      "metadata": {
        "id": "SRI0Pd-hYg2w",
        "colab_type": "text"
      },
      "source": [
        "Functions are components of a program that helps to modularize a program.\n",
        "Here is a function to print a list of odd numbers."
      ]
    },
    {
      "cell_type": "code",
      "metadata": {
        "id": "5OQigsLKZJHV",
        "colab_type": "code",
        "colab": {
          "base_uri": "https://localhost:8080/",
          "height": 35
        },
        "outputId": "662f2acd-13f0-494b-cda8-81d89ceb77bb"
      },
      "source": [
        "%%writefile test.cpp\n",
        "\n",
        "//This is where you will write your C++ code\n",
        "#include <iostream>\n",
        "using namespace std;\n",
        "\n",
        "void printOddNumbers(int x) {\n",
        "\tfor (int i = 0; i < x; ++i) {\n",
        "\t\tif ( i % 2 ) {\n",
        "\t\t\tcout << i << \" \";\n",
        "\t\t}\n",
        "\t}\n",
        "}\n",
        "int main() {\n",
        "\tprintOddNumbers(10);\n",
        "\treturn 0;\n",
        "}"
      ],
      "execution_count": null,
      "outputs": [
        {
          "output_type": "stream",
          "text": [
            "Overwriting test.cpp\n"
          ],
          "name": "stdout"
        }
      ]
    },
    {
      "cell_type": "code",
      "metadata": {
        "id": "tP1_RRLkaRIE",
        "colab_type": "code",
        "colab": {
          "base_uri": "https://localhost:8080/",
          "height": 35
        },
        "outputId": "985177e8-6801-46cc-95a2-5721047e9135"
      },
      "source": [
        "%%script bash\n",
        "g++ test.cpp -o test \n",
        "./test"
      ],
      "execution_count": null,
      "outputs": [
        {
          "output_type": "stream",
          "text": [
            "1 3 5 7 9 "
          ],
          "name": "stdout"
        }
      ]
    },
    {
      "cell_type": "markdown",
      "metadata": {
        "id": "2U5FHaBwatV3",
        "colab_type": "text"
      },
      "source": [
        "Here is an function to print a list of prime numbers from 0 to 100."
      ]
    },
    {
      "cell_type": "code",
      "metadata": {
        "id": "5_Ry4zH6ay08",
        "colab_type": "code",
        "colab": {
          "base_uri": "https://localhost:8080/",
          "height": 35
        },
        "outputId": "fb9e8ef3-fab4-4c30-f768-e362a89019a4"
      },
      "source": [
        "%%writefile test.cpp\n",
        "\n",
        "//This is where you will write your C++ code\n",
        "#include <iostream>\n",
        "using namespace std;\n",
        "\n",
        "bool isPrimeNumber(int x) {\n",
        "\tbool isPrime = true;\n",
        "\tfor (int i = 2; i < x ; ++i) {\n",
        "\t\tif ( x % i == 0) {\n",
        "\t\t\tisPrime = false;\n",
        "\t\t}\n",
        "\t}\n",
        "\treturn isPrime;\n",
        "}\n",
        "void printPrimeNumber(int x) {\n",
        "\tfor ( int i = 2 ; i < x ; ++i) {\n",
        "\t\t// If a number i is a prime number\n",
        "\t\tif (isPrimeNumber(i) == true) {\n",
        "\t\t\tcout << i << \" \";\n",
        "\t\t}\n",
        "\t}\n",
        "}\n",
        "int main() {\n",
        "\tprintPrimeNumber(100);\n",
        "\treturn 0;\n",
        "}"
      ],
      "execution_count": null,
      "outputs": [
        {
          "output_type": "stream",
          "text": [
            "Overwriting test.cpp\n"
          ],
          "name": "stdout"
        }
      ]
    },
    {
      "cell_type": "code",
      "metadata": {
        "id": "5ytsO2oHaTn-",
        "colab_type": "code",
        "colab": {
          "base_uri": "https://localhost:8080/",
          "height": 35
        },
        "outputId": "128de7b2-0b24-4b40-85a1-fa081138765a"
      },
      "source": [
        "%%script bash\n",
        "g++ test.cpp -o test \n",
        "./test"
      ],
      "execution_count": null,
      "outputs": [
        {
          "output_type": "stream",
          "text": [
            "2 3 5 7 11 13 17 19 23 29 31 37 41 43 47 53 59 61 67 71 73 79 83 89 97 "
          ],
          "name": "stdout"
        }
      ]
    },
    {
      "cell_type": "markdown",
      "metadata": {
        "id": "umZs5HrBflur",
        "colab_type": "text"
      },
      "source": [
        "Here is an another function to find LCM and HCF of given numbers"
      ]
    },
    {
      "cell_type": "code",
      "metadata": {
        "id": "Rq1F1XJgf87Z",
        "colab_type": "code",
        "colab": {
          "base_uri": "https://localhost:8080/",
          "height": 35
        },
        "outputId": "acb80c44-7499-4ea2-9f53-cea147ae326f"
      },
      "source": [
        "%%writefile test.cpp\n",
        "\n",
        "//This is where you will write your C++ code\n",
        "#include <iostream>\n",
        "using namespace std;\n",
        "\n",
        "int lcm(int a, int b) {\n",
        "\tint x = 2;\n",
        "\twhile (!((x % a  == 0) && (x % b == 0))) {\n",
        "\t\tx = x + 1;\n",
        "\t}\n",
        "\treturn x;\n",
        "}\n",
        "int hcf(int a, int b) {\n",
        "\treturn (a * b) / lcm(a, b);\n",
        "}\n",
        "int main() {\n",
        "\tint a = 12; int b = 30;\n",
        "\tcout << \"LCM of \" << a << \" \" << b << \" is \"  << lcm(a, b) << endl;\n",
        "\tcout << \"HCF of \" << a << \" \" << b << \" is \" << hcf(a, b) << endl;\n",
        "\n",
        "\treturn 0;\n",
        "}"
      ],
      "execution_count": null,
      "outputs": [
        {
          "output_type": "stream",
          "text": [
            "Overwriting test.cpp\n"
          ],
          "name": "stdout"
        }
      ]
    },
    {
      "cell_type": "code",
      "metadata": {
        "id": "uETSzaZTg5cU",
        "colab_type": "code",
        "colab": {
          "base_uri": "https://localhost:8080/",
          "height": 52
        },
        "outputId": "c5a7e4fb-c3fc-4a28-8a02-438577d867b4"
      },
      "source": [
        "%%script bash\n",
        "g++ test.cpp -o test \n",
        "./test"
      ],
      "execution_count": null,
      "outputs": [
        {
          "output_type": "stream",
          "text": [
            "LCM of 12 30 is 60\n",
            "HCF of 12 30 is 6\n"
          ],
          "name": "stdout"
        }
      ]
    },
    {
      "cell_type": "markdown",
      "metadata": {
        "id": "AUF2bOKFor-a",
        "colab_type": "text"
      },
      "source": [
        "## Array"
      ]
    },
    {
      "cell_type": "markdown",
      "metadata": {
        "id": "T9PVHUAypaWu",
        "colab_type": "text"
      },
      "source": [
        "Array is a collection of similar types of data"
      ]
    },
    {
      "cell_type": "code",
      "metadata": {
        "id": "s9MDkrcxpesz",
        "colab_type": "code",
        "colab": {
          "base_uri": "https://localhost:8080/",
          "height": 35
        },
        "outputId": "83e3d6aa-b410-438f-e28a-d8a30109acb0"
      },
      "source": [
        "%%writefile test.cpp\n",
        "\n",
        "//This is where you will write your C++ code\n",
        "#include <iostream>\n",
        "using namespace std;\n",
        "int main() {\n",
        "\tint arr[10];\n",
        "\tfor (int i = 0; i < 10; ++i) {\n",
        "\t\tarr[i] = i;\n",
        "\t}\n",
        "\tfor (int i = 0; i < 10; ++i) {\n",
        "\t\tcout << arr[i] << \" \";\n",
        "\t}\n",
        "\treturn 0;\n",
        "}"
      ],
      "execution_count": null,
      "outputs": [
        {
          "output_type": "stream",
          "text": [
            "Overwriting test.cpp\n"
          ],
          "name": "stdout"
        }
      ]
    },
    {
      "cell_type": "code",
      "metadata": {
        "id": "LKm0lDRJq6Zd",
        "colab_type": "code",
        "colab": {
          "base_uri": "https://localhost:8080/",
          "height": 35
        },
        "outputId": "6e5d4a7e-93cf-4c82-d5b8-91a62217e739"
      },
      "source": [
        "%%script bash\n",
        "g++ test.cpp -o test \n",
        "./test"
      ],
      "execution_count": null,
      "outputs": [
        {
          "output_type": "stream",
          "text": [
            "0 1 2 3 4 5 6 7 8 9 "
          ],
          "name": "stdout"
        }
      ]
    },
    {
      "cell_type": "markdown",
      "metadata": {
        "id": "oxIY_TCuvSKp",
        "colab_type": "text"
      },
      "source": [
        "Something about ```const```\n",
        "\n"
      ]
    },
    {
      "cell_type": "code",
      "metadata": {
        "id": "6kZSfpfRvcH8",
        "colab_type": "code",
        "colab": {
          "base_uri": "https://localhost:8080/",
          "height": 35
        },
        "outputId": "221c23e6-fd15-4bff-c763-d452d34df8a5"
      },
      "source": [
        "%%writefile test.cpp\n",
        "#include <iostream>\n",
        "using namespace std;\n",
        "int main() {\n",
        "\t//It is possible to change value of the variable a\n",
        "\tint a = 30;\n",
        "\ta = 10;\n",
        "\n",
        "\t//It is not possible to change value of the variable a\n",
        "\t//if  the variable is change to const\n",
        "\tconst int a = 10;\n",
        "\ta = 13;\n",
        "\n",
        "\treturn 0;\n",
        "}"
      ],
      "execution_count": null,
      "outputs": [
        {
          "output_type": "stream",
          "text": [
            "Overwriting test.cpp\n"
          ],
          "name": "stdout"
        }
      ]
    },
    {
      "cell_type": "code",
      "metadata": {
        "id": "PsJjMV0ivk_N",
        "colab_type": "code",
        "colab": {
          "base_uri": "https://localhost:8080/",
          "height": 139
        },
        "outputId": "71239502-e74b-4c8e-9c34-af1e72b26a36"
      },
      "source": [
        "%%script bash\n",
        "g++ test.cpp -o test \n",
        "./test"
      ],
      "execution_count": null,
      "outputs": [
        {
          "output_type": "stream",
          "text": [
            "0 1 2 3 4 5 6 7 8 9 "
          ],
          "name": "stdout"
        },
        {
          "output_type": "stream",
          "text": [
            "test.cpp: In function ‘int main()’:\n",
            "test.cpp:10:12: error: conflicting declaration ‘const int a’\n",
            "  const int a = 10;\n",
            "            ^\n",
            "test.cpp:5:6: note: previous declaration as ‘int a’\n",
            "  int a = 30;\n",
            "      ^\n"
          ],
          "name": "stderr"
        }
      ]
    },
    {
      "cell_type": "markdown",
      "metadata": {
        "id": "-ukY5230xskY",
        "colab_type": "text"
      },
      "source": [
        "While declaring an array in Visual Studio, the following norm is followed."
      ]
    },
    {
      "cell_type": "code",
      "metadata": {
        "id": "FavsoxACy2Fu",
        "colab_type": "code",
        "colab": {
          "base_uri": "https://localhost:8080/",
          "height": 35
        },
        "outputId": "a4f2ad0e-c784-4be5-9d0a-cf1e18f8f705"
      },
      "source": [
        "%%writefile test.cpp\n",
        "#include <iostream>\n",
        "using namespace std;\n",
        "int main() {\n",
        "\n",
        "\tconst int a = 5;\n",
        "\tint arr[a];\n",
        "\n",
        "\tfor (int i = 0; i < a; ++i) {\n",
        "\t\tarr[i] = i;\n",
        "\t}\n",
        "\n",
        "\tfor (int i = 0; i < a; ++i ) {\n",
        "\t\tcout << arr[i] << \" \";\n",
        "\t}\n",
        "\n",
        "\treturn 0;\n",
        "}"
      ],
      "execution_count": null,
      "outputs": [
        {
          "output_type": "stream",
          "text": [
            "Overwriting test.cpp\n"
          ],
          "name": "stdout"
        }
      ]
    },
    {
      "cell_type": "code",
      "metadata": {
        "id": "HaZ32sMQzR5k",
        "colab_type": "code",
        "colab": {
          "base_uri": "https://localhost:8080/",
          "height": 35
        },
        "outputId": "6fe1eb63-6aef-4e8a-9220-a8dcb768a31e"
      },
      "source": [
        "%%script bash\n",
        "g++ test.cpp -o test \n",
        "./test"
      ],
      "execution_count": null,
      "outputs": [
        {
          "output_type": "stream",
          "text": [
            "0 1 2 3 4 "
          ],
          "name": "stdout"
        }
      ]
    },
    {
      "cell_type": "markdown",
      "metadata": {
        "id": "QEUKFtl3ziXq",
        "colab_type": "text"
      },
      "source": [
        "However, in compiler such as gcc, in which all of these codes are run such norms are not followed"
      ]
    },
    {
      "cell_type": "code",
      "metadata": {
        "id": "DPOspxY8zyCN",
        "colab_type": "code",
        "colab": {
          "base_uri": "https://localhost:8080/",
          "height": 35
        },
        "outputId": "bb4d8d94-6652-446d-8512-590bfd0e7bf1"
      },
      "source": [
        "%%writefile test.cpp\n",
        "#include <iostream>\n",
        "using namespace std;\n",
        "int main() {\n",
        "\n",
        "\t//Initially the size of the array has been set to 5\n",
        "\tint a = 5;\n",
        "\tint arr[a];\n",
        "\t//However, it is possible to change value of the variable a\n",
        "\t//in the middle of the code, which should lead to some\n",
        "\t//unsavory problems. The first one is why should there be\n",
        "\t//unnecessary spaces , if the value of a is less than the\n",
        "\t//original. But more worrisome is when the value of a is\n",
        "\t//more than the orignally allocated space. For example what\n",
        "\t//if the value of a is 10 instead of 3.\n",
        "\ta = 3;\n",
        "\tfor (int i = 0; i < a; ++i) {\n",
        "\t\tarr[i] = i;\n",
        "\t}\n",
        "\n",
        "\tfor (int i = 0; i < a; ++i ) {\n",
        "\t\tcout << arr[i] << \" \";\n",
        "\t}\n",
        "\tcout << endl;\n",
        "\ta = 10;\n",
        "\tfor (int i = 0; i < a; ++i) {\n",
        "\t\tarr[i] = i;\n",
        "\t}\n",
        "\n",
        "\tfor (int i = 0; i < a; ++i ) {\n",
        "\t\tcout << arr[i] << \" \";\n",
        "\t}\n",
        "\n",
        "\treturn 0;\n",
        "}"
      ],
      "execution_count": null,
      "outputs": [
        {
          "output_type": "stream",
          "text": [
            "Overwriting test.cpp\n"
          ],
          "name": "stdout"
        }
      ]
    },
    {
      "cell_type": "code",
      "metadata": {
        "id": "KYZgBjdczzfd",
        "colab_type": "code",
        "colab": {
          "base_uri": "https://localhost:8080/",
          "height": 52
        },
        "outputId": "af115079-8d40-4602-f820-9cfd499bbc1a"
      },
      "source": [
        "%%script bash\n",
        "g++ test.cpp -o test \n",
        "./test"
      ],
      "execution_count": null,
      "outputs": [
        {
          "output_type": "stream",
          "text": [
            "0 1 2 \n",
            "0 1 2 3 4 5 6 7 8 9 "
          ],
          "name": "stdout"
        }
      ]
    },
    {
      "cell_type": "markdown",
      "metadata": {
        "id": "UJeOyM8o1nVB",
        "colab_type": "text"
      },
      "source": [
        "Observe the 2nd line of the output, it should not happen. The initial array was designed to hold only 5 integer values. So when the value of the variable a was changed to 10, how can the array accomodate the extra 5 integer. At those moments the compiler steps into memory of other data structures which it shouldn't have the permission to access. Therefore it can easily be said that the compiler for Visual Studio is the best way to go. It ensures that the array data structure only access values that it was originally assigned to . "
      ]
    },
    {
      "cell_type": "markdown",
      "metadata": {
        "id": "UDT32EV__LG6",
        "colab_type": "text"
      },
      "source": [
        "Somethings that want to use array for:\n",
        "1.   Average of numbers in an array"
      ]
    },
    {
      "cell_type": "code",
      "metadata": {
        "id": "fMSmITql_3BD",
        "colab_type": "code",
        "colab": {
          "base_uri": "https://localhost:8080/",
          "height": 35
        },
        "outputId": "8fd93b30-b3f3-4f90-b13e-3eb15b2c29b7"
      },
      "source": [
        "%%writefile test.cpp\n",
        "//Finding average of numbers in an array\n",
        "#include <iostream>\n",
        "using namespace std;\n",
        "int main() {\n",
        "\n",
        "\t//The size of the array has been set to 5\n",
        "\tconst int a = 5;\n",
        "\tint arr[a] = {1, 2, 4, 5, 3};\n",
        "\tfloat avg = 0;\n",
        "\tfor (int i = 0; i < a; ++i ) {\n",
        "\t\tavg += arr[i];\n",
        "\t}\n",
        "\tcout << \"The average of the values: \" << avg / a << endl;\n",
        "\treturn 0;\n",
        "}"
      ],
      "execution_count": null,
      "outputs": [
        {
          "output_type": "stream",
          "text": [
            "Overwriting test.cpp\n"
          ],
          "name": "stdout"
        }
      ]
    },
    {
      "cell_type": "code",
      "metadata": {
        "id": "Xi5aOGhyPs6E",
        "colab_type": "code",
        "colab": {
          "base_uri": "https://localhost:8080/",
          "height": 35
        },
        "outputId": "423ac85a-d305-43fe-9d8f-68f151ed4d09"
      },
      "source": [
        "%%script bash\n",
        "g++ test.cpp -o test \n",
        "./test"
      ],
      "execution_count": null,
      "outputs": [
        {
          "output_type": "stream",
          "text": [
            "The average of the values: 3\n"
          ],
          "name": "stdout"
        }
      ]
    },
    {
      "cell_type": "markdown",
      "metadata": {
        "id": "5uvZWmurQhPn",
        "colab_type": "text"
      },
      "source": [
        "2.    Adding the value of two array's into a third array."
      ]
    },
    {
      "cell_type": "code",
      "metadata": {
        "id": "UWL9ir5DSTbS",
        "colab_type": "code",
        "colab": {
          "base_uri": "https://localhost:8080/",
          "height": 35
        },
        "outputId": "8c8748df-309e-4d19-f3f9-e4b133afd6b0"
      },
      "source": [
        "%%writefile test.cpp\n",
        "//Adding the values of two array's and\n",
        "//storing it in a third array\n",
        "#include <iostream>\n",
        "using namespace std;\n",
        "int main() {\n",
        "\n",
        "\t//The size of the array has been set to 5\n",
        "\tconst int a = 5;\n",
        "\tint firstArray[a] = {1, 2, 4, 5, 3};\n",
        "\n",
        "\tconst int b = 5;\n",
        "\tint secondArray[b] = {4, 5, 5, 6, 7};\n",
        "\n",
        "\tconst int c = 5;\n",
        "\tint thirdArray[c] = {0, 0, 0, 0, 0};\n",
        "\n",
        "\tfor (int i = 0; i < a; ++i) {\n",
        "\t\tthirdArray[i] = firstArray[i] + secondArray[i];\n",
        "\t}\n",
        "\n",
        "\tfor (int i = 0; i < a; ++i) {\n",
        "\t\tcout << thirdArray[i] << \" \";\n",
        "\t}\n",
        "\treturn 0;\n",
        "}"
      ],
      "execution_count": null,
      "outputs": [
        {
          "output_type": "stream",
          "text": [
            "Overwriting test.cpp\n"
          ],
          "name": "stdout"
        }
      ]
    },
    {
      "cell_type": "code",
      "metadata": {
        "id": "yVhLK8exWrkn",
        "colab_type": "code",
        "colab": {
          "base_uri": "https://localhost:8080/",
          "height": 35
        },
        "outputId": "ba0043ec-2eec-4305-b43e-84b43baf9b88"
      },
      "source": [
        "%%script bash\n",
        "g++ test.cpp -o test \n",
        "./test"
      ],
      "execution_count": null,
      "outputs": [
        {
          "output_type": "stream",
          "text": [
            "5 7 9 11 10 "
          ],
          "name": "stdout"
        }
      ]
    },
    {
      "cell_type": "markdown",
      "metadata": {
        "id": "_7h5MjpYW5_m",
        "colab_type": "text"
      },
      "source": [
        "3.  Finding the freqeuncy of an element in an array"
      ]
    },
    {
      "cell_type": "code",
      "metadata": {
        "id": "8fPA13yXZvWZ",
        "colab_type": "code",
        "colab": {
          "base_uri": "https://localhost:8080/",
          "height": 35
        },
        "outputId": "6a8835f6-4171-4373-cf1f-5144e75771e4"
      },
      "source": [
        "%%writefile test.cpp\n",
        "//Finding the freqeuncy of a number\n",
        "//in an array\n",
        "#include <iostream>\n",
        "using namespace std;\n",
        "int main() {\n",
        "\n",
        "\t//The size of the array has been set to 5\n",
        "\tconst int a = 5; int counter = 0;\n",
        "\tint firstArray[a] = {1, 3, 3, 5, 3};\n",
        "\tfor (int i = 0; i < a; ++i) {\n",
        "\t\t//Count the number of 3 in an array\n",
        "\t\tif (firstArray[i] == 3) {\n",
        "\t\t\tcounter = counter + 1;\n",
        "\t\t}\n",
        "\t}\n",
        "\tcout << \"The number of 3 in the array is: \" << counter << endl;\n",
        "\treturn 0;\n",
        "}"
      ],
      "execution_count": null,
      "outputs": [
        {
          "output_type": "stream",
          "text": [
            "Overwriting test.cpp\n"
          ],
          "name": "stdout"
        }
      ]
    },
    {
      "cell_type": "code",
      "metadata": {
        "id": "8PaxlEgVba5m",
        "colab_type": "code",
        "colab": {
          "base_uri": "https://localhost:8080/",
          "height": 35
        },
        "outputId": "269847e0-8cd9-452e-918f-70b39a63b619"
      },
      "source": [
        "%%script bash\n",
        "g++ test.cpp -o test \n",
        "./test"
      ],
      "execution_count": null,
      "outputs": [
        {
          "output_type": "stream",
          "text": [
            "The number of 3 in the array is: 3\n"
          ],
          "name": "stdout"
        }
      ]
    },
    {
      "cell_type": "markdown",
      "metadata": {
        "id": "Cpj8bRvOboMM",
        "colab_type": "text"
      },
      "source": [
        "## Two dimensional array\n",
        "So two dimensional array is another way to represent a lot of one dimensional arrays together. For example, if a student 4 subjects in the first semester, the final marks it can be represented in an array which contains 4 integers. If he takes another 4 subjects in the second semester his final marks can be represented in another array. What if we want to represent all the marks in the first semester and the second semester in an array. We should use two dimensional array.\n",
        "Two dimensional array is represented as : `int arr[row][col]`. The `row` is the number of semesters that the student has attended which is `2`. The `col` is the number of subjects that the student took in the semester which is `4`. \n",
        "While writing the code in Visual Studio, it is written like this:\n",
        "```\n",
        "const int row = 2;\n",
        "const int col = 4;\n",
        "int arr[row][col];\n",
        "```"
      ]
    },
    {
      "cell_type": "code",
      "metadata": {
        "id": "hGQBfsN1buys",
        "colab_type": "code",
        "colab": {
          "base_uri": "https://localhost:8080/",
          "height": 35
        },
        "outputId": "3f21f6ec-dd6e-4cbb-be5e-c58f4968c167"
      },
      "source": [
        "%%writefile test.cpp\n",
        "//Two dimensional array\n",
        "#include <iostream>\n",
        "using namespace std;\n",
        "int main() {\n",
        "\tconst int row = 2; const int col = 4;\n",
        "\tint marks[row][col] = {\n",
        "\t\t//Marks for 1st semester\n",
        "\t\t{95, 80, 91, 100},\n",
        "\t\t//Marks for 2nd semester\n",
        "\t\t{100, 93, 90, 80}\n",
        "\t};\n",
        "\tfor (int i = 0; i < row; ++i) {\n",
        "\t\tcout << \"Semester number: \" << i + 1 << endl;\n",
        "\t\tcout << \"Final marks: \";\n",
        "\t\tfor (int j = 0; j < col; ++j) {\n",
        "\t\t\tcout << marks[i][j] << \" \";\n",
        "\t\t}\n",
        "\t\tcout << endl;\n",
        "\t}\n",
        "\n",
        "\treturn 0;\n",
        "}"
      ],
      "execution_count": null,
      "outputs": [
        {
          "output_type": "stream",
          "text": [
            "Overwriting test.cpp\n"
          ],
          "name": "stdout"
        }
      ]
    },
    {
      "cell_type": "code",
      "metadata": {
        "id": "AmJFGWbjxk_D",
        "colab_type": "code",
        "colab": {
          "base_uri": "https://localhost:8080/",
          "height": 87
        },
        "outputId": "6c9b5094-0182-4020-b135-263f73e8ab60"
      },
      "source": [
        "%%script bash\n",
        "g++ test.cpp -o test \n",
        "./test"
      ],
      "execution_count": null,
      "outputs": [
        {
          "output_type": "stream",
          "text": [
            "Semester number: 1\n",
            "Final marks: 95 80 91 100 \n",
            "Semester number: 2\n",
            "Final marks: 100 93 90 80 \n"
          ],
          "name": "stdout"
        }
      ]
    },
    {
      "cell_type": "markdown",
      "metadata": {
        "id": "jkKZoVSFhJsj",
        "colab_type": "text"
      },
      "source": [
        "### Matrix addition using two dimensional array \n",
        "So, a matrix can be a vector of dimension n x 1 or it can be a structure of dimension m x n. If it a vector of dimension n x 1 , it can be considered as an one dimensional array. Addition and subtraction of a vector will follow the same rules as addition and subtraction of a one dimensional array.\n",
        "Here I will show how addition and subtraction is done using two dimensional array. "
      ]
    },
    {
      "cell_type": "code",
      "metadata": {
        "id": "GESwK5c9xopm",
        "colab_type": "code",
        "colab": {
          "base_uri": "https://localhost:8080/",
          "height": 35
        },
        "outputId": "c52a45cc-7541-44dd-e3c8-65cc27ac3c4a"
      },
      "source": [
        "%%writefile test.cpp\n",
        "//Two dimensional array\n",
        "#include <iostream>\n",
        "using namespace std;\n",
        "int main() {\n",
        "\tconst int row = 2; const int col = 4;\n",
        "\tint marks[row][col] = {\n",
        "\t\t{95, 80, 91, 100},\n",
        "\t\t{100, 93, 90, 80}\n",
        "\t};\n",
        "\tint extraAssignmentMarks[row][col] = {\n",
        "\t\t{10, 5, 12, 8},\n",
        "\t\t{0, 0, 0, 0}\n",
        "\t};\n",
        "\tint finalMarks[row][col];\n",
        "\n",
        "\t//Add the marks\n",
        "\tfor (int i = 0; i < row; ++i) {\n",
        "\t\tfor (int j = 0; j < col; ++j) {\n",
        "\t\t\tfinalMarks[i][j] = marks[i][j] + extraAssignmentMarks[i][j];\n",
        "\t\t}\n",
        "\t}\n",
        "\n",
        "\t//Display the marks\n",
        "\tfor (int i = 0; i < row; ++i) {\n",
        "\t\tcout << \"Semester number: \" << i + 1 << endl;\n",
        "\t\tcout << \"Final grades: \";\n",
        "\t\tfor (int j = 0; j < col; ++j) {\n",
        "\t\t\tcout << finalMarks[i][j] << \" \";\n",
        "\t\t} cout << endl;\n",
        "\t}\n",
        "\treturn 0;\n",
        "}"
      ],
      "execution_count": null,
      "outputs": [
        {
          "output_type": "stream",
          "text": [
            "Overwriting test.cpp\n"
          ],
          "name": "stdout"
        }
      ]
    },
    {
      "cell_type": "code",
      "metadata": {
        "id": "CVytnTqWt823",
        "colab_type": "code",
        "colab": {
          "base_uri": "https://localhost:8080/",
          "height": 87
        },
        "outputId": "0b1fd6e6-f52c-427b-eaf9-86fa45c30036"
      },
      "source": [
        "%%script bash\n",
        "g++ test.cpp -o test \n",
        "./test"
      ],
      "execution_count": null,
      "outputs": [
        {
          "output_type": "stream",
          "text": [
            "Semester number: 1\n",
            "Final grades: 105 85 103 108 \n",
            "Semester number: 2\n",
            "Final grades: 100 93 90 80 \n"
          ],
          "name": "stdout"
        }
      ]
    },
    {
      "cell_type": "markdown",
      "metadata": {
        "id": "AFnerxI50D9b",
        "colab_type": "text"
      },
      "source": [
        "### Matrix multiplication using two dimensional array\n",
        "1.   Matrix multiplication of matrices with the following dimensions m x m  and m x m "
      ]
    },
    {
      "cell_type": "code",
      "metadata": {
        "id": "U6vZxaFRlxYX",
        "colab_type": "code",
        "colab": {
          "base_uri": "https://localhost:8080/",
          "height": 35
        },
        "outputId": "09f3332b-f2f9-4b5a-ddcd-e4afcd938f89"
      },
      "source": [
        "%%writefile test.cpp\n",
        "//Two dimensional array\n",
        "#include <iostream>\n",
        "using namespace std;\n",
        "int main() {\n",
        "\tconst int row = 3; const int col = 3;\n",
        "\tint arrA[row][col] = {\n",
        "\t\t{10, 10, 10},\n",
        "\t\t{20, 20, 20},\n",
        "\t\t{30, 30, 30}\n",
        "\t};\n",
        "\tint arrB[row][col] = {\n",
        "\t\t{10, 20, 30},\n",
        "\t\t{10, 20, 30},\n",
        "\t\t{10, 20, 30}\n",
        "\t};\n",
        "\t//This is where the multiplied value\n",
        "\t//of the array will be kept\n",
        "\tint arrC[row][col] = {\n",
        "\t\t{0, 0, 0},\n",
        "\t\t{0, 0, 0},\n",
        "\t\t{0, 0, 0}\n",
        "\t};\n",
        "\n",
        "\t//Multiply the matrix\n",
        "\tfor (int i = 0; i < row; ++i) {\n",
        "\t\tfor (int j = 0; j < row; ++j) {\n",
        "\n",
        "\t\t\t//Value of each row being multiplied\n",
        "\t\t\t//by each column is being added\n",
        "\t\t\tint val = 0;\n",
        "\t\t\tfor (int k = 0; k < row; ++k) {\n",
        "\t\t\t\tval += arrA[i][k] * arrB[k][j];\n",
        "\t\t\t}\n",
        "\n",
        "\t\t\t//It is then stored in the proper\n",
        "\t\t\t//index in arrC\n",
        "\t\t\tarrC[i][j] = val;\n",
        "\t\t}\n",
        "\t}\n",
        "\n",
        "\t//Display the marks\n",
        "\tfor (int i = 0; i < row; ++i) {\n",
        "\t\tcout << \"Row \" << i << \" : \";\n",
        "\t\tfor (int j = 0; j < col; ++j) {\n",
        "\t\t\tcout << arrC[i][j] << \" \";\n",
        "\t\t} cout << endl;\n",
        "\t}\n",
        "\treturn 0;\n",
        "}"
      ],
      "execution_count": null,
      "outputs": [
        {
          "output_type": "stream",
          "text": [
            "Overwriting test.cpp\n"
          ],
          "name": "stdout"
        }
      ]
    },
    {
      "cell_type": "code",
      "metadata": {
        "id": "FUl26LWYl05K",
        "colab_type": "code",
        "colab": {
          "base_uri": "https://localhost:8080/",
          "height": 69
        },
        "outputId": "88c8aa3c-f8f9-47f8-aa37-e24f83063b52"
      },
      "source": [
        "%%script bash\n",
        "g++ test.cpp -o test \n",
        "./test"
      ],
      "execution_count": null,
      "outputs": [
        {
          "output_type": "stream",
          "text": [
            "Row 0 : 300 600 900 \n",
            "Row 1 : 600 1200 1800 \n",
            "Row 2 : 900 1800 2700 \n"
          ],
          "name": "stdout"
        }
      ]
    },
    {
      "cell_type": "markdown",
      "metadata": {
        "id": "b5Fksilzl32X",
        "colab_type": "text"
      },
      "source": [
        "2.  A more generic matrix multiplication is possible using when matrix has dimensions of the following size , m x a and a x n ."
      ]
    },
    {
      "cell_type": "code",
      "metadata": {
        "id": "utkEjYtN2oI1",
        "colab_type": "code",
        "colab": {
          "base_uri": "https://localhost:8080/",
          "height": 35
        },
        "outputId": "b47cf536-784c-404f-d47f-f03a511a8894"
      },
      "source": [
        "%%writefile test.cpp\n",
        "//Two dimensional array\n",
        "#include <iostream>\n",
        "using namespace std;\n",
        "int main() {\n",
        "\tconst int row1 = 2; const int col1 = 4;\n",
        "\tint arrA[row1][col1] = {\n",
        "\t\t{10, 10, 10, 10},\n",
        "\t\t{20, 20, 20, 20}\n",
        "\t};\n",
        "\tconst int row2 = 4; const int col2 = 2;\n",
        "\tint arrB[row2][col2] = {\n",
        "\t\t{10, 20},\n",
        "\t\t{10, 20},\n",
        "\t\t{10, 20},\n",
        "\t\t{10, 20}\n",
        "\t};\n",
        "\t//This is where the multiplied value\n",
        "\t//of the array will be kept\n",
        "\tint arrC[row1][col2] = {\n",
        "\t\t{0, 0},\n",
        "\t\t{0, 0}\n",
        "\t};\n",
        "\n",
        "\t//Multiply the matrix\n",
        "\tfor (int i = 0; i < row1; ++i) {\n",
        "\t\tfor (int j = 0; j < col2; ++j) {\n",
        "\n",
        "\t\t\t//Value of each row being multiplied\n",
        "\t\t\t//by each column is being added\n",
        "\t\t\tint val = 0;\n",
        "\t\t\tfor (int k = 0; k < col1; ++k) {\n",
        "\t\t\t\tval += arrA[i][k] * arrB[k][j];\n",
        "\t\t\t}\n",
        "\n",
        "\t\t\t//It is then stored in the proper\n",
        "\t\t\t//index in arrC\n",
        "\t\t\tarrC[i][j] = val;\n",
        "\t\t}\n",
        "\t}\n",
        "\n",
        "\t//Display the marks\n",
        "\tfor (int i = 0; i < row1; ++i) {\n",
        "\t\tcout << \"Row \" << i << \" : \";\n",
        "\t\tfor (int j = 0; j < col2; ++j) {\n",
        "\t\t\tcout << arrC[i][j] << \" \";\n",
        "\t\t} cout << endl;\n",
        "\t}\n",
        "\treturn 0;\n",
        "}"
      ],
      "execution_count": null,
      "outputs": [
        {
          "output_type": "stream",
          "text": [
            "Overwriting test.cpp\n"
          ],
          "name": "stdout"
        }
      ]
    },
    {
      "cell_type": "code",
      "metadata": {
        "id": "z4UGCNPF2prA",
        "colab_type": "code",
        "colab": {
          "base_uri": "https://localhost:8080/",
          "height": 52
        },
        "outputId": "9cd8535f-52a0-456a-b4af-32da2c1cb381"
      },
      "source": [
        "%%script bash\n",
        "g++ test.cpp -o test \n",
        "./test"
      ],
      "execution_count": null,
      "outputs": [
        {
          "output_type": "stream",
          "text": [
            "Row 0 : 400 800 \n",
            "Row 1 : 800 1600 \n"
          ],
          "name": "stdout"
        }
      ]
    },
    {
      "cell_type": "markdown",
      "metadata": {
        "id": "jHvA5x_pqkW9",
        "colab_type": "text"
      },
      "source": [
        "# Function with 1 dimensional array\n",
        "Functions as shown above is useful in the functions section were only used to modularize program with basic data types. Here functions will be used alongside with arrays to show data transfer with a program. Example is given below:\n",
        "\n",
        "*     Printing an array"
      ]
    },
    {
      "cell_type": "code",
      "metadata": {
        "id": "cQZBsZiWD4I6",
        "colab_type": "code",
        "colab": {
          "base_uri": "https://localhost:8080/",
          "height": 35
        },
        "outputId": "a30583f2-784a-44b2-88d9-13339b1f0952"
      },
      "source": [
        "%%writefile test.cpp\n",
        "//One dimensional array\n",
        "#include <iostream>\n",
        "using namespace std;\n",
        "void printArray(int arr[], int size) {\n",
        "\tcout << \"The array is: \";\n",
        "\tfor (int i = 0; i < size; ++i) {\n",
        "\t\tcout << arr[i] << \" \";\n",
        "\t}\n",
        "}\n",
        "int main() {\n",
        "\tconst int N = 5;\n",
        "\tint arr[N] = {1, 2, 3, 4, 5};\n",
        "\tprintArray(arr, N);\n",
        "\treturn 0;\n",
        "}"
      ],
      "execution_count": null,
      "outputs": [
        {
          "output_type": "stream",
          "text": [
            "Overwriting test.cpp\n"
          ],
          "name": "stdout"
        }
      ]
    },
    {
      "cell_type": "code",
      "metadata": {
        "id": "Ckqk4PkMEGZS",
        "colab_type": "code",
        "colab": {
          "base_uri": "https://localhost:8080/",
          "height": 35
        },
        "outputId": "a25fd01d-896a-419d-86bf-315187121882"
      },
      "source": [
        "%%script bash\n",
        "g++ test.cpp -o test \n",
        "./test"
      ],
      "execution_count": null,
      "outputs": [
        {
          "output_type": "stream",
          "text": [
            "The array is: 1 2 3 4 5 "
          ],
          "name": "stdout"
        }
      ]
    },
    {
      "cell_type": "markdown",
      "metadata": {
        "id": "zNgPlju-J7MJ",
        "colab_type": "text"
      },
      "source": [
        "*   Print an array that contains odd numbers."
      ]
    },
    {
      "cell_type": "code",
      "metadata": {
        "id": "Zpl3d07-J0a3",
        "colab_type": "code",
        "colab": {
          "base_uri": "https://localhost:8080/",
          "height": 35
        },
        "outputId": "bbd5c4ae-b0ea-4d88-889b-0ef452c3a69b"
      },
      "source": [
        "%%writefile test.cpp\n",
        "//One dimensional array\n",
        "#include <iostream>\n",
        "using namespace std;\n",
        "void printOddNumArr(int arr[], int size) {\n",
        "\tcout << \"The odd numbers are: \";\n",
        "\tfor (int i = 0; i < size; ++i) {\n",
        "\t\tif (arr[i] % 2 == 1) {\n",
        "\t\t\tcout << arr[i] << \" \";\n",
        "\t\t}\n",
        "\t}\n",
        "}\n",
        "int main() {\n",
        "\tconst int N = 5;\n",
        "\tint arr[N] = {1, 2, 3, 4, 5};\n",
        "\tprintOddNumArr(arr, N);\n",
        "\treturn 0;\n",
        "}"
      ],
      "execution_count": null,
      "outputs": [
        {
          "output_type": "stream",
          "text": [
            "Overwriting test.cpp\n"
          ],
          "name": "stdout"
        }
      ]
    },
    {
      "cell_type": "code",
      "metadata": {
        "id": "w44766cDKGbg",
        "colab_type": "code",
        "colab": {
          "base_uri": "https://localhost:8080/",
          "height": 35
        },
        "outputId": "f2dea6a1-cf1e-459d-cc95-ad828551217e"
      },
      "source": [
        "%%script bash\n",
        "g++ test.cpp -o test \n",
        "./test"
      ],
      "execution_count": null,
      "outputs": [
        {
          "output_type": "stream",
          "text": [
            "The odd numbers are: 1 3 5 "
          ],
          "name": "stdout"
        }
      ]
    },
    {
      "cell_type": "markdown",
      "metadata": {
        "id": "uGyJ7by-YKov",
        "colab_type": "text"
      },
      "source": [
        "*     Find the number of elements in an array that are less than zero. "
      ]
    },
    {
      "cell_type": "code",
      "metadata": {
        "id": "cmLRqcErXJJ_",
        "colab_type": "code",
        "colab": {
          "base_uri": "https://localhost:8080/",
          "height": 35
        },
        "outputId": "6c56633c-31b8-4b42-8af2-3c2a37c19279"
      },
      "source": [
        "%%writefile test.cpp\n",
        "//One dimensional array\n",
        "#include <iostream>\n",
        "using namespace std;\n",
        "int numValLessThanZero(int arr[], int size) {\n",
        "\tint count = 0;\n",
        "\tfor (int i = 0; i < size; ++i) {\n",
        "\t\tif (arr[i] < 0) {\n",
        "\t\t\tcount = count + 1;\n",
        "\t\t}\n",
        "\t}\n",
        "\treturn count;\n",
        "}\n",
        "int main() {\n",
        "\tconst int N = 5;\n",
        "\tint arr[N] = {2, 3, -12, 4, -1};\n",
        "\tcout << \"Number of value less than zeros is: \" << numValLessThanZero(arr, N);\n",
        "\treturn 0;\n",
        "}"
      ],
      "execution_count": null,
      "outputs": [
        {
          "output_type": "stream",
          "text": [
            "Overwriting test.cpp\n"
          ],
          "name": "stdout"
        }
      ]
    },
    {
      "cell_type": "code",
      "metadata": {
        "id": "b3tOSLaTZ_Ys",
        "colab_type": "code",
        "colab": {
          "base_uri": "https://localhost:8080/",
          "height": 35
        },
        "outputId": "dbfc35aa-d0e2-442a-93b1-c889b3e52c49"
      },
      "source": [
        "%%script bash\n",
        "g++ test.cpp -o test \n",
        "./test"
      ],
      "execution_count": null,
      "outputs": [
        {
          "output_type": "stream",
          "text": [
            "Number of value less than zeros is: 2"
          ],
          "name": "stdout"
        }
      ]
    },
    {
      "cell_type": "markdown",
      "metadata": {
        "id": "BKkbLc7yLcfD",
        "colab_type": "text"
      },
      "source": [
        "*    Find the maximum number in an array."
      ]
    },
    {
      "cell_type": "code",
      "metadata": {
        "id": "VFhNRHf1KjYG",
        "colab_type": "code",
        "colab": {
          "base_uri": "https://localhost:8080/",
          "height": 35
        },
        "outputId": "299ef971-40fe-4521-eb37-36d270668f90"
      },
      "source": [
        "%%writefile test.cpp\n",
        "//One dimensional array\n",
        "#include <iostream>\n",
        "using namespace std;\n",
        "int getMaxValue(int arr[], int size) {\n",
        "\tfor (int i = 0; i < size - 1; ++i) {\n",
        "\t\tif (arr[i] > arr[i + 1]) {\n",
        "\t\t\tint a = arr[i + 1];\n",
        "\t\t\tarr[i + 1] = arr[i];\n",
        "\t\t\tarr[i] = a;\n",
        "\t\t}\n",
        "\t}\n",
        "\treturn arr[size - 1];\n",
        "}\n",
        "int main() {\n",
        "\tconst int N = 5;\n",
        "\tint arr[N] = {2, 3, 1, 4, -1};\n",
        "\tcout << \"Max value is: \" << getMaxValue(arr, N);\n",
        "\treturn 0;\n",
        "}"
      ],
      "execution_count": null,
      "outputs": [
        {
          "output_type": "stream",
          "text": [
            "Overwriting test.cpp\n"
          ],
          "name": "stdout"
        }
      ]
    },
    {
      "cell_type": "code",
      "metadata": {
        "id": "zZyly2q_Lntm",
        "colab_type": "code",
        "colab": {
          "base_uri": "https://localhost:8080/",
          "height": 35
        },
        "outputId": "8b1f0338-a7a8-409d-8101-1e0aeb772dc7"
      },
      "source": [
        "%%script bash\n",
        "g++ test.cpp -o test \n",
        "./test"
      ],
      "execution_count": null,
      "outputs": [
        {
          "output_type": "stream",
          "text": [
            "Max value is: 4"
          ],
          "name": "stdout"
        }
      ]
    },
    {
      "cell_type": "markdown",
      "metadata": {
        "id": "zhlVt6LCOOmO",
        "colab_type": "text"
      },
      "source": [
        "So the code above needs a little bit of explanation.\n",
        "\n",
        "The array [2,3,1,4,-1] is passed from the main function to the function which has the name getMaxValue. The size of the array which is 5 is send along it.\n",
        "After that the following line of code runs on it.\n",
        "```\n",
        "1.for(int i = 0; i < size - 1; ++i){\n",
        "2.        if(arr[i] > arr[i+1]){\n",
        "3.            int a = arr[i+1];\n",
        "4.            arr[i+1] = arr[i];\n",
        "5.            arr[i] = a;\n",
        "6.        }\n",
        "7.    }\n",
        "```\n",
        "The value of the variable `size` is `5`. However, it is not possible to access the value `arr[size]`, since indexing of an array starts from `0`. The maximum index that can be accessed is `4`. The `i < size` code snippet would ensure that effect. Howv, why is it `i < size - 1`. It is because the comparison of arr[i] and arr[i+1] would require us to access values which are not accessible. If value of `i` for example is `4` still less than `5`, will it be possible to access `i+1` which is `4+1 = 5` , no. So, `i` runs upto `size - 1`.\n",
        "\n",
        "In line 2 the comparison happens between `arr[i]` and `arr[i+1]` . If `arr[i]` is greater than `arr[i+1]` we need to do something. The thing we do is swapping. We swap value contained in `arr[i+1]` with the value of `arr[i]` , such that the value of `arr[i+1]` goes to `arr[i]` and the value of `arr[i]` goes to `arr[i+1]` . Line 3, Line 4 and Line 5 is responsible for the swapping. In Line 3 the value from `arr[i+1]` is stored into variable a. Remember value of `arr[i+1]` is less than `arr[i]`.  In line 4 value of `arr[i]` which is greater than `arr[i+1]` is transferred to `arr[i+1]`. In Line 5 value of variable a which is smaller and was previously in `arr[i+1]` is transferred to `arr[i]`.\n",
        "This process continues till the 2nd last index of the array, swapping values of array, if one is smaller than the previous one. This allows for the maximum value to be transferred to the last index of the array.\n",
        "\n",
        "Lastly this piece of code return `arr[size-1]`; is necessary since we are only interested in returning the value of the last index of the array which is size-1( 5 - 1 = 4 in this case).\n",
        "\n",
        "\n"
      ]
    },
    {
      "cell_type": "markdown",
      "metadata": {
        "id": "vKtY_jY4iBUa",
        "colab_type": "text"
      },
      "source": [
        "# Functions with 2 dimensional array\n",
        "2 dimensional arrays can be utilized with functions in a similar way as 1 dimensional array with function. For example:\n",
        "*    Printing the contents of the final marks for 2 semesters"
      ]
    },
    {
      "cell_type": "code",
      "metadata": {
        "id": "oVzwQQnX3HTG",
        "colab_type": "code",
        "colab": {
          "base_uri": "https://localhost:8080/",
          "height": 35
        },
        "outputId": "d0e58898-a7df-458c-b6e3-044eb0f8d2f5"
      },
      "source": [
        "%%writefile test.cpp\n",
        "//Two dimensional array\n",
        "#include <iostream>\n",
        "using namespace std;\n",
        "void printArray(int arr[][3], int row, int col) {\n",
        "\n",
        "\tfor (int i = 0; i < row; ++i) {\n",
        "\t\tcout << \"Semester: \" << i + 1 << endl;\n",
        "\t\tcout << \"Final Marks: \";\n",
        "\t\tfor (int j = 0; j < col; ++j) {\n",
        "\t\t\tcout << arr[i][j] << \" \";\n",
        "\t\t}\n",
        "\t\tcout << endl;\n",
        "\t}\n",
        "}\n",
        "int main() {\n",
        "\tconst int row = 2; const int col = 3;\n",
        "\tint marks[row][col] = {\n",
        "\t\t{90, 100, 90},\n",
        "\t\t{100, 89, 90}\n",
        "\t};\n",
        "\tprintArray(marks, row, col);\n",
        "\treturn 0;\n",
        "}"
      ],
      "execution_count": null,
      "outputs": [
        {
          "output_type": "stream",
          "text": [
            "Overwriting test.cpp\n"
          ],
          "name": "stdout"
        }
      ]
    },
    {
      "cell_type": "code",
      "metadata": {
        "id": "cgCqCppq4wW7",
        "colab_type": "code",
        "colab": {
          "base_uri": "https://localhost:8080/",
          "height": 87
        },
        "outputId": "5e15792f-aa00-4bbc-b651-68b93ab56320"
      },
      "source": [
        "%%script bash\n",
        "g++ test.cpp -o test \n",
        "./test"
      ],
      "execution_count": null,
      "outputs": [
        {
          "output_type": "stream",
          "text": [
            "Semester: 1\n",
            "Final Marks: 90 100 90 \n",
            "Semester: 2\n",
            "Final Marks: 100 89 90 \n"
          ],
          "name": "stdout"
        }
      ]
    },
    {
      "cell_type": "markdown",
      "metadata": {
        "id": "bXDSkKun9BS2",
        "colab_type": "text"
      },
      "source": [
        "Couple of things before jumping to the next example. Observe the parameters send to the function signature here: `void printArray(int arr[][3], int row, int col)`. There is a empty `[]` bracket after `arr`. If you any number out there it will not be a problem. Normally it is kept empty. Observe the second bracket of `arr`. It contains the value `3`. This signifies the number of columns that is present in the two dimensional array. That value should strictly be the value of the number of columns that is contained in the two dimensional array."
      ]
    },
    {
      "cell_type": "markdown",
      "metadata": {
        "id": "tWrkmEHI52Iz",
        "colab_type": "text"
      },
      "source": [
        "*     Adding two matrices together using a function"
      ]
    },
    {
      "cell_type": "code",
      "metadata": {
        "id": "3kAXpUfR6HX-",
        "colab_type": "code",
        "colab": {
          "base_uri": "https://localhost:8080/",
          "height": 35
        },
        "outputId": "d7394c38-f04d-48ea-c0d7-11f1e4c4c31e"
      },
      "source": [
        "%%writefile test.cpp\n",
        "//Two dimensional array\n",
        "#include <iostream>\n",
        "using namespace std;\n",
        "void printArray(int arrA[][3], int r1, int c1, int arrB[][3], int r2, int c2 ) {\n",
        "\n",
        "\tfor (int i = 0; i < r1; ++i) {\n",
        "\t\tcout << \"Semester: \" << i + 1 << endl;\n",
        "\t\tcout << \"After adding bonus: \";\n",
        "\t\tfor (int j = 0; j < c1; ++j) {\n",
        "\t\t\tcout << arrA[i][j] + arrB[i][j] << \" \";\n",
        "\t\t} cout << endl;\n",
        "\t}\n",
        "}\n",
        "int main() {\n",
        "\tconst int row = 2; const int col = 3;\n",
        "\tint marks[row][col] = {\n",
        "\t\t{90, 100, 90},\n",
        "\t\t{100, 89, 90}\n",
        "\t};\n",
        "\tint bonus[row][col] = {\n",
        "\t\t{10, 4, 5},\n",
        "\t\t{3, 5, 1}\n",
        "\t};\n",
        "\tprintArray(marks, row, col, bonus, row, col);\n",
        "\treturn 0;\n",
        "}"
      ],
      "execution_count": null,
      "outputs": [
        {
          "output_type": "stream",
          "text": [
            "Overwriting test.cpp\n"
          ],
          "name": "stdout"
        }
      ]
    },
    {
      "cell_type": "code",
      "metadata": {
        "id": "M3a4k7R38L2y",
        "colab_type": "code",
        "colab": {
          "base_uri": "https://localhost:8080/",
          "height": 87
        },
        "outputId": "da11cf0f-accd-45e7-8858-4a22671ef7ab"
      },
      "source": [
        "%%script bash\n",
        "g++ test.cpp -o test \n",
        "./test"
      ],
      "execution_count": null,
      "outputs": [
        {
          "output_type": "stream",
          "text": [
            "Semester: 1\n",
            "After adding bonus: 100 104 95 \n",
            "Semester: 2\n",
            "After adding bonus: 103 94 91 \n"
          ],
          "name": "stdout"
        }
      ]
    },
    {
      "cell_type": "markdown",
      "metadata": {
        "id": "D5os9A1X_KOy",
        "colab_type": "text"
      },
      "source": [
        "# Return array from functions\n",
        "There are couple of ways in which array's can be returned from a function. Some of the ways that I have used in CSC 101 will be shown here.\n",
        "*     There is no need to explicitly return arrays in C++. After calling the function with the array from the main function , if the array is printed again, the array changes its value. The value that the array takes, is due to the changes in the function which was called from the main function."
      ]
    },
    {
      "cell_type": "code",
      "metadata": {
        "id": "htgVI8W68MqI",
        "colab_type": "code",
        "colab": {
          "base_uri": "https://localhost:8080/",
          "height": 35
        },
        "outputId": "17a2c35a-0139-4675-a019-7571b54a11bf"
      },
      "source": [
        "%%writefile test.cpp\n",
        "//One dimensional array\n",
        "#include <iostream>\n",
        "using namespace std;\n",
        "void addValueToArray(int arr[], int row) {\n",
        "\tfor (int i = 0; i < row; ++i) {\n",
        "\t\tarr[i] = arr[i] + 10;\n",
        "\t}\n",
        "}\n",
        "int main() {\n",
        "\tconst int row = 5 ;\n",
        "\tint marks[row] = {89, 91, 91, 88, 90};\n",
        "\taddValueToArray(marks, row);\n",
        "\tcout << \"Values in the array after calling the function: \" << endl;\n",
        "\tfor (int i = 0 ; i < row; ++i) {\n",
        "\t\tcout << marks[i] << \" \";\n",
        "\t}\n",
        "\treturn 0;\n",
        "}"
      ],
      "execution_count": null,
      "outputs": [
        {
          "output_type": "stream",
          "text": [
            "Overwriting test.cpp\n"
          ],
          "name": "stdout"
        }
      ]
    },
    {
      "cell_type": "code",
      "metadata": {
        "id": "rXr3BBEWCtgr",
        "colab_type": "code",
        "colab": {
          "base_uri": "https://localhost:8080/",
          "height": 52
        },
        "outputId": "16b6adbc-2c15-4b43-e7e9-b01b707f2889"
      },
      "source": [
        "%%script bash\n",
        "g++ test.cpp -o test \n",
        "./test"
      ],
      "execution_count": null,
      "outputs": [
        {
          "output_type": "stream",
          "text": [
            "Values in the array after calling the function: \n",
            "99 101 101 98 100 "
          ],
          "name": "stdout"
        }
      ]
    },
    {
      "cell_type": "markdown",
      "metadata": {
        "id": "toXC2jdQSdUE",
        "colab_type": "text"
      },
      "source": [
        "One can modularize the code above further, but the idea will remain the same."
      ]
    },
    {
      "cell_type": "code",
      "metadata": {
        "id": "r1shrSNYSo1l",
        "colab_type": "code",
        "colab": {
          "base_uri": "https://localhost:8080/",
          "height": 35
        },
        "outputId": "0c1b458b-2180-4817-d85b-65225f0d3e3e"
      },
      "source": [
        "%%writefile test.cpp\n",
        "//One dimensional array\n",
        "#include <iostream>\n",
        "using namespace std;\n",
        "void addValueToArray(int arr[], int row) {\n",
        "\tfor (int i = 0; i < row; ++i) {\n",
        "\t\tarr[i] = arr[i] + 10;\n",
        "\t}\n",
        "}\n",
        "void printArray(int arr[], int row) {\n",
        "\tfor (int i = 0; i < row; ++i) {\n",
        "\t\tcout << arr[i] << \" \";\n",
        "\t}\n",
        "\tcout << endl;\n",
        "}\n",
        "void setValueToArray(int arr[], int row) {\n",
        "\tfor (int i = 0; i < row; ++i) {\n",
        "\t\tarr[i] = 90 + i;\n",
        "\t}\n",
        "}\n",
        "\n",
        "int main() {\n",
        "\tconst int row = 5 ;\n",
        "\tint marks[row];\n",
        "\tsetValueToArray(marks, row);\n",
        "\n",
        "\tcout << \"Array content before: \";\n",
        "\tprintArray(marks, row);\n",
        "\n",
        "\t//The value of the array changes\n",
        "\t//due to the function below\n",
        "\taddValueToArray(marks, row);\n",
        "\n",
        "\t//The changes in the array is\n",
        "\t//shown below\n",
        "\tcout << \"Array content after: \";\n",
        "\tprintArray(marks, row);\n",
        "\n",
        "\treturn 0;\n",
        "}"
      ],
      "execution_count": null,
      "outputs": [
        {
          "output_type": "stream",
          "text": [
            "Overwriting test.cpp\n"
          ],
          "name": "stdout"
        }
      ]
    },
    {
      "cell_type": "code",
      "metadata": {
        "id": "o58gQCvfSrBm",
        "colab_type": "code",
        "colab": {
          "base_uri": "https://localhost:8080/",
          "height": 52
        },
        "outputId": "90adae4d-834d-4e0c-df0e-94e3e3f8cbe8"
      },
      "source": [
        "%%script bash\n",
        "g++ test.cpp -o test \n",
        "./test"
      ],
      "execution_count": null,
      "outputs": [
        {
          "output_type": "stream",
          "text": [
            "Array content before: 90 91 92 93 94 \n",
            "Array content after: 100 101 102 103 104 \n"
          ],
          "name": "stdout"
        }
      ]
    },
    {
      "cell_type": "markdown",
      "metadata": {
        "id": "1WF_E1dpVaQ3",
        "colab_type": "text"
      },
      "source": [
        "Ideas presented in the above code block can be replicated for 2 dimensional arrays as well."
      ]
    },
    {
      "cell_type": "code",
      "metadata": {
        "id": "8Fnsbvg9TeNg",
        "colab_type": "code",
        "colab": {
          "base_uri": "https://localhost:8080/",
          "height": 35
        },
        "outputId": "fb188a47-27bb-449c-f434-ad829ca01ca6"
      },
      "source": [
        "%%writefile test.cpp\n",
        "//One dimensional array\n",
        "#include <iostream>\n",
        "using namespace std;\n",
        "\n",
        "//Print the two dimensional array\n",
        "void printArray(int arr[][3], int row, int col) {\n",
        "\tfor (int i = 0; i < row; ++i) {\n",
        "\t\tfor (int j = 0; j < col; ++j) {\n",
        "\t\t\tcout << arr[i][j] << \" \";\n",
        "\t\t} cout << endl;\n",
        "\t}\n",
        "}\n",
        "//Add bonus marks to the array\n",
        "void addBonusToMarks(int marks[][3], int row1, int col1, int bonus[][3], int row2, int col2) {\n",
        "\tfor (int i = 0; i < row1; ++i) {\n",
        "\t\tfor (int j = 0 ; j < col1; ++j) {\n",
        "\t\t\tmarks[i][j] = marks[i][j] + bonus[i][j];\n",
        "\t\t}\n",
        "\t}\n",
        "}\n",
        "//Initialize the arrays\n",
        "void initializeTheArrays(int marks[][3], int row1, int col1, int bonus[][3], int row2, int col2) {\n",
        "\tfor (int i = 0; i < row1; ++i) {\n",
        "\t\tfor (int j = 0; j < col1; ++j) {\n",
        "\t\t\tmarks[i][j] = 90 + i;\n",
        "\t\t\tbonus[i][j] = 10 + i;\n",
        "\t\t}\n",
        "\t}\n",
        "}\n",
        "\n",
        "int main() {\n",
        "\tconst int row = 2 ; const int col = 3;\n",
        "\t//Marks of the student in 2 semesters, each having 3 courses\n",
        "\tint marks[row][col];\n",
        "\n",
        "\t//Bonus marks of the students in each of the 2 semesters\n",
        "\t//and each of the 3 courses\n",
        "\tint bonus[row][col];\n",
        "\n",
        "\t//Initialize the arrays with values\n",
        "\tinitializeTheArrays(marks, row, col, bonus, row, col);\n",
        "\n",
        "\tcout << \"Array content before adding bonus marks: \" << endl;\n",
        "\tprintArray(marks, row, col);\n",
        "\n",
        "\t//The value of the array changes due to the function below\n",
        "\taddBonusToMarks(marks, row, col, bonus, row, col);\n",
        "\n",
        "\t//The changes in the array is shown below\n",
        "\tcout << \"Array content after bonus marks are added: \" << endl;\n",
        "\tprintArray(marks, row, col);\n",
        "\n",
        "\treturn 0;\n",
        "}"
      ],
      "execution_count": null,
      "outputs": [
        {
          "output_type": "stream",
          "text": [
            "Overwriting test.cpp\n"
          ],
          "name": "stdout"
        }
      ]
    },
    {
      "cell_type": "code",
      "metadata": {
        "id": "2k9AHOia8C74",
        "colab_type": "code",
        "colab": {
          "base_uri": "https://localhost:8080/",
          "height": 121
        },
        "outputId": "df52d964-b265-440d-8bed-91d63d373ac3"
      },
      "source": [
        "%%script bash\n",
        "g++ test.cpp -o test \n",
        "./test"
      ],
      "execution_count": null,
      "outputs": [
        {
          "output_type": "stream",
          "text": [
            "Array content before adding bonus marks: \n",
            "90 90 90 \n",
            "91 91 91 \n",
            "Array content after bonus marks are added: \n",
            "100 100 100 \n",
            "102 102 102 \n"
          ],
          "name": "stdout"
        }
      ]
    },
    {
      "cell_type": "markdown",
      "metadata": {
        "id": "vkJnjfHyLj3a",
        "colab_type": "text"
      },
      "source": [
        "# Memory \n",
        "So memory is an important topic in Computer Science. The examples that will be shown below hopefully illustrate that.\n",
        "\n",
        "So, let us begin with swapping numbers. For example in the code example below, after swapping values of variable `a` and `b` the values of the variable will change after swapping of the value. "
      ]
    },
    {
      "cell_type": "code",
      "metadata": {
        "id": "bYVD2rAWN6JP",
        "colab_type": "code",
        "colab": {
          "base_uri": "https://localhost:8080/",
          "height": 35
        },
        "outputId": "281627ba-1ce8-43a7-966c-14bfab677763"
      },
      "source": [
        "%%writefile test.cpp\n",
        "#include <iostream>\n",
        "using namespace std;\n",
        "//Swapping of two numbers\n",
        "\n",
        "int main() {\n",
        "\tint a = 3; int b = 5;\n",
        "\tcout << \"Before swapping - a: \" << a << \" b: \" << b << endl;\n",
        "\n",
        "\tint temp = a;//Value of temp is 3 and value of a is 3\n",
        "\ta = b; //Value of a is 5 and value of b is 5\n",
        "\tb = temp; //Value of b is 3 because value of temp is 3\n",
        "\n",
        "\t//So, printing the value of a and b after swapping is\n",
        "\tcout << \"After swapping - a: \" << a << \" b: \" << b << endl;\n",
        "\treturn 0;\n",
        "}"
      ],
      "execution_count": null,
      "outputs": [
        {
          "output_type": "stream",
          "text": [
            "Overwriting test.cpp\n"
          ],
          "name": "stdout"
        }
      ]
    },
    {
      "cell_type": "code",
      "metadata": {
        "id": "0a0oJNnGRoQi",
        "colab_type": "code",
        "colab": {
          "base_uri": "https://localhost:8080/",
          "height": 52
        },
        "outputId": "7ac395c9-6bd8-4a12-9630-f75ee88fa2c8"
      },
      "source": [
        "%%script bash\n",
        "g++ test.cpp -o test \n",
        "./test"
      ],
      "execution_count": null,
      "outputs": [
        {
          "output_type": "stream",
          "text": [
            "Before swapping - a: 3 b: 5\n",
            "After swapping - a: 5 b: 3\n"
          ],
          "name": "stdout"
        }
      ]
    },
    {
      "cell_type": "markdown",
      "metadata": {
        "id": "zQQWaDPae_jo",
        "colab_type": "text"
      },
      "source": [
        "Let us do swapping of the variable `a` and `b` using a function."
      ]
    },
    {
      "cell_type": "code",
      "metadata": {
        "id": "_GYii8WnclmG",
        "colab_type": "code",
        "colab": {
          "base_uri": "https://localhost:8080/",
          "height": 35
        },
        "outputId": "ff9c6f16-d785-4ead-8e0b-58b7c7439620"
      },
      "source": [
        "%%writefile test.cpp\n",
        "#include <iostream>\n",
        "using namespace std;\n",
        "//Swapping of two numbers\n",
        "\n",
        "void swapValues(int a , int b) {\n",
        "\tint temp = a;//Value of temp is 3 and value of a is 3\n",
        "\ta = b; //Value of a is 5 and value of b is 5\n",
        "\tb = temp; //Value of b is 3 because value of temp is 3\n",
        "}\n",
        "int main() {\n",
        "\tint a = 3; int b = 5;\n",
        "\tcout << \"Before swapping - a: \" << a << \" b: \" << b << endl;\n",
        "\tswapValues(a, b);\n",
        "\tcout << \"After swapping - a: \" << a << \" b: \" << b << endl;\n",
        "\treturn 0;\n",
        "}"
      ],
      "execution_count": null,
      "outputs": [
        {
          "output_type": "stream",
          "text": [
            "Overwriting test.cpp\n"
          ],
          "name": "stdout"
        }
      ]
    },
    {
      "cell_type": "code",
      "metadata": {
        "id": "12mWJYpjfPSE",
        "colab_type": "code",
        "colab": {
          "base_uri": "https://localhost:8080/",
          "height": 52
        },
        "outputId": "212f4b4f-aea0-4f52-c7b1-ecf48255d647"
      },
      "source": [
        "%%script bash\n",
        "g++ test.cpp -o test \n",
        "./test"
      ],
      "execution_count": null,
      "outputs": [
        {
          "output_type": "stream",
          "text": [
            "Before swapping - a: 3 b: 5\n",
            "After swapping - a: 3 b: 5\n"
          ],
          "name": "stdout"
        }
      ]
    },
    {
      "cell_type": "markdown",
      "metadata": {
        "id": "0ipnUrn4fsKc",
        "colab_type": "text"
      },
      "source": [
        "Look at the values of variables `a` and `b` after swapping using the function swapValues. The values of the variables `a` and `b` does not change. It is `3` and `5` even after the function is called. This is the result of scoping where the value of the function disappers after a function. If you rewrite the function like so ...\n",
        "```\n",
        "void swapValues(int a , int b){\n",
        "    cout<<\"a: \" << a << \"b: \" << b << endl;\n",
        "    int temp = a;//Value of temp is 3 and value of a is 3\n",
        "    a = b; //Value of a is 5 and value of b is 5\n",
        "    b = temp; //Value of b is 3 because value of temp is 3\n",
        "    cout<<\"a: \" << a << \"b: \" << b << endl;\n",
        "}\n",
        "```\n",
        "... you will see that the value actually changes inside the function.\n",
        "\n",
        "There are couple of ways to fix this issue with swapping.\n",
        "1.   Pass By Reference"
      ]
    },
    {
      "cell_type": "code",
      "metadata": {
        "id": "WTazcPvpfqQ_",
        "colab_type": "code",
        "colab": {
          "base_uri": "https://localhost:8080/",
          "height": 35
        },
        "outputId": "8e4cb0ef-79e3-46f3-e96a-13b1b661fce3"
      },
      "source": [
        "%%writefile test.cpp\n",
        "#include <iostream>\n",
        "using namespace std;\n",
        "//Swapping of two numbers\n",
        "\n",
        "void swapValues(int &a , int &b) {\n",
        "\tint temp = a;\n",
        "\ta = b;\n",
        "\tb = temp;\n",
        "}\n",
        "int main() {\n",
        "\tint x = 3; int y = 5;\n",
        "\tcout << \"Before swapping - x: \" << x << \" y: \" << y << endl;\n",
        "\tswapValues(x, y);\n",
        "\tcout << \"After swapping - x: \" << x << \" y: \" << y << endl;\n",
        "\treturn 0;\n",
        "}"
      ],
      "execution_count": null,
      "outputs": [
        {
          "output_type": "stream",
          "text": [
            "Overwriting test.cpp\n"
          ],
          "name": "stdout"
        }
      ]
    },
    {
      "cell_type": "code",
      "metadata": {
        "id": "xZDsgTcz6t8p",
        "colab_type": "code",
        "colab": {
          "base_uri": "https://localhost:8080/",
          "height": 52
        },
        "outputId": "2874b83f-a47c-4458-d74f-aa6971921d50"
      },
      "source": [
        "%%script bash\n",
        "g++ test.cpp -o test \n",
        "./test"
      ],
      "execution_count": null,
      "outputs": [
        {
          "output_type": "stream",
          "text": [
            "Before swapping - x: 3 y: 5\n",
            "After swapping - x: 5 y: 3\n"
          ],
          "name": "stdout"
        }
      ]
    },
    {
      "cell_type": "markdown",
      "metadata": {
        "id": "kg6oopWI7GjP",
        "colab_type": "text"
      },
      "source": [
        "2.   Pass by address"
      ]
    },
    {
      "cell_type": "code",
      "metadata": {
        "id": "lHfgs3K17EAi",
        "colab_type": "code",
        "colab": {
          "base_uri": "https://localhost:8080/",
          "height": 35
        },
        "outputId": "3fea51cc-7a17-4968-ceea-c68a1b0be5e5"
      },
      "source": [
        "%%writefile test.cpp\n",
        "#include <iostream>\n",
        "using namespace std;\n",
        "//Swapping of two numbers\n",
        "\n",
        "void swapValues(int *a , int *b) {\n",
        "\tint temp = *a;\n",
        "\t*a = *b;\n",
        "\t*b = temp;\n",
        "}\n",
        "int main() {\n",
        "\tint x = 3; int y = 5;\n",
        "\tcout << \"Before swapping - x: \" << x << \" y: \" << y << endl;\n",
        "\tswapValues(&x, &y);\n",
        "\tcout << \"After swapping - x: \" << x << \" y: \" << y << endl;\n",
        "\treturn 0;\n",
        "}"
      ],
      "execution_count": null,
      "outputs": [
        {
          "output_type": "stream",
          "text": [
            "Overwriting test.cpp\n"
          ],
          "name": "stdout"
        }
      ]
    },
    {
      "cell_type": "code",
      "metadata": {
        "id": "OGKMtR0S8c00",
        "colab_type": "code",
        "colab": {
          "base_uri": "https://localhost:8080/",
          "height": 52
        },
        "outputId": "5033cfd8-53e0-4054-baf3-1b96d70183d9"
      },
      "source": [
        "%%script bash\n",
        "g++ test.cpp -o test \n",
        "./test"
      ],
      "execution_count": null,
      "outputs": [
        {
          "output_type": "stream",
          "text": [
            "Before swapping - x: 3 y: 5\n",
            "After swapping - x: 5 y: 3\n"
          ],
          "name": "stdout"
        }
      ]
    },
    {
      "cell_type": "markdown",
      "metadata": {
        "id": "TcXLN0HDEgyh",
        "colab_type": "text"
      },
      "source": [
        "In order to understand how pass by reference works one has to understand how memory works. So every variable in a program contains two things, an adress and a value. The address is where the variable lives in the RAM, and the value is what that variable contains in it.\n",
        "\n",
        "For example, in order to find the address of a variable, type something inside the main function like this:\n",
        "\n",
        "\n",
        "```\n",
        "int a = 56;\n",
        "cout << a << endl; //Value of a\n",
        "cout << &a << endl; //Adress of a\n",
        "```\n",
        "The number `56` which is transferred into `a` is the value of a amd `&a` is the address of `a`.\n",
        "The following program will illustrate it further.\n"
      ]
    },
    {
      "cell_type": "code",
      "metadata": {
        "id": "eMd3q-AH8fEk",
        "colab_type": "code",
        "colab": {
          "base_uri": "https://localhost:8080/",
          "height": 35
        },
        "outputId": "34bc861e-622f-44bb-84f8-478126d8d0a1"
      },
      "source": [
        "%%writefile test.cpp\n",
        "#include <iostream>\n",
        "using namespace std;\n",
        "int main() {\n",
        "\tint a = 3;\n",
        "\tcout << \"The value of a is: \" << a << endl;\n",
        "\tcout << \"The address of a is: \" << &a << endl;\n",
        "\treturn 0;\n",
        "}"
      ],
      "execution_count": null,
      "outputs": [
        {
          "output_type": "stream",
          "text": [
            "Overwriting test.cpp\n"
          ],
          "name": "stdout"
        }
      ]
    },
    {
      "cell_type": "code",
      "metadata": {
        "id": "6-TKXPDjId3K",
        "colab_type": "code",
        "colab": {
          "base_uri": "https://localhost:8080/",
          "height": 52
        },
        "outputId": "ca04ba16-f4af-4ed4-d417-63df211bdaef"
      },
      "source": [
        "%%script bash\n",
        "g++ test.cpp -o test \n",
        "./test"
      ],
      "execution_count": null,
      "outputs": [
        {
          "output_type": "stream",
          "text": [
            "The value of a is: 3\n",
            "The address of a is: 0x7fff99a9e664\n"
          ],
          "name": "stdout"
        }
      ]
    },
    {
      "cell_type": "markdown",
      "metadata": {
        "id": "ASNBlwvlL8eo",
        "colab_type": "text"
      },
      "source": [
        "Now the value of `&a` needs to be stored somewhere, something similar to how to values are stored in some variables. In the case of address of variables though, the addresses of variables are not stored little bit differently.\n",
        "The following way of storing is wrong:\n",
        "`int y = &a`. The correct way to store the address is `int *y = &a`. The `*` symbol denotes that `&a` is not a normal data type, instead it is of address data type, and it has to be stored in a different way.\n",
        "So, in order to find out the value of `a` and the address of `a` as it is stored in the variable `y`, one has to do the following: "
      ]
    },
    {
      "cell_type": "code",
      "metadata": {
        "id": "0Nq4nxB1IekJ",
        "colab_type": "code",
        "colab": {
          "base_uri": "https://localhost:8080/",
          "height": 35
        },
        "outputId": "a2b52d40-59c1-4fd0-f7c3-2285c3488703"
      },
      "source": [
        "%%writefile test.cpp\n",
        "#include <iostream>\n",
        "using namespace std;\n",
        "int main() {\n",
        "\tint a = 3;\n",
        "\tint *y = &a;\n",
        "\tcout << \"y will give the address of the variable a\" << endl;\n",
        "\tcout << \"y is : \" << y << \" and &a is : \" << &a << endl;\n",
        "\tcout << \"*y will give the value of the variable a\" << endl;\n",
        "\tcout << \"*y is : \" << *y << \" and a is : \" << a << endl;\n",
        "\treturn 0;\n",
        "}"
      ],
      "execution_count": null,
      "outputs": [
        {
          "output_type": "stream",
          "text": [
            "Overwriting test.cpp\n"
          ],
          "name": "stdout"
        }
      ]
    },
    {
      "cell_type": "code",
      "metadata": {
        "id": "B9tlk56ySZ-Y",
        "colab_type": "code",
        "colab": {
          "base_uri": "https://localhost:8080/",
          "height": 87
        },
        "outputId": "175424f8-c3eb-4395-9e0f-cac0d25232cc"
      },
      "source": [
        "%%script bash\n",
        "g++ test.cpp -o test \n",
        "./test"
      ],
      "execution_count": null,
      "outputs": [
        {
          "output_type": "stream",
          "text": [
            "y will give the address of the variable a\n",
            "y is : 0x7ffe785af75c and &a is : 0x7ffe785af75c\n",
            "*y will give the value of the variable a\n",
            "*y is : 3 and a is : 3\n"
          ],
          "name": "stdout"
        }
      ]
    },
    {
      "cell_type": "markdown",
      "metadata": {
        "id": "qtD7SVQZYwB_",
        "colab_type": "text"
      },
      "source": [
        "One has to remember an important nomenclature while dealing with addresses of variables. In the following example:\n",
        "```\n",
        "int x = 10;\n",
        "int *y = &x;\n",
        "cout << *y << endl; //Gets value of x \n",
        "cout << y << endl; //Gets address of x\n",
        "\n",
        "```\n",
        "`*y` is known as dereferencing. There are couple of things to notice in the above code:\n",
        "```\n",
        "int a = &x; //It is not allowed\n",
        "int y = 95 // It is also not allowed\n",
        "```\n"
      ]
    },
    {
      "cell_type": "markdown",
      "metadata": {
        "id": "W4EC3SSBcJ5y",
        "colab_type": "text"
      },
      "source": [
        "Pass by address as mentioned happens due to something known as aliasing.\n",
        "Here is an example how it works:"
      ]
    },
    {
      "cell_type": "code",
      "metadata": {
        "id": "yKAii-laSbwY",
        "colab_type": "code",
        "colab": {
          "base_uri": "https://localhost:8080/",
          "height": 35
        },
        "outputId": "644fdac7-2464-461e-cd12-349043f1957f"
      },
      "source": [
        "%%writefile test.cpp\n",
        "#include <iostream>\n",
        "using namespace std;\n",
        "int main() {\n",
        "\tint a = 5;\n",
        "\t/*\n",
        "\t The line below replicates the passing of\n",
        "\t the variable a to the parameter of the\n",
        "\t function passByReference in the code block\n",
        "\t for passByReference\n",
        "\t*/\n",
        "\tint &x = a;\n",
        "\t/*\n",
        "\t Here, when the above code is compiled, a very\n",
        "\t important thing happens, the variable x and\n",
        "\t a , shares the same value. So, if the following\n",
        "\t is done to the value of x ...\n",
        "\t*/\n",
        "\tx = 56;\n",
        "\t//The value of a also changes to 56\n",
        "\tcout << \"a is: \" << a << endl;\n",
        "\tcout << \"x is: \" << x << endl;\n",
        "\treturn 0;\n",
        "}"
      ],
      "execution_count": null,
      "outputs": [
        {
          "output_type": "stream",
          "text": [
            "Overwriting test.cpp\n"
          ],
          "name": "stdout"
        }
      ]
    },
    {
      "cell_type": "code",
      "metadata": {
        "id": "HjPLiovcfhZl",
        "colab_type": "code",
        "colab": {
          "base_uri": "https://localhost:8080/",
          "height": 52
        },
        "outputId": "a583a8f1-ea39-4338-e0c0-cda8bd9d8b46"
      },
      "source": [
        "%%script bash\n",
        "g++ test.cpp -o test \n",
        "./test"
      ],
      "execution_count": null,
      "outputs": [
        {
          "output_type": "stream",
          "text": [
            "a is: 56\n",
            "x is: 56\n"
          ],
          "name": "stdout"
        }
      ]
    },
    {
      "cell_type": "markdown",
      "metadata": {
        "id": "tA-b4DgUk9dJ",
        "colab_type": "text"
      },
      "source": [
        "Compare the above program with the program below:"
      ]
    },
    {
      "cell_type": "code",
      "metadata": {
        "id": "eKSu14n-jhRq",
        "colab_type": "code",
        "colab": {
          "base_uri": "https://localhost:8080/",
          "height": 35
        },
        "outputId": "f7e60283-fc75-423d-9e31-b5feaa026a41"
      },
      "source": [
        "%%writefile test.cpp\n",
        "#include <iostream>\n",
        "using namespace std;\n",
        "int main() {\n",
        "\tint a = 5;\n",
        "\tint x = a;\n",
        "\tx = 56;\n",
        "\n",
        "\tcout << \"a is: \" << a << endl;\n",
        "\tcout << \"x is: \" << x << endl;\n",
        "\n",
        "\treturn 0;\n",
        "}"
      ],
      "execution_count": null,
      "outputs": [
        {
          "output_type": "stream",
          "text": [
            "Overwriting test.cpp\n"
          ],
          "name": "stdout"
        }
      ]
    },
    {
      "cell_type": "code",
      "metadata": {
        "id": "o_veu47BlJ5S",
        "colab_type": "code",
        "colab": {
          "base_uri": "https://localhost:8080/",
          "height": 52
        },
        "outputId": "f05fb006-3a1a-4143-88b7-53eb4a263bad"
      },
      "source": [
        "%%script bash\n",
        "g++ test.cpp -o test \n",
        "./test"
      ],
      "execution_count": null,
      "outputs": [
        {
          "output_type": "stream",
          "text": [
            "a is: 5\n",
            "x is: 56\n"
          ],
          "name": "stdout"
        }
      ]
    },
    {
      "cell_type": "markdown",
      "metadata": {
        "id": "QEZC8BGnlUZO",
        "colab_type": "text"
      },
      "source": [
        "The value of the variable `a` does not change, only the value of the variable `x` change. Note this is a very important concept, we will revisit it in the later chapters."
      ]
    },
    {
      "cell_type": "markdown",
      "metadata": {
        "id": "rO60wsjXmMe2",
        "colab_type": "text"
      },
      "source": [
        "One of the important implications of pass by reference and pass by memory is that, it can used to return the value of more than one variable from a function."
      ]
    },
    {
      "cell_type": "code",
      "metadata": {
        "id": "Iz8BKSNNmkpI",
        "colab_type": "code",
        "colab": {
          "base_uri": "https://localhost:8080/",
          "height": 35
        },
        "outputId": "935767aa-bfa3-4590-bc94-8b9803136b4f"
      },
      "source": [
        "%%writefile test.cpp\n",
        "#include <iostream>\n",
        "using namespace std;\n",
        "//Using pass by reference\n",
        "/*\n",
        " Remember very carefully of \"&\" infront of \"addition\" and \"multiplication\"\n",
        " This helps to relay the computation in the function addAndMult\n",
        " to the main function.\n",
        "*/\n",
        "\n",
        "void addAndmult(int &addition, int &multiplication, int a , int b) {\n",
        "\taddition = a + b; multiplication = a * b;\n",
        "}\n",
        "int main() {\n",
        "\tint a = 5; int b = 6; int add = 0; int mult = 0;\n",
        "\taddAndmult(add, mult, a, b);\n",
        "\tcout << \"After adding a and b: \" << add << endl;\n",
        "\tcout << \"After multiplying a and b: \" << mult << endl;\n",
        "\treturn 0;\n",
        "}"
      ],
      "execution_count": null,
      "outputs": [
        {
          "output_type": "stream",
          "text": [
            "Overwriting test.cpp\n"
          ],
          "name": "stdout"
        }
      ]
    },
    {
      "cell_type": "code",
      "metadata": {
        "id": "fzFl5aokG-t_",
        "colab_type": "code",
        "colab": {
          "base_uri": "https://localhost:8080/",
          "height": 52
        },
        "outputId": "fe1ec59e-7a1d-4c42-e4ca-6ec4e836dbae"
      },
      "source": [
        "%%script bash\n",
        "g++ test.cpp -o test \n",
        "./test"
      ],
      "execution_count": null,
      "outputs": [
        {
          "output_type": "stream",
          "text": [
            "After adding a and b: 11\n",
            "After multiplying a and b: 30\n"
          ],
          "name": "stdout"
        }
      ]
    },
    {
      "cell_type": "markdown",
      "metadata": {
        "id": "4rdkgVZZHK1C",
        "colab_type": "text"
      },
      "source": [
        "Another way of getting the same effect using pass by address concepts"
      ]
    },
    {
      "cell_type": "code",
      "metadata": {
        "id": "9LNGr97wlKy7",
        "colab_type": "code",
        "colab": {
          "base_uri": "https://localhost:8080/",
          "height": 35
        },
        "outputId": "f154c78e-2b08-45b6-f4ae-158ed6e6070a"
      },
      "source": [
        "%%writefile test.cpp\n",
        "#include <iostream>\n",
        "using namespace std;\n",
        "//Using pass by reference\n",
        "/*\n",
        " Remember very carefully of \"&\" infront of \"addition\" and \"multiplication\"\n",
        " This helps to relay the computation in the function addAndMult\n",
        " to the main function.\n",
        "*/\n",
        "\n",
        "void addAndmult(int *addition, int *multiplication, int a , int b) {\n",
        "\t*addition = a + b; *multiplication = a * b;\n",
        "}\n",
        "int main() {\n",
        "\tint a = 5; int b = 6; int add = 0; int mult = 0;\n",
        "\t//Since this int *y = &x , therefore\n",
        "\taddAndmult(&add, &mult, a, b);\n",
        "\tcout << \"After adding a and b: \" << add << endl;\n",
        "\tcout << \"After multiplying a and b: \" << mult << endl;\n",
        "\treturn 0;\n",
        "}"
      ],
      "execution_count": null,
      "outputs": [
        {
          "output_type": "stream",
          "text": [
            "Overwriting test.cpp\n"
          ],
          "name": "stdout"
        }
      ]
    },
    {
      "cell_type": "code",
      "metadata": {
        "id": "5kQ4P53zHTf8",
        "colab_type": "code",
        "colab": {
          "base_uri": "https://localhost:8080/",
          "height": 52
        },
        "outputId": "36b28d21-9e06-4ba2-c277-ba49e4e85163"
      },
      "source": [
        "%%script bash\n",
        "g++ test.cpp -o test \n",
        "./test"
      ],
      "execution_count": null,
      "outputs": [
        {
          "output_type": "stream",
          "text": [
            "After adding a and b: 11\n",
            "After multiplying a and b: 30\n"
          ],
          "name": "stdout"
        }
      ]
    },
    {
      "cell_type": "markdown",
      "metadata": {
        "id": "5e2U7VL6KRam",
        "colab_type": "text"
      },
      "source": [
        "These above two examples of \"returning\" more than one value from a C++ function."
      ]
    },
    {
      "cell_type": "markdown",
      "metadata": {
        "id": "8thS0arXKqY2",
        "colab_type": "text"
      },
      "source": [
        "# String\n",
        "In order to handle alphanumeric characters string is used in C++. Here only string class will be shown, array based implementation will be shown in more detail in the later chapters."
      ]
    },
    {
      "cell_type": "code",
      "metadata": {
        "id": "NAj-Yt_0Ieox",
        "colab_type": "code",
        "colab": {
          "base_uri": "https://localhost:8080/",
          "height": 35
        },
        "outputId": "43f9f15f-8350-405f-bdeb-29f6724fe05f"
      },
      "source": [
        "%%writefile test.cpp\n",
        "#include <iostream>\n",
        "using namespace std;\n",
        "\n",
        "int main() {\n",
        "\t//So a string can be written something like this\n",
        "\tstring str = \"hello today is 15th June\";\n",
        "\t//In order to find the length of a string, do something like\n",
        "\tcout << \"Length of the string is: \" << str.length() << endl;\n",
        "\n",
        "\t//You can iterate the string like so:\n",
        "\tint len = str.length();\n",
        "\tfor (int i = 0; i < len; ++i) {\n",
        "\t\tcout << str[i] << \" \";\n",
        "\t}\n",
        "\tcout << endl;\n",
        "\t//You can also find substring of a given string like this\n",
        "\tint start = 5; int numOfChar = 6;\n",
        "\tcout << \"The substring is:\" << str.substr(start, numOfChar);\n",
        "\n",
        "\treturn 0;\n",
        "}"
      ],
      "execution_count": null,
      "outputs": [
        {
          "output_type": "stream",
          "text": [
            "Overwriting test.cpp\n"
          ],
          "name": "stdout"
        }
      ]
    },
    {
      "cell_type": "code",
      "metadata": {
        "id": "hKQh-zfIiCG9",
        "colab_type": "code",
        "colab": {
          "base_uri": "https://localhost:8080/",
          "height": 69
        },
        "outputId": "c46fcaa7-624a-4de0-d7ef-4c8ec361f363"
      },
      "source": [
        "%%script bash\n",
        "g++ test.cpp -o test \n",
        "./test"
      ],
      "execution_count": null,
      "outputs": [
        {
          "output_type": "stream",
          "text": [
            "Length of the string is: 24\n",
            "h e l l o   t o d a y   i s   1 5 t h   J u n e \n",
            "The substring is: today"
          ],
          "name": "stdout"
        }
      ]
    },
    {
      "cell_type": "markdown",
      "metadata": {
        "id": "_HzLhfTAkNbQ",
        "colab_type": "text"
      },
      "source": [
        "One of the application of pass by reference when it comes to string is given below:"
      ]
    },
    {
      "cell_type": "code",
      "metadata": {
        "id": "-DgqJIrUiClv",
        "colab_type": "code",
        "colab": {
          "base_uri": "https://localhost:8080/",
          "height": 35
        },
        "outputId": "719187cd-de41-47e3-a973-508a2ae44387"
      },
      "source": [
        "%%writefile test.cpp\n",
        "#include <iostream>\n",
        "using namespace std;\n",
        "//Using pass by reference\n",
        "/*\n",
        " Count the number of vowels,consonants and space in a string\n",
        "*/\n",
        "\n",
        "void numOfVowConsSpace(string str, int &vowel, int &cons, int &space) {\n",
        "\tint len = str.length();\n",
        "\tfor (int i = 0; i < len; ++i) {\n",
        "\t\tif (str[i] == ' ') {\n",
        "\t\t\tspace = space + 1;\n",
        "\t\t}\n",
        "\t\telse if (str[i] == 'a' || str[i] == 'e' || str[i] == 'i' || str[i] == 'o' || str[i] == 'u') {\n",
        "\t\t\tvowel = vowel + 1;\n",
        "\t\t}\n",
        "\t\telse {\n",
        "\t\t\tcons = cons + 1;\n",
        "\t\t}\n",
        "\t}\n",
        "}\n",
        "int main() {\n",
        "\tstring str = \"today is monday\";\n",
        "\tint vowel = 0; int cons = 0; int space = 0;\n",
        "\tnumOfVowConsSpace(str, vowel, cons, space);\n",
        "\tcout << \"Number of vowels : \" << vowel << endl;\n",
        "\tcout << \"Number of consonant : \" << cons << endl;\n",
        "\tcout << \"Number of space : \" << space << endl;\n",
        "\n",
        "\treturn 0;\n",
        "}"
      ],
      "execution_count": null,
      "outputs": [
        {
          "output_type": "stream",
          "text": [
            "Overwriting test.cpp\n"
          ],
          "name": "stdout"
        }
      ]
    },
    {
      "cell_type": "code",
      "metadata": {
        "id": "CAFnTrZJlzBi",
        "colab_type": "code",
        "colab": {
          "base_uri": "https://localhost:8080/",
          "height": 69
        },
        "outputId": "84cd3568-e089-47a8-aef3-a9ef6e5153d2"
      },
      "source": [
        "%%script bash\n",
        "g++ test.cpp -o test \n",
        "./test\n"
      ],
      "execution_count": null,
      "outputs": [
        {
          "output_type": "stream",
          "text": [
            "Number of vowels : 5\n",
            "Number of consonant : 8\n",
            "Number of space : 2\n"
          ],
          "name": "stdout"
        }
      ]
    },
    {
      "cell_type": "markdown",
      "metadata": {
        "id": "4lBwaqOJnMzj",
        "colab_type": "text"
      },
      "source": [
        "One another interesting application of pass by reference is that the content of a string variable can change just like a variable of int, float  or double while using aliasing.\n",
        "\n",
        "An example is shown below:"
      ]
    },
    {
      "cell_type": "code",
      "metadata": {
        "id": "CXZGdRRsmb1x",
        "colab_type": "code",
        "colab": {
          "base_uri": "https://localhost:8080/",
          "height": 35
        },
        "outputId": "05ad93ee-6dbc-4492-d393-235c00faf504"
      },
      "source": [
        "%%writefile test.cpp\n",
        "#include <iostream>\n",
        "using namespace std;\n",
        "//Using pass by reference\n",
        "/*\n",
        " Count the number of vowels and consonants in a string\n",
        "*/\n",
        "\n",
        "void changeColor(string &color) {\n",
        "\tcolor = \"blue\";\n",
        "}\n",
        "int main() {\n",
        "\tstring str = \"red\";\n",
        "\tchangeColor(str);\n",
        "\tcout << \"Color is now: \" << str << endl;\n",
        "\treturn 0;\n",
        "}"
      ],
      "execution_count": null,
      "outputs": [
        {
          "output_type": "stream",
          "text": [
            "Overwriting test.cpp\n"
          ],
          "name": "stdout"
        }
      ]
    },
    {
      "cell_type": "code",
      "metadata": {
        "id": "wBDmUcrMoPBa",
        "colab_type": "code",
        "colab": {
          "base_uri": "https://localhost:8080/",
          "height": 35
        },
        "outputId": "1b7f2efd-1e26-4169-e9ae-0f42efe80362"
      },
      "source": [
        "%%script bash\n",
        "g++ test.cpp -o test \n",
        "./test\n"
      ],
      "execution_count": null,
      "outputs": [
        {
          "output_type": "stream",
          "text": [
            "Color is now: blue\n"
          ],
          "name": "stdout"
        }
      ]
    },
    {
      "cell_type": "markdown",
      "metadata": {
        "id": "5nJUjDbioSbw",
        "colab_type": "text"
      },
      "source": [
        "There will be a comprehensive discussion about string and pass by reference in the coming lesson, for now appreciate that the strings can be changed using pass by reference, without any explicit return from a function."
      ]
    },
    {
      "cell_type": "markdown",
      "metadata": {
        "id": "f7ii4wvPonYg",
        "colab_type": "text"
      },
      "source": [
        "# File\n",
        "Writing to a file and reading to a file is important aspect of C++. It is important to read stored data from disk , as well write data to disk for later usage.\n",
        "\n",
        "**1. Reading a file from disk**\n",
        "\n",
        "Write something to a file named hello.txt"
      ]
    },
    {
      "cell_type": "code",
      "metadata": {
        "id": "hfUMCkeU9YWU",
        "colab_type": "code",
        "colab": {
          "base_uri": "https://localhost:8080/",
          "height": 35
        },
        "outputId": "b17df61c-53a4-4f3c-e254-96f4815762da"
      },
      "source": [
        "%%writefile hello.txt\n",
        "So, we meet again, after all these years.\n",
        "It has been some time."
      ],
      "execution_count": null,
      "outputs": [
        {
          "output_type": "stream",
          "text": [
            "Writing hello.txt\n"
          ],
          "name": "stdout"
        }
      ]
    },
    {
      "cell_type": "markdown",
      "metadata": {
        "id": "oUrxE2_M-zcF",
        "colab_type": "text"
      },
      "source": [
        "And then read from that text file"
      ]
    },
    {
      "cell_type": "code",
      "metadata": {
        "id": "W4vWxdWWopgh",
        "colab_type": "code",
        "colab": {
          "base_uri": "https://localhost:8080/",
          "height": 35
        },
        "outputId": "9694c3ac-b002-40b9-c667-8960b5a5f410"
      },
      "source": [
        "%%writefile test.cpp\n",
        "#include <iostream>\n",
        "#include <fstream>\n",
        "#include <string>\n",
        "using namespace std;\n",
        "\n",
        "int main() {\n",
        "\n",
        "\t/*\n",
        "\tInitialize the variable file with the filename\n",
        "\tThe file type is ifstream. ifstream is also\n",
        "\tknown as input file stream\n",
        "\t*/\n",
        "\tifstream myfile(\"hello.txt\");\n",
        "\n",
        "\t//If the file is not open, do not do anything\n",
        "\tif (!myfile.is_open()) {\n",
        "\t\tcout << \"Could not read\" << endl;\n",
        "\t\treturn -1;\n",
        "\t}\n",
        "\n",
        "\t/*\n",
        "\tElse read the file line by line from filestream\n",
        "\tvariable myfile to a string myStr\n",
        "\t*/\n",
        "\tstring myStr;\n",
        "\twhile (getline(myfile, myStr)) {\n",
        "\t\tcout << myStr << endl;\n",
        "\t}\n",
        "\treturn 0;\n",
        "}"
      ],
      "execution_count": null,
      "outputs": [
        {
          "output_type": "stream",
          "text": [
            "Overwriting test.cpp\n"
          ],
          "name": "stdout"
        }
      ]
    },
    {
      "cell_type": "code",
      "metadata": {
        "id": "Oz3FaVOI9u-B",
        "colab_type": "code",
        "colab": {
          "base_uri": "https://localhost:8080/",
          "height": 52
        },
        "outputId": "16ac1cd9-6364-433e-ab80-ecc6951af1cb"
      },
      "source": [
        "%%script bash\n",
        "g++ test.cpp -o test \n",
        "./test"
      ],
      "execution_count": null,
      "outputs": [
        {
          "output_type": "stream",
          "text": [
            "So, we meet again, after all these years.\n",
            "It has been some time.\n"
          ],
          "name": "stdout"
        }
      ]
    },
    {
      "cell_type": "markdown",
      "metadata": {
        "id": "AMkO13tvAEmU",
        "colab_type": "text"
      },
      "source": [
        "**2. Writing a file into disk**"
      ]
    },
    {
      "cell_type": "code",
      "metadata": {
        "id": "Or1IGKmH9xLJ",
        "colab_type": "code",
        "colab": {
          "base_uri": "https://localhost:8080/",
          "height": 35
        },
        "outputId": "b64c526d-1df7-43ec-ea00-fd0f0730acc1"
      },
      "source": [
        "%%writefile test.cpp\n",
        "#include <iostream>\n",
        "#include <fstream>\n",
        "using namespace std;\n",
        "\n",
        "int main() {\n",
        "\n",
        "\t/*\n",
        "\tInitialize the variable file with the filename\n",
        "\tThe file type is now ofstream. ofstream is also\n",
        "\tknown as output file stream\n",
        "\t*/\n",
        "\tofstream myfile(\"hello.txt\");\n",
        "\n",
        "\t//If the file is not open, do not do anything\n",
        "\tif (!myfile.is_open()) {\n",
        "\t\tcout << \"Could not read\" << endl;\n",
        "\t\treturn -1;\n",
        "\t}\n",
        "\n",
        "\t/*\n",
        "\tElse write something to the filestream\n",
        "\t*/\n",
        "\tmyfile << \"I see, it really has been sometime\";\n",
        "\treturn 0;\n",
        "}"
      ],
      "execution_count": null,
      "outputs": [
        {
          "output_type": "stream",
          "text": [
            "Overwriting test.cpp\n"
          ],
          "name": "stdout"
        }
      ]
    },
    {
      "cell_type": "code",
      "metadata": {
        "id": "3fmtRSwbBvTl",
        "colab_type": "code",
        "colab": {}
      },
      "source": [
        "%%script bash\n",
        "g++ test.cpp -o test \n",
        "./test"
      ],
      "execution_count": null,
      "outputs": []
    },
    {
      "cell_type": "markdown",
      "metadata": {
        "id": "b5ezPXuuB4vi",
        "colab_type": "text"
      },
      "source": [
        "**3. Appending text to a file**\n",
        "\n",
        "\n",
        "If you want to append to an existing file containing previous data."
      ]
    },
    {
      "cell_type": "code",
      "metadata": {
        "id": "eVjSMldgBxA-",
        "colab_type": "code",
        "colab": {
          "base_uri": "https://localhost:8080/",
          "height": 35
        },
        "outputId": "de6b5105-bd8c-4228-d905-9560a10356a6"
      },
      "source": [
        "%%writefile test.cpp\n",
        "#include <iostream>\n",
        "#include <fstream>\n",
        "using namespace std;\n",
        "\n",
        "int main() {\n",
        "\n",
        "\t/*\n",
        "\tInitialize the variable file with the filename\n",
        "\tThe file type is now ofstream. ofstream is also\n",
        "\tknown as output file stream. If you want to append\n",
        "\tto an exisiting file, you have to write like the\n",
        "\tfollowing...\n",
        "\t*/\n",
        "\tofstream myfile(\"hello.txt\", ios_base::out | ios_base::app);\n",
        "\n",
        "\t//If the file is not open, do not do anything\n",
        "\tif (!myfile.is_open()) {\n",
        "\t\tcout << \"Could not read\" << endl;\n",
        "\t\treturn -1;\n",
        "\t}\n",
        "\n",
        "\t/*\n",
        "\tElse write something to the filestream\n",
        "\t*/\n",
        "\tmyfile << \"I didn't realize that you will be waiting for me for so long\";\n",
        "\treturn 0;\n",
        "}"
      ],
      "execution_count": null,
      "outputs": [
        {
          "output_type": "stream",
          "text": [
            "Overwriting test.cpp\n"
          ],
          "name": "stdout"
        }
      ]
    },
    {
      "cell_type": "code",
      "metadata": {
        "id": "nl6NUyPjDNnA",
        "colab_type": "code",
        "colab": {}
      },
      "source": [
        "%%script bash\n",
        "g++ test.cpp -o test \n",
        "./test"
      ],
      "execution_count": null,
      "outputs": []
    },
    {
      "cell_type": "markdown",
      "metadata": {
        "id": "s9LlhzokDRti",
        "colab_type": "text"
      },
      "source": [
        "To test whether the file contains what you were expecting you can test the file reading program and see what is in the file `hello.txt`"
      ]
    },
    {
      "cell_type": "markdown",
      "metadata": {
        "id": "oYDibb9WGXBh",
        "colab_type": "text"
      },
      "source": [
        "# Recursion\n",
        "This is one another way to write programs in C++. An example is given below:"
      ]
    },
    {
      "cell_type": "code",
      "metadata": {
        "id": "e858kl-1JO9t",
        "colab_type": "code",
        "colab": {
          "base_uri": "https://localhost:8080/",
          "height": 35
        },
        "outputId": "03db2924-7387-4785-bdae-a1654de19faa"
      },
      "source": [
        "%%writefile test.cpp\n",
        "#include <iostream>\n",
        "\n",
        "using namespace std;\n",
        "void printNumber(int num) {\n",
        "\tfor (int i = 0; i < num; ++i) {\n",
        "\t\tcout << i << endl;\n",
        "\t}\n",
        "}\n",
        "int main() {\n",
        "\tint a = 5;\n",
        "\tprintNumber(a);\n",
        "\treturn 0;\n",
        "}"
      ],
      "execution_count": null,
      "outputs": [
        {
          "output_type": "stream",
          "text": [
            "Overwriting test.cpp\n"
          ],
          "name": "stdout"
        }
      ]
    },
    {
      "cell_type": "code",
      "metadata": {
        "id": "FzaKfH2FLZ4m",
        "colab_type": "code",
        "colab": {
          "base_uri": "https://localhost:8080/",
          "height": 104
        },
        "outputId": "740c1b70-04c1-4eb1-b75b-56a8003d468f"
      },
      "source": [
        "%%script bash\n",
        "g++ test.cpp -o test \n",
        "./test"
      ],
      "execution_count": null,
      "outputs": [
        {
          "output_type": "stream",
          "text": [
            "0\n",
            "1\n",
            "2\n",
            "3\n",
            "4\n"
          ],
          "name": "stdout"
        }
      ]
    },
    {
      "cell_type": "markdown",
      "metadata": {
        "id": "WdMo3vaiMCD1",
        "colab_type": "text"
      },
      "source": [
        "It can be also be written like this:"
      ]
    },
    {
      "cell_type": "code",
      "metadata": {
        "id": "85E2shMKL_S3",
        "colab_type": "code",
        "colab": {
          "base_uri": "https://localhost:8080/",
          "height": 35
        },
        "outputId": "2da2dd4a-f445-47b8-dd6d-ccafc42f2bd6"
      },
      "source": [
        "%%writefile test.cpp\n",
        "#include <iostream>\n",
        "\n",
        "using namespace std;\n",
        "void printNumber(int num) {\n",
        "//What is the meaning of num-- , find it out\n",
        "\twhile (num--) {\n",
        "\t\tcout << num << endl;\n",
        "\t}\n",
        "}\n",
        "int main() {\n",
        "\tint a = 5;\n",
        "\tprintNumber(a);\n",
        "\treturn 0;\n",
        "}"
      ],
      "execution_count": null,
      "outputs": [
        {
          "output_type": "stream",
          "text": [
            "Overwriting test.cpp\n"
          ],
          "name": "stdout"
        }
      ]
    },
    {
      "cell_type": "code",
      "metadata": {
        "id": "j60El6kVMJUT",
        "colab_type": "code",
        "colab": {
          "base_uri": "https://localhost:8080/",
          "height": 104
        },
        "outputId": "7c8d4995-5a2f-4f50-b34f-5d8d0de88042"
      },
      "source": [
        "%%script bash\n",
        "g++ test.cpp -o test \n",
        "./test"
      ],
      "execution_count": null,
      "outputs": [
        {
          "output_type": "stream",
          "text": [
            "4\n",
            "3\n",
            "2\n",
            "1\n",
            "0\n"
          ],
          "name": "stdout"
        }
      ]
    },
    {
      "cell_type": "markdown",
      "metadata": {
        "id": "hjyy6FzKNQGY",
        "colab_type": "text"
      },
      "source": [
        "Something in the while loop can be done to make it more interesting."
      ]
    },
    {
      "cell_type": "code",
      "metadata": {
        "id": "AJISHIgeMUcw",
        "colab_type": "code",
        "colab": {
          "base_uri": "https://localhost:8080/",
          "height": 35
        },
        "outputId": "f98cd07f-ce2d-4f6e-bcde-18609c81ff61"
      },
      "source": [
        "%%writefile test.cpp\n",
        "#include <iostream>\n",
        "\n",
        "using namespace std;\n",
        "void printNumber(int num) {\n",
        "//What is the meaning of num-- , find it out\n",
        "\twhile (num--) {\n",
        "\t\tif (num == 5) return ;\n",
        "\t\telse cout << num << endl;\n",
        "\t}\n",
        "}\n",
        "int main() {\n",
        "\tint a = 10;\n",
        "\tprintNumber(a);\n",
        "\treturn 0;\n",
        "}"
      ],
      "execution_count": null,
      "outputs": [
        {
          "output_type": "stream",
          "text": [
            "Overwriting test.cpp\n"
          ],
          "name": "stdout"
        }
      ]
    },
    {
      "cell_type": "code",
      "metadata": {
        "id": "M6YD0kaVNsnC",
        "colab_type": "code",
        "colab": {
          "base_uri": "https://localhost:8080/",
          "height": 87
        },
        "outputId": "bf402716-07c0-4970-cdf3-37511e64819f"
      },
      "source": [
        "%%script bash\n",
        "g++ test.cpp -o test \n",
        "./test"
      ],
      "execution_count": null,
      "outputs": [
        {
          "output_type": "stream",
          "text": [
            "9\n",
            "8\n",
            "7\n",
            "6\n"
          ],
          "name": "stdout"
        }
      ]
    },
    {
      "cell_type": "markdown",
      "metadata": {
        "id": "-49vtgRhOSZ_",
        "colab_type": "text"
      },
      "source": [
        "Finally it can be written be written like this:"
      ]
    },
    {
      "cell_type": "code",
      "metadata": {
        "id": "0zs2wirSOGpA",
        "colab_type": "code",
        "colab": {
          "base_uri": "https://localhost:8080/",
          "height": 35
        },
        "outputId": "7e7eb72c-9e37-44ea-cdb9-753615235b84"
      },
      "source": [
        "%%writefile test.cpp\n",
        "#include <iostream>\n",
        "\n",
        "using namespace std;\n",
        "void printNumber(int num) {\n",
        "\tif (num == 0) return ;\n",
        "\telse cout << num << endl;\n",
        "\tprintNumber(--num);\n",
        "}\n",
        "int main() {\n",
        "\tint a = 10;\n",
        "\tprintNumber(a);\n",
        "\treturn 0;\n",
        "}"
      ],
      "execution_count": null,
      "outputs": [
        {
          "output_type": "stream",
          "text": [
            "Overwriting test.cpp\n"
          ],
          "name": "stdout"
        }
      ]
    },
    {
      "cell_type": "code",
      "metadata": {
        "id": "TOgnV60GO0WZ",
        "colab_type": "code",
        "colab": {
          "base_uri": "https://localhost:8080/",
          "height": 191
        },
        "outputId": "124f335f-289f-4dff-cfba-56f81e32b318"
      },
      "source": [
        "%%script bash\n",
        "g++ test.cpp -o test \n",
        "./test"
      ],
      "execution_count": null,
      "outputs": [
        {
          "output_type": "stream",
          "text": [
            "10\n",
            "9\n",
            "8\n",
            "7\n",
            "6\n",
            "5\n",
            "4\n",
            "3\n",
            "2\n",
            "1\n"
          ],
          "name": "stdout"
        }
      ]
    },
    {
      "cell_type": "markdown",
      "metadata": {
        "id": "05yqYzvuQMCI",
        "colab_type": "text"
      },
      "source": [
        "Let us modify the code a little bit more."
      ]
    },
    {
      "cell_type": "code",
      "metadata": {
        "id": "n1hsB0RlP_uj",
        "colab_type": "code",
        "colab": {
          "base_uri": "https://localhost:8080/",
          "height": 35
        },
        "outputId": "f3e8dec4-01e0-445d-8fa6-eb16ade17c55"
      },
      "source": [
        "%%writefile test.cpp\n",
        "#include <iostream>\n",
        "\n",
        "using namespace std;\n",
        "void printNumber(int num) {\n",
        "\tif (num == 0) return ;\n",
        "\telse cout << num << endl;\n",
        "\tnum = num - 1;\n",
        "\tprintNumber(num);\n",
        "}\n",
        "int main() {\n",
        "\tint a = 10;\n",
        "\tprintNumber(a);\n",
        "\treturn 0;\n",
        "}"
      ],
      "execution_count": null,
      "outputs": [
        {
          "output_type": "stream",
          "text": [
            "Overwriting test.cpp\n"
          ],
          "name": "stdout"
        }
      ]
    },
    {
      "cell_type": "code",
      "metadata": {
        "id": "ySpp5v8uO2i3",
        "colab_type": "code",
        "colab": {
          "base_uri": "https://localhost:8080/",
          "height": 191
        },
        "outputId": "51c7cbfc-18dc-4c68-b054-4d15f905982e"
      },
      "source": [
        "%%script bash\n",
        "g++ test.cpp -o test \n",
        "./test"
      ],
      "execution_count": null,
      "outputs": [
        {
          "output_type": "stream",
          "text": [
            "10\n",
            "9\n",
            "8\n",
            "7\n",
            "6\n",
            "5\n",
            "4\n",
            "3\n",
            "2\n",
            "1\n"
          ],
          "name": "stdout"
        }
      ]
    },
    {
      "cell_type": "markdown",
      "metadata": {
        "id": "8XKuC6aNQ6LZ",
        "colab_type": "text"
      },
      "source": [
        "What happens if the code is written like this?"
      ]
    },
    {
      "cell_type": "code",
      "metadata": {
        "id": "ZxNud7-MQ1LR",
        "colab_type": "code",
        "colab": {
          "base_uri": "https://localhost:8080/",
          "height": 35
        },
        "outputId": "14537977-4c56-4bf0-a46c-faede17baa33"
      },
      "source": [
        "%%writefile test.cpp\n",
        "#include <iostream>\n",
        "\n",
        "using namespace std;\n",
        "void printNumber(int num) {\n",
        "\tif (num == 0) return ;\n",
        "\telse cout << num << endl;\n",
        "\t/*\n",
        "\t  Be careful before running this\n",
        "\t  Uncomment it before trying to run it\n",
        "\t*/\n",
        "\t//printNumber(num--);\n",
        "}\n",
        "int main() {\n",
        "\tint a = 10;\n",
        "\tprintNumber(a);\n",
        "\treturn 0;\n",
        "}"
      ],
      "execution_count": null,
      "outputs": [
        {
          "output_type": "stream",
          "text": [
            "Overwriting test.cpp\n"
          ],
          "name": "stdout"
        }
      ]
    },
    {
      "cell_type": "code",
      "metadata": {
        "id": "KPUfVQUcREAw",
        "colab_type": "code",
        "colab": {
          "base_uri": "https://localhost:8080/",
          "height": 35
        },
        "outputId": "6991b480-6320-4f77-8961-df800b7543a5"
      },
      "source": [
        "%%script bash\n",
        "g++ test.cpp -o test \n",
        "./test"
      ],
      "execution_count": null,
      "outputs": [
        {
          "output_type": "stream",
          "text": [
            "10\n"
          ],
          "name": "stdout"
        }
      ]
    },
    {
      "cell_type": "markdown",
      "metadata": {
        "id": "EYLbmbygRL-6",
        "colab_type": "text"
      },
      "source": [
        "Anyhow the last code block that ran successfully is an example of recursive programming. Example of another program which can be written recursively is given below:"
      ]
    },
    {
      "cell_type": "code",
      "metadata": {
        "id": "GylWcAIcVAn2",
        "colab_type": "code",
        "colab": {
          "base_uri": "https://localhost:8080/",
          "height": 35
        },
        "outputId": "9f0ab072-436a-4795-eb64-d17a054b43fb"
      },
      "source": [
        "%%writefile test.cpp\n",
        "#include <iostream>\n",
        "\n",
        "using namespace std;\n",
        "void findEven(int i) {\n",
        "\tif (i > 10)return ;\n",
        "\telse if (i % 2 == 0) cout << i << endl;\n",
        "\tfindEven(++i);\n",
        "}\n",
        "int main() {\n",
        "\tint a = 0;\n",
        "\tfindEven(a);\n",
        "\treturn 0;\n",
        "}"
      ],
      "execution_count": null,
      "outputs": [
        {
          "output_type": "stream",
          "text": [
            "Overwriting test.cpp\n"
          ],
          "name": "stdout"
        }
      ]
    },
    {
      "cell_type": "code",
      "metadata": {
        "id": "V2WpygxDVWjM",
        "colab_type": "code",
        "colab": {
          "base_uri": "https://localhost:8080/",
          "height": 121
        },
        "outputId": "4ad82dbf-29f9-4942-e31d-a390b4fe7c9d"
      },
      "source": [
        "%%script bash\n",
        "g++ test.cpp -o test \n",
        "./test"
      ],
      "execution_count": null,
      "outputs": [
        {
          "output_type": "stream",
          "text": [
            "0\n",
            "2\n",
            "4\n",
            "6\n",
            "8\n",
            "10\n"
          ],
          "name": "stdout"
        }
      ]
    },
    {
      "cell_type": "markdown",
      "metadata": {
        "id": "r5YtqTTBVg00",
        "colab_type": "text"
      },
      "source": [
        "More example of recursive programs will be shown in the upcoming chapters."
      ]
    },
    {
      "cell_type": "markdown",
      "metadata": {
        "id": "4wxfP_aIVqOm",
        "colab_type": "text"
      },
      "source": [
        "# Matrix transformation\n",
        "Topic such as linear transform, rotation, reflection of 2dimensional matrix  will be written here.However , it is right now under construction.\n",
        "\n",
        "I will come back to it hopefully later."
      ]
    },
    {
      "cell_type": "code",
      "metadata": {
        "id": "EU9aYEqLVXSe",
        "colab_type": "code",
        "colab": {}
      },
      "source": [
        ""
      ],
      "execution_count": null,
      "outputs": []
    }
  ]
}