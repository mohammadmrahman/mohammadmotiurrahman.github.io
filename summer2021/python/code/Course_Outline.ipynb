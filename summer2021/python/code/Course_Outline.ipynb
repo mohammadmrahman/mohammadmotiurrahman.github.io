{
  "nbformat": 4,
  "nbformat_minor": 0,
  "metadata": {
    "colab": {
      "name": "Course Outline.ipynb",
      "provenance": [],
      "authorship_tag": "ABX9TyMX95450/EgLLVYDonQkeUT",
      "include_colab_link": true
    },
    "kernelspec": {
      "name": "python3",
      "display_name": "Python 3"
    }
  },
  "cells": [
    {
      "cell_type": "markdown",
      "metadata": {
        "id": "view-in-github",
        "colab_type": "text"
      },
      "source": [
        "<a href=\"https://colab.research.google.com/github/mohammadmotiurrahman/python_workshop/blob/main/Course_Outline.ipynb\" target=\"_parent\"><img src=\"https://colab.research.google.com/assets/colab-badge.svg\" alt=\"Open In Colab\"/></a>"
      ]
    },
    {
      "cell_type": "markdown",
      "metadata": {
        "id": "RObIzPljHS6Q"
      },
      "source": [
        "#Course Outline (Tentative)\r\n",
        "##Python Basics\r\n",
        "##Python in Data Science\r\n",
        "##Python in Web development"
      ]
    },
    {
      "cell_type": "code",
      "metadata": {
        "id": "joGGNVC1HeAv"
      },
      "source": [
        ""
      ],
      "execution_count": null,
      "outputs": []
    }
  ]
}