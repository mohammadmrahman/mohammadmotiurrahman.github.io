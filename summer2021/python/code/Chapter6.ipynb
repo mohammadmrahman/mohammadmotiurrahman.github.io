{
  "nbformat": 4,
  "nbformat_minor": 0,
  "metadata": {
    "colab": {
      "name": "Chapter6.ipynb",
      "provenance": [],
      "collapsed_sections": [],
      "authorship_tag": "ABX9TyO5FzRqPEUk6Wdmr2lepALI",
      "include_colab_link": true
    },
    "kernelspec": {
      "name": "python3",
      "display_name": "Python 3"
    }
  },
  "cells": [
    {
      "cell_type": "markdown",
      "metadata": {
        "id": "view-in-github",
        "colab_type": "text"
      },
      "source": [
        "<a href=\"https://colab.research.google.com/github/mohammadmotiurrahman/mohammadmotiurrahman.github.io/blob/main/python/code/Chapter6.ipynb\" target=\"_parent\"><img src=\"https://colab.research.google.com/assets/colab-badge.svg\" alt=\"Open In Colab\"/></a>"
      ]
    },
    {
      "cell_type": "markdown",
      "metadata": {
        "id": "YvU9CZs3Qm8N"
      },
      "source": [
        "# Multiple Inheritance"
      ]
    },
    {
      "cell_type": "code",
      "metadata": {
        "colab": {
          "base_uri": "https://localhost:8080/"
        },
        "id": "ShNMVXAsQi50",
        "outputId": "db863958-48c3-4f0e-b277-4a762ca6f982"
      },
      "source": [
        "#############################\n",
        "#A->B->C\n",
        "class A(object):\n",
        "\tdef __init__(self, a):\n",
        "\t\tself.a = a + 4\n",
        "\n",
        "\tdef print_a(self):\n",
        "\t\tprint(self.a)\n",
        "\n",
        "class B(A):\n",
        "\tdef __init__(self, a, b):\n",
        "\t\tsuper().__init__(a)\n",
        "\t\tself.b = b  - 5\n",
        "\t\n",
        "\tdef print_b(self):\n",
        "\t\tprint(self.b)\n",
        "\n",
        "class C(B):\n",
        "\tdef __init__(self, a, b, c):\n",
        "\t\tsuper().__init__(a,b)\n",
        "\t\tself.c = c\n",
        "\n",
        "\tdef print_c(self):\n",
        "\t\tprint(self.c)\n",
        "\n",
        "cVar = C(10,20, 30)\n",
        "cVar.print_a()\n",
        "cVar.print_b()\n",
        "cVar.print_c()"
      ],
      "execution_count": null,
      "outputs": [
        {
          "output_type": "stream",
          "text": [
            "14\n",
            "15\n",
            "30\n"
          ],
          "name": "stdout"
        }
      ]
    },
    {
      "cell_type": "code",
      "metadata": {
        "colab": {
          "base_uri": "https://localhost:8080/"
        },
        "id": "YQX8GcXaXhtV",
        "outputId": "e1d9fc9f-37e5-45e7-c703-22bd6ed87b57"
      },
      "source": [
        "#############################\n",
        "#A->B\n",
        "#A->C\n",
        "class A(object):\n",
        "\tdef __init__(self, a):\n",
        "\t\tself.a = a + 4\n",
        "\n",
        "\tdef print_a(self):\n",
        "\t\tprint(self.a)\n",
        "\n",
        "class B(A):\n",
        "\tdef __init__(self, a, b):\n",
        "\t\tsuper().__init__(a)\n",
        "\t\tself.b = b  - 5\n",
        "\t\n",
        "\tdef print_ab(self):\n",
        "\t\tprint(self.a)\n",
        "\t\tprint(self.b)\n",
        "\n",
        "bVar = B(10, 20)\n",
        "bVar.print_ab()\n",
        "\n",
        "class C(A):\n",
        "\tdef __init__(self, a,c):\n",
        "\t\tsuper().__init__(a)\n",
        "\t\tself.c = c + 100\n",
        "\n",
        "\tdef print_ac(self):\n",
        "\t\tprint(self.a)\n",
        "\t\tprint(self.c)\n",
        "\n",
        "cVar = C(10,20)\n",
        "cVar.print_ac()"
      ],
      "execution_count": null,
      "outputs": [
        {
          "output_type": "stream",
          "text": [
            "14\n",
            "15\n",
            "14\n",
            "120\n"
          ],
          "name": "stdout"
        }
      ]
    },
    {
      "cell_type": "code",
      "metadata": {
        "colab": {
          "base_uri": "https://localhost:8080/"
        },
        "id": "PPQZZTAJXlNn",
        "outputId": "1af7aee4-c7d9-490a-a9d6-c5d33b8ad3ad"
      },
      "source": [
        "#############################\n",
        "#A->C\n",
        "#B->C\n",
        "class A(object):\n",
        "\tdef __init__(self, a):\n",
        "\t\tself. a = a+10\n",
        "\n",
        "\tdef print_a(self):\n",
        "\t\tprint(self.a)\n",
        "\n",
        "#aVar = A()\n",
        "\n",
        "class B(object):\n",
        "\tdef __init__(self,b):\n",
        "\t\tself.b = b\n",
        "\n",
        "\tdef print_b(self):\n",
        "\t\tprint(self.b)\n",
        "\n",
        "#bVar = B()\n",
        "\n",
        "class C(A, B):\n",
        "\tdef __init__(self, a,b):\n",
        "\t\tsuper().__init__(a)\n",
        "\n",
        "cVar = C(10,20)\n",
        "cVar.print_a()\n"
      ],
      "execution_count": null,
      "outputs": [
        {
          "output_type": "stream",
          "text": [
            "20\n"
          ],
          "name": "stdout"
        }
      ]
    },
    {
      "cell_type": "code",
      "metadata": {
        "id": "Ah6_IZ5U-8lL"
      },
      "source": [
        "#############################\n",
        "#A->B->D\n",
        "#A->C\n",
        "class A(object):\n",
        "\tdef __init__(self, a):\n",
        "\t\tself.a = a\n",
        "\n",
        "class B(A):\n",
        "\tdef __init__(self, a, b):\n",
        "\t\tsuper().__init__(a)\n",
        "\t\tself.b = b\n",
        "\n",
        "class C(A):\n",
        "\tdef __init__(self, a, c):\n",
        "\t\tsuper().__init__(a)\n",
        "\t\tself.c = c\n",
        "\n",
        "class D(B):\n",
        "\tdef __init__(self, a, b, d):\n",
        "\t\tsuper().__init__(a,b)\n",
        "\t\tself.d = d\n",
        "\n",
        "dVar = D(1,2,3)"
      ],
      "execution_count": null,
      "outputs": []
    },
    {
      "cell_type": "code",
      "metadata": {
        "colab": {
          "base_uri": "https://localhost:8080/"
        },
        "id": "5HDZRjvtDk0T",
        "outputId": "575377cc-852f-4755-c2be-59ee6b6873d6"
      },
      "source": [
        "#############################\n",
        "#It should not work\n",
        "#A->C\n",
        "#A->B\n",
        "#B->D\n",
        "#C->D\n",
        "\n",
        "class A(object):\n",
        "\tdef __init__(self, a):\n",
        "\t\tself.a = a\n",
        "\n",
        "class B(A):\n",
        "\tdef __init__(self, a, b):\n",
        "\t\tsuper().__init__(a)\n",
        "\t\tself.b = b\n",
        "\n",
        "class C(A):\n",
        "\tdef __init__(self, a, c):\n",
        "\t\tsuper().__init__(a)\n",
        "\t\tself.c = c\n",
        "\n",
        "class D(C, B):\n",
        "\tdef __init__(self, a, b, c, d):\n",
        "\t\tsuper().__init__(a,b)\n",
        "\t\tself.c = c\n",
        "\t\tself.d = d\n",
        "try:\n",
        "  dVar = D(1,2,3,4)\n",
        "except:\n",
        "  print(\"Error\")"
      ],
      "execution_count": null,
      "outputs": [
        {
          "output_type": "stream",
          "text": [
            "Error\n"
          ],
          "name": "stdout"
        }
      ]
    },
    {
      "cell_type": "markdown",
      "metadata": {
        "id": "wSSjgbwTVTJ4"
      },
      "source": [
        "# Getter , Setter and Deleter using Python decorator"
      ]
    },
    {
      "cell_type": "code",
      "metadata": {
        "colab": {
          "base_uri": "https://localhost:8080/"
        },
        "id": "A7JBrwTK7qL7",
        "outputId": "dd36325f-19ec-45a4-eaf7-a14e5fa72b59"
      },
      "source": [
        "#############################\n",
        "#Using non-built decorators \n",
        "class Vehicle(object):\n",
        "\tdef __init__(self):\n",
        "\t\tself.wheels = None\n",
        "\n",
        "\tdef getNumWheels(self):\n",
        "\t\treturn self.wheels\n",
        "\t\n",
        "\tdef setNumWheels(self, wheels):\n",
        "\t\tself.wheels = wheels\n",
        "\n",
        "\tdef delNumWheels(self):\n",
        "\t\tself.wheels = None\n",
        "\n",
        "v = Vehicle()\n",
        "\n",
        "v.setNumWheels(12)\n",
        "print(v.getNumWheels())\n",
        "v.delNumWheels()\n",
        "print(v.getNumWheels())\n",
        "\n",
        "class Car(Vehicle):\n",
        "  def __init__(self):\n",
        "    super().__init__()\n",
        "    self.electric = None\n",
        "  \n",
        "  def getElectric(self):\n",
        "    return self.electric\n",
        "  \n",
        "  def setElectric(self, val):\n",
        "    self.electric = val\n",
        "  \n",
        "  def delElectric(self):\n",
        "    self.electric = None\n",
        "\n",
        "c = Car()\n",
        "c.setNumWheels(4)\n",
        "print(c.getNumWheels())\n",
        "c.setElectric(True)\n",
        "print(c.getElectric())"
      ],
      "execution_count": null,
      "outputs": [
        {
          "output_type": "stream",
          "text": [
            "12\n",
            "None\n",
            "4\n",
            "True\n"
          ],
          "name": "stdout"
        }
      ]
    },
    {
      "cell_type": "code",
      "metadata": {
        "colab": {
          "base_uri": "https://localhost:8080/"
        },
        "id": "lsaIpxnsVSIK",
        "outputId": "76b63000-39c0-4819-92c5-02ebfdaff445"
      },
      "source": [
        "#Built in property decorator does not\n",
        "#work during object inheritance\n",
        "class Vehicle(object):\n",
        "  def __init__(self):\n",
        "    self.wheels = None\n",
        "\n",
        "  @property\n",
        "  def numWheels(self):\n",
        "    return self.wheels\n",
        "\n",
        "  @numWheels.setter\n",
        "  def numWheels(self, wheels):\n",
        "    self.wheels = wheels\n",
        "\n",
        "  @numWheels.deleter\n",
        "  def numWheels(self):\n",
        "    self.wheels = None\n",
        "\n",
        "v = Vehicle()\n",
        "\n",
        "#Setter\n",
        "v.numWheels = 3\n",
        "\n",
        "#Getter\n",
        "print(v.numWheels)\n",
        "\n",
        "#Deleter\n",
        "#del v.numWheels\n",
        "\n",
        "#Getter\n",
        "#print(v.numWheels)\n",
        "\n",
        "class Car(Vehicle):\n",
        "  def __init__(self):\n",
        "    self.electric = None\n",
        "  \n",
        "  @property\n",
        "  def isElectric(self):\n",
        "    return self.electric\n",
        "  \n",
        "  @isElectric.setter\n",
        "  def isElectric(self, val):\n",
        "    self.electric = val\n",
        "  \n",
        "  @isElectric.deleter\n",
        "  def isElectric(self):\n",
        "    self.electric = None\n",
        "\n",
        "c = Car()\n",
        "c.isElectric = True\n",
        "print(c.isElectric)\n",
        "#del c.isElectric\n",
        "try:\n",
        "  print(c.isElectric)\n",
        "except:\n",
        "  print(\"Error 1\")\n",
        "\n",
        "try:\n",
        "  print(c.numWheels)\n",
        "except:\n",
        "  print(\"Error 2\")"
      ],
      "execution_count": null,
      "outputs": [
        {
          "output_type": "stream",
          "text": [
            "3\n",
            "True\n",
            "True\n",
            "Error 2\n"
          ],
          "name": "stdout"
        }
      ]
    },
    {
      "cell_type": "code",
      "metadata": {
        "colab": {
          "base_uri": "https://localhost:8080/"
        },
        "id": "IJJL5aSWKdjR",
        "outputId": "d2904990-77a4-4fdc-8b60-b3bb810b1cac"
      },
      "source": [
        "class C(object):\n",
        "  def __init__(self):\n",
        "    self._p = None\n",
        "  @property\n",
        "  def p(self):\n",
        "    return self._p\n",
        "\n",
        "  @p.setter\n",
        "  def p(self, val):\n",
        "    self._p = val\n",
        "\n",
        "c1 = C()\n",
        "c1.p = 20\n",
        "print(c1.p)\n",
        "\n",
        "class D(C):\n",
        "  def __init__(self):\n",
        "    super().__init__()\n",
        "    self._c = None\n",
        "\n",
        "  @property\n",
        "  def p(self):\n",
        "    return super(D, D).p.fget(self) \n",
        "\n",
        "  @p.setter\n",
        "  def p(self, val):\n",
        "    super(D, D).p.fset(self, val) \n",
        "\n",
        "  @property\n",
        "  def c(self):\n",
        "    return self._c\n",
        "\n",
        "  @c.setter\n",
        "  def c(self, val):\n",
        "    self._c = val\n",
        "     \n",
        "d1 = D()\n",
        "d1.c = 5\n",
        "print(d1.c)"
      ],
      "execution_count": null,
      "outputs": [
        {
          "output_type": "stream",
          "text": [
            "20\n",
            "5\n"
          ],
          "name": "stdout"
        }
      ]
    }
  ]
}