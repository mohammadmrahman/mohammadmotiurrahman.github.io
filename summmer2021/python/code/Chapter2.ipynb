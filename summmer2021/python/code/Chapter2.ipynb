{
  "nbformat": 4,
  "nbformat_minor": 0,
  "metadata": {
    "colab": {
      "name": "Chapter2.ipynb",
      "provenance": [],
      "collapsed_sections": [],
      "include_colab_link": true
    },
    "kernelspec": {
      "name": "python3",
      "display_name": "Python 3"
    }
  },
  "cells": [
    {
      "cell_type": "markdown",
      "metadata": {
        "id": "view-in-github",
        "colab_type": "text"
      },
      "source": [
        "<a href=\"https://colab.research.google.com/github/mohammadmotiurrahman/mohammadmotiurrahman.github.io/blob/main/python/code/Chapter2.ipynb\" target=\"_parent\"><img src=\"https://colab.research.google.com/assets/colab-badge.svg\" alt=\"Open In Colab\"/></a>"
      ]
    },
    {
      "cell_type": "markdown",
      "metadata": {
        "id": "03X5A7FuQycy"
      },
      "source": [
        "#Containers (aka Data Structures of Python)\r\n",
        "\r\n",
        "---\r\n",
        "Let us do a bit of exploration about the available containers in Python.\r\n",
        "What are containers you may ask. Here is a snippet of text from [stackoverflow.com](https://stackoverflow.com/questions/11575925/what-exactly-are-containers-in-python-and-what-are-all-the-python-container) to explain it: \r\n",
        "\r\n",
        "<i>\"Containers are any object that holds an arbitrary number of other objects. Generally, containers provide a way to access the contained objects and to iterate over them.\r\n",
        "\r\n",
        "Examples of containers include **tuple**, **list**, **set**, **dict**; these are the built-in containers. More container types are available in the [collections](https://docs.python.org/dev/library/collections.html#module-collections) module.\"</i>\r\n",
        "The Standard Library of Python 3 can be found [here](https://docs.python.org/3/library/index.html) and the Python Language Reference can be found [here](https://docs.python.org/3/reference/index.html) .\r\n",
        "\r\n"
      ]
    },
    {
      "cell_type": "markdown",
      "metadata": {
        "id": "BrrTI7tXpaIW"
      },
      "source": [
        "##List\r\n",
        "\r\n",
        "---\r\n",
        "\r\n",
        "List is similar to linked list in C++, and it has couple of functions similar to C++ implementation. However, let us begin somewhere.\r\n",
        "\r\n",
        "List in Python is mutable, which means after a list is being created , it can be modified. Lists in Python is represented using `[]` symbol. Let us see some example:"
      ]
    },
    {
      "cell_type": "code",
      "metadata": {
        "colab": {
          "base_uri": "https://localhost:8080/"
        },
        "id": "MCzFRLpRp5Va",
        "outputId": "593ba661-1e9e-4d38-f1ba-b800c20cf5f7"
      },
      "source": [
        "#An example of a list containing strings\r\n",
        "myList = [\"apple\", \"banana\", \"cherry\"]\r\n",
        "print(myList)"
      ],
      "execution_count": null,
      "outputs": [
        {
          "output_type": "stream",
          "text": [
            "['apple', 'banana', 'cherry']\n"
          ],
          "name": "stdout"
        }
      ]
    },
    {
      "cell_type": "code",
      "metadata": {
        "colab": {
          "base_uri": "https://localhost:8080/"
        },
        "id": "HBwoLgboetHL",
        "outputId": "0eb98985-2330-4a54-ab0e-540de429b9d4"
      },
      "source": [
        "#Lists can also a mix of data-types\r\n",
        "myList = [\"apple\", 10, \"banana\", 15.5, \"cherry\", True ]\r\n",
        "print(myList)"
      ],
      "execution_count": null,
      "outputs": [
        {
          "output_type": "stream",
          "text": [
            "['apple', 10, 'banana', 15.5, 'cherry', True]\n"
          ],
          "name": "stdout"
        }
      ]
    },
    {
      "cell_type": "code",
      "metadata": {
        "colab": {
          "base_uri": "https://localhost:8080/"
        },
        "id": "71bPhikjfYpX",
        "outputId": "bca80018-d311-4c42-d462-e57906abb41c"
      },
      "source": [
        "#Length of elements in a list is found using the following function\r\n",
        "lenList = len(myList)\r\n",
        "print(f\"Length of the list is {lenList}\")"
      ],
      "execution_count": null,
      "outputs": [
        {
          "output_type": "stream",
          "text": [
            "Length of the list is 6\n"
          ],
          "name": "stdout"
        }
      ]
    },
    {
      "cell_type": "markdown",
      "metadata": {
        "id": "MMbFUa8gp6TU"
      },
      "source": [
        "###Printing elements in a list"
      ]
    },
    {
      "cell_type": "code",
      "metadata": {
        "colab": {
          "base_uri": "https://localhost:8080/"
        },
        "id": "5aD1lHX9qT15",
        "outputId": "ce6f3659-350e-4299-b4f6-c141defd54d7"
      },
      "source": [
        "#Lists can be printed in the following way\r\n",
        "myList = [\"apple\", 10, \"banana\", 15.5, \"cherry\", True ]\r\n",
        "lenList = len(myList)\r\n",
        "for i in range(lenList):\r\n",
        "  print(myList[i])"
      ],
      "execution_count": null,
      "outputs": [
        {
          "output_type": "stream",
          "text": [
            "apple\n",
            "10\n",
            "banana\n",
            "15.5\n",
            "cherry\n",
            "True\n"
          ],
          "name": "stdout"
        }
      ]
    },
    {
      "cell_type": "code",
      "metadata": {
        "colab": {
          "base_uri": "https://localhost:8080/"
        },
        "id": "ZS5HGY9_qlsW",
        "outputId": "69a07688-7b52-4947-dbfc-ce0d70eb43a9"
      },
      "source": [
        "#It can also be printed in the following way\r\n",
        "myList = [\"apple\", 10, \"banana\", 15.5, \"cherry\", True ]\r\n",
        "lenList = len(myList)\r\n",
        "for element in myList:\r\n",
        "  print(element)"
      ],
      "execution_count": null,
      "outputs": [
        {
          "output_type": "stream",
          "text": [
            "apple\n",
            "10\n",
            "banana\n",
            "15.5\n",
            "cherry\n",
            "True\n"
          ],
          "name": "stdout"
        }
      ]
    },
    {
      "cell_type": "markdown",
      "metadata": {
        "id": "wtm_UBDrzw5E"
      },
      "source": [
        "Printing elements can also be done in the following way - `myList[start:end:step]` where `start` is the starting index, `end` is the ending index, `step` is the amount by which the index of the list is stepped."
      ]
    },
    {
      "cell_type": "code",
      "metadata": {
        "colab": {
          "base_uri": "https://localhost:8080/"
        },
        "id": "5JyOTsGGxV8x",
        "outputId": "cfcdac8e-e590-4603-add5-d47493076f9f"
      },
      "source": [
        "myList = [\"apple\", \"banana\", \"cherry\", \"dates\"]\r\n",
        "lenList = len(myList)\r\n",
        "\r\n",
        "#Printing the whole list\r\n",
        "a = myList[0:lenList]\r\n",
        "print(a)\r\n",
        "\r\n",
        "#Printing the whole list\r\n",
        "a = myList[:]\r\n",
        "print(a)\r\n",
        "\r\n",
        "#Printing a certain number of elements\r\n",
        "a = myList[2:lenList]\r\n",
        "print(a)\r\n",
        "\r\n",
        "#Printing only stepped numbers of elements\r\n",
        "a = myList[0:lenList:2]\r\n",
        "print(a)\r\n",
        "\r\n",
        "#Printing the last element\r\n",
        "a = myList[-1]\r\n",
        "print(a)\r\n",
        "\r\n",
        "#Printing the second last element\r\n",
        "a = myList[-2]\r\n",
        "print(a)\r\n"
      ],
      "execution_count": null,
      "outputs": [
        {
          "output_type": "stream",
          "text": [
            "['apple', 'banana', 'cherry', 'dates']\n",
            "['apple', 'banana', 'cherry', 'dates']\n",
            "['cherry', 'dates']\n",
            "['apple', 'cherry']\n",
            "dates\n",
            "cherry\n"
          ],
          "name": "stdout"
        }
      ]
    },
    {
      "cell_type": "markdown",
      "metadata": {
        "id": "MGgetKsP1FLZ"
      },
      "source": [
        "One of the interesting way of printing elements in reversed way is the following way:"
      ]
    },
    {
      "cell_type": "code",
      "metadata": {
        "colab": {
          "base_uri": "https://localhost:8080/"
        },
        "id": "STbWeMIL1MCZ",
        "outputId": "81058441-d41b-423f-8082-3ef571af329f"
      },
      "source": [
        "myList = [\"apple\", \"banana\", \"cherry\", \"dates\"]\r\n",
        "lenList = len(myList)\r\n",
        "a = myList[::-1]\r\n",
        "print(a)"
      ],
      "execution_count": null,
      "outputs": [
        {
          "output_type": "stream",
          "text": [
            "['dates', 'cherry', 'banana', 'apple']\n"
          ],
          "name": "stdout"
        }
      ]
    },
    {
      "cell_type": "markdown",
      "metadata": {
        "id": "e-zEEmKDKi2I"
      },
      "source": [
        "###List comprehension\r\n",
        "One of the \"Pythonic\" ways to iterate list is the following:"
      ]
    },
    {
      "cell_type": "code",
      "metadata": {
        "colab": {
          "base_uri": "https://localhost:8080/"
        },
        "id": "_gEPxsiDLUtc",
        "outputId": "7c942841-28a1-4b84-fb2e-215561b80eca"
      },
      "source": [
        "#Lets say there is a list like the following:\r\n",
        "a = [1,2,3,4]\r\n",
        "#and one of the ways to iterate the list is the following:\r\n",
        "lenList = len(a)\r\n",
        "for i in range(lenList):\r\n",
        "  print(a[i])\r\n",
        "\r\n",
        "#In Python it can be done this way as well, this is known\r\n",
        "#as list comprehension\r\n",
        "b = [a[i] for i in range(lenList)]\r\n",
        "print(b)\r\n",
        "\r\n",
        "#Oh yes, if you are reading this and thinking I wish \r\n",
        "#the outputs could be printed in the same line, here \r\n",
        "#is an explanation of how to do so:\r\n",
        "#https://stackoverflow.com/questions/12032214/print-new-output-on-same-line"
      ],
      "execution_count": null,
      "outputs": [
        {
          "output_type": "stream",
          "text": [
            "1\n",
            "2\n",
            "3\n",
            "4\n",
            "[1, 2, 3, 4]\n"
          ],
          "name": "stdout"
        }
      ]
    },
    {
      "cell_type": "markdown",
      "metadata": {
        "id": "O9D27Hh2gRnB"
      },
      "source": [
        "###`append`, `pop` and `in` keywords\r\n",
        "The three important functions needed for any data structure are add , delete and find. In list, these actions are performed using `append`, `pop` and `in` keywords."
      ]
    },
    {
      "cell_type": "code",
      "metadata": {
        "colab": {
          "base_uri": "https://localhost:8080/"
        },
        "id": "BachqnshhlSK",
        "outputId": "5fbddaa2-e3e3-4185-aaf6-6f69ef9e2af8"
      },
      "source": [
        "myList = [\"apple\", \"banana\", \"cherry\"]\r\n",
        "#Adding \"dates\" to the list\r\n",
        "myList.append(\"dates\")\r\n",
        "print(myList)\r\n",
        "\r\n",
        "#Removing the last element from the list\r\n",
        "myList.pop()\r\n",
        "print(myList)\r\n",
        "\r\n",
        "#Looking for an element in the list\r\n",
        "a = \"cherry\"\r\n",
        "if a in myList:print(f\"{a} is in the myList\")\r\n",
        "\r\n",
        "b = \"mango\"\r\n",
        "if not(b in myList):print(f\"{b} is not in myList\")"
      ],
      "execution_count": null,
      "outputs": [
        {
          "output_type": "stream",
          "text": [
            "['apple', 'banana', 'cherry', 'dates']\n",
            "['apple', 'banana', 'cherry']\n",
            "cherry is in the myList\n",
            "mango is not in myList\n"
          ],
          "name": "stdout"
        }
      ]
    },
    {
      "cell_type": "markdown",
      "metadata": {
        "id": "rvQJKGHInVgK"
      },
      "source": [
        "###`insert`, `extend`, `remove`, and `clear`\r\n",
        "There are other functions which is involved in adding and removing elements from a list in Python. Some examples are given here: "
      ]
    },
    {
      "cell_type": "code",
      "metadata": {
        "colab": {
          "base_uri": "https://localhost:8080/"
        },
        "id": "xYukfTDin0zZ",
        "outputId": "e6538a86-63e2-4cd2-e879-948dd58c9a50"
      },
      "source": [
        "myList = [\"apple\", \"banana\", \"cherry\"]\r\n",
        "print(myList)\r\n",
        "#Inserting an element at a particular index\r\n",
        "myList.insert(1, \"dates\")\r\n",
        "print(myList)\r\n",
        "\r\n",
        "#Attaching one list with another list\r\n",
        "mySecondList = [\"apple pie\", \"banana bread\", \"cheese cake\"]\r\n",
        "myList.extend(mySecondList)\r\n",
        "print(myList)\r\n",
        "\r\n",
        "#Removing an element from a list\r\n",
        "myList.remove(\"banana\")\r\n",
        "print(myList)\r\n",
        "\r\n",
        "#Removing all elements from a list\r\n",
        "myList.clear()\r\n",
        "print(myList)"
      ],
      "execution_count": null,
      "outputs": [
        {
          "output_type": "stream",
          "text": [
            "['apple', 'banana', 'cherry']\n",
            "['apple', 'dates', 'banana', 'cherry']\n",
            "['apple', 'dates', 'banana', 'cherry', 'apple pie', 'banana bread', 'cheese cake']\n",
            "['apple', 'dates', 'cherry', 'apple pie', 'banana bread', 'cheese cake']\n",
            "[]\n"
          ],
          "name": "stdout"
        }
      ]
    },
    {
      "cell_type": "markdown",
      "metadata": {
        "id": "5GtE9I5V2D5G"
      },
      "source": [
        "###`reverse` and `sort`\r\n",
        "In addition to use negative indexing, built-in methods can be used to reverse a given list. Similarly there is a built-in method to sort elements in a list."
      ]
    },
    {
      "cell_type": "code",
      "metadata": {
        "id": "Ct00LatmooCx",
        "colab": {
          "base_uri": "https://localhost:8080/"
        },
        "outputId": "7854a44e-3b35-43e4-ece5-583f379883be"
      },
      "source": [
        "#Reversing a list\r\n",
        "myList = [10,20,30, 40, 50]\r\n",
        "myList.reverse()\r\n",
        "print(myList)"
      ],
      "execution_count": null,
      "outputs": [
        {
          "output_type": "stream",
          "text": [
            "[50, 40, 30, 20, 10]\n"
          ],
          "name": "stdout"
        }
      ]
    },
    {
      "cell_type": "code",
      "metadata": {
        "colab": {
          "base_uri": "https://localhost:8080/"
        },
        "id": "l_4VX2lM5fXl",
        "outputId": "dcfbd41d-1589-4fab-904f-c60c5784a758"
      },
      "source": [
        "#Sorting a given list\r\n",
        "myList = [5, 15, 10, 0]\r\n",
        "myList.sort()\r\n",
        "print(myList)"
      ],
      "execution_count": null,
      "outputs": [
        {
          "output_type": "stream",
          "text": [
            "[0, 5, 10, 15]\n"
          ],
          "name": "stdout"
        }
      ]
    },
    {
      "cell_type": "markdown",
      "metadata": {
        "id": "1qu2ZuXx9ytj"
      },
      "source": [
        "###Some unique way of adding and multiplying elements in list"
      ]
    },
    {
      "cell_type": "code",
      "metadata": {
        "colab": {
          "base_uri": "https://localhost:8080/"
        },
        "id": "qZZ3GZBh6QiW",
        "outputId": "ad322a27-80aa-4c20-b53f-78dbac50ad9b"
      },
      "source": [
        "#Lets say the variable myList contains the following\r\n",
        "myList = [\"mango\"]\r\n",
        "#... and you want to print the elements 5 times\r\n",
        "#You can do the following:\r\n",
        "print(myList*5)\r\n",
        "\r\n",
        "#Also the following can be done too:\r\n",
        "myList = [\"apple\", \"banana\"]\r\n",
        "print(myList*2)\r\n",
        "\r\n",
        "#So, is this possible:\r\n",
        "myList = [\"apple\"]\r\n",
        "print(myList[0]*2)\r\n"
      ],
      "execution_count": null,
      "outputs": [
        {
          "output_type": "stream",
          "text": [
            "['mango', 'mango', 'mango', 'mango', 'mango']\n",
            "['apple', 'banana', 'apple', 'banana']\n",
            "appleapple\n"
          ],
          "name": "stdout"
        }
      ]
    },
    {
      "cell_type": "code",
      "metadata": {
        "colab": {
          "base_uri": "https://localhost:8080/"
        },
        "id": "QSXYKffv-S3n",
        "outputId": "9b5ebcaf-44bc-4b29-d3d9-a6ad74d185a4"
      },
      "source": [
        "fruits = ['apple', 'banna', 'cherry']\r\n",
        "veggies = ['asparagus', 'beans', 'carrots']\r\n",
        "print(fruits + veggies)"
      ],
      "execution_count": null,
      "outputs": [
        {
          "output_type": "stream",
          "text": [
            "['apple', 'banna', 'cherry', 'asparagus', 'beans', 'carrots']\n"
          ],
          "name": "stdout"
        }
      ]
    },
    {
      "cell_type": "markdown",
      "metadata": {
        "id": "YToV3F23An0P"
      },
      "source": [
        "### Copying elements in a list\r\n",
        "Sometimes, it so happens that one needs to change the content of a list. However, the programmer wants to keep the original content of the list unchanged. Lets us discuss how to carry out the operations safely."
      ]
    },
    {
      "cell_type": "code",
      "metadata": {
        "colab": {
          "base_uri": "https://localhost:8080/"
        },
        "id": "pF4l5o8ZAlrW",
        "outputId": "4fd343b3-b912-4dfa-9c98-21ac20430a4c"
      },
      "source": [
        "#Let us copy one list ot another one\r\n",
        "orgList = [\"apple\",\"banana\", \"cherry\"]\r\n",
        "copList = []\r\n",
        "copList = orgList\r\n",
        "print(f\"Content of copied list before: {copList}\")\r\n",
        "copList.remove(\"banana\")\r\n",
        "print(f\"Content of original list: {orgList}\")\r\n",
        "print(f\"Content of copied list: {copList}\")"
      ],
      "execution_count": null,
      "outputs": [
        {
          "output_type": "stream",
          "text": [
            "Content of copied list before: ['apple', 'banana', 'cherry']\n",
            "Content of original list: ['apple', 'cherry']\n",
            "Content of copied list: ['apple', 'cherry']\n"
          ],
          "name": "stdout"
        }
      ]
    },
    {
      "cell_type": "markdown",
      "metadata": {
        "id": "98fl6LEmHjoW"
      },
      "source": [
        "However if you do not want to change the content of original list, we can do the following:"
      ]
    },
    {
      "cell_type": "code",
      "metadata": {
        "colab": {
          "base_uri": "https://localhost:8080/"
        },
        "id": "odHWujr0GsHw",
        "outputId": "ed6da891-2c3c-4c78-c93e-95e70689c8a0"
      },
      "source": [
        "#First Way\r\n",
        "orgList = [\"apple\",\"banana\", \"cherry\"]\r\n",
        "copList = []\r\n",
        "copList = orgList[:]\r\n",
        "print(f\"Content of copied list before: {copList}\")\r\n",
        "copList.remove(\"banana\")\r\n",
        "print(f\"Content of original list: {orgList}\")\r\n",
        "print(f\"Content of copied list: {copList}\")"
      ],
      "execution_count": null,
      "outputs": [
        {
          "output_type": "stream",
          "text": [
            "Content of copied list before: ['apple', 'banana', 'cherry']\n",
            "Content of original list: ['apple', 'banana', 'cherry']\n",
            "Content of copied list: ['apple', 'cherry']\n"
          ],
          "name": "stdout"
        }
      ]
    },
    {
      "cell_type": "code",
      "metadata": {
        "colab": {
          "base_uri": "https://localhost:8080/"
        },
        "id": "prJJ5kgYH4WH",
        "outputId": "a2b75fb7-3b3a-4d82-9812-e7c384f2da31"
      },
      "source": [
        "#Second Way\r\n",
        "orgList = [\"apple\",\"banana\", \"cherry\"]\r\n",
        "copList = []\r\n",
        "copList = list(orgList)\r\n",
        "print(f\"Content of copied list before: {copList}\")\r\n",
        "copList.remove(\"banana\")\r\n",
        "print(f\"Content of original list: {orgList}\")\r\n",
        "print(f\"Content of copied list: {copList}\")"
      ],
      "execution_count": null,
      "outputs": [
        {
          "output_type": "stream",
          "text": [
            "Content of copied list before: ['apple', 'banana', 'cherry']\n",
            "Content of original list: ['apple', 'banana', 'cherry']\n",
            "Content of copied list: ['apple', 'cherry']\n"
          ],
          "name": "stdout"
        }
      ]
    },
    {
      "cell_type": "code",
      "metadata": {
        "colab": {
          "base_uri": "https://localhost:8080/"
        },
        "id": "IDZq29l9H9oF",
        "outputId": "bbc259b2-5afc-459a-fd37-1578ecad5c0c"
      },
      "source": [
        "#Third Way\r\n",
        "orgList = [\"apple\",\"banana\", \"cherry\"]\r\n",
        "copList = []\r\n",
        "copList = orgList.copy()\r\n",
        "print(f\"Content of copied list before: {copList}\")\r\n",
        "copList.remove(\"banana\")\r\n",
        "print(f\"Content of original list: {orgList}\")\r\n",
        "print(f\"Content of copied list: {copList}\")"
      ],
      "execution_count": null,
      "outputs": [
        {
          "output_type": "stream",
          "text": [
            "Content of copied list before: ['apple', 'banana', 'cherry']\n",
            "Content of original list: ['apple', 'banana', 'cherry']\n",
            "Content of copied list: ['apple', 'cherry']\n"
          ],
          "name": "stdout"
        }
      ]
    },
    {
      "cell_type": "markdown",
      "metadata": {
        "id": "onjs_rVgjko_"
      },
      "source": [
        "Here is an explanation of what is happening in the last blocks of code:"
      ]
    },
    {
      "cell_type": "code",
      "metadata": {
        "id": "45tHGtcYjdql",
        "colab": {
          "base_uri": "https://localhost:8080/"
        },
        "outputId": "f5be1358-41ac-4dc6-91e0-68141ca50cc7"
      },
      "source": [
        "#Let us consider the following:\n",
        "a = [1, 2, 3]\n",
        "b = [6, 7, 8]\n",
        "\n",
        "#Address of the lists are the following:\n",
        "print(f\"Address of a: {hex(id(a))} Content of a: {a}\")\n",
        "print(f\"Address of b: {hex(id(b))} Content of b: {b}\")\n",
        "\n",
        "#If the following happens\n",
        "a = b\n",
        "\n",
        "#The the address of list a becomes equal to list b\n",
        "print(f\"Address of a: {hex(id(a))} Content of a: {a}\")\n",
        "print(f\"Address of b: {hex(id(b))} Content of b: {b}\")\n",
        "\n",
        "#Doing the following will change the content of the both\n",
        "#of the list, since they both have the same adress\n",
        "a.append(99)\n",
        "print(f\"Address of a: {hex(id(a))} Content of a: {a}\")\n",
        "print(f\"Address of b: {hex(id(b))} Content of b: {b}\")\n",
        "a.remove(8)\n",
        "print(f\"Address of a: {hex(id(a))} Content of a: {a}\")\n",
        "print(f\"Address of b: {hex(id(b))} Content of b: {b}\")\n",
        "\n",
        "#As mentioned the way to prevent the sharing of the \n",
        "#addresses is to do the following :\n",
        "a = [1, 2, 3]\n",
        "b = [6, 7, 8]\n",
        "a = b[:]\n",
        "#Pay special attention to addresses of a and b\n",
        "print(f\"Address of a: {hex(id(a))} Content of a: {a}\")\n",
        "print(f\"Address of b: {hex(id(b))} Content of b: {b}\")\n",
        "\n",
        "a = [1, 2, 3]\n",
        "b = [6, 7, 8]\n",
        "a = list(b)\n",
        "#Pay special attention to addresses of a and b\n",
        "print(f\"Address of a: {hex(id(a))} Content of a: {a}\")\n",
        "print(f\"Address of b: {hex(id(b))} Content of b: {b}\")\n",
        "\n",
        "a = [1, 2, 3]\n",
        "b = [6, 7, 8]\n",
        "a = b.copy()\n",
        "#Pay special attention to addresses of a and b\n",
        "print(f\"Address of a: {hex(id(a))} Content of a: {a}\")\n",
        "print(f\"Address of b: {hex(id(b))} Content of b: {b}\")\n",
        "\n",
        "#So what happens if the following is done\n",
        "x = 8\n",
        "y = 9\n",
        "x = y\n",
        "print(f\"Address of x: {hex(id(x))} Content of x: {x}\")\n",
        "print(f\"Address of y: {hex(id(y))} Content of y: {y}\")\n",
        "#If one change the value of x, what happens\n",
        "x = 18\n",
        "#Observe the change of address of the variable x\n",
        "print(f\"Address of x: {hex(id(x))} Content of x: {x}\")\n",
        "print(f\"Address of y: {hex(id(y))} Content of y: {y}\")\n"
      ],
      "execution_count": null,
      "outputs": [
        {
          "output_type": "stream",
          "text": [
            "Address of a: 0x7fb121078a48 Content of a: [1, 2, 3]\n",
            "Address of b: 0x7fb121078a08 Content of b: [6, 7, 8]\n",
            "Address of a: 0x7fb121078a08 Content of a: [6, 7, 8]\n",
            "Address of b: 0x7fb121078a08 Content of b: [6, 7, 8]\n",
            "Address of a: 0x7fb121078a08 Content of a: [6, 7, 8, 99]\n",
            "Address of b: 0x7fb121078a08 Content of b: [6, 7, 8, 99]\n",
            "Address of a: 0x7fb121078a08 Content of a: [6, 7, 99]\n",
            "Address of b: 0x7fb121078a08 Content of b: [6, 7, 99]\n",
            "Address of a: 0x7fb121078948 Content of a: [6, 7, 8]\n",
            "Address of b: 0x7fb121078a48 Content of b: [6, 7, 8]\n",
            "Address of a: 0x7fb121092948 Content of a: [6, 7, 8]\n",
            "Address of b: 0x7fb121078788 Content of b: [6, 7, 8]\n",
            "Address of a: 0x7fb121092948 Content of a: [6, 7, 8]\n",
            "Address of b: 0x7fb121078a08 Content of b: [6, 7, 8]\n",
            "Address of x: 0xa68bc0 Content of x: 9\n",
            "Address of y: 0xa68bc0 Content of y: 9\n",
            "Address of x: 0xa68ce0 Content of x: 18\n",
            "Address of y: 0xa68bc0 Content of y: 9\n"
          ],
          "name": "stdout"
        }
      ]
    },
    {
      "cell_type": "markdown",
      "metadata": {
        "id": "AIwBTrN2PWls"
      },
      "source": [
        "#Tuple\r\n",
        "\r\n",
        "---\r\n",
        "\r\n",
        "Tuple is a data structure that contains elements that are immutable. It means the elements can not be changed once it is instantiated. "
      ]
    },
    {
      "cell_type": "code",
      "metadata": {
        "colab": {
          "base_uri": "https://localhost:8080/"
        },
        "id": "b_-RtmmvSsDg",
        "outputId": "d4d05037-40a8-498f-f35c-94ed98d7acb4"
      },
      "source": [
        "myTuple = (\"Apple\", 10, \"Banana\", 20)\r\n",
        "print(myTuple)"
      ],
      "execution_count": null,
      "outputs": [
        {
          "output_type": "stream",
          "text": [
            "('Apple', 10, 'Banana', 20)\n"
          ],
          "name": "stdout"
        }
      ]
    },
    {
      "cell_type": "code",
      "metadata": {
        "colab": {
          "base_uri": "https://localhost:8080/"
        },
        "id": "pGZNnp_ng8z4",
        "outputId": "27905659-5219-457e-f1ef-583b08c25067"
      },
      "source": [
        "#The following is a string\r\n",
        "myStr = (\"hello\")\r\n",
        "print(myStr)\r\n",
        "print(type(myStr))"
      ],
      "execution_count": null,
      "outputs": [
        {
          "output_type": "stream",
          "text": [
            "hello\n",
            "<class 'str'>\n"
          ],
          "name": "stdout"
        }
      ]
    },
    {
      "cell_type": "code",
      "metadata": {
        "colab": {
          "base_uri": "https://localhost:8080/"
        },
        "id": "erOvT7WfhDzX",
        "outputId": "72585985-279c-4365-f74c-1a5b0650d065"
      },
      "source": [
        "#However, the following is a tuple\r\n",
        "myTuple = (\"hello\",)\r\n",
        "print(myTuple)\r\n",
        "print(type(myTuple))"
      ],
      "execution_count": null,
      "outputs": [
        {
          "output_type": "stream",
          "text": [
            "('hello',)\n",
            "<class 'tuple'>\n"
          ],
          "name": "stdout"
        }
      ]
    },
    {
      "cell_type": "code",
      "metadata": {
        "colab": {
          "base_uri": "https://localhost:8080/"
        },
        "id": "73ZrCso8UxOP",
        "outputId": "f5f67077-5503-441e-9e09-f3d98ad11521"
      },
      "source": [
        "#Iterating the tuple\r\n",
        "lenTuple = len(myTuple)\r\n",
        "for i in range(lenTuple):\r\n",
        "  print(myTuple[i])"
      ],
      "execution_count": null,
      "outputs": [
        {
          "output_type": "stream",
          "text": [
            "hello\n"
          ],
          "name": "stdout"
        }
      ]
    },
    {
      "cell_type": "code",
      "metadata": {
        "colab": {
          "base_uri": "https://localhost:8080/",
          "height": 201
        },
        "id": "86gphSIGjBWL",
        "outputId": "3c572301-d479-49b1-b690-d511205dee7f"
      },
      "source": [
        "#Let us see whether we can change via value assignment\r\n",
        "myTuple[0] = \"Carrots\"\r\n",
        "#... the answer is no."
      ],
      "execution_count": null,
      "outputs": [
        {
          "output_type": "error",
          "ename": "TypeError",
          "evalue": "ignored",
          "traceback": [
            "\u001b[0;31m---------------------------------------------------------------------------\u001b[0m",
            "\u001b[0;31mTypeError\u001b[0m                                 Traceback (most recent call last)",
            "\u001b[0;32m<ipython-input-27-eb88d3646c9e>\u001b[0m in \u001b[0;36m<module>\u001b[0;34m()\u001b[0m\n\u001b[1;32m      1\u001b[0m \u001b[0;31m#Let us see whether we can change via value assignment\u001b[0m\u001b[0;34m\u001b[0m\u001b[0;34m\u001b[0m\u001b[0;34m\u001b[0m\u001b[0m\n\u001b[0;32m----> 2\u001b[0;31m \u001b[0mmyTuple\u001b[0m\u001b[0;34m[\u001b[0m\u001b[0;36m0\u001b[0m\u001b[0;34m]\u001b[0m \u001b[0;34m=\u001b[0m \u001b[0;34m\"Carrots\"\u001b[0m\u001b[0;34m\u001b[0m\u001b[0;34m\u001b[0m\u001b[0m\n\u001b[0m\u001b[1;32m      3\u001b[0m \u001b[0;31m#... the answer is no.\u001b[0m\u001b[0;34m\u001b[0m\u001b[0;34m\u001b[0m\u001b[0;34m\u001b[0m\u001b[0m\n",
            "\u001b[0;31mTypeError\u001b[0m: 'tuple' object does not support item assignment"
          ]
        }
      ]
    },
    {
      "cell_type": "markdown",
      "metadata": {
        "id": "cFrQbvr2v_vw"
      },
      "source": [
        "Since tuples are immutable, add or remove methods are not generally associated with tuples. However, it has couple of other functions and methods associated with it."
      ]
    },
    {
      "cell_type": "markdown",
      "metadata": {
        "id": "HqxawX_Pw-_K"
      },
      "source": [
        "###`count` and `index` method"
      ]
    },
    {
      "cell_type": "code",
      "metadata": {
        "id": "MVJrQpE7lOKt",
        "colab": {
          "base_uri": "https://localhost:8080/"
        },
        "outputId": "f9cd4010-478d-4d47-fea6-71020e11225f"
      },
      "source": [
        "#The method 'count' counts the number of given element in a given tuple\r\n",
        "myTuple = ('banana')\r\n",
        "print(f\"Number of a in the tuple is {myTuple.count('a')}\")\r\n",
        "#The method 'index' provides the position of a given element in a tuple\r\n",
        "print(f\"Index of the first n in the tuple is {myTuple.index('n')}\")"
      ],
      "execution_count": null,
      "outputs": [
        {
          "output_type": "stream",
          "text": [
            "Number of a in the tuple is 3\n",
            "Index of the first n in the tuple is 2\n"
          ],
          "name": "stdout"
        }
      ]
    },
    {
      "cell_type": "markdown",
      "metadata": {
        "id": "-mpGu45ozmwv"
      },
      "source": [
        "###`len` operator"
      ]
    },
    {
      "cell_type": "code",
      "metadata": {
        "colab": {
          "base_uri": "https://localhost:8080/"
        },
        "id": "Gy54qpxSv09V",
        "outputId": "f83ba6c8-6d47-4510-e21b-e7e4f2208686"
      },
      "source": [
        "#The len operator still provides the length\r\n",
        "#of a tuple like the following:\r\n",
        "myTuple = ('banana')\r\n",
        "print(f\"Number of elements in the tuple is: {len(myTuple)}\")"
      ],
      "execution_count": null,
      "outputs": [
        {
          "output_type": "stream",
          "text": [
            "Number of elements in the tuple is: 6\n"
          ],
          "name": "stdout"
        }
      ]
    },
    {
      "cell_type": "markdown",
      "metadata": {
        "id": "RsBTNckG8gNm"
      },
      "source": [
        "Using type casting it is possible to convert a list to a tuple and a tuple to a list in the following way:"
      ]
    },
    {
      "cell_type": "code",
      "metadata": {
        "colab": {
          "base_uri": "https://localhost:8080/"
        },
        "id": "IFHYPLWG1Hat",
        "outputId": "b958c0ec-660f-450d-bcc3-2b39f9ab961e"
      },
      "source": [
        "myTuple = (\"apple\", 10, \"banana\", 20)\r\n",
        "myList = list(myTuple)\r\n",
        "print(myList)"
      ],
      "execution_count": null,
      "outputs": [
        {
          "output_type": "stream",
          "text": [
            "['apple', 10, 'banana', 20]\n"
          ],
          "name": "stdout"
        }
      ]
    },
    {
      "cell_type": "markdown",
      "metadata": {
        "id": "ogr0YWlt9T-T"
      },
      "source": [
        "You can now index in to the tuple, add or remove elements and do all the relevant procedures on it. On the flip side, you can also convert a list to a tuple like the following way:"
      ]
    },
    {
      "cell_type": "code",
      "metadata": {
        "colab": {
          "base_uri": "https://localhost:8080/"
        },
        "id": "_MQHFhZn9R8k",
        "outputId": "86856d21-c38e-48f0-b7ae-fedccdf18e3a"
      },
      "source": [
        "myList = [\"apple\", 10, \"banana\", 20]\r\n",
        "myTuple = tuple(myList)\r\n",
        "print(myTuple)"
      ],
      "execution_count": null,
      "outputs": [
        {
          "output_type": "stream",
          "text": [
            "('apple', 10, 'banana', 20)\n"
          ],
          "name": "stdout"
        }
      ]
    },
    {
      "cell_type": "markdown",
      "metadata": {
        "id": "tpP_6D3zE-Cs"
      },
      "source": [
        "The variable `myTuple`is now a `tuple` and one can access all the given properties of a `tuple`. The values inside a `tuple` can be accessed in the same as the value inside a `list` could using index operator."
      ]
    },
    {
      "cell_type": "code",
      "metadata": {
        "colab": {
          "base_uri": "https://localhost:8080/"
        },
        "id": "TchiOnk7--p5",
        "outputId": "ddb4b5c0-5ad9-4434-d6d5-9e2552cef88d"
      },
      "source": [
        "myTuple = (\"apple\", 10, \"banana\", 20)\r\n",
        "print(myTuple[0:5])\r\n",
        "\r\n",
        "myTuple = (\"a\", 1, \"b\", 2, \"c\", 3, \"d\", 4)\r\n",
        "lenTuple = len(myTuple)\r\n",
        "#You can skip given indices\r\n",
        "print(myTuple[0:lenTuple:2])\r\n",
        "\r\n",
        "#Or if one wants to print the whole tuple\r\n",
        "#one can do the following:\r\n",
        "print(myTuple[:5])"
      ],
      "execution_count": null,
      "outputs": [
        {
          "output_type": "stream",
          "text": [
            "('apple', 10, 'banana', 20)\n",
            "('a', 'b', 'c', 'd')\n",
            "('a', 1, 'b', 2, 'c')\n"
          ],
          "name": "stdout"
        }
      ]
    },
    {
      "cell_type": "markdown",
      "metadata": {
        "id": "IgruCpI5NZEd"
      },
      "source": [
        "###Tuple unpacking\r\n",
        "\r\n",
        "It is possible to put a `tuple` of values on the right side of `=` sign and a `tuple` of variables of the left side. The values on the right becomes associated with the variables on the left side. This is known as tuple unpacking."
      ]
    },
    {
      "cell_type": "code",
      "metadata": {
        "colab": {
          "base_uri": "https://localhost:8080/"
        },
        "id": "kNy2SgHWF3JB",
        "outputId": "540a5cf7-a2aa-4709-a7ed-f589562bbf48"
      },
      "source": [
        "(a,b,c) = (1,2,3)\r\n",
        "print(a,b,c)\r\n",
        "(a,b,c) = (\"Banana\", 1, \"Apple\")\r\n",
        "print(a,b,c)"
      ],
      "execution_count": null,
      "outputs": [
        {
          "output_type": "stream",
          "text": [
            "1 2 3\n",
            "Banana 1 Apple\n"
          ],
          "name": "stdout"
        }
      ]
    },
    {
      "cell_type": "code",
      "metadata": {
        "colab": {
          "base_uri": "https://localhost:8080/",
          "height": 218
        },
        "id": "gKG85LM1VlTL",
        "outputId": "6ac4edf8-a8ac-4155-ebbe-1a4fe0b54ead"
      },
      "source": [
        "#Just a bit of note, this is also possible\r\n",
        "#since it does not require ( ) to make tuples\r\n",
        "a, b, c = 1, 2, 3\r\n",
        "print(a,b,c)\r\n",
        "\r\n",
        "#It is always necessary to have exact number of\r\n",
        "#variables , else it gives a problem like so\r\n",
        "a,b,c = 1,2,3\r\n",
        "a,c = 1,2,3"
      ],
      "execution_count": null,
      "outputs": [
        {
          "output_type": "stream",
          "text": [
            "1 2 3\n"
          ],
          "name": "stdout"
        },
        {
          "output_type": "error",
          "ename": "ValueError",
          "evalue": "ignored",
          "traceback": [
            "\u001b[0;31m---------------------------------------------------------------------------\u001b[0m",
            "\u001b[0;31mValueError\u001b[0m                                Traceback (most recent call last)",
            "\u001b[0;32m<ipython-input-34-f5e29201d0ef>\u001b[0m in \u001b[0;36m<module>\u001b[0;34m()\u001b[0m\n\u001b[1;32m      7\u001b[0m \u001b[0;31m#variables , else it gives a problem like so\u001b[0m\u001b[0;34m\u001b[0m\u001b[0;34m\u001b[0m\u001b[0;34m\u001b[0m\u001b[0m\n\u001b[1;32m      8\u001b[0m \u001b[0ma\u001b[0m\u001b[0;34m,\u001b[0m\u001b[0mb\u001b[0m\u001b[0;34m,\u001b[0m\u001b[0mc\u001b[0m \u001b[0;34m=\u001b[0m \u001b[0;36m1\u001b[0m\u001b[0;34m,\u001b[0m\u001b[0;36m2\u001b[0m\u001b[0;34m,\u001b[0m\u001b[0;36m3\u001b[0m\u001b[0;34m\u001b[0m\u001b[0;34m\u001b[0m\u001b[0m\n\u001b[0;32m----> 9\u001b[0;31m \u001b[0ma\u001b[0m\u001b[0;34m,\u001b[0m\u001b[0mc\u001b[0m \u001b[0;34m=\u001b[0m \u001b[0;36m1\u001b[0m\u001b[0;34m,\u001b[0m\u001b[0;36m2\u001b[0m\u001b[0;34m,\u001b[0m\u001b[0;36m3\u001b[0m\u001b[0;34m\u001b[0m\u001b[0;34m\u001b[0m\u001b[0m\n\u001b[0m",
            "\u001b[0;31mValueError\u001b[0m: too many values to unpack (expected 2)"
          ]
        }
      ]
    },
    {
      "cell_type": "markdown",
      "metadata": {
        "id": "R6q19UGMXNlp"
      },
      "source": [
        "Due to the popularity of tuple unpacking the idea of unpacking variables has been made available for other iterables: `strings`, `lists` and `dictionaries`"
      ]
    },
    {
      "cell_type": "code",
      "metadata": {
        "id": "z8vXJHLsXIj8"
      },
      "source": [
        "#For strings\r\n",
        "a,b,c = \"ice\"\r\n",
        "print(a,b,c)\r\n"
      ],
      "execution_count": null,
      "outputs": []
    },
    {
      "cell_type": "code",
      "metadata": {
        "colab": {
          "base_uri": "https://localhost:8080/"
        },
        "id": "uJrDs7n_deNx",
        "outputId": "65548a3b-7d00-4834-8cd8-61d40991a73a"
      },
      "source": [
        "#For lists\r\n",
        "a,b,c = [1,2,3]\r\n",
        "print(a,b,c)"
      ],
      "execution_count": null,
      "outputs": [
        {
          "output_type": "stream",
          "text": [
            "1 2 3\n"
          ],
          "name": "stdout"
        }
      ]
    },
    {
      "cell_type": "code",
      "metadata": {
        "colab": {
          "base_uri": "https://localhost:8080/"
        },
        "id": "1c-NpA-Zd_6j",
        "outputId": "620452da-5d86-4fa5-98fd-3463bec412a2"
      },
      "source": [
        "#For dictionaries\r\n",
        "a,b,c = {\"apple\":1, \"banana\":2, \"carbon\":3}\r\n",
        "print(a,b,c)"
      ],
      "execution_count": null,
      "outputs": [
        {
          "output_type": "stream",
          "text": [
            "apple banana carbon\n"
          ],
          "name": "stdout"
        }
      ]
    },
    {
      "cell_type": "markdown",
      "metadata": {
        "id": "f4YF8MB_eTi0"
      },
      "source": [
        "###Unpacking using `*` operator\r\n",
        "Even though the number of variables should equal to the number of values, unpacking operator `*` allows to pack multiple values at once. For example: "
      ]
    },
    {
      "cell_type": "code",
      "metadata": {
        "colab": {
          "base_uri": "https://localhost:8080/"
        },
        "id": "2iIC79apeJ__",
        "outputId": "278df5a1-b088-453d-b979-818dce806a48"
      },
      "source": [
        "*a, = 1,2\r\n",
        "print(a)"
      ],
      "execution_count": null,
      "outputs": [
        {
          "output_type": "stream",
          "text": [
            "[1, 2]\n"
          ],
          "name": "stdout"
        }
      ]
    },
    {
      "cell_type": "markdown",
      "metadata": {
        "id": "8BmuVkT1hnhx"
      },
      "source": [
        "This is useful is scenarios where the number of values is unexpected."
      ]
    },
    {
      "cell_type": "code",
      "metadata": {
        "colab": {
          "base_uri": "https://localhost:8080/"
        },
        "id": "yioWev-rgzCQ",
        "outputId": "5464bd59-c6ea-416f-cd6f-67f61ed5c237"
      },
      "source": [
        "#Here b packs in 2, 3 and 4\r\n",
        "#while a and b takes in 1 and 5\r\n",
        "a, *b, c = 1, 2, 3, 4, 5\r\n",
        "print(a, b, c)\r\n",
        "\r\n",
        "#Here b exactly takes in one value 2\r\n",
        "a, *b, c = 1, 2, 3\r\n",
        "print(a, b, c)\r\n",
        "\r\n",
        "#Here b takes an empty list\r\n",
        "a, *b, c = 1,2\r\n",
        "print(a,b,c)"
      ],
      "execution_count": null,
      "outputs": [
        {
          "output_type": "stream",
          "text": [
            "1 [2, 3, 4] 5\n",
            "1 [2] 3\n",
            "1 [] 2\n"
          ],
          "name": "stdout"
        }
      ]
    },
    {
      "cell_type": "code",
      "metadata": {
        "colab": {
          "base_uri": "https://localhost:8080/",
          "height": 235
        },
        "id": "SXM5ov-Nh8BX",
        "outputId": "856935f1-a4da-4674-c707-bc7e033f16b1"
      },
      "source": [
        "#However, this will give issues,\r\n",
        "#since c does not get assinged anything\r\n",
        "a, *b, c = 1,\r\n",
        "print(a, b, c)\r\n",
        "\r\n",
        "#But the following will be fine, since b\r\n",
        "#b is empty\r\n",
        "a, *b = 1,\r\n",
        "print(a, b)"
      ],
      "execution_count": null,
      "outputs": [
        {
          "output_type": "error",
          "ename": "ValueError",
          "evalue": "ignored",
          "traceback": [
            "\u001b[0;31m---------------------------------------------------------------------------\u001b[0m",
            "\u001b[0;31mValueError\u001b[0m                                Traceback (most recent call last)",
            "\u001b[0;32m<ipython-input-39-0c862a186efe>\u001b[0m in \u001b[0;36m<module>\u001b[0;34m()\u001b[0m\n\u001b[1;32m      1\u001b[0m \u001b[0;31m#However, this will give issues,\u001b[0m\u001b[0;34m\u001b[0m\u001b[0;34m\u001b[0m\u001b[0;34m\u001b[0m\u001b[0m\n\u001b[1;32m      2\u001b[0m \u001b[0;31m#since c does not get assinged anything\u001b[0m\u001b[0;34m\u001b[0m\u001b[0;34m\u001b[0m\u001b[0;34m\u001b[0m\u001b[0m\n\u001b[0;32m----> 3\u001b[0;31m \u001b[0ma\u001b[0m\u001b[0;34m,\u001b[0m \u001b[0;34m*\u001b[0m\u001b[0mb\u001b[0m\u001b[0;34m,\u001b[0m \u001b[0mc\u001b[0m \u001b[0;34m=\u001b[0m \u001b[0;36m1\u001b[0m\u001b[0;34m,\u001b[0m\u001b[0;34m\u001b[0m\u001b[0;34m\u001b[0m\u001b[0m\n\u001b[0m\u001b[1;32m      4\u001b[0m \u001b[0mprint\u001b[0m\u001b[0;34m(\u001b[0m\u001b[0ma\u001b[0m\u001b[0;34m,\u001b[0m \u001b[0mb\u001b[0m\u001b[0;34m,\u001b[0m \u001b[0mc\u001b[0m\u001b[0;34m)\u001b[0m\u001b[0;34m\u001b[0m\u001b[0;34m\u001b[0m\u001b[0m\n\u001b[1;32m      5\u001b[0m \u001b[0;34m\u001b[0m\u001b[0m\n",
            "\u001b[0;31mValueError\u001b[0m: not enough values to unpack (expected at least 2, got 1)"
          ]
        }
      ]
    },
    {
      "cell_type": "markdown",
      "metadata": {
        "id": "vPHEu73E11Xi"
      },
      "source": [
        "###Swapping values in Python\r\n",
        "One of the consequences of value unpacking is that it can be used to swap values of variables without using temporary variables.\r\n",
        "A very detailed explanation is given in the following link:\r\n",
        "https://stackoverflow.com/questions/27415205/how-pythons-a-b-b-a-works"
      ]
    },
    {
      "cell_type": "code",
      "metadata": {
        "id": "I4R9OyBaifSq"
      },
      "source": [
        "a = 20\r\n",
        "b = 3\r\n",
        "\r\n",
        "b, a = a, b\r\n",
        "\r\n",
        "print(f\"a: {a}, b: {b}\")\r\n"
      ],
      "execution_count": null,
      "outputs": []
    },
    {
      "cell_type": "markdown",
      "metadata": {
        "id": "vk2k0Oid2k0K"
      },
      "source": [
        "### Tuples vs Lists\r\n",
        "Tuples and lists can both be used to retrieve and store values. However, tuples takes relatively less time and space to do both of these operations, compared to lists. Here is an illustration of this effect:"
      ]
    },
    {
      "cell_type": "code",
      "metadata": {
        "colab": {
          "base_uri": "https://localhost:8080/"
        },
        "id": "A4rrS_Xqy992",
        "outputId": "dbf0b4be-9b7c-4bfd-ce3b-a7c0623ec670"
      },
      "source": [
        "#Comparison of space between tuples and lists\r\n",
        "import sys\r\n",
        "myList = [0,1,2,\"hello\", True]\r\n",
        "myTuple = (0,2,1, \"hello\", True)\r\n",
        "print(f\"myList takes: {sys.getsizeof(myList)} bytes\")\r\n",
        "print(f\"myTuple takes: {sys.getsizeof(myTuple)} bytes\")"
      ],
      "execution_count": null,
      "outputs": [
        {
          "output_type": "stream",
          "text": [
            "myList takes: 104 bytes\n",
            "myTuple takes: 88 bytes\n"
          ],
          "name": "stdout"
        }
      ]
    },
    {
      "cell_type": "code",
      "metadata": {
        "colab": {
          "base_uri": "https://localhost:8080/"
        },
        "id": "DkoDuCsM3iGA",
        "outputId": "c3131f7a-4c1e-433b-d730-7fd3152457bc"
      },
      "source": [
        "#Comparison of time between tuples and lists\r\n",
        "import timeit\r\n",
        "print(f\" Time to make list : {timeit.timeit(stmt = '[0,1,2,3,4,5]', number = 1000000)}  \")\r\n",
        "print(f\" Time to make tuple: {timeit.timeit(stmt = '(0,1,2,3,4,5)', number = 1000000)} \")"
      ],
      "execution_count": null,
      "outputs": [
        {
          "output_type": "stream",
          "text": [
            " Time to make list : 0.0700084009999955  \n",
            " Time to make tuple: 0.011425125000016578 \n"
          ],
          "name": "stdout"
        }
      ]
    },
    {
      "cell_type": "markdown",
      "metadata": {
        "id": "RC8EMViqnGf_"
      },
      "source": [
        "#Dictionary \r\n",
        "\r\n",
        "---\r\n",
        "A dictionary data structure in Python is used to store `key-value` pairs. A `key-value` is a mapping of a `key` to a given `value`. A dictionary is initialized using the `{}` keyword. Some examples are given below: "
      ]
    },
    {
      "cell_type": "code",
      "metadata": {
        "colab": {
          "base_uri": "https://localhost:8080/"
        },
        "id": "r_dZsiMG5dca",
        "outputId": "a29fd7bc-02ed-4e5e-b00f-d44a664477c4"
      },
      "source": [
        "fruitPrice = {\"Apple\": 10, \"Banana\":20, \"Cherry\":30}\r\n",
        "print(fruitPrice)"
      ],
      "execution_count": null,
      "outputs": [
        {
          "output_type": "stream",
          "text": [
            "{'Apple': 10, 'Banana': 20, 'Cherry': 30}\n"
          ],
          "name": "stdout"
        }
      ]
    },
    {
      "cell_type": "markdown",
      "metadata": {
        "id": "A2vL6F1Ysdla"
      },
      "source": [
        "Another way to store `key-value` pair is the following:"
      ]
    },
    {
      "cell_type": "code",
      "metadata": {
        "colab": {
          "base_uri": "https://localhost:8080/"
        },
        "id": "Trey0PbdsEUY",
        "outputId": "e223883e-d43e-4153-8aa1-59ea9d6f2146"
      },
      "source": [
        "fruitPrice = dict(Apple = 10, Banana = 20, Cherry = 30)\r\n",
        "print(fruitPrice)"
      ],
      "execution_count": null,
      "outputs": [
        {
          "output_type": "stream",
          "text": [
            "{'Apple': 10, 'Banana': 20, 'Cherry': 30}\n"
          ],
          "name": "stdout"
        }
      ]
    },
    {
      "cell_type": "markdown",
      "metadata": {
        "id": "7s1ugcgutvWw"
      },
      "source": [
        "There are couple of other ways to iterate through `key-value` pairs:"
      ]
    },
    {
      "cell_type": "code",
      "metadata": {
        "colab": {
          "base_uri": "https://localhost:8080/"
        },
        "id": "4BnOxoV7s1Oo",
        "outputId": "018c1674-60e9-4eca-b9c1-af2239b707d9"
      },
      "source": [
        "fruitPrice = {\"Apple\": 10, \"Banana\":20, \"Cherry\":30}\r\n",
        "for key, value in fruitPrice.items():\r\n",
        "  print(key, value)"
      ],
      "execution_count": null,
      "outputs": [
        {
          "output_type": "stream",
          "text": [
            "Apple 10\n",
            "Banana 20\n",
            "Cherry 30\n"
          ],
          "name": "stdout"
        }
      ]
    },
    {
      "cell_type": "code",
      "metadata": {
        "colab": {
          "base_uri": "https://localhost:8080/"
        },
        "id": "Ucf8F0K8uSFs",
        "outputId": "edae0490-93d0-412c-9274-0b2f190946b8"
      },
      "source": [
        "#To iterate through the keys\r\n",
        "fruitPrice = {\"Apple\": 10, \"Banana\":20, \"Cherry\":30}\r\n",
        "for key in fruitPrice.keys():\r\n",
        "  print(key)"
      ],
      "execution_count": null,
      "outputs": [
        {
          "output_type": "stream",
          "text": [
            "Apple\n",
            "Banana\n",
            "Cherry\n"
          ],
          "name": "stdout"
        }
      ]
    },
    {
      "cell_type": "code",
      "metadata": {
        "colab": {
          "base_uri": "https://localhost:8080/"
        },
        "id": "bKAMYyvwxe66",
        "outputId": "aa44a66f-945b-4cc0-8d61-7367223eb0f2"
      },
      "source": [
        "#Another way to iterate through the values\r\n",
        "fruitPrice = {\"Apple\": 10, \"Banana\":20, \"Cherry\":30}\r\n",
        "for key in fruitPrice:\r\n",
        "  print(key)"
      ],
      "execution_count": null,
      "outputs": [
        {
          "output_type": "stream",
          "text": [
            "Apple\n",
            "Banana\n",
            "Cherry\n"
          ],
          "name": "stdout"
        }
      ]
    },
    {
      "cell_type": "code",
      "metadata": {
        "colab": {
          "base_uri": "https://localhost:8080/"
        },
        "id": "pWeyHGQQucIq",
        "outputId": "c69dd874-8e77-40b2-967e-c926c83c5de9"
      },
      "source": [
        "#To iterate through the values\r\n",
        "fruitPrice = {\"Apple\": 10, \"Banana\":20, \"Cherry\":30}\r\n",
        "for values in fruitPrice.values():\r\n",
        "  print(values)"
      ],
      "execution_count": null,
      "outputs": [
        {
          "output_type": "stream",
          "text": [
            "10\n",
            "20\n",
            "30\n"
          ],
          "name": "stdout"
        }
      ]
    },
    {
      "cell_type": "code",
      "metadata": {
        "colab": {
          "base_uri": "https://localhost:8080/"
        },
        "id": "Au6rvOnOuhZF",
        "outputId": "b601b236-426e-42d8-dea9-3df716bd6a52"
      },
      "source": [
        "#To iterate through the keys and values\r\n",
        "fruitPrice = {\"Apple\": 10, \"Banana\":20, \"Cherry\":30}\r\n",
        "for key in fruitPrice:\r\n",
        "  print(key, fruitPrice[key])"
      ],
      "execution_count": null,
      "outputs": [
        {
          "output_type": "stream",
          "text": [
            "Apple 10\n",
            "Banana 20\n",
            "Cherry 30\n"
          ],
          "name": "stdout"
        }
      ]
    },
    {
      "cell_type": "markdown",
      "metadata": {
        "id": "R_3f9d49zLAn"
      },
      "source": [
        "### Adding, deleting and finding `keys` and `values` into the dictionary "
      ]
    },
    {
      "cell_type": "code",
      "metadata": {
        "colab": {
          "base_uri": "https://localhost:8080/"
        },
        "id": "cNG2nwwIy7Vg",
        "outputId": "86955bae-6eaa-4ebc-9acd-7306fe3b527f"
      },
      "source": [
        "#Change value of keys\r\n",
        "fruitPrice[\"Apple\"] = 20\r\n",
        "fruitPrice[\"Banana\"] = 25\r\n",
        "fruitPrice[\"Cherry\"] = 35\r\n",
        "for key, value in fruitPrice.items():\r\n",
        "  print(key, value)"
      ],
      "execution_count": null,
      "outputs": [
        {
          "output_type": "stream",
          "text": [
            "Apple 20\n",
            "Banana 25\n",
            "Cherry 35\n"
          ],
          "name": "stdout"
        }
      ]
    },
    {
      "cell_type": "markdown",
      "metadata": {
        "id": "xXbB4DtS1dhg"
      },
      "source": [
        "###Use of `del` keyword to delete a key "
      ]
    },
    {
      "cell_type": "code",
      "metadata": {
        "colab": {
          "base_uri": "https://localhost:8080/"
        },
        "id": "pEuuGf9K1PjH",
        "outputId": "97ae0a4f-98d8-4818-ab7e-01a9af39682d"
      },
      "source": [
        "#Delete a key\r\n",
        "fruitPrice[\"Apple\"] = 20\r\n",
        "fruitPrice[\"Banana\"] = 25\r\n",
        "fruitPrice[\"Cherry\"] = 35\r\n",
        "del fruitPrice[\"Banana\"]\r\n",
        "for key, value in fruitPrice.items():\r\n",
        "  print(key, value)"
      ],
      "execution_count": null,
      "outputs": [
        {
          "output_type": "stream",
          "text": [
            "Apple 20\n",
            "Cherry 35\n"
          ],
          "name": "stdout"
        }
      ]
    },
    {
      "cell_type": "code",
      "metadata": {
        "id": "0JK3zoNC1aUm",
        "colab": {
          "base_uri": "https://localhost:8080/"
        },
        "outputId": "620dda3b-f6d1-4caa-cfce-1dfc3593530f"
      },
      "source": [
        "#Finding the value of a key\r\n",
        "fruitPrice = {\"Apple\": 10, \"Banana\":20, \"Cherry\":30}\r\n",
        "print(f\"Price of Apple is : {fruitPrice.get('Apple')}\")\r\n",
        "\r\n",
        "#If the key is not found it returns None\r\n",
        "print(fruitPrice.get(\"Date\"))\r\n"
      ],
      "execution_count": null,
      "outputs": [
        {
          "output_type": "stream",
          "text": [
            "Price of Apple is : 10\n",
            "None\n"
          ],
          "name": "stdout"
        }
      ]
    },
    {
      "cell_type": "code",
      "metadata": {
        "colab": {
          "base_uri": "https://localhost:8080/"
        },
        "id": "C6bkpOda2InD",
        "outputId": "3ad78977-eff2-4524-a944-6abbbb56e211"
      },
      "source": [
        "#Find whether a certain key is present\r\n",
        "fruitPrice = {\"Apple\": 10, \"Banana\":20, \"Cherry\":30}\r\n",
        "if \"Banana\" in fruitPrice:\r\n",
        "  print(\"Yes, banana is present \")\r\n",
        "else:\r\n",
        "  print(\"Nope, it is not present\")"
      ],
      "execution_count": null,
      "outputs": [
        {
          "output_type": "stream",
          "text": [
            "Yes, banana is present \n"
          ],
          "name": "stdout"
        }
      ]
    },
    {
      "cell_type": "code",
      "metadata": {
        "colab": {
          "base_uri": "https://localhost:8080/"
        },
        "id": "A7N3JN9E2nv2",
        "outputId": "c88166ff-16a6-4a78-a7fd-45519e1814ef"
      },
      "source": [
        "#Also, you can do the following to find whether a certain key is present\r\n",
        "fruitPrice = {\"Apple\": 10, \"Banana\":20, \"Cherry\":30}\r\n",
        "if \"Banana\" in fruitPrice.keys():\r\n",
        "  print(\"Yes, banana is present \")\r\n",
        "else:\r\n",
        "  print(\"Nope, it is not present\")"
      ],
      "execution_count": null,
      "outputs": [
        {
          "output_type": "stream",
          "text": [
            "Yes, banana is present \n"
          ],
          "name": "stdout"
        }
      ]
    },
    {
      "cell_type": "code",
      "metadata": {
        "colab": {
          "base_uri": "https://localhost:8080/"
        },
        "id": "Aerk6LD76p_y",
        "outputId": "59ad4c17-8e6f-4055-d2c6-1104f63bb08b"
      },
      "source": [
        "#To find whether a key is present, you can only do the following\r\n",
        "fruitPrice = {\"Apple\": 10, \"Banana\":20, \"Cherry\":30}\r\n",
        "if 10 in fruitPrice.values():\r\n",
        "  print(\"Yes, 10 is present \")\r\n",
        "else:\r\n",
        "  print(\"Nope, it is not present\")"
      ],
      "execution_count": null,
      "outputs": [
        {
          "output_type": "stream",
          "text": [
            "Yes, 10 is present \n"
          ],
          "name": "stdout"
        }
      ]
    },
    {
      "cell_type": "markdown",
      "metadata": {
        "id": "RsRhIVSm7VdU"
      },
      "source": [
        "###Updating a dictionary using `update` keyword"
      ]
    },
    {
      "cell_type": "code",
      "metadata": {
        "colab": {
          "base_uri": "https://localhost:8080/"
        },
        "id": "Qn56CD_C68y9",
        "outputId": "090a974a-fa25-4059-ad2a-a00d74fe9cc1"
      },
      "source": [
        "fruitPrice = {\"apple\":10, \"orange\":15}\r\n",
        "veggiePrice = {\"carrot\":100, \"potato\":105}\r\n",
        "fruitPrice.update(veggiePrice)\r\n",
        "print(f\"The variable fruitPrice has been updated:\\n {fruitPrice}\")"
      ],
      "execution_count": null,
      "outputs": [
        {
          "output_type": "stream",
          "text": [
            "The variable fruitPrice has been updated:\n",
            " {'apple': 10, 'orange': 15, 'carrot': 100, 'potato': 105}\n"
          ],
          "name": "stdout"
        }
      ]
    },
    {
      "cell_type": "markdown",
      "metadata": {
        "id": "y3i-KwjUGxin"
      },
      "source": [
        "###Use of `copy`operator\r\n",
        "Copying elements in a dictionary follows the procedures similar to that of lists and tuples. But less us see the problem that we normally face while copying elements:"
      ]
    },
    {
      "cell_type": "code",
      "metadata": {
        "colab": {
          "base_uri": "https://localhost:8080/"
        },
        "id": "mzG2Kgfq9EGs",
        "outputId": "eb8dae87-8db3-4b19-8a62-07922e834e50"
      },
      "source": [
        "#copying dictionaries and then change the elements in the dictionary\r\n",
        "fruitPrice = {\"Banana\" : 10, \"Mango\" : 20, \"Apple\" : 15}\r\n",
        "fruitPriceCopy = fruitPrice\r\n",
        "print(f\"Copied one before change: {fruitPriceCopy}\")\r\n",
        "\r\n",
        "#change a key, value pair in the copied version\r\n",
        "fruitPriceCopy[\"Orange\"] = 123\r\n",
        "print(f\"Copied one after change: {fruitPriceCopy}\")\r\n",
        "\r\n",
        "#the original dictionary gets changed\r\n",
        "print(f\"Original one after change: {fruitPrice}\")"
      ],
      "execution_count": null,
      "outputs": [
        {
          "output_type": "stream",
          "text": [
            "Copied one before change: {'Banana': 10, 'Mango': 20, 'Apple': 15}\n",
            "Copied one after change: {'Banana': 10, 'Mango': 20, 'Apple': 15, 'Orange': 123}\n",
            "Original one after change: {'Banana': 10, 'Mango': 20, 'Apple': 15, 'Orange': 123}\n"
          ],
          "name": "stdout"
        }
      ]
    },
    {
      "cell_type": "markdown",
      "metadata": {
        "id": "gF-8xZNzNYLj"
      },
      "source": [
        "In the above lines of code, the original dictionary gets changed even if the copied dictionary is changed. The solution is to use `copy` operator or type cast using `dict` operator"
      ]
    },
    {
      "cell_type": "code",
      "metadata": {
        "colab": {
          "base_uri": "https://localhost:8080/"
        },
        "id": "jXmvdfljK6Of",
        "outputId": "0f3528dd-f48f-45a1-a5db-ba4a0239663f"
      },
      "source": [
        "#copying dictionaries and then changing the elements in the dictionary\r\n",
        "fruitPrice = {\"Banana\" : 10, \"Mango\" : 20, \"Apple\" : 15}\r\n",
        "fruitPriceCopy = fruitPrice.copy()\r\n",
        "print(f\"Copied one before change: {fruitPriceCopy}\")\r\n",
        "\r\n",
        "#change a key, value pair in the copied version\r\n",
        "fruitPriceCopy[\"Orange\"] = 123\r\n",
        "print(f\"Copied one after change: {fruitPriceCopy}\")\r\n",
        "\r\n",
        "#the original dictionary does not get changed\r\n",
        "print(f\"Original one after change: {fruitPrice}\")"
      ],
      "execution_count": null,
      "outputs": [
        {
          "output_type": "stream",
          "text": [
            "Copied one before change: {'Banana': 10, 'Mango': 20, 'Apple': 15}\n",
            "Copied one after change: {'Banana': 10, 'Mango': 20, 'Apple': 15, 'Orange': 123}\n",
            "Original one after change: {'Banana': 10, 'Mango': 20, 'Apple': 15}\n"
          ],
          "name": "stdout"
        }
      ]
    },
    {
      "cell_type": "code",
      "metadata": {
        "colab": {
          "base_uri": "https://localhost:8080/"
        },
        "id": "0pqQSghIOmkI",
        "outputId": "f660ce5b-9d0a-470b-9807-106d15a942c9"
      },
      "source": [
        "#Another way of copying dictionaries and then changing the elements in the dictionary\r\n",
        "fruitPrice = {\"Banana\" : 10, \"Mango\" : 20, \"Apple\" : 15}\r\n",
        "fruitPriceCopy = dict(fruitPrice)\r\n",
        "print(f\"Copied one before change: {fruitPriceCopy}\")\r\n",
        "\r\n",
        "#change a key, value pair in the copied version\r\n",
        "fruitPriceCopy[\"Orange\"] = 123\r\n",
        "print(f\"Copied one after change: {fruitPriceCopy}\")\r\n",
        "\r\n",
        "#the original dictionary does not get changed\r\n",
        "print(f\"Original one after change: {fruitPrice}\")"
      ],
      "execution_count": null,
      "outputs": [
        {
          "output_type": "stream",
          "text": [
            "Copied one before change: {'Banana': 10, 'Mango': 20, 'Apple': 15}\n",
            "Copied one after change: {'Banana': 10, 'Mango': 20, 'Apple': 15, 'Orange': 123}\n",
            "Original one after change: {'Banana': 10, 'Mango': 20, 'Apple': 15}\n"
          ],
          "name": "stdout"
        }
      ]
    },
    {
      "cell_type": "markdown",
      "metadata": {
        "id": "Ny_OecI_vTMK"
      },
      "source": [
        "`keys` in a dictionary can not be mutable iterators where as the `values` in a dictionary can be mutable iterators. The reason behind this is mutable iterators do change, and that makes it impossible to have a direct one-to-one mapping."
      ]
    },
    {
      "cell_type": "code",
      "metadata": {
        "colab": {
          "base_uri": "https://localhost:8080/"
        },
        "id": "NyJcUsOGO2kA",
        "outputId": "a60bd1ee-b056-43b2-fde9-d2ece040fc1d"
      },
      "source": [
        "#Following is an example with keys and values both as tuples\r\n",
        "myDict = {}\r\n",
        "myKeyTuple = (1,2)\r\n",
        "myValueTuple = (\"Banana\", \"Peacock\")\r\n",
        "myDict = {myKeyTuple:myValueTuple , \"Apple\":10, \"Cherry\":15, 10:\"Pumpkin\"}\r\n",
        "for key, value in myDict.items():\r\n",
        "  print(key, value)"
      ],
      "execution_count": null,
      "outputs": [
        {
          "output_type": "stream",
          "text": [
            "(1, 2) ('Banana', 'Peacock')\n",
            "Apple 10\n",
            "Cherry 15\n",
            "10 Pumpkin\n"
          ],
          "name": "stdout"
        }
      ]
    },
    {
      "cell_type": "code",
      "metadata": {
        "colab": {
          "base_uri": "https://localhost:8080/"
        },
        "id": "1BPaeIF_yxcf",
        "outputId": "ec067ddb-7036-432f-bac7-c9b1b046287d"
      },
      "source": [
        "#Following is another example with only keys as tuples and values as list\r\n",
        "myDict = {}\r\n",
        "myKeyTuple = (1,2)\r\n",
        "myValueSet = [\"Banana\", \"Peacock\"]\r\n",
        "myDict = {myKeyTuple:myValueSet , \"Apple\":10, \"Cherry\":15, 10:\"Pumpkin\"}\r\n",
        "for key, value in myDict.items():\r\n",
        "  print(key, value)"
      ],
      "execution_count": null,
      "outputs": [
        {
          "output_type": "stream",
          "text": [
            "(1, 2) ['Banana', 'Peacock']\n",
            "Apple 10\n",
            "Cherry 15\n",
            "10 Pumpkin\n"
          ],
          "name": "stdout"
        }
      ]
    },
    {
      "cell_type": "code",
      "metadata": {
        "colab": {
          "base_uri": "https://localhost:8080/",
          "height": 235
        },
        "id": "jUp0dEZ80W0B",
        "outputId": "0322d29b-40da-472f-ac1f-1defa479f754"
      },
      "source": [
        "#Following is the last example where both key and values are list\r\n",
        "#Remember to read into the error\r\n",
        "myDict = {}\r\n",
        "myKeySet = [1,2]\r\n",
        "myValueSet = [\"Banana\", \"Peacock\"]\r\n",
        "myDict = {myKeySet:myValueSet , \"Apple\":10, \"Cherry\":15, 10:\"Pumpkin\"}\r\n",
        "for key, value in myDict.items():\r\n",
        "  print(key, value)"
      ],
      "execution_count": null,
      "outputs": [
        {
          "output_type": "error",
          "ename": "TypeError",
          "evalue": "ignored",
          "traceback": [
            "\u001b[0;31m---------------------------------------------------------------------------\u001b[0m",
            "\u001b[0;31mTypeError\u001b[0m                                 Traceback (most recent call last)",
            "\u001b[0;32m<ipython-input-61-7f514f6cc728>\u001b[0m in \u001b[0;36m<module>\u001b[0;34m()\u001b[0m\n\u001b[1;32m      4\u001b[0m \u001b[0mmyKeySet\u001b[0m \u001b[0;34m=\u001b[0m \u001b[0;34m[\u001b[0m\u001b[0;36m1\u001b[0m\u001b[0;34m,\u001b[0m\u001b[0;36m2\u001b[0m\u001b[0;34m]\u001b[0m\u001b[0;34m\u001b[0m\u001b[0;34m\u001b[0m\u001b[0m\n\u001b[1;32m      5\u001b[0m \u001b[0mmyValueSet\u001b[0m \u001b[0;34m=\u001b[0m \u001b[0;34m[\u001b[0m\u001b[0;34m\"Banana\"\u001b[0m\u001b[0;34m,\u001b[0m \u001b[0;34m\"Peacock\"\u001b[0m\u001b[0;34m]\u001b[0m\u001b[0;34m\u001b[0m\u001b[0;34m\u001b[0m\u001b[0m\n\u001b[0;32m----> 6\u001b[0;31m \u001b[0mmyDict\u001b[0m \u001b[0;34m=\u001b[0m \u001b[0;34m{\u001b[0m\u001b[0mmyKeySet\u001b[0m\u001b[0;34m:\u001b[0m\u001b[0mmyValueSet\u001b[0m \u001b[0;34m,\u001b[0m \u001b[0;34m\"Apple\"\u001b[0m\u001b[0;34m:\u001b[0m\u001b[0;36m10\u001b[0m\u001b[0;34m,\u001b[0m \u001b[0;34m\"Cherry\"\u001b[0m\u001b[0;34m:\u001b[0m\u001b[0;36m15\u001b[0m\u001b[0;34m,\u001b[0m \u001b[0;36m10\u001b[0m\u001b[0;34m:\u001b[0m\u001b[0;34m\"Pumpkin\"\u001b[0m\u001b[0;34m}\u001b[0m\u001b[0;34m\u001b[0m\u001b[0;34m\u001b[0m\u001b[0m\n\u001b[0m\u001b[1;32m      7\u001b[0m \u001b[0;32mfor\u001b[0m \u001b[0mkey\u001b[0m\u001b[0;34m,\u001b[0m \u001b[0mvalue\u001b[0m \u001b[0;32min\u001b[0m \u001b[0mmyDict\u001b[0m\u001b[0;34m.\u001b[0m\u001b[0mitems\u001b[0m\u001b[0;34m(\u001b[0m\u001b[0;34m)\u001b[0m\u001b[0;34m:\u001b[0m\u001b[0;34m\u001b[0m\u001b[0;34m\u001b[0m\u001b[0m\n\u001b[1;32m      8\u001b[0m   \u001b[0mprint\u001b[0m\u001b[0;34m(\u001b[0m\u001b[0mkey\u001b[0m\u001b[0;34m,\u001b[0m \u001b[0mvalue\u001b[0m\u001b[0;34m)\u001b[0m\u001b[0;34m\u001b[0m\u001b[0;34m\u001b[0m\u001b[0m\n",
            "\u001b[0;31mTypeError\u001b[0m: unhashable type: 'list'"
          ]
        }
      ]
    },
    {
      "cell_type": "markdown",
      "metadata": {
        "id": "1-IziUZ03Yx_"
      },
      "source": [
        "#Sets\r\n",
        "\r\n",
        "---\r\n",
        "\r\n",
        "Sets are datastructure which keeps only one copy of an element. It is unordered, and it is not indexable.Even though elements in a given set cannot be changed, however, contents of a set itself can be changed.\r\n",
        "A set is represented using `{}`."
      ]
    },
    {
      "cell_type": "code",
      "metadata": {
        "colab": {
          "base_uri": "https://localhost:8080/"
        },
        "id": "Riqrvnzr30AO",
        "outputId": "3eaf168e-b5b0-4817-aaaa-6085c11fbee5"
      },
      "source": [
        "#A generic set\r\n",
        "mySet = {1,2,3,4}\r\n",
        "print(mySet)"
      ],
      "execution_count": null,
      "outputs": [
        {
          "output_type": "stream",
          "text": [
            "{1, 2, 3, 4}\n"
          ],
          "name": "stdout"
        }
      ]
    },
    {
      "cell_type": "code",
      "metadata": {
        "colab": {
          "base_uri": "https://localhost:8080/"
        },
        "id": "1NlydMjw4hDP",
        "outputId": "c8e0e4de-3a38-494d-c01b-14831ca72801"
      },
      "source": [
        "#A set of elements with duplicates inserted\r\n",
        "mySet = {1,1,1,1,2,3,4,4}\r\n",
        "print(mySet)\r\n",
        "#Observe the absence of duplicates"
      ],
      "execution_count": null,
      "outputs": [
        {
          "output_type": "stream",
          "text": [
            "{1, 2, 3, 4}\n"
          ],
          "name": "stdout"
        }
      ]
    },
    {
      "cell_type": "code",
      "metadata": {
        "colab": {
          "base_uri": "https://localhost:8080/"
        },
        "id": "jbFqeVis7pVD",
        "outputId": "6d3507fb-1d22-4f95-f4d5-7159010ee94c"
      },
      "source": [
        "#A set can house duplicate non-mutables \r\n",
        "mySet = {(1,2), (1,2), \"Apple\", \"Apple\",1, 2, 3}\r\n",
        "print(mySet)"
      ],
      "execution_count": null,
      "outputs": [
        {
          "output_type": "stream",
          "text": [
            "{(1, 2), 1, 2, 3, 'Apple'}\n"
          ],
          "name": "stdout"
        }
      ]
    },
    {
      "cell_type": "code",
      "metadata": {
        "colab": {
          "base_uri": "https://localhost:8080/",
          "height": 201
        },
        "id": "VTGl5c0O72Sr",
        "outputId": "e459ca46-5c84-48e0-dbad-b762e3b20791"
      },
      "source": [
        "#However , a set can not house duplicate mutables \r\n",
        "mySet = {[1,2,3], [1,2,3], 1,2,3}\r\n",
        "print(mySet)"
      ],
      "execution_count": null,
      "outputs": [
        {
          "output_type": "error",
          "ename": "TypeError",
          "evalue": "ignored",
          "traceback": [
            "\u001b[0;31m---------------------------------------------------------------------------\u001b[0m",
            "\u001b[0;31mTypeError\u001b[0m                                 Traceback (most recent call last)",
            "\u001b[0;32m<ipython-input-65-bc74c51adf35>\u001b[0m in \u001b[0;36m<module>\u001b[0;34m()\u001b[0m\n\u001b[1;32m      1\u001b[0m \u001b[0;31m#However , a set can not house duplicate mutables\u001b[0m\u001b[0;34m\u001b[0m\u001b[0;34m\u001b[0m\u001b[0;34m\u001b[0m\u001b[0m\n\u001b[0;32m----> 2\u001b[0;31m \u001b[0mmySet\u001b[0m \u001b[0;34m=\u001b[0m \u001b[0;34m{\u001b[0m\u001b[0;34m[\u001b[0m\u001b[0;36m1\u001b[0m\u001b[0;34m,\u001b[0m\u001b[0;36m2\u001b[0m\u001b[0;34m,\u001b[0m\u001b[0;36m3\u001b[0m\u001b[0;34m]\u001b[0m\u001b[0;34m,\u001b[0m \u001b[0;34m[\u001b[0m\u001b[0;36m1\u001b[0m\u001b[0;34m,\u001b[0m\u001b[0;36m2\u001b[0m\u001b[0;34m,\u001b[0m\u001b[0;36m3\u001b[0m\u001b[0;34m]\u001b[0m\u001b[0;34m,\u001b[0m \u001b[0;36m1\u001b[0m\u001b[0;34m,\u001b[0m\u001b[0;36m2\u001b[0m\u001b[0;34m,\u001b[0m\u001b[0;36m3\u001b[0m\u001b[0;34m}\u001b[0m\u001b[0;34m\u001b[0m\u001b[0;34m\u001b[0m\u001b[0m\n\u001b[0m\u001b[1;32m      3\u001b[0m \u001b[0mprint\u001b[0m\u001b[0;34m(\u001b[0m\u001b[0mmySet\u001b[0m\u001b[0;34m)\u001b[0m\u001b[0;34m\u001b[0m\u001b[0;34m\u001b[0m\u001b[0m\n",
            "\u001b[0;31mTypeError\u001b[0m: unhashable type: 'list'"
          ]
        }
      ]
    },
    {
      "cell_type": "markdown",
      "metadata": {
        "id": "N7vS610K-JhB"
      },
      "source": [
        "The ways in which a `string` can be represented."
      ]
    },
    {
      "cell_type": "code",
      "metadata": {
        "id": "2cbSZUA09mmu"
      },
      "source": [
        "mySet = {\"Hello\"}\r\n",
        "print(type(mySet))\r\n",
        "print(mySet)"
      ],
      "execution_count": null,
      "outputs": []
    },
    {
      "cell_type": "code",
      "metadata": {
        "id": "TusZpvjW9wD1"
      },
      "source": [
        "mySet = (\"Hello\")\r\n",
        "print(type(mySet))\r\n",
        "print(mySet)"
      ],
      "execution_count": null,
      "outputs": []
    },
    {
      "cell_type": "code",
      "metadata": {
        "id": "y-3zOW4-90gX"
      },
      "source": [
        "mySet = (\"Hello\",)\r\n",
        "print(type(mySet))\r\n",
        "print(mySet)"
      ],
      "execution_count": null,
      "outputs": []
    },
    {
      "cell_type": "code",
      "metadata": {
        "id": "uqXSfvlA95Qp"
      },
      "source": [
        "#Type casting a string\r\n",
        "mySet = set(\"hello\")\r\n",
        "print(mySet)"
      ],
      "execution_count": null,
      "outputs": []
    },
    {
      "cell_type": "markdown",
      "metadata": {
        "id": "DTpmLs72B4WT"
      },
      "source": [
        "Since sets are mutable, it can not be used as `key` to a dictionary. But as usual a set can be used a `value` of a dictionary if the `key` happens to be non-mutable."
      ]
    },
    {
      "cell_type": "code",
      "metadata": {
        "id": "gH_OGEOq-zoC"
      },
      "source": [
        "#Gives error, since both key to the dictionary is mutable\r\n",
        "mySet = {1,2}\r\n",
        "myDict = {mySet: mySet}"
      ],
      "execution_count": null,
      "outputs": []
    },
    {
      "cell_type": "code",
      "metadata": {
        "id": "aiwcdIIy_gpC"
      },
      "source": [
        "#Does not give error, since key to the dictionary is non-mutable\r\n",
        "myTuple = (1,2)\r\n",
        "mySet = {10,12}\r\n",
        "myDict = {myTuple: mySet}\r\n",
        "print(myDict)"
      ],
      "execution_count": null,
      "outputs": []
    },
    {
      "cell_type": "markdown",
      "metadata": {
        "id": "Ou0zYEo7FHxd"
      },
      "source": [
        "###`add`, `remove` and `in` operator"
      ]
    },
    {
      "cell_type": "code",
      "metadata": {
        "id": "t5HUg-P0Cvgx"
      },
      "source": [
        "#A set should not be initialized in the following way\r\n",
        "#Initializing a variable in the following way means\r\n",
        "#initializing a variable to become a dictionary\r\n",
        "#not a set\r\n",
        "mySet = {}\r\n",
        "print(type(mySet))"
      ],
      "execution_count": null,
      "outputs": []
    },
    {
      "cell_type": "code",
      "metadata": {
        "id": "sJ0T6OQTGA2u"
      },
      "source": [
        "#A set should be initialized in the following way\r\n",
        "mySet = set()\r\n",
        "print(type(mySet))"
      ],
      "execution_count": null,
      "outputs": []
    },
    {
      "cell_type": "code",
      "metadata": {
        "id": "liPb_fm3GK_k"
      },
      "source": [
        "#Adding elements to a set\r\n",
        "mySet = set()\r\n",
        "mySet.add(\"Apple\")\r\n",
        "mySet.add(\"Orange\")\r\n",
        "mySet.add(1)\r\n",
        "mySet.add(2)\r\n",
        "print(mySet)"
      ],
      "execution_count": null,
      "outputs": []
    },
    {
      "cell_type": "code",
      "metadata": {
        "id": "YIFrMHtmG0uA"
      },
      "source": [
        "#Removing elements from a set\r\n",
        "mySet.remove(\"Apple\")\r\n",
        "print(mySet)"
      ],
      "execution_count": null,
      "outputs": []
    },
    {
      "cell_type": "code",
      "metadata": {
        "id": "Xv4UJH60G_ql"
      },
      "source": [
        "#Checking whether an element is in the set\r\n",
        "mySet = set()\r\n",
        "mySet = {\"Apple\", \"Orange\", 1, 2, 3}\r\n",
        "if \"Apple\" in mySet:\r\n",
        "  print(\"Apple is present\")\r\n",
        "else:\r\n",
        "  print(\"Not present\")"
      ],
      "execution_count": null,
      "outputs": []
    },
    {
      "cell_type": "markdown",
      "metadata": {
        "id": "h1GXTsvCzntp"
      },
      "source": [
        "###`pop`, `discard`, and `clear` operator"
      ]
    },
    {
      "cell_type": "code",
      "metadata": {
        "id": "Tjm8cH_ZHTHu"
      },
      "source": [
        "#pop removes the first element of a set\r\n",
        "mySet = set()\r\n",
        "mySet = {\"Apple\", \"Banana\", \"Cherry\"}\r\n",
        "mySet.pop()\r\n",
        "print(mySet)\r\n",
        "mySet.pop()\r\n",
        "print(mySet)\r\n",
        "mySet.pop()\r\n",
        "print(mySet)\r\n"
      ],
      "execution_count": null,
      "outputs": []
    },
    {
      "cell_type": "code",
      "metadata": {
        "id": "vTwSRyax2RPK"
      },
      "source": [
        "#discard is a fail safe method to remove an element\r\n",
        "mySet = set()\r\n",
        "mySet = {\"Apple\", \"Banana\", \"Cherry\"}\r\n",
        "mySet.discard(\"Apple\")\r\n",
        "print(mySet)"
      ],
      "execution_count": null,
      "outputs": []
    },
    {
      "cell_type": "code",
      "metadata": {
        "id": "nDCd7YuP3fF2"
      },
      "source": [
        "#This is what happens if an element is not present\r\n",
        "mySet = set()\r\n",
        "mySet = {\"Apple\", \"Banana\", \"Cherry\"}\r\n",
        "mySet.discard(\"Date\")\r\n",
        "print(mySet)\r\n",
        "#Application of the method does not give an error"
      ],
      "execution_count": null,
      "outputs": []
    },
    {
      "cell_type": "code",
      "metadata": {
        "id": "tXYhUKJD3tWG"
      },
      "source": [
        "#However, doing the same using remove operator gives an error\r\n",
        "mySet = set()\r\n",
        "mySet = {\"Apple\", \"Banana\", \"Cherry\"}\r\n",
        "mySet.remove(\"Date\")\r\n",
        "print(mySet)\r\n",
        "#Application of the method does give an error"
      ],
      "execution_count": null,
      "outputs": []
    },
    {
      "cell_type": "code",
      "metadata": {
        "id": "rdM5k0Wo49Z8"
      },
      "source": [
        "#This problem can be resolved using a try and except block\r\n",
        "#This will be shown later\r\n",
        "mySet = set()\r\n",
        "mySet = {\"Apple\", \"Banana\", \"Cherry\"}\r\n",
        "try:\r\n",
        "  mySet.remove(\"Date\")\r\n",
        "except:\r\n",
        "  print(mySet)\r\n",
        "#Application of the method fails safely"
      ],
      "execution_count": null,
      "outputs": []
    },
    {
      "cell_type": "code",
      "metadata": {
        "id": "XsXnb5Ui5WBA"
      },
      "source": [
        "#clear operator removes all the elements from the set\r\n",
        "mySet = set()\r\n",
        "mySet = {\"Apple\", \"Banana\", \"Cherry\"}\r\n",
        "mySet.clear()\r\n",
        "print(mySet)"
      ],
      "execution_count": null,
      "outputs": []
    },
    {
      "cell_type": "markdown",
      "metadata": {
        "id": "uDqd6XO_Dnh8"
      },
      "source": [
        "###`union`,`intersection`, `difference` and `symmetric_difference` operations"
      ]
    },
    {
      "cell_type": "code",
      "metadata": {
        "id": "CbxDpX_nCrTL"
      },
      "source": [
        "#Union of two sets\r\n",
        "oddNum = {1, 3, 5, 7}\r\n",
        "evenNum = {2, 4, 6, 8}\r\n",
        "allNum = oddNum.union(evenNum)\r\n",
        "print(f\"All of the numbers: {allNum}\")"
      ],
      "execution_count": null,
      "outputs": []
    },
    {
      "cell_type": "code",
      "metadata": {
        "id": "L39wu7-6G41S"
      },
      "source": [
        "#Intersection of two sets\r\n",
        "oddNum = {1, 3, 5, 7, 9, 11, 13}\r\n",
        "primeNum = {2, 3, 5, 7, 11, 13}\r\n",
        "oddAndPrime = oddNum.intersection(primeNum)\r\n",
        "print(f\"Intersection between odd and prime number: {oddAndPrime}\")"
      ],
      "execution_count": null,
      "outputs": []
    },
    {
      "cell_type": "code",
      "metadata": {
        "id": "o7bsLxcoHfum"
      },
      "source": [
        "#Difference of two sets\r\n",
        "naturalNumber = {1, 2, 3, 4, 5, 6, 7, 8, 9, 10}\r\n",
        "primeNumber = {2, 3, 5, 7, 11, 13, 17}\r\n",
        "\r\n",
        "'''Difference of two sets are the elements which are \r\n",
        "present in one set but not in another one\r\n",
        "The result depends on which set called the difference\r\n",
        "method.For example in the set below, the set naturalNumber\r\n",
        "calls the method difference with the set primeNumber as \r\n",
        "argument. So the element remaining in the set naturalNumber\r\n",
        "are being printed'''\r\n",
        "\r\n",
        "diff = naturalNumber.difference(primeNumber)\r\n",
        "print(f\"Difference between natural number and prime number: {diff}\")"
      ],
      "execution_count": null,
      "outputs": []
    },
    {
      "cell_type": "code",
      "metadata": {
        "id": "kjp2FjaQJvFk"
      },
      "source": [
        "#Symmetric difference of two sets\r\n",
        "naturalNumber = {1, 2, 3, 4, 5, 6}\r\n",
        "primeNumber = {2, 3, 5, 7, 11 }\r\n",
        "\r\n",
        "'''Symmetric difference of two sets are the elements\r\n",
        "which are not in the intersection of two sets\r\n",
        "Symmetric difference between the above two sets\r\n",
        "will yield 1,4,6,7 and 11 , since these are the \r\n",
        "elements that are not present in the intersection\r\n",
        "of the two sets. The elements which are in the \r\n",
        "intersection of the two sets are 2, 3 and 5\r\n",
        "'''\r\n",
        "\r\n",
        "diff = naturalNumber.symmetric_difference(primeNumber)\r\n",
        "print(f\"Symmetric difference between natural number and prime number: {diff}\")"
      ],
      "execution_count": null,
      "outputs": []
    },
    {
      "cell_type": "markdown",
      "metadata": {
        "id": "xjTwIT_LOleb"
      },
      "source": [
        "###`update`,`intersection_update`, `difference_update` and `symmetric_difference_update` operations\r\n",
        "\r\n",
        "The operations `union`, `intersection`, `difference` and `symmetric_difference` returns sets. However these operations can also be done in place as shown in the following examples: "
      ]
    },
    {
      "cell_type": "code",
      "metadata": {
        "id": "meoVOv3gLApS"
      },
      "source": [
        "#Use of update operation\r\n",
        "oddNum = {1, 3, 5, 7, 9}\r\n",
        "evenNum = {2, 4, 6, 8, 10, 12, 14}\r\n",
        "oddNum.update(evenNum)\r\n",
        "print(f\"The odd numbers are: {oddNum}\")"
      ],
      "execution_count": null,
      "outputs": []
    },
    {
      "cell_type": "code",
      "metadata": {
        "id": "nlwwVRSVQKxL"
      },
      "source": [
        "#Use of intersection_update operation\r\n",
        "naturalNumber = {1, 2, 3, 4, 5, 6, 7, 8, 9, 10}\r\n",
        "evenNumber = {2, 4, 6, 8, 10, 12, 14}\r\n",
        "naturalNumber.intersection_update(evenNumber)\r\n",
        "print(f\"The numbers in the intersection are: {naturalNumber}\")"
      ],
      "execution_count": null,
      "outputs": []
    },
    {
      "cell_type": "code",
      "metadata": {
        "colab": {
          "base_uri": "https://localhost:8080/"
        },
        "id": "H8-cb7dvQkVZ",
        "outputId": "a6bdd52e-d1ae-47ab-e753-3d2db3c41b30"
      },
      "source": [
        "#Use of difference_update operation\r\n",
        "naturalNumber = {1, 2, 3, 4, 5, 6, 7, 8, 9, 10}\r\n",
        "evenNumber = {2, 4, 6, 8, 10, 12, 14}\r\n",
        "naturalNumber.difference_update(evenNumber)\r\n",
        "print(f\"The numbers in the intersection are: {naturalNumber}\")"
      ],
      "execution_count": null,
      "outputs": [
        {
          "output_type": "stream",
          "text": [
            "The numbers in the intersection are: {1, 3, 5, 7, 9}\n"
          ],
          "name": "stdout"
        }
      ]
    },
    {
      "cell_type": "code",
      "metadata": {
        "colab": {
          "base_uri": "https://localhost:8080/"
        },
        "id": "bhRS3hdGRQKW",
        "outputId": "4a817aa5-f420-4e04-c5ac-a0b336a5114c"
      },
      "source": [
        "#Use of symmetric_difference_update operation\r\n",
        "naturalNumber = {1, 2, 3, 4, 5, 6, 7, 8, 9, 10}\r\n",
        "evenNumber = {2, 4, 6, 8, 10, 12, 14}\r\n",
        "naturalNumber.symmetric_difference_update(evenNumber)\r\n",
        "print(f\"The numbers in the intersection are: {naturalNumber}\")"
      ],
      "execution_count": null,
      "outputs": [
        {
          "output_type": "stream",
          "text": [
            "The numbers in the intersection are: {1, 3, 5, 7, 9, 12, 14}\n"
          ],
          "name": "stdout"
        }
      ]
    },
    {
      "cell_type": "markdown",
      "metadata": {
        "id": "N7a61514SwLD"
      },
      "source": [
        "###`issubset`, `issuperset` and `isdisjoint` keywords"
      ]
    },
    {
      "cell_type": "code",
      "metadata": {
        "colab": {
          "base_uri": "https://localhost:8080/"
        },
        "id": "TX80XvswSoGA",
        "outputId": "4633a385-0c26-4f87-ab24-4e6937d8c99b"
      },
      "source": [
        "#To check whether a set is a subset of another set\r\n",
        "setA = {1, 2, 3, 4, 5}\r\n",
        "setB = {2, 3, 4}\r\n",
        "print(setB.issubset(setA))\r\n",
        "print(setA.issubset(setB))"
      ],
      "execution_count": null,
      "outputs": [
        {
          "output_type": "stream",
          "text": [
            "True\n",
            "False\n"
          ],
          "name": "stdout"
        }
      ]
    },
    {
      "cell_type": "code",
      "metadata": {
        "colab": {
          "base_uri": "https://localhost:8080/"
        },
        "id": "zFP3xSFWVWPo",
        "outputId": "5de80ce2-966e-454c-8e4e-3b4f16840133"
      },
      "source": [
        "#To check whether a set is a superset of another set\r\n",
        "setA = {1, 2, 3, 4, 5}\r\n",
        "setB = {2, 3, 4}\r\n",
        "print(setB.issuperset(setA))\r\n",
        "print(setA.issuperset(setB))"
      ],
      "execution_count": null,
      "outputs": [
        {
          "output_type": "stream",
          "text": [
            "False\n",
            "True\n"
          ],
          "name": "stdout"
        }
      ]
    },
    {
      "cell_type": "code",
      "metadata": {
        "colab": {
          "base_uri": "https://localhost:8080/"
        },
        "id": "RtjuPMzBWSrn",
        "outputId": "73ffd8c3-cfde-40b5-e198-ecdf7cc13797"
      },
      "source": [
        "#Check whether a set is a disjoint of another set\r\n",
        "setA = {1, 2, 3, 4, 5}\r\n",
        "setB = {1, 2}\r\n",
        "setC = {10,20}\r\n",
        "print(setA.isdisjoint(setB))\r\n",
        "print(setA.isdisjoint(setC))"
      ],
      "execution_count": null,
      "outputs": [
        {
          "output_type": "stream",
          "text": [
            "False\n",
            "True\n"
          ],
          "name": "stdout"
        }
      ]
    },
    {
      "cell_type": "markdown",
      "metadata": {
        "id": "OPXjFCwvXrRc"
      },
      "source": [
        "###`copy` operation"
      ]
    },
    {
      "cell_type": "code",
      "metadata": {
        "colab": {
          "base_uri": "https://localhost:8080/"
        },
        "id": "rZMmzh3gXY7I",
        "outputId": "51980918-a423-40cb-ad40-f21f7ff558cc"
      },
      "source": [
        "#Just like the previous datastructure copying works\r\n",
        "#in the same way. Adding an element after copying \r\n",
        "#it changes the orginal as well as the copied one\r\n",
        "setA = {1,2,3,4}\r\n",
        "setB = setA\r\n",
        "setA.add(100)\r\n",
        "print(f\"Original set: {setA}\")\r\n",
        "print(f\"Copied set: {setB}\")"
      ],
      "execution_count": null,
      "outputs": [
        {
          "output_type": "stream",
          "text": [
            "Original set: {1, 2, 3, 100, 4}\n",
            "Copied set: {1, 2, 3, 100, 4}\n"
          ],
          "name": "stdout"
        }
      ]
    },
    {
      "cell_type": "code",
      "metadata": {
        "colab": {
          "base_uri": "https://localhost:8080/"
        },
        "id": "F8aSR6OaZk_B",
        "outputId": "8515eb45-21fa-4f4b-a8a8-64b28053d9fc"
      },
      "source": [
        "#One way to resolve this problem is to use the copy method\r\n",
        "setA = {1,2,3,4}\r\n",
        "setB = setA.copy()\r\n",
        "setA.add(100)\r\n",
        "print(f\"Original set: {setA}\")\r\n",
        "print(f\"Copied set: {setB}\")"
      ],
      "execution_count": null,
      "outputs": [
        {
          "output_type": "stream",
          "text": [
            "Original set: {1, 2, 3, 100, 4}\n",
            "Copied set: {1, 2, 3, 4}\n"
          ],
          "name": "stdout"
        }
      ]
    },
    {
      "cell_type": "code",
      "metadata": {
        "colab": {
          "base_uri": "https://localhost:8080/"
        },
        "id": "cGJtyoN-cI7i",
        "outputId": "d4cd00d9-c561-4d04-e316-749e8afd8c8d"
      },
      "source": [
        "#One other way to resolve this problem \r\n",
        "setA = {1,2,3,4}\r\n",
        "setB = set(setA)\r\n",
        "setA.add(100)\r\n",
        "print(f\"Original set: {setA}\")\r\n",
        "print(f\"Copied set: {setB}\")"
      ],
      "execution_count": null,
      "outputs": [
        {
          "output_type": "stream",
          "text": [
            "Original set: {1, 2, 3, 100, 4}\n",
            "Copied set: {1, 2, 3, 4}\n"
          ],
          "name": "stdout"
        }
      ]
    },
    {
      "cell_type": "markdown",
      "metadata": {
        "id": "jAXSykfcdhlz"
      },
      "source": [
        "###`frozenset` operations"
      ]
    },
    {
      "cell_type": "code",
      "metadata": {
        "colab": {
          "base_uri": "https://localhost:8080/"
        },
        "id": "UPNwqHFndemp",
        "outputId": "7d5511aa-c0fc-4f41-fbc6-484694f2682c"
      },
      "source": [
        "#If somebody feels to restrict the ability of a \r\n",
        "#a set to be updated or have its elements to be \r\n",
        "#remove an element he/she can use frozenset\r\n",
        "mySet = frozenset({1, 2, 3, 3})\r\n",
        "print(mySet)"
      ],
      "execution_count": null,
      "outputs": [
        {
          "output_type": "stream",
          "text": [
            "frozenset({1, 2, 3})\n"
          ],
          "name": "stdout"
        }
      ]
    },
    {
      "cell_type": "code",
      "metadata": {
        "colab": {
          "base_uri": "https://localhost:8080/"
        },
        "id": "NupRQG-A6pBm",
        "outputId": "956c752f-4923-45b0-ff00-63bdff10bd89"
      },
      "source": [
        "#Gives an error\r\n",
        "try:\r\n",
        "  mySet.add(7)\r\n",
        "except:\r\n",
        "  print(\"Error in adding\")"
      ],
      "execution_count": null,
      "outputs": [
        {
          "output_type": "stream",
          "text": [
            "Error in adding\n"
          ],
          "name": "stdout"
        }
      ]
    },
    {
      "cell_type": "code",
      "metadata": {
        "colab": {
          "base_uri": "https://localhost:8080/"
        },
        "id": "qPGHQGmn6uf3",
        "outputId": "6b73f3c0-63ff-4c1c-a6cb-ec2451925e5d"
      },
      "source": [
        "#Gives an error\r\n",
        "try:\r\n",
        "  mySet.remove(1)\r\n",
        "except:\r\n",
        "  print(\"Error in removing\")"
      ],
      "execution_count": null,
      "outputs": [
        {
          "output_type": "stream",
          "text": [
            "Error in removing\n"
          ],
          "name": "stdout"
        }
      ]
    },
    {
      "cell_type": "code",
      "metadata": {
        "colab": {
          "base_uri": "https://localhost:8080/"
        },
        "id": "MrcGGwf76xdh",
        "outputId": "b50037e5-d593-45d3-9d42-125412949f96"
      },
      "source": [
        "#Gives an error\r\n",
        "try:\r\n",
        "  mySet.pop()\r\n",
        "except:\r\n",
        "  print(\"Error in popping out element\")"
      ],
      "execution_count": null,
      "outputs": [
        {
          "output_type": "stream",
          "text": [
            "Error in popping out element\n"
          ],
          "name": "stdout"
        }
      ]
    },
    {
      "cell_type": "markdown",
      "metadata": {
        "id": "C6AnKyAn83GS"
      },
      "source": [
        "However, `union`, `intersection`, `difference`, `symmetric_difference` operations will work."
      ]
    },
    {
      "cell_type": "code",
      "metadata": {
        "colab": {
          "base_uri": "https://localhost:8080/"
        },
        "id": "BKQF08i27CZw",
        "outputId": "fd7796a9-2e7c-4023-992e-93de72f1ee3c"
      },
      "source": [
        "#union operation\r\n",
        "oddSet = frozenset({1, 3, 5})\r\n",
        "evenSet = frozenset({2, 4, 6})\r\n",
        "print(oddSet.union(evenSet))"
      ],
      "execution_count": null,
      "outputs": [
        {
          "output_type": "stream",
          "text": [
            "frozenset({1, 2, 3, 4, 5, 6})\n"
          ],
          "name": "stdout"
        }
      ]
    },
    {
      "cell_type": "code",
      "metadata": {
        "colab": {
          "base_uri": "https://localhost:8080/"
        },
        "id": "U7d_b08E9le3",
        "outputId": "da3820ef-e9f3-4bd9-f4e3-972e1cbe0c4a"
      },
      "source": [
        "#difference operation\r\n",
        "naturalSet = frozenset({1, 2, 3, 4, 5})\r\n",
        "evenSet = frozenset({2, 4, 6})\r\n",
        "print(oddSet.difference(evenSet))"
      ],
      "execution_count": null,
      "outputs": [
        {
          "output_type": "stream",
          "text": [
            "frozenset({1, 3, 5})\n"
          ],
          "name": "stdout"
        }
      ]
    },
    {
      "cell_type": "code",
      "metadata": {
        "colab": {
          "base_uri": "https://localhost:8080/"
        },
        "id": "roCZQaVR-mT8",
        "outputId": "417c858d-ee43-4721-cbc4-2820ff3b55a2"
      },
      "source": [
        "#intersection operation\r\n",
        "naturalSet = frozenset({1, 2, 3, 4, 5})\r\n",
        "evenSet = frozenset({2, 4, 6})\r\n",
        "print(naturalSet.intersection(evenSet))"
      ],
      "execution_count": null,
      "outputs": [
        {
          "output_type": "stream",
          "text": [
            "frozenset({2, 4})\n"
          ],
          "name": "stdout"
        }
      ]
    },
    {
      "cell_type": "code",
      "metadata": {
        "colab": {
          "base_uri": "https://localhost:8080/"
        },
        "id": "rjtf5xan-t8Q",
        "outputId": "6e7232ad-a9dd-4e16-fb22-66d410bc8a6a"
      },
      "source": [
        "#symmetric_difference operation\r\n",
        "naturalSet = frozenset({1, 2, 3, 4, 5})\r\n",
        "evenSet = frozenset({2, 4, 6})\r\n",
        "print(naturalSet.symmetric_difference(evenSet))"
      ],
      "execution_count": null,
      "outputs": [
        {
          "output_type": "stream",
          "text": [
            "frozenset({1, 3, 5, 6})\n"
          ],
          "name": "stdout"
        }
      ]
    },
    {
      "cell_type": "markdown",
      "metadata": {
        "id": "vXYp5N8r_bUR"
      },
      "source": [
        "But `update`, `intersection_update`, `difference_update`, `symmetric_difference_update` operations will not work."
      ]
    },
    {
      "cell_type": "code",
      "metadata": {
        "colab": {
          "base_uri": "https://localhost:8080/"
        },
        "id": "MdmaOVnn_MV2",
        "outputId": "28b42db9-842a-4da7-8e1b-aad6b2ba7534"
      },
      "source": [
        "#union operation\r\n",
        "naturalSet = frozenset({1, 2, 3, 4, 5})\r\n",
        "evenSet = frozenset({2, 4, 6})\r\n",
        "try:\r\n",
        "  naturalSet.update(evenSet)\r\n",
        "except:\r\n",
        "  print(\"Update is not possible\")\r\n",
        "\r\n",
        "try:\r\n",
        "  naturalSet.intersection_update(evenSet)\r\n",
        "except:\r\n",
        "  print(\"Intersection update is not possible\")\r\n",
        "\r\n",
        "try:\r\n",
        "  naturalSet.difference_update(evenSet)\r\n",
        "except:\r\n",
        "  print(\"Difference update is not possible\")\r\n",
        "\r\n",
        "try:\r\n",
        "  naturalSet.symmetric_difference_update(evenSet)\r\n",
        "except:\r\n",
        "  print(\"Symmetric difference update is not possible\")"
      ],
      "execution_count": null,
      "outputs": [
        {
          "output_type": "stream",
          "text": [
            "Update is not possible\n",
            "Intersection update is not possible\n",
            "Difference update is not possible\n",
            "Symmetric difference update is not possible\n"
          ],
          "name": "stdout"
        }
      ]
    },
    {
      "cell_type": "markdown",
      "metadata": {
        "id": "T1BgN2DyBFkt"
      },
      "source": [
        "#String\r\n",
        "\r\n",
        "---\r\n",
        "String is an immutable type in Python. The content in a string can not be changed due to its immutable nature.\r\n"
      ]
    },
    {
      "cell_type": "code",
      "metadata": {
        "id": "ofLBQKGi_9Xn",
        "colab": {
          "base_uri": "https://localhost:8080/"
        },
        "outputId": "76d88392-aba6-4aaf-a7f2-2f96498c0f89"
      },
      "source": [
        "#Printing a string\r\n",
        "myStr = \"hello\"\r\n",
        "print(myStr)"
      ],
      "execution_count": null,
      "outputs": [
        {
          "output_type": "stream",
          "text": [
            "hello\n"
          ],
          "name": "stdout"
        }
      ]
    },
    {
      "cell_type": "markdown",
      "metadata": {
        "id": "-Jc1SKokdu4l"
      },
      "source": [
        "Couple of ways to print a `string` in Python"
      ]
    },
    {
      "cell_type": "code",
      "metadata": {
        "colab": {
          "base_uri": "https://localhost:8080/"
        },
        "id": "O9x2MEEddois",
        "outputId": "ecac950a-acea-4233-97ce-ffecf8f65a40"
      },
      "source": [
        "#Printing one quoted string inside another one \r\n",
        "myStr = \"One more thing, he said: 'I will miss you'\"\r\n",
        "print(myStr)"
      ],
      "execution_count": null,
      "outputs": [
        {
          "output_type": "stream",
          "text": [
            "One more thing, he said: 'I will miss you'\n"
          ],
          "name": "stdout"
        }
      ]
    },
    {
      "cell_type": "code",
      "metadata": {
        "colab": {
          "base_uri": "https://localhost:8080/"
        },
        "id": "VRVEINW9eVJ4",
        "outputId": "91599f2f-2a41-4b04-f3ba-6c84239df93d"
      },
      "source": [
        "#Printing more than one line of text \r\n",
        "myStr = '''I then said, I hope not.\r\n",
        "He said, 'I also hope too'.\r\n",
        "And then he drove away.'''\r\n",
        "print(myStr)"
      ],
      "execution_count": null,
      "outputs": [
        {
          "output_type": "stream",
          "text": [
            "I then said, I hope not.\n",
            "He said, 'I also hope too'.\n",
            "And then he drove away.\n"
          ],
          "name": "stdout"
        }
      ]
    },
    {
      "cell_type": "code",
      "metadata": {
        "colab": {
          "base_uri": "https://localhost:8080/"
        },
        "id": "-daf1VEZhKaA",
        "outputId": "978869ab-ed4c-45f6-ad5f-ab10891c21ea"
      },
      "source": [
        "#Printing mltiple lines this way also make  \r\n",
        "myStr = \"\"\"I then said, I hope not.\r\n",
        "He said, 'I also hope too'.\r\n",
        "And then he drove away.\"\"\"\r\n",
        "print(myStr)"
      ],
      "execution_count": null,
      "outputs": [
        {
          "output_type": "stream",
          "text": [
            "I then said, I hope not.\n",
            "He said, 'I also hope too'.\n",
            "And then he drove away.\n"
          ],
          "name": "stdout"
        }
      ]
    },
    {
      "cell_type": "code",
      "metadata": {
        "colab": {
          "base_uri": "https://localhost:8080/"
        },
        "id": "hNas4k2qhhdR",
        "outputId": "ecbbde98-d101-4f87-b577-30886ebb4819"
      },
      "source": [
        "#But if you want to see multiple lines in one line\r\n",
        "#you have to do it in the following way:\r\n",
        "#Printing mltiple lines this way also make  \r\n",
        "myStr = \"\"\"I then said, I hope not. \\\r\n",
        "He said, 'I also hope too'.\\\r\n",
        "And then he drove away.\"\"\"\r\n",
        "print(myStr)"
      ],
      "execution_count": null,
      "outputs": [
        {
          "output_type": "stream",
          "text": [
            "I then said, I hope not. He said, 'I also hope too'.And then he drove away.\n"
          ],
          "name": "stdout"
        }
      ]
    },
    {
      "cell_type": "markdown",
      "metadata": {
        "id": "A2_PeY8Eh--d"
      },
      "source": [
        "###immutable nature of string"
      ]
    },
    {
      "cell_type": "code",
      "metadata": {
        "colab": {
          "base_uri": "https://localhost:8080/"
        },
        "id": "OjCba5p-h2Kb",
        "outputId": "7560d5a9-f9b0-4ef3-f33d-4a7eae77ceb1"
      },
      "source": [
        "#Printing a string by characters\r\n",
        "myStr = \"straw\"\r\n",
        "for i in myStr:\r\n",
        "  print(i)"
      ],
      "execution_count": null,
      "outputs": [
        {
          "output_type": "stream",
          "text": [
            "s\n",
            "t\n",
            "r\n",
            "a\n",
            "w\n"
          ],
          "name": "stdout"
        }
      ]
    },
    {
      "cell_type": "code",
      "metadata": {
        "colab": {
          "base_uri": "https://localhost:8080/"
        },
        "id": "ZZ_Bxij4kdGg",
        "outputId": "1b3a13e6-4325-4c02-a167-69b8f18766c7"
      },
      "source": [
        "#Printing a string by indices\r\n",
        "myStr = \"straw\"\r\n",
        "strLen = len(myStr)\r\n",
        "for i in range(strLen):\r\n",
        "  print(myStr[i])"
      ],
      "execution_count": null,
      "outputs": [
        {
          "output_type": "stream",
          "text": [
            "s\n",
            "t\n",
            "r\n",
            "a\n",
            "w\n"
          ],
          "name": "stdout"
        }
      ]
    },
    {
      "cell_type": "code",
      "metadata": {
        "colab": {
          "base_uri": "https://localhost:8080/"
        },
        "id": "nqNzY3J8k4ww",
        "outputId": "d8b4abe0-aef9-4a6f-95fc-0c6433549928"
      },
      "source": [
        "#However, even though the characters can \r\n",
        "#be read, it can not be written though\r\n",
        "myStr = \"straw\"\r\n",
        "try:\r\n",
        "  myStr[0] = 'c'\r\n",
        "except:\r\n",
        "  print(\"Error, mate\")"
      ],
      "execution_count": null,
      "outputs": [
        {
          "output_type": "stream",
          "text": [
            "Error, mate\n"
          ],
          "name": "stdout"
        }
      ]
    },
    {
      "cell_type": "markdown",
      "metadata": {
        "id": "X2aD3IS6lZnQ"
      },
      "source": [
        "###Printing using indices of strings"
      ]
    },
    {
      "cell_type": "code",
      "metadata": {
        "colab": {
          "base_uri": "https://localhost:8080/"
        },
        "id": "PXVbfHjylRzT",
        "outputId": "9cb97bac-9652-4bfc-de41-4fb52ea0af8c"
      },
      "source": [
        "myStr = str(123456789)\r\n",
        "print(f\"The string is: {myStr}\")"
      ],
      "execution_count": null,
      "outputs": [
        {
          "output_type": "stream",
          "text": [
            "The string is: 123456789\n"
          ],
          "name": "stdout"
        }
      ]
    },
    {
      "cell_type": "code",
      "metadata": {
        "colab": {
          "base_uri": "https://localhost:8080/"
        },
        "id": "9uk8Lru-mrE6",
        "outputId": "213f82ae-00ad-4970-f129-3764e84e6d90"
      },
      "source": [
        "#Catching syntax error using try except\r\n",
        "#str(0123456) with 0 infront is a syntax error\r\n",
        "try:\r\n",
        "  exec('myStr =  str(0123456789)')\r\n",
        "except:\r\n",
        "  print(f\"Something is wrong here\")\r\n",
        "#About exec:\r\n",
        "#https://stackoverflow.com/questions/2220699/whats-the-difference-between-eval-exec-and-compile"
      ],
      "execution_count": null,
      "outputs": [
        {
          "output_type": "stream",
          "text": [
            "Something is wrong here\n"
          ],
          "name": "stdout"
        }
      ]
    },
    {
      "cell_type": "code",
      "metadata": {
        "colab": {
          "base_uri": "https://localhost:8080/"
        },
        "id": "ljld3U8zvOM0",
        "outputId": "092254ce-2dfe-4fb3-8c01-04991dfab1ef"
      },
      "source": [
        "#Printing a substring\r\n",
        "myStr = str(123456789)\r\n",
        "print(myStr[0:5])"
      ],
      "execution_count": null,
      "outputs": [
        {
          "output_type": "stream",
          "text": [
            "12345\n"
          ],
          "name": "stdout"
        }
      ]
    },
    {
      "cell_type": "code",
      "metadata": {
        "colab": {
          "base_uri": "https://localhost:8080/"
        },
        "id": "jdP5U3UH3FTQ",
        "outputId": "4759bb79-0f00-45f8-ff2f-8257209d517f"
      },
      "source": [
        "#Skipping characters in a substring\r\n",
        "myStr = str(123456789)\r\n",
        "lenStr = len(myStr)\r\n",
        "\r\n",
        "#Skipping characters in strings\r\n",
        "print(myStr[0:lenStr:2])\r\n",
        "\r\n",
        "#It can be done like this as well\r\n",
        "print(myStr[::2])\r\n",
        "\r\n",
        "#Printing a whole string\r\n",
        "print(myStr[:])\r\n",
        "print(myStr[::])"
      ],
      "execution_count": null,
      "outputs": [
        {
          "output_type": "stream",
          "text": [
            "13579\n",
            "13579\n",
            "123456789\n",
            "123456789\n"
          ],
          "name": "stdout"
        }
      ]
    },
    {
      "cell_type": "markdown",
      "metadata": {
        "id": "mBv6JV374f3F"
      },
      "source": [
        "###reversing a string with skipping strings"
      ]
    },
    {
      "cell_type": "code",
      "metadata": {
        "colab": {
          "base_uri": "https://localhost:8080/"
        },
        "id": "XqKenOMr3auD",
        "outputId": "e0945c7d-884b-4abb-c98d-82e29d153a40"
      },
      "source": [
        "#Reverse a string by skipping backward\r\n",
        "myStr = str(123456789)\r\n",
        "print(myStr[::-1])"
      ],
      "execution_count": null,
      "outputs": [
        {
          "output_type": "stream",
          "text": [
            "987654321\n"
          ],
          "name": "stdout"
        }
      ]
    },
    {
      "cell_type": "code",
      "metadata": {
        "colab": {
          "base_uri": "https://localhost:8080/"
        },
        "id": "1HVQkhue4t7o",
        "outputId": "4d5164a0-1037-4364-9ca0-9823c68ab9a4"
      },
      "source": [
        "#This is different from the following\r\n",
        "myStr = str(123456789)\r\n",
        "print(myStr[-1])"
      ],
      "execution_count": null,
      "outputs": [
        {
          "output_type": "stream",
          "text": [
            "9\n"
          ],
          "name": "stdout"
        }
      ]
    },
    {
      "cell_type": "markdown",
      "metadata": {
        "id": "4El04rqu5-mZ"
      },
      "source": [
        "###finding an element in a string : `in` , `find`, `count`, `startswith` and `endswith`"
      ]
    },
    {
      "cell_type": "code",
      "metadata": {
        "colab": {
          "base_uri": "https://localhost:8080/"
        },
        "id": "LMbpO-8x5i-a",
        "outputId": "2221ca72-583b-4e80-d861-0e0880c2f082"
      },
      "source": [
        "myStr = str(123456789)\r\n",
        "if '1' in myStr:\r\n",
        "  print(\"1 is present \")\r\n",
        "else:\r\n",
        "  print(\"1 is not present \")"
      ],
      "execution_count": null,
      "outputs": [
        {
          "output_type": "stream",
          "text": [
            "1 is present \n"
          ],
          "name": "stdout"
        }
      ]
    },
    {
      "cell_type": "code",
      "metadata": {
        "colab": {
          "base_uri": "https://localhost:8080/"
        },
        "id": "m6fRm3Ma3vKu",
        "outputId": "ec2dcac1-bdba-4ed4-fdbe-5d5308e37841"
      },
      "source": [
        "myStr = str(123456789)\r\n",
        "#Gives the index of a character\r\n",
        "print(myStr.find('4'))\r\n",
        "\r\n",
        "#Gives the indices of multiple characters\r\n",
        "print(myStr.find('34'))\r\n",
        "\r\n",
        "#Gives the -1 for the index of multiple characters\r\n",
        "print(myStr.find('304'))\r\n"
      ],
      "execution_count": null,
      "outputs": [
        {
          "output_type": "stream",
          "text": [
            "3\n",
            "2\n",
            "-1\n"
          ],
          "name": "stdout"
        }
      ]
    },
    {
      "cell_type": "code",
      "metadata": {
        "colab": {
          "base_uri": "https://localhost:8080/"
        },
        "id": "RhQxkWG25B7f",
        "outputId": "f25326f5-a217-45cf-e720-148aa9e79e86"
      },
      "source": [
        "myStr = str(123456789)\r\n",
        "#Search for multiple characters at the beginning\r\n",
        "print(myStr.startswith('123'))\r\n",
        "\r\n",
        "#Search for multiple characters at the end\r\n",
        "print(myStr.endswith('789'))\r\n",
        "\r\n",
        "#Search for multiple characters that is not present at the beginning\r\n",
        "print(myStr.startswith('304'))\r\n",
        "\r\n",
        "#Search for multiple characters that is not present at the end\r\n",
        "print(myStr.endswith('304'))\r\n",
        "\r\n"
      ],
      "execution_count": null,
      "outputs": [
        {
          "output_type": "stream",
          "text": [
            "True\n",
            "True\n",
            "False\n",
            "False\n"
          ],
          "name": "stdout"
        }
      ]
    },
    {
      "cell_type": "markdown",
      "metadata": {
        "id": "D8-GnSMC6uki"
      },
      "source": [
        "###`strip` method \r\n",
        "\r\n",
        "The method `strip` by default is used to remove leading and trailing spaces(` `), new tabs( `\\t`) and new lines(`\\n`). If a character is used in the method that particular is removed if it is the leading and trailing characters.\r\n"
      ]
    },
    {
      "cell_type": "code",
      "metadata": {
        "colab": {
          "base_uri": "https://localhost:8080/"
        },
        "id": "OgjCkIYE6sQc",
        "outputId": "abbb2e35-a6ee-488f-a4d0-e34c1a0fa730"
      },
      "source": [
        "#Remove the leading and trailing space\r\n",
        "myStr = str(\"    cherry picking characters   \")\r\n",
        "myStr = myStr.strip()\r\n",
        "print(myStr)"
      ],
      "execution_count": null,
      "outputs": [
        {
          "output_type": "stream",
          "text": [
            "cherry picking characters\n"
          ],
          "name": "stdout"
        }
      ]
    },
    {
      "cell_type": "code",
      "metadata": {
        "colab": {
          "base_uri": "https://localhost:8080/"
        },
        "id": "UQlg8Vti7S7Q",
        "outputId": "de617a56-6f4c-4996-80c2-967873d24e41"
      },
      "source": [
        "#Remove the leading and trailing \\n\r\n",
        "myStr = str(\"\\ncherry \\npicking \\ncharacters\\n\")\r\n",
        "print(myStr)\r\n",
        "myStr = myStr.strip()\r\n",
        "print(myStr)"
      ],
      "execution_count": null,
      "outputs": [
        {
          "output_type": "stream",
          "text": [
            "\n",
            "cherry \n",
            "picking \n",
            "characters\n",
            "\n",
            "cherry \n",
            "picking \n",
            "characters\n"
          ],
          "name": "stdout"
        }
      ]
    },
    {
      "cell_type": "code",
      "metadata": {
        "colab": {
          "base_uri": "https://localhost:8080/"
        },
        "id": "xKZ8eok-Imnh",
        "outputId": "bb5082aa-98ec-48de-8616-8bb6589462c5"
      },
      "source": [
        "#Remove and leading \\t\r\n",
        "myStr = str(\"\\tcherry \\tpicking \\tcharacters\\t\")\r\n",
        "print(myStr)\r\n",
        "myStr = myStr.strip()\r\n",
        "print(myStr)"
      ],
      "execution_count": null,
      "outputs": [
        {
          "output_type": "stream",
          "text": [
            "\tcherry \tpicking \tcharacters\t\n",
            "cherry \tpicking \tcharacters\n"
          ],
          "name": "stdout"
        }
      ]
    },
    {
      "cell_type": "code",
      "metadata": {
        "colab": {
          "base_uri": "https://localhost:8080/"
        },
        "id": "pQTMn9jO7bP0",
        "outputId": "1c5871cc-48a8-4663-d10c-c5e2eca170fe"
      },
      "source": [
        "#Remove leading and trailing characters\r\n",
        "myStr = str(\"she sells sea shells\")\r\n",
        "myStr = myStr.strip('s')\r\n",
        "print(myStr)"
      ],
      "execution_count": null,
      "outputs": [
        {
          "output_type": "stream",
          "text": [
            "he sells sea shell\n"
          ],
          "name": "stdout"
        }
      ]
    },
    {
      "cell_type": "markdown",
      "metadata": {
        "id": "MlosYUsJLhsi"
      },
      "source": [
        "Examples of using `strip` method"
      ]
    },
    {
      "cell_type": "code",
      "metadata": {
        "colab": {
          "base_uri": "https://localhost:8080/"
        },
        "id": "o0sP-psI7iyw",
        "outputId": "5f6838aa-66e3-48a7-cd06-5821c8182d75"
      },
      "source": [
        "#Remove leading and trailing space \r\n",
        "name = input(\"Enter your name: \")\r\n",
        "name = name.strip()\r\n",
        "print(f\"The name is: {name}\")"
      ],
      "execution_count": null,
      "outputs": [
        {
          "output_type": "stream",
          "text": [
            "Enter your name: \n",
            "The name is: \n"
          ],
          "name": "stdout"
        }
      ]
    },
    {
      "cell_type": "code",
      "metadata": {
        "colab": {
          "base_uri": "https://localhost:8080/"
        },
        "id": "TYxsfYB-J3AT",
        "outputId": "a0584c15-5e73-4c94-947e-2fa2e82b24fc"
      },
      "source": [
        "#A relevant example\r\n",
        "%%writefile hello.txt\r\n",
        "Hello Mellow\r\n",
        "You look dainty\r\n",
        "Sincerely\r\n",
        "A pretty fellow "
      ],
      "execution_count": null,
      "outputs": [
        {
          "output_type": "stream",
          "text": [
            "Writing hello.txt\n"
          ],
          "name": "stdout"
        }
      ]
    },
    {
      "cell_type": "code",
      "metadata": {
        "colab": {
          "base_uri": "https://localhost:8080/"
        },
        "id": "CZkni2kjMwxP",
        "outputId": "32082fd8-70c2-4802-976d-ac4a437089f5"
      },
      "source": [
        "#Read the text files\r\n",
        "file = open(\"hello.txt\", \"r\")\r\n",
        "print(file.readlines())\r\n",
        "file.close()"
      ],
      "execution_count": null,
      "outputs": [
        {
          "output_type": "stream",
          "text": [
            "['Hello Mellow\\n', 'You look dainty\\n', 'Sincerely\\n', 'A pretty fellow ']\n"
          ],
          "name": "stdout"
        }
      ]
    },
    {
      "cell_type": "markdown",
      "metadata": {
        "id": "3sbZANzwNRYV"
      },
      "source": [
        "If you want to strip the `\\n` tag, one need to use `strip` keyword"
      ]
    },
    {
      "cell_type": "code",
      "metadata": {
        "colab": {
          "base_uri": "https://localhost:8080/"
        },
        "id": "_4AJD9hzNGmQ",
        "outputId": "b16175a6-47fd-4497-c428-077c81699e65"
      },
      "source": [
        "file = open(\"hello.txt\", \"r\")\r\n",
        "listLines = file.readlines()\r\n",
        "myList = []\r\n",
        "for line in listLines:\r\n",
        "  myList.append(line.strip())\r\n",
        "print(myList)\r\n",
        "file.close()\r\n",
        "#concatenate the strings with empty\r\n",
        "print(' '.join(myList))"
      ],
      "execution_count": null,
      "outputs": [
        {
          "output_type": "stream",
          "text": [
            "['Hello Mellow', 'You look dainty', 'Sincerely', 'A pretty fellow']\n",
            "Hello Mellow You look dainty Sincerely A pretty fellow\n"
          ],
          "name": "stdout"
        }
      ]
    },
    {
      "cell_type": "markdown",
      "metadata": {
        "id": "nEEOJA0Odqez"
      },
      "source": [
        "###`split` method"
      ]
    },
    {
      "cell_type": "code",
      "metadata": {
        "colab": {
          "base_uri": "https://localhost:8080/"
        },
        "id": "7m2DGHREeD8Y",
        "outputId": "f130df7f-d374-4657-c4ad-f2b0cce915bf"
      },
      "source": [
        "#split is used to seperate the components of string\r\n",
        "myStr = '''Hello, there, I will be there for you.\r\n",
        "May be you have heard it for the first time,\r\n",
        "it will defintely not be for the last time.\r\n",
        "'''\r\n",
        "#Splitting the strings on ' '(space)\r\n",
        "print(myStr.split())\r\n",
        "\r\n",
        "#Splitting the strings on ','\r\n",
        "print(myStr.split(','))\r\n",
        "\r\n",
        "#Splitting the strings on '.'\r\n",
        "print(myStr.split('.'))"
      ],
      "execution_count": null,
      "outputs": [
        {
          "output_type": "stream",
          "text": [
            "['Hello,', 'there,', 'I', 'will', 'be', 'there', 'for', 'you.', 'May', 'be', 'you', 'have', 'heard', 'it', 'for', 'the', 'first', 'time,', 'it', 'will', 'defintely', 'not', 'be', 'for', 'the', 'last', 'time.']\n",
            "['Hello', ' there', ' I will be there for you.\\nMay be you have heard it for the first time', '\\nit will defintely not be for the last time.\\n']\n",
            "['Hello, there, I will be there for you', '\\nMay be you have heard it for the first time,\\nit will defintely not be for the last time', '\\n']\n"
          ],
          "name": "stdout"
        }
      ]
    },
    {
      "cell_type": "markdown",
      "metadata": {
        "id": "yURnTDUyf75F"
      },
      "source": [
        "###concatenate using `+` and `join` keyword"
      ]
    },
    {
      "cell_type": "code",
      "metadata": {
        "colab": {
          "base_uri": "https://localhost:8080/"
        },
        "id": "zKFsK8RUgGiO",
        "outputId": "a59f4abd-accc-42ea-b6a1-980dd7f503bb"
      },
      "source": [
        "#concatenate two strings\r\n",
        "fruit = \"cherry\"\r\n",
        "veggie = \"cauliflower\"\r\n",
        "print(fruit +\" \"+ veggie)"
      ],
      "execution_count": null,
      "outputs": [
        {
          "output_type": "stream",
          "text": [
            "cherry cauliflower\n"
          ],
          "name": "stdout"
        }
      ]
    },
    {
      "cell_type": "code",
      "metadata": {
        "colab": {
          "base_uri": "https://localhost:8080/"
        },
        "id": "URCGyohIgrkb",
        "outputId": "9da96226-36be-43bd-fbf8-c07c8361dd7d"
      },
      "source": [
        "#use of join operator\r\n",
        "fruitList = [\"Apple Pie\", \"Banana Salad\", \"Cherry Sauce\"]\r\n",
        "\r\n",
        "#concatenating the elements in the list with ' '\r\n",
        "myStr = ' '.join(fruitList)\r\n",
        "print(myStr)\r\n",
        "\r\n",
        "#concatenating the elements in the list with ','\r\n",
        "myStr = ','.join(fruitList)\r\n",
        "print(myStr)"
      ],
      "execution_count": null,
      "outputs": [
        {
          "output_type": "stream",
          "text": [
            "Apple Pie Banana Salad Cherry Sauce\n",
            "Apple Pie,Banana Salad,Cherry Sauce\n"
          ],
          "name": "stdout"
        }
      ]
    },
    {
      "cell_type": "markdown",
      "metadata": {
        "id": "gpwfVGhl7UK6"
      },
      "source": [
        "Which one is better concatenation using `+` or `join`"
      ]
    },
    {
      "cell_type": "code",
      "metadata": {
        "colab": {
          "base_uri": "https://localhost:8080/"
        },
        "id": "UdeGa5oI8xHI",
        "outputId": "efddbaa8-d67f-4359-eecd-1a868e5b3f9f"
      },
      "source": [
        "#Using `+` operator\r\n",
        "from timeit import default_timer as timer\r\n",
        "myList = ['a'] * 60000\r\n",
        "#print(myList)\r\n",
        "\r\n",
        "start = timer()\r\n",
        "myString = ''\r\n",
        "for i in myList:\r\n",
        "  myString += i\r\n",
        "stop = timer()\r\n",
        "print(f\"Time took: {stop - start}\")"
      ],
      "execution_count": null,
      "outputs": [
        {
          "output_type": "stream",
          "text": [
            "Time took: 0.010436749999996664\n"
          ],
          "name": "stdout"
        }
      ]
    },
    {
      "cell_type": "code",
      "metadata": {
        "colab": {
          "base_uri": "https://localhost:8080/"
        },
        "id": "yxEBeMkL885r",
        "outputId": "3104606e-0ae7-41e6-d5cb-fea7d27cd85b"
      },
      "source": [
        "#Using `join` operator\r\n",
        "from timeit import default_timer as timer\r\n",
        "\r\n",
        "mylist = ['z'] * 60000\r\n",
        "#print(mylist)\r\n",
        "start = timer()\r\n",
        "myStr = ' '.join(mylist)\r\n",
        "stop = timer()\r\n",
        "print(f\"Time took: {stop - start}\")"
      ],
      "execution_count": null,
      "outputs": [
        {
          "output_type": "stream",
          "text": [
            "Time took: 0.0015101589999915177\n"
          ],
          "name": "stdout"
        }
      ]
    },
    {
      "cell_type": "markdown",
      "metadata": {
        "id": "prZw0sbWRKjz"
      },
      "source": [
        "###`replace` one word with another one"
      ]
    },
    {
      "cell_type": "code",
      "metadata": {
        "colab": {
          "base_uri": "https://localhost:8080/"
        },
        "id": "mdREvSLz62Vs",
        "outputId": "4e364f41-3717-4578-af54-2ab8d6b18636"
      },
      "source": [
        "myStr = \"cherry is spicy\"\r\n",
        "print(myStr.replace('cherry', 'berry'))"
      ],
      "execution_count": null,
      "outputs": [
        {
          "output_type": "stream",
          "text": [
            "berry is spicy\n"
          ],
          "name": "stdout"
        }
      ]
    },
    {
      "cell_type": "markdown",
      "metadata": {
        "id": "sgrmmWHZ9Z8I"
      },
      "source": [
        "###Formatting strings"
      ]
    },
    {
      "cell_type": "code",
      "metadata": {
        "colab": {
          "base_uri": "https://localhost:8080/"
        },
        "id": "-NLlZWJ17Ik5",
        "outputId": "a21f4051-0b76-4d19-98fd-3380dafbd2a2"
      },
      "source": [
        "day = \"Friday\"\r\n",
        "myString = \"%s is a good day to get out \" %day\r\n",
        "print(myString)"
      ],
      "execution_count": null,
      "outputs": [
        {
          "output_type": "stream",
          "text": [
            "Friday is a good day to get out \n"
          ],
          "name": "stdout"
        }
      ]
    },
    {
      "cell_type": "code",
      "metadata": {
        "colab": {
          "base_uri": "https://localhost:8080/"
        },
        "id": "WHh5zAPtBEAW",
        "outputId": "be3bcf0d-58e2-49af-976b-03f2c57eccda"
      },
      "source": [
        "watermelons = 3\r\n",
        "myString = \"I have %d watermelons \" %watermelons\r\n",
        "print(myString)"
      ],
      "execution_count": null,
      "outputs": [
        {
          "output_type": "stream",
          "text": [
            "I have 3 watermelons \n"
          ],
          "name": "stdout"
        }
      ]
    },
    {
      "cell_type": "code",
      "metadata": {
        "colab": {
          "base_uri": "https://localhost:8080/"
        },
        "id": "w9FdQKtL9jJu",
        "outputId": "c9f00e07-a47e-43c6-fb49-da749e0acac6"
      },
      "source": [
        "money = 3.234\r\n",
        "myString = \"I owe you Taka %.6f hehe\" %money\r\n",
        "print(myString)"
      ],
      "execution_count": null,
      "outputs": [
        {
          "output_type": "stream",
          "text": [
            "I owe you Taka 3.234000 hehe\n"
          ],
          "name": "stdout"
        }
      ]
    },
    {
      "cell_type": "code",
      "metadata": {
        "colab": {
          "base_uri": "https://localhost:8080/"
        },
        "id": "S2WoKlmaAIvJ",
        "outputId": "0d6e281c-cf08-4b32-f95c-d1dc6ae52237"
      },
      "source": [
        "carrots = 3\r\n",
        "money = 30.56\r\n",
        "myString = \"{} carrots costs {:.2f} taka\" .format(carrots, money )\r\n",
        "print(myString)"
      ],
      "execution_count": null,
      "outputs": [
        {
          "output_type": "stream",
          "text": [
            "3 carrots costs 30.56 taka\n"
          ],
          "name": "stdout"
        }
      ]
    },
    {
      "cell_type": "code",
      "metadata": {
        "colab": {
          "base_uri": "https://localhost:8080/"
        },
        "id": "c47pGurYBpXm",
        "outputId": "20f6bcf2-6c60-43db-921c-54931a1436dc"
      },
      "source": [
        "#Relevant for newer versions of Python\r\n",
        "money = 3.234\r\n",
        "mango = 6\r\n",
        "myString = f\"I have {mango} mangoes and their total price is {mango * money:.3f}\"\r\n",
        "print(myString)"
      ],
      "execution_count": null,
      "outputs": [
        {
          "output_type": "stream",
          "text": [
            "I have 6 mangoes and their total price is 19.404\n"
          ],
          "name": "stdout"
        }
      ]
    }
  ]
}