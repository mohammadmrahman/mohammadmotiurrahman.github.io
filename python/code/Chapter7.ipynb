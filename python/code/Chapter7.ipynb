{
  "nbformat": 4,
  "nbformat_minor": 0,
  "metadata": {
    "colab": {
      "name": "Chapter7.ipynb",
      "provenance": [],
      "authorship_tag": "ABX9TyPMOdoU082/1swvyJOV0kEm",
      "include_colab_link": true
    },
    "kernelspec": {
      "name": "python3",
      "display_name": "Python 3"
    }
  },
  "cells": [
    {
      "cell_type": "markdown",
      "metadata": {
        "id": "view-in-github",
        "colab_type": "text"
      },
      "source": [
        "<a href=\"https://colab.research.google.com/github/mohammadmotiurrahman/mohammadmotiurrahman.github.io/blob/main/python/code/Chapter7.ipynb\" target=\"_parent\"><img src=\"https://colab.research.google.com/assets/colab-badge.svg\" alt=\"Open In Colab\"/></a>"
      ]
    },
    {
      "cell_type": "markdown",
      "metadata": {
        "id": "JM1iJJROnsqm"
      },
      "source": [
        "#Lambda, Iterator, Generators, Decorators"
      ]
    },
    {
      "cell_type": "markdown",
      "metadata": {
        "id": "1wr7tjNwnoYE"
      },
      "source": [
        "##Lambda\r\n",
        "\r\n",
        "\"Python lambdas are little, anonymous functions, subject to a more restrictive but more concise syntax than regular Python functions.\"\r\n",
        "--https://realpython.com/python-lambda/\r\n",
        "\r\n",
        "\"Lambda functions can be used wherever function objects are required. They are syntactically restricted to a single expression. Semantically, they are just syntactic sugar for a normal function definition. Like nested function definitions, lambda functions can reference variables from the containing scope\"\r\n",
        "--https://docs.python.org/3/tutorial/controlflow.html?highlight=lambda"
      ]
    },
    {
      "cell_type": "code",
      "metadata": {
        "colab": {
          "base_uri": "https://localhost:8080/"
        },
        "id": "pal8oapznpM3",
        "outputId": "17a2542b-5ec7-4d6e-95ef-9351a49be647"
      },
      "source": [
        "def func(x):\r\n",
        "  return x\r\n",
        "\r\n",
        "print(func(46))"
      ],
      "execution_count": 4,
      "outputs": [
        {
          "output_type": "stream",
          "text": [
            "46\n"
          ],
          "name": "stdout"
        }
      ]
    },
    {
      "cell_type": "code",
      "metadata": {
        "colab": {
          "base_uri": "https://localhost:8080/"
        },
        "id": "UJ_PWiLFnw6P",
        "outputId": "29ead422-8ca3-4f8f-f222-7e2cb89bf930"
      },
      "source": [
        "func = lambda x: x\r\n",
        "\r\n",
        "print(func(46))"
      ],
      "execution_count": 5,
      "outputs": [
        {
          "output_type": "stream",
          "text": [
            "46\n"
          ],
          "name": "stdout"
        }
      ]
    },
    {
      "cell_type": "code",
      "metadata": {
        "colab": {
          "base_uri": "https://localhost:8080/"
        },
        "id": "RyI5tUUWnym-",
        "outputId": "83fc647d-7909-478e-89d9-457ed0b875ad"
      },
      "source": [
        "def add(x, y):\r\n",
        "  return x + y\r\n",
        "\r\n",
        "print(add(10,12))"
      ],
      "execution_count": 6,
      "outputs": [
        {
          "output_type": "stream",
          "text": [
            "22\n"
          ],
          "name": "stdout"
        }
      ]
    },
    {
      "cell_type": "code",
      "metadata": {
        "colab": {
          "base_uri": "https://localhost:8080/"
        },
        "id": "uD-17Lvgnz--",
        "outputId": "bb11abbe-64d4-4784-b650-f8eed20a192d"
      },
      "source": [
        "add = lambda x, y: x + y\r\n",
        "\r\n",
        "print(add(10, 12))"
      ],
      "execution_count": 7,
      "outputs": [
        {
          "output_type": "stream",
          "text": [
            "22\n"
          ],
          "name": "stdout"
        }
      ]
    },
    {
      "cell_type": "code",
      "metadata": {
        "id": "u-8G_OMRn1xW"
      },
      "source": [
        ""
      ],
      "execution_count": null,
      "outputs": []
    }
  ]
}