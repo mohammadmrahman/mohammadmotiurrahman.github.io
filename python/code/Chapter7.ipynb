{
  "nbformat": 4,
  "nbformat_minor": 0,
  "metadata": {
    "colab": {
      "name": "Chapter7.ipynb",
      "provenance": [],
      "collapsed_sections": [],
      "authorship_tag": "ABX9TyOYlTiF3gs1QcHa/4Gnln4f",
      "include_colab_link": true
    },
    "kernelspec": {
      "name": "python3",
      "display_name": "Python 3"
    }
  },
  "cells": [
    {
      "cell_type": "markdown",
      "metadata": {
        "id": "view-in-github",
        "colab_type": "text"
      },
      "source": [
        "<a href=\"https://colab.research.google.com/github/mohammadmotiurrahman/mohammadmotiurrahman.github.io/blob/main/python/code/Chapter7.ipynb\" target=\"_parent\"><img src=\"https://colab.research.google.com/assets/colab-badge.svg\" alt=\"Open In Colab\"/></a>"
      ]
    },
    {
      "cell_type": "markdown",
      "metadata": {
        "id": "JM1iJJROnsqm"
      },
      "source": [
        "#Lambda, Iterator, Generators, Decorators"
      ]
    },
    {
      "cell_type": "markdown",
      "metadata": {
        "id": "1wr7tjNwnoYE"
      },
      "source": [
        "##Lambda\n",
        "\n",
        "\"Python lambdas are little, anonymous functions, subject to a more restrictive but more concise syntax than regular Python functions.\"\n",
        "--https://realpython.com/python-lambda/\n",
        "\n",
        "\"Lambda functions can be used wherever function objects are required. They are syntactically restricted to a single expression. Semantically, they are just syntactic sugar for a normal function definition. Like nested function definitions, lambda functions can reference variables from the containing scope\"\n",
        "--https://docs.python.org/3/tutorial/controlflow.html?highlight=lambda"
      ]
    },
    {
      "cell_type": "code",
      "metadata": {
        "colab": {
          "base_uri": "https://localhost:8080/"
        },
        "id": "pal8oapznpM3",
        "outputId": "57f2011d-1c09-45b0-bccb-b04009674b24"
      },
      "source": [
        "def func(x):\n",
        "  return x\n",
        "\n",
        "print(func(46))"
      ],
      "execution_count": null,
      "outputs": [
        {
          "output_type": "stream",
          "text": [
            "46\n"
          ],
          "name": "stdout"
        }
      ]
    },
    {
      "cell_type": "code",
      "metadata": {
        "colab": {
          "base_uri": "https://localhost:8080/"
        },
        "id": "UJ_PWiLFnw6P",
        "outputId": "f22d2f5a-8c64-4e31-b5c9-cd89bff1d34b"
      },
      "source": [
        "func = lambda x: x\n",
        "\n",
        "print(func(46))"
      ],
      "execution_count": null,
      "outputs": [
        {
          "output_type": "stream",
          "text": [
            "46\n"
          ],
          "name": "stdout"
        }
      ]
    },
    {
      "cell_type": "code",
      "metadata": {
        "id": "RyI5tUUWnym-",
        "colab": {
          "base_uri": "https://localhost:8080/"
        },
        "outputId": "5edfaea8-1175-4759-82ac-07875504d64c"
      },
      "source": [
        "def add(x, y):\n",
        "  return x + y\n",
        "\n",
        "print(add(10,12))"
      ],
      "execution_count": null,
      "outputs": [
        {
          "output_type": "stream",
          "text": [
            "22\n"
          ],
          "name": "stdout"
        }
      ]
    },
    {
      "cell_type": "code",
      "metadata": {
        "id": "uD-17Lvgnz--",
        "colab": {
          "base_uri": "https://localhost:8080/"
        },
        "outputId": "f0c84f9a-e898-4691-e6dc-cda65cb2336c"
      },
      "source": [
        "add = lambda x, y: x + y\n",
        "\n",
        "print(add(10, 12))"
      ],
      "execution_count": null,
      "outputs": [
        {
          "output_type": "stream",
          "text": [
            "22\n"
          ],
          "name": "stdout"
        }
      ]
    },
    {
      "cell_type": "code",
      "metadata": {
        "colab": {
          "base_uri": "https://localhost:8080/"
        },
        "id": "AtcCuHUx0WVQ",
        "outputId": "2302a40b-6e7f-43ad-f1e3-fe80607e9712"
      },
      "source": [
        "add = lambda x, y: print(x + y)\n",
        "add(4,5)"
      ],
      "execution_count": 5,
      "outputs": [
        {
          "output_type": "stream",
          "text": [
            "9\n"
          ],
          "name": "stdout"
        }
      ]
    },
    {
      "cell_type": "code",
      "metadata": {
        "colab": {
          "base_uri": "https://localhost:8080/"
        },
        "id": "CfAa1OY9zWF7",
        "outputId": "3e35037c-782c-4932-c297-114c4beb5c53"
      },
      "source": [
        "hello = lambda x: (x + 2) if x % 2 == 0 else ( x * 2)\n",
        "print(hello(5))"
      ],
      "execution_count": 1,
      "outputs": [
        {
          "output_type": "stream",
          "text": [
            "10\n"
          ],
          "name": "stdout"
        }
      ]
    },
    {
      "cell_type": "code",
      "metadata": {
        "colab": {
          "base_uri": "https://localhost:8080/"
        },
        "id": "gIHukosEzv-m",
        "outputId": "5422373c-0373-4072-e2fe-846b486ad95d"
      },
      "source": [
        "hello = lambda x : [i for i in range(x)]\n",
        "print(hello(4))"
      ],
      "execution_count": 4,
      "outputs": [
        {
          "output_type": "stream",
          "text": [
            "[0, 1, 2, 3]\n"
          ],
          "name": "stdout"
        }
      ]
    },
    {
      "cell_type": "code",
      "metadata": {
        "id": "u-8G_OMRn1xW",
        "colab": {
          "base_uri": "https://localhost:8080/"
        },
        "outputId": "6de3cafd-4a0c-4e0b-c3b3-4bb8f1b8fa77"
      },
      "source": [
        "myList = [1,0,5,False,10,12,23,24]\n",
        "\n",
        "def isOdd(num):\n",
        "  return num % 2 == 1\n",
        "\n",
        "print(list(filter(isOdd, myList)))\n",
        "\n",
        "print(list(filter(lambda x: (x % 2 == 1), myList)))\n",
        "print(list(filter(lambda x: (x % 2 == 0), myList)))\n",
        "\n",
        "print(list(filter(None, myList)))"
      ],
      "execution_count": 11,
      "outputs": [
        {
          "output_type": "stream",
          "text": [
            "[1, 5, 23]\n",
            "[1, 5, 23]\n",
            "[0, False, 10, 12, 24]\n",
            "[1, 5, 10, 12, 23, 24]\n"
          ],
          "name": "stdout"
        }
      ]
    },
    {
      "cell_type": "code",
      "metadata": {
        "colab": {
          "base_uri": "https://localhost:8080/"
        },
        "id": "arHgWVx4jEmS",
        "outputId": "8496d7a4-b2cb-424c-a4ba-9014cde1d99d"
      },
      "source": [
        "def square(num):\n",
        "  return num ** 2\n",
        "\n",
        "numbers = [1,2,3,4,5]\n",
        "\n",
        "print(list(map(square, numbers)))\n",
        "\n",
        "print(list(map(lambda x: x ** 2, numbers)))"
      ],
      "execution_count": null,
      "outputs": [
        {
          "output_type": "stream",
          "text": [
            "[1, 4, 9, 16, 25]\n",
            "[1, 4, 9, 16, 25]\n"
          ],
          "name": "stdout"
        }
      ]
    },
    {
      "cell_type": "markdown",
      "metadata": {
        "id": "YvF_9cGwNsEZ"
      },
      "source": [
        "# Iterator"
      ]
    },
    {
      "cell_type": "code",
      "metadata": {
        "colab": {
          "base_uri": "https://localhost:8080/"
        },
        "id": "NOVDpPO8Ntmy",
        "outputId": "f221903d-0ed8-48ae-9154-86bcfedd1ea4"
      },
      "source": [
        "#myList is an iterable\n",
        "#list is an iterable\n",
        "myList = [1,2,3,4,5]\n",
        "#It contains __iter__ method\n",
        "#It does not contain __next__ method\n",
        "print(dir(myList))\n",
        "#Iterate the myList object\n",
        "for i in myList:\n",
        "  print(i, end = \" \")"
      ],
      "execution_count": null,
      "outputs": [
        {
          "output_type": "stream",
          "text": [
            "['__add__', '__class__', '__contains__', '__delattr__', '__delitem__', '__dir__', '__doc__', '__eq__', '__format__', '__ge__', '__getattribute__', '__getitem__', '__gt__', '__hash__', '__iadd__', '__imul__', '__init__', '__init_subclass__', '__iter__', '__le__', '__len__', '__lt__', '__mul__', '__ne__', '__new__', '__reduce__', '__reduce_ex__', '__repr__', '__reversed__', '__rmul__', '__setattr__', '__setitem__', '__sizeof__', '__str__', '__subclasshook__', 'append', 'clear', 'copy', 'count', 'extend', 'index', 'insert', 'pop', 'remove', 'reverse', 'sort']\n",
            "1 2 3 4 5 "
          ],
          "name": "stdout"
        }
      ]
    },
    {
      "cell_type": "code",
      "metadata": {
        "colab": {
          "base_uri": "https://localhost:8080/"
        },
        "id": "v9Gp6ZZKNuhj",
        "outputId": "aa968e9e-666e-4c03-ea91-8c4e86969cd2"
      },
      "source": [
        "#listIter is an iterator\n",
        "listIter = iter(myList)\n",
        "#An iterator contains __next__\n",
        "#as well as __iter__ method\n",
        "print(dir(listIter))\n",
        "#Iterate the object listIter object\n",
        "while True:\n",
        "  try:\n",
        "    t = next(listIter)\n",
        "    print(t)\n",
        "  except:\n",
        "    print(\"Iteration stopped\")\n",
        "    break"
      ],
      "execution_count": null,
      "outputs": [
        {
          "output_type": "stream",
          "text": [
            "['__class__', '__delattr__', '__dir__', '__doc__', '__eq__', '__format__', '__ge__', '__getattribute__', '__gt__', '__hash__', '__init__', '__init_subclass__', '__iter__', '__le__', '__length_hint__', '__lt__', '__ne__', '__new__', '__next__', '__reduce__', '__reduce_ex__', '__repr__', '__setattr__', '__setstate__', '__sizeof__', '__str__', '__subclasshook__']\n",
            "1\n",
            "2\n",
            "3\n",
            "4\n",
            "5\n",
            "Iteration stopped\n"
          ],
          "name": "stdout"
        }
      ]
    },
    {
      "cell_type": "code",
      "metadata": {
        "colab": {
          "base_uri": "https://localhost:8080/"
        },
        "id": "rHmVdSkYWDJ7",
        "outputId": "66349ed8-aad7-4ab2-d7d1-1247a240341d"
      },
      "source": [
        "class Reverse:\n",
        "  def __init__(self, data):\n",
        "    self.data = data\n",
        "    self.lenStr = len(data)\n",
        "\n",
        "  def __iter__(self):\n",
        "    return self\n",
        "\n",
        "  def __next__(self):\n",
        "    if self.lenStr == 0:\n",
        "      raise StopIteration\n",
        "    else:\n",
        "      self.lenStr = self.lenStr - 1\n",
        "      return self.data[self.lenStr]\n",
        "\n",
        "rev = Reverse(\"hello\")\n",
        "while True:\n",
        "  try:\n",
        "    print(next(rev), end = \" \")\n",
        "  except:\n",
        "    print(\"\\n Error\")\n",
        "    break"
      ],
      "execution_count": null,
      "outputs": [
        {
          "output_type": "stream",
          "text": [
            "o l l e h \n",
            " Error\n"
          ],
          "name": "stdout"
        }
      ]
    },
    {
      "cell_type": "markdown",
      "metadata": {
        "id": "ooTBZ-DhkFYI"
      },
      "source": [
        "# Generator"
      ]
    },
    {
      "cell_type": "code",
      "metadata": {
        "colab": {
          "base_uri": "https://localhost:8080/"
        },
        "id": "ySsjCRMDFi_Q",
        "outputId": "06cc2602-6660-447a-d103-953ebb1e02d5"
      },
      "source": [
        "def printNum(num):\n",
        "\tfor i in range(num):\n",
        "\t\tprint(i, end = \" \")\n",
        "\tprint(\"\")\n",
        "\n",
        "printNum(6)\n",
        "\n",
        "def printNumG(num):\n",
        "\tfor i in range(num):\n",
        "\t\tyield(i)\n",
        "\n",
        "numG = printNumG(6)\n",
        "print(next(numG))\n",
        "print(next(numG))\n",
        "print(next(numG))\n",
        "\n",
        "while True:\n",
        "\ttry:\n",
        "\t\tprint(next(numG))\n",
        "\texcept:\n",
        "\t\tprint(\"Error\")\n",
        "\t\tbreak"
      ],
      "execution_count": 12,
      "outputs": [
        {
          "output_type": "stream",
          "text": [
            "0 1 2 3 4 5 \n",
            "0\n",
            "1\n",
            "2\n",
            "3\n",
            "4\n",
            "5\n",
            "Error\n"
          ],
          "name": "stdout"
        }
      ]
    },
    {
      "cell_type": "code",
      "metadata": {
        "colab": {
          "base_uri": "https://localhost:8080/"
        },
        "id": "DFY0_EtziwtO",
        "outputId": "0b486e0d-1eea-468b-b3f5-6c7a65fa53e3"
      },
      "source": [
        "def sqNum(nums):\n",
        "  result = []\n",
        "  for i in nums:\n",
        "    result.append(i*i)\n",
        "  return result\n",
        "\n",
        "nums = sqNum([1,2,3,4])\n",
        "print(nums)\n",
        "\n",
        "def sqNum(nums):\n",
        "  for i in nums:\n",
        "    yield (i*i)\n",
        "\n",
        "myNums = sqNum([1,2,3,4])\n",
        "print(type(myNums))\n",
        "print(dir(myNums))\n",
        "\n",
        "while True:\n",
        "  try:\n",
        "    print(next(myNums))\n",
        "  except:\n",
        "    print(\"Error\")\n",
        "    break"
      ],
      "execution_count": null,
      "outputs": [
        {
          "output_type": "stream",
          "text": [
            "[1, 4, 9, 16]\n",
            "<class 'generator'>\n",
            "['__class__', '__del__', '__delattr__', '__dir__', '__doc__', '__eq__', '__format__', '__ge__', '__getattribute__', '__gt__', '__hash__', '__init__', '__init_subclass__', '__iter__', '__le__', '__lt__', '__name__', '__ne__', '__new__', '__next__', '__qualname__', '__reduce__', '__reduce_ex__', '__repr__', '__setattr__', '__sizeof__', '__str__', '__subclasshook__', 'close', 'gi_code', 'gi_frame', 'gi_running', 'gi_yieldfrom', 'send', 'throw']\n",
            "1\n",
            "4\n",
            "9\n",
            "16\n",
            "Error\n"
          ],
          "name": "stdout"
        }
      ]
    },
    {
      "cell_type": "markdown",
      "metadata": {
        "id": "NP5Mw3BKCfw8"
      },
      "source": [
        "# Decorator"
      ]
    },
    {
      "cell_type": "code",
      "metadata": {
        "colab": {
          "base_uri": "https://localhost:8080/"
        },
        "id": "dElO_S5gCe9N",
        "outputId": "4ea94a8f-c285-4a4c-f260-f44f2d8d1ec5"
      },
      "source": [
        "def func1(f):\n",
        "  def hello():\n",
        "    print(\"Start\")\n",
        "    f()\n",
        "    print(\"End\")\n",
        "  return hello\n",
        "\n",
        "\n",
        "def func2():\n",
        "  print(\"I am from func2\")\n",
        "\n",
        "def func3():\n",
        "  print(\"I am from func3\")\n",
        "\n",
        "x = func1(func2)\n",
        "x()\n",
        "\n",
        "print(\" \")\n",
        "y = func1(func3)\n",
        "y()\n"
      ],
      "execution_count": null,
      "outputs": [
        {
          "output_type": "stream",
          "text": [
            "Start\n",
            "I am from func2\n",
            "End\n",
            " \n",
            "Start\n",
            "I am from func3\n",
            "End\n"
          ],
          "name": "stdout"
        }
      ]
    },
    {
      "cell_type": "code",
      "metadata": {
        "colab": {
          "base_uri": "https://localhost:8080/"
        },
        "id": "zqszyWn0G7DN",
        "outputId": "3fd69d12-10cd-489c-fc8f-34e86b9eef4d"
      },
      "source": [
        "def func1(f):\n",
        "  def hello():\n",
        "    print(\"Start\")\n",
        "    f()\n",
        "    print(\"End\")\n",
        "  return hello\n",
        "\n",
        "@func1\n",
        "def func2():\n",
        "  print(\"I am from func2\")\n",
        "\n",
        "@func1\n",
        "def func3():\n",
        "  print(\"I am from func3\")\n",
        "\n",
        "func2()\n",
        "print(\" \")\n",
        "func3()"
      ],
      "execution_count": null,
      "outputs": [
        {
          "output_type": "stream",
          "text": [
            "Start\n",
            "I am from func2\n",
            "End\n",
            " \n",
            "Start\n",
            "I am from func3\n",
            "End\n"
          ],
          "name": "stdout"
        }
      ]
    },
    {
      "cell_type": "code",
      "metadata": {
        "colab": {
          "base_uri": "https://localhost:8080/"
        },
        "id": "O8rt9jTkOokh",
        "outputId": "eaa1d36a-5bf4-422e-88c3-d7871dc31bec"
      },
      "source": [
        "def func1(f):\n",
        "  def hello(*args, **kwargs):\n",
        "    print(\"Start\")\n",
        "    y = f(*args, **kwargs)\n",
        "    print(\"End\")\n",
        "    return y\n",
        "  return hello\n",
        "\n",
        "@func1\n",
        "def func2(x):\n",
        "  return x\n",
        "\n",
        "@func1\n",
        "def func3():\n",
        "  print(\"I am from func3\")\n",
        "\n",
        "#func1(func2)()\n",
        "#func1(func3)()\n",
        "print(func2(3))"
      ],
      "execution_count": null,
      "outputs": [
        {
          "output_type": "stream",
          "text": [
            "Start\n",
            "End\n",
            "3\n"
          ],
          "name": "stdout"
        }
      ]
    },
    {
      "cell_type": "code",
      "metadata": {
        "colab": {
          "base_uri": "https://localhost:8080/"
        },
        "id": "BBVIWGGAREVb",
        "outputId": "1c58c016-7b5f-4972-f0b5-3fc6f7788882"
      },
      "source": [
        "import time\n",
        "\n",
        "def timer(func):\n",
        "  def wrapper(*args, **kwargs):\n",
        "    start = time.time()\n",
        "    p = func(*args, **kwargs)\n",
        "    total = time.time() - start\n",
        "    print(\"Time: \", total)\n",
        "    return p\n",
        "  return wrapper\n",
        "\n",
        "\n",
        "@timer\n",
        "def f(x):\n",
        "  p = 1\n",
        "  for i in range(0,x):\n",
        "    p = p+1\n",
        "\n",
        "f(100000)"
      ],
      "execution_count": null,
      "outputs": [
        {
          "output_type": "stream",
          "text": [
            "Time:  0.005393028259277344\n"
          ],
          "name": "stdout"
        }
      ]
    }
  ]
}