{
  "nbformat": 4,
  "nbformat_minor": 0,
  "metadata": {
    "colab": {
      "name": "Chapter6.ipynb",
      "provenance": [],
      "collapsed_sections": [],
      "authorship_tag": "ABX9TyMD0oL2oqLgpGTPiTh67bqG",
      "include_colab_link": true
    },
    "kernelspec": {
      "name": "python3",
      "display_name": "Python 3"
    }
  },
  "cells": [
    {
      "cell_type": "markdown",
      "metadata": {
        "id": "view-in-github",
        "colab_type": "text"
      },
      "source": [
        "<a href=\"https://colab.research.google.com/github/mohammadmotiurrahman/mohammadmotiurrahman.github.io/blob/main/python/code/Chapter6.ipynb\" target=\"_parent\"><img src=\"https://colab.research.google.com/assets/colab-badge.svg\" alt=\"Open In Colab\"/></a>"
      ]
    },
    {
      "cell_type": "markdown",
      "metadata": {
        "id": "YvU9CZs3Qm8N"
      },
      "source": [
        "# Multiple Inheritance"
      ]
    },
    {
      "cell_type": "code",
      "metadata": {
        "colab": {
          "base_uri": "https://localhost:8080/"
        },
        "id": "ShNMVXAsQi50",
        "outputId": "bf532568-fc47-4623-90f8-164a497c12ad"
      },
      "source": [
        "#############################\r\n",
        "#First -> Second -> Third\r\n",
        "class First(object):\r\n",
        "\tdef __init__(self):\r\n",
        "\t\tprint(\"Enter first\")\r\n",
        "\t\tsuper(First, self).__init__()\r\n",
        "\t\tprint(\"Exit first\")\r\n",
        "\r\n",
        "class Second(First):\r\n",
        "\tdef __init__(self):\r\n",
        "\t\tprint(\"Enter second\")\r\n",
        "\t\tsuper(Second, self).__init__()\r\n",
        "\t\tprint(\"Exit second\")\r\n",
        "\r\n",
        "class Third(Second):\r\n",
        "\tdef __init__(self):\r\n",
        "\t\tprint(\"Enter third\")\r\n",
        "\t\tsuper(Third, self).__init__()\r\n",
        "\t\tprint(\"Exit third\")\r\n",
        "\r\n",
        "t = Third()\r\n",
        "print(Third.__mro__)"
      ],
      "execution_count": 5,
      "outputs": [
        {
          "output_type": "stream",
          "text": [
            "Enter third\n",
            "Enter second\n",
            "Enter first\n",
            "Exit first\n",
            "Exit second\n",
            "Exit third\n",
            "(<class '__main__.Third'>, <class '__main__.Second'>, <class '__main__.First'>, <class 'object'>)\n"
          ],
          "name": "stdout"
        }
      ]
    },
    {
      "cell_type": "code",
      "metadata": {
        "colab": {
          "base_uri": "https://localhost:8080/"
        },
        "id": "YQX8GcXaXhtV",
        "outputId": "1f4853bf-6604-4588-d416-2451a9365a2a"
      },
      "source": [
        "###########################\r\n",
        "#First -> Second\r\n",
        "#First -> Third\r\n",
        "class First:\r\n",
        "\tdef __init__(self):\r\n",
        "\t\tprint(\"Enter first\")\r\n",
        "\t\tsuper(First, self).__init__()\r\n",
        "\t\tprint(\"Exit first\")\r\n",
        "\r\n",
        "\r\n",
        "class Second(First):\r\n",
        "\tdef __init__(self):\r\n",
        "\t\tprint(\"Enter second\")\r\n",
        "\t\tsuper(Second, self).__init__()\r\n",
        "\t\tprint(\"Exit second\")\r\n",
        "\r\n",
        "\r\n",
        "class Third(First):\r\n",
        "\tdef __init__(self):\r\n",
        "\t\tprint(\"Enter third\")\r\n",
        "\t\tsuper(Third, self).__init__()\r\n",
        "\t\tprint(\"Exit third\")\r\n",
        "\r\n",
        "#print(Third.__mro__)\r\n",
        "#print(Second.__mro__)\r\n",
        "\r\n",
        "s = Second()\r\n",
        "#print(\" \")\r\n",
        "t = Third()\r\n",
        "\r\n",
        "##########################\r\n",
        "################################\r\n",
        "#First->Third \r\n",
        "#Second->Third\r\n",
        "\r\n",
        "class Second:\r\n",
        "\tdef __init__(self):\r\n",
        "\t\tprint(\"Enter second\")\r\n",
        "\t\tsuper(Second, self).__init__()\r\n",
        "\t\tprint(\"Exit second\")\r\n",
        "\r\n",
        "class First:\r\n",
        "\tdef __init__(self):\r\n",
        "\t\tprint(\"Enter first\")\r\n",
        "\t\tsuper(First, self).__init__()\r\n",
        "\t\tprint(\"Exit first\")\r\n",
        "\r\n",
        "class Third(First, Second):\r\n",
        "\tdef __init__(self):\r\n",
        "\t\tprint(\"Enter third\")\r\n",
        "\t\tsuper(Third, self).__init__()\r\n",
        "\t\tprint(\"Exit third\")\r\n",
        "\r\n",
        "#s = Second()\r\n",
        "t = Third()\r\n",
        "print(Third.__mro__)\r\n"
      ],
      "execution_count": 7,
      "outputs": [
        {
          "output_type": "stream",
          "text": [
            "Enter second\n",
            "Enter first\n",
            "Exit first\n",
            "Exit second\n",
            "Enter third\n",
            "Enter first\n",
            "Exit first\n",
            "Exit third\n",
            "Enter third\n",
            "Enter first\n",
            "Enter second\n",
            "Exit second\n",
            "Exit first\n",
            "Exit third\n",
            "(<class '__main__.Third'>, <class '__main__.First'>, <class '__main__.Second'>, <class 'object'>)\n"
          ],
          "name": "stdout"
        }
      ]
    },
    {
      "cell_type": "code",
      "metadata": {
        "colab": {
          "base_uri": "https://localhost:8080/"
        },
        "id": "PPQZZTAJXlNn",
        "outputId": "31830ff1-095d-4c7d-8d5f-f2e2b8d5a694"
      },
      "source": [
        "######################################\r\n",
        "#\t\tA\r\n",
        "#\t / \\\r\n",
        "# B   C\r\n",
        "#  \\ /\r\n",
        "#   D\r\n",
        "class First(object):\r\n",
        "\tdef __init__(self):\r\n",
        "\t\tprint(\"Enter first\")\r\n",
        "\t\tsuper(First, self).__init__()\r\n",
        "\t\tprint(\"Exit first\")\r\n",
        "\r\n",
        "class Second(First):\r\n",
        "\tdef __init__(self):\r\n",
        "\t\tprint(\"Enter second\")\r\n",
        "\t\tsuper(Second, self).__init__()\r\n",
        "\t\tprint(\"Exit second\")\r\n",
        "\r\n",
        "class Third(First):\r\n",
        "\tdef __init__(self):\r\n",
        "\t\tprint(\"Enter third\")\r\n",
        "\t\tsuper(Third, self).__init__()\r\n",
        "\t\tprint(\"Exit third\")\r\n",
        "\r\n",
        "class Fourth(Second, Third):\r\n",
        "\tdef __init__(self):\r\n",
        "\t\tprint(\"Enter fourth\")\r\n",
        "\t\tsuper(Fourth, self).__init__()\r\n",
        "\t\tprint(\"Exit fourth\")\r\n",
        "\r\n",
        "f = Fourth()\r\n",
        "print(Fourth.__mro__)"
      ],
      "execution_count": 9,
      "outputs": [
        {
          "output_type": "stream",
          "text": [
            "Enter fourth\n",
            "Enter second\n",
            "Enter third\n",
            "Enter first\n",
            "Exit first\n",
            "Exit third\n",
            "Exit second\n",
            "Exit fourth\n",
            "(<class '__main__.Fourth'>, <class '__main__.Second'>, <class '__main__.Third'>, <class '__main__.First'>, <class 'object'>)\n"
          ],
          "name": "stdout"
        }
      ]
    },
    {
      "cell_type": "code",
      "metadata": {
        "colab": {
          "base_uri": "https://localhost:8080/"
        },
        "id": "Ah6_IZ5U-8lL",
        "outputId": "1bb45f94-069b-4992-fc6b-8c3080e2be14"
      },
      "source": [
        "class First(object):\r\n",
        "\tdef __init__(self, a):\r\n",
        "\t\tsuper().__init__()\r\n",
        "\t\tself.a = a\r\n",
        "\t\t\r\n",
        "class Second(First):\r\n",
        "\tdef __init__(self, a, b):\r\n",
        "\t\tsuper().__init__(a)\r\n",
        "\t\t#self.a = a\r\n",
        "\t\tself.b = b\r\n",
        "\r\n",
        "'''\r\n",
        "class Third(First):\r\n",
        "\tdef __init__(self, a, c):\r\n",
        "\t\tsuper().__init__(a)\r\n",
        "\t\tself.c = c\r\n",
        "'''\r\n",
        "#class Fourth(Second, Third):\r\n",
        "class Fourth(Second):\r\n",
        "\tdef __init__(self, a, b, c, d):\r\n",
        "\t\tsuper().__init__(a,b)\r\n",
        "\t\tself.c = c\r\n",
        "\t\tself.d = d\r\n",
        "\t\t\r\n",
        "\r\n",
        "f = Fourth(1,2,3,4)\r\n",
        "print(Fourth.__mro__)\r\n"
      ],
      "execution_count": 1,
      "outputs": [
        {
          "output_type": "stream",
          "text": [
            "(<class '__main__.Fourth'>, <class '__main__.Second'>, <class '__main__.First'>, <class 'object'>)\n"
          ],
          "name": "stdout"
        }
      ]
    },
    {
      "cell_type": "code",
      "metadata": {
        "colab": {
          "base_uri": "https://localhost:8080/"
        },
        "id": "5HDZRjvtDk0T",
        "outputId": "4aa70c06-54dd-4a6e-957c-8147f0f18aa0"
      },
      "source": [
        "######################################\r\n",
        "#\t\tA\r\n",
        "#\t / \\\r\n",
        "# B   C\r\n",
        "#  \\ /\r\n",
        "#   D\r\n",
        "class First(object):\r\n",
        "\tdef __init__(self, a):\r\n",
        "\t\tself.a = a\r\n",
        "\t\t\r\n",
        "class Second(First):\r\n",
        "\tdef __init__(self, a , b):\r\n",
        "\t\tself.a = a\r\n",
        "\t\tself.b = b\r\n",
        "\t\t\r\n",
        "class Third(First):\r\n",
        "\tdef __init__(self, a , c):\r\n",
        "\t\tself.a = a\r\n",
        "\t\tself.c = c\r\n",
        "\r\n",
        "class Fourth(Second, Third):\r\n",
        "\tdef __init__(self, a, b, c, d):\r\n",
        "\t\tself.a = a\r\n",
        "\t\tself.b = b\r\n",
        "\t\tself.c = c\r\n",
        "\t\tself.d = d\r\n",
        "\t\t\r\n",
        "\r\n",
        "f = Fourth(1,2,3,4)\r\n",
        "print(Fourth.__mro__)"
      ],
      "execution_count": 2,
      "outputs": [
        {
          "output_type": "stream",
          "text": [
            "(<class '__main__.Fourth'>, <class '__main__.Second'>, <class '__main__.Third'>, <class '__main__.First'>, <class 'object'>)\n"
          ],
          "name": "stdout"
        }
      ]
    },
    {
      "cell_type": "markdown",
      "metadata": {
        "id": "Od8iXHlWfTBs"
      },
      "source": [
        "#Lambda, Iterator, Generators, Decorators"
      ]
    },
    {
      "cell_type": "markdown",
      "metadata": {
        "id": "Xs-vYjKeqebc"
      },
      "source": [
        "##Lambda\n",
        "\n",
        "\"Python lambdas are little, anonymous functions, subject to a more restrictive but more concise syntax than regular Python functions.\"\n",
        "--https://realpython.com/python-lambda/\n",
        "\n",
        "\"Lambda functions can be used wherever function objects are required. They are syntactically restricted to a single expression. Semantically, they are just syntactic sugar for a normal function definition. Like nested function definitions, lambda functions can reference variables from the containing scope\"\n",
        "--https://docs.python.org/3/tutorial/controlflow.html?highlight=lambda"
      ]
    },
    {
      "cell_type": "code",
      "metadata": {
        "id": "s7I_0g7qfQHr",
        "colab": {
          "base_uri": "https://localhost:8080/"
        },
        "outputId": "3bdd7594-3baf-44ce-b2fd-936123f331af"
      },
      "source": [
        "def func(x):\n",
        "  return x\n",
        "\n",
        "print(func(46))"
      ],
      "execution_count": null,
      "outputs": [
        {
          "output_type": "stream",
          "text": [
            "46\n"
          ],
          "name": "stdout"
        }
      ]
    },
    {
      "cell_type": "code",
      "metadata": {
        "colab": {
          "base_uri": "https://localhost:8080/"
        },
        "id": "BV3HsIzgNR3A",
        "outputId": "c641aa25-08d9-4677-ce7e-1ef09eb8033d"
      },
      "source": [
        "func = lambda x: x\n",
        "\n",
        "print(func(46))"
      ],
      "execution_count": null,
      "outputs": [
        {
          "output_type": "stream",
          "text": [
            "46\n"
          ],
          "name": "stdout"
        }
      ]
    },
    {
      "cell_type": "code",
      "metadata": {
        "colab": {
          "base_uri": "https://localhost:8080/"
        },
        "id": "0SCAoQ_hNeAf",
        "outputId": "e3277809-e4d6-4b03-9e99-2199dafb1efe"
      },
      "source": [
        "def add(x, y):\n",
        "  return x + y\n",
        "\n",
        "print(add(10,12))"
      ],
      "execution_count": null,
      "outputs": [
        {
          "output_type": "stream",
          "text": [
            "22\n"
          ],
          "name": "stdout"
        }
      ]
    },
    {
      "cell_type": "code",
      "metadata": {
        "colab": {
          "base_uri": "https://localhost:8080/"
        },
        "id": "IWbTr8ZURMuY",
        "outputId": "14c2f813-1c02-47c2-f6db-1ef4e8803ba1"
      },
      "source": [
        "add = lambda x, y: x + y\n",
        "\n",
        "print(add(10, 12))"
      ],
      "execution_count": null,
      "outputs": [
        {
          "output_type": "stream",
          "text": [
            "22\n"
          ],
          "name": "stdout"
        }
      ]
    },
    {
      "cell_type": "code",
      "metadata": {
        "colab": {
          "base_uri": "https://localhost:8080/"
        },
        "id": "tjrjTnlwRT8z",
        "outputId": "593eb219-d35e-48d2-f1a8-5c6a4921053b"
      },
      "source": [
        "(lambda x, y: x + y)(10,20)"
      ],
      "execution_count": null,
      "outputs": [
        {
          "output_type": "execute_result",
          "data": {
            "text/plain": [
              "30"
            ]
          },
          "metadata": {
            "tags": []
          },
          "execution_count": 18
        }
      ]
    },
    {
      "cell_type": "code",
      "metadata": {
        "id": "rtTMj_LwRZ8T"
      },
      "source": [
        ""
      ],
      "execution_count": null,
      "outputs": []
    }
  ]
}