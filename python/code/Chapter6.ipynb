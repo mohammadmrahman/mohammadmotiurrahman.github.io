{
  "nbformat": 4,
  "nbformat_minor": 0,
  "metadata": {
    "colab": {
      "name": "Chapter6.ipynb",
      "provenance": [],
      "authorship_tag": "ABX9TyO4TubWNWr+7mttifVj9bW1",
      "include_colab_link": true
    },
    "kernelspec": {
      "name": "python3",
      "display_name": "Python 3"
    }
  },
  "cells": [
    {
      "cell_type": "markdown",
      "metadata": {
        "id": "view-in-github",
        "colab_type": "text"
      },
      "source": [
        "<a href=\"https://colab.research.google.com/github/mohammadmotiurrahman/mohammadmotiurrahman.github.io/blob/main/python/code/Chapter6.ipynb\" target=\"_parent\"><img src=\"https://colab.research.google.com/assets/colab-badge.svg\" alt=\"Open In Colab\"/></a>"
      ]
    },
    {
      "cell_type": "markdown",
      "metadata": {
        "id": "Od8iXHlWfTBs"
      },
      "source": [
        "#Lambda, Iterator, Generators, Decorators"
      ]
    },
    {
      "cell_type": "markdown",
      "metadata": {
        "id": "Xs-vYjKeqebc"
      },
      "source": [
        "##Lambda\n",
        "\n",
        "\"Python lambdas are little, anonymous functions, subject to a more restrictive but more concise syntax than regular Python functions.\"\n",
        "--https://realpython.com/python-lambda/\n",
        "\n",
        "\"Lambda functions can be used wherever function objects are required. They are syntactically restricted to a single expression. Semantically, they are just syntactic sugar for a normal function definition. Like nested function definitions, lambda functions can reference variables from the containing scope\"\n",
        "--https://docs.python.org/3/tutorial/controlflow.html?highlight=lambda"
      ]
    },
    {
      "cell_type": "code",
      "metadata": {
        "id": "s7I_0g7qfQHr",
        "colab": {
          "base_uri": "https://localhost:8080/"
        },
        "outputId": "3bdd7594-3baf-44ce-b2fd-936123f331af"
      },
      "source": [
        "def func(x):\n",
        "  return x\n",
        "\n",
        "print(func(46))"
      ],
      "execution_count": null,
      "outputs": [
        {
          "output_type": "stream",
          "text": [
            "46\n"
          ],
          "name": "stdout"
        }
      ]
    },
    {
      "cell_type": "code",
      "metadata": {
        "colab": {
          "base_uri": "https://localhost:8080/"
        },
        "id": "BV3HsIzgNR3A",
        "outputId": "c641aa25-08d9-4677-ce7e-1ef09eb8033d"
      },
      "source": [
        "func = lambda x: x\n",
        "\n",
        "print(func(46))"
      ],
      "execution_count": null,
      "outputs": [
        {
          "output_type": "stream",
          "text": [
            "46\n"
          ],
          "name": "stdout"
        }
      ]
    },
    {
      "cell_type": "code",
      "metadata": {
        "colab": {
          "base_uri": "https://localhost:8080/"
        },
        "id": "0SCAoQ_hNeAf",
        "outputId": "e3277809-e4d6-4b03-9e99-2199dafb1efe"
      },
      "source": [
        "def add(x, y):\n",
        "  return x + y\n",
        "\n",
        "print(add(10,12))"
      ],
      "execution_count": null,
      "outputs": [
        {
          "output_type": "stream",
          "text": [
            "22\n"
          ],
          "name": "stdout"
        }
      ]
    },
    {
      "cell_type": "code",
      "metadata": {
        "colab": {
          "base_uri": "https://localhost:8080/"
        },
        "id": "IWbTr8ZURMuY",
        "outputId": "14c2f813-1c02-47c2-f6db-1ef4e8803ba1"
      },
      "source": [
        "add = lambda x, y: x + y\n",
        "\n",
        "print(add(10, 12))"
      ],
      "execution_count": null,
      "outputs": [
        {
          "output_type": "stream",
          "text": [
            "22\n"
          ],
          "name": "stdout"
        }
      ]
    },
    {
      "cell_type": "code",
      "metadata": {
        "colab": {
          "base_uri": "https://localhost:8080/"
        },
        "id": "tjrjTnlwRT8z",
        "outputId": "593eb219-d35e-48d2-f1a8-5c6a4921053b"
      },
      "source": [
        "(lambda x, y: x + y)(10,20)"
      ],
      "execution_count": null,
      "outputs": [
        {
          "output_type": "execute_result",
          "data": {
            "text/plain": [
              "30"
            ]
          },
          "metadata": {
            "tags": []
          },
          "execution_count": 18
        }
      ]
    },
    {
      "cell_type": "code",
      "metadata": {
        "id": "rtTMj_LwRZ8T"
      },
      "source": [
        ""
      ],
      "execution_count": null,
      "outputs": []
    }
  ]
}