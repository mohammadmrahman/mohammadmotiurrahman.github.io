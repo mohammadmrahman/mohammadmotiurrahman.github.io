{
  "nbformat": 4,
  "nbformat_minor": 0,
  "metadata": {
    "colab": {
      "name": "Chapter6.ipynb",
      "provenance": [],
      "collapsed_sections": [],
      "authorship_tag": "ABX9TyOShRR+WGtZ/c1ok9Vh2z4t",
      "include_colab_link": true
    },
    "kernelspec": {
      "name": "python3",
      "display_name": "Python 3"
    }
  },
  "cells": [
    {
      "cell_type": "markdown",
      "metadata": {
        "id": "view-in-github",
        "colab_type": "text"
      },
      "source": [
        "<a href=\"https://colab.research.google.com/github/mohammadmotiurrahman/mohammadmotiurrahman.github.io/blob/main/python/code/Chapter6.ipynb\" target=\"_parent\"><img src=\"https://colab.research.google.com/assets/colab-badge.svg\" alt=\"Open In Colab\"/></a>"
      ]
    },
    {
      "cell_type": "markdown",
      "metadata": {
        "id": "YvU9CZs3Qm8N"
      },
      "source": [
        "# Multiple Inheritance"
      ]
    },
    {
      "cell_type": "code",
      "metadata": {
        "colab": {
          "base_uri": "https://localhost:8080/"
        },
        "id": "ShNMVXAsQi50",
        "outputId": "1b9e50c3-22fd-434b-f9a0-42326e48191f"
      },
      "source": [
        "#############################\r\n",
        "#A->B->C\r\n",
        "class A(object):\r\n",
        "\tdef __init__(self, a):\r\n",
        "\t\tself.a = a + 4\r\n",
        "\r\n",
        "\tdef print_a(self):\r\n",
        "\t\tprint(self.a)\r\n",
        "\r\n",
        "class B(A):\r\n",
        "\tdef __init__(self, a, b):\r\n",
        "\t\tsuper().__init__(a)\r\n",
        "\t\tself.b = b  - 5\r\n",
        "\t\r\n",
        "\tdef print_b(self):\r\n",
        "\t\tprint(self.b)\r\n",
        "\r\n",
        "class C(B):\r\n",
        "\tdef __init__(self, a, b, c):\r\n",
        "\t\tsuper().__init__(a,b)\r\n",
        "\t\tself.c = c\r\n",
        "\r\n",
        "\tdef print_c(self):\r\n",
        "\t\tprint(self.c)\r\n",
        "\r\n",
        "cVar = C(10,20, 30)\r\n",
        "cVar.print_a()\r\n",
        "cVar.print_b()\r\n",
        "cVar.print_c()"
      ],
      "execution_count": null,
      "outputs": [
        {
          "output_type": "stream",
          "text": [
            "14\n",
            "15\n",
            "30\n"
          ],
          "name": "stdout"
        }
      ]
    },
    {
      "cell_type": "code",
      "metadata": {
        "colab": {
          "base_uri": "https://localhost:8080/"
        },
        "id": "YQX8GcXaXhtV",
        "outputId": "fc0d0a9b-0dad-4a0d-8715-2993e024e25d"
      },
      "source": [
        "#############################\r\n",
        "#A->B\r\n",
        "#A->C\r\n",
        "class A(object):\r\n",
        "\tdef __init__(self, a):\r\n",
        "\t\tself.a = a + 4\r\n",
        "\r\n",
        "\tdef print_a(self):\r\n",
        "\t\tprint(self.a)\r\n",
        "\r\n",
        "class B(A):\r\n",
        "\tdef __init__(self, a, b):\r\n",
        "\t\tsuper().__init__(a)\r\n",
        "\t\tself.b = b  - 5\r\n",
        "\t\r\n",
        "\tdef print_ab(self):\r\n",
        "\t\tprint(self.a)\r\n",
        "\t\tprint(self.b)\r\n",
        "\r\n",
        "bVar = B(10, 20)\r\n",
        "bVar.print_ab()\r\n",
        "\r\n",
        "class C(A):\r\n",
        "\tdef __init__(self, a,c):\r\n",
        "\t\tsuper().__init__(a)\r\n",
        "\t\tself.c = c + 100\r\n",
        "\r\n",
        "\tdef print_ac(self):\r\n",
        "\t\tprint(self.a)\r\n",
        "\t\tprint(self.c)\r\n",
        "\r\n",
        "cVar = C(10,20)\r\n",
        "cVar.print_ac()"
      ],
      "execution_count": null,
      "outputs": [
        {
          "output_type": "stream",
          "text": [
            "14\n",
            "15\n",
            "14\n",
            "120\n"
          ],
          "name": "stdout"
        }
      ]
    },
    {
      "cell_type": "code",
      "metadata": {
        "colab": {
          "base_uri": "https://localhost:8080/"
        },
        "id": "PPQZZTAJXlNn",
        "outputId": "e77e0b7e-697f-4461-9929-89dce3ed32b4"
      },
      "source": [
        "#############################\r\n",
        "#A->C\r\n",
        "#B->C\r\n",
        "class A(object):\r\n",
        "\tdef __init__(self, a):\r\n",
        "\t\tself. a = a+10\r\n",
        "\r\n",
        "\tdef print_a(self):\r\n",
        "\t\tprint(self.a)\r\n",
        "\r\n",
        "#aVar = A()\r\n",
        "\r\n",
        "class B(object):\r\n",
        "\tdef __init__(self,b):\r\n",
        "\t\tself.b = b\r\n",
        "\r\n",
        "\tdef print_b(self):\r\n",
        "\t\tprint(self.b)\r\n",
        "\r\n",
        "#bVar = B()\r\n",
        "\r\n",
        "class C(A, B):\r\n",
        "\tdef __init__(self, a,b):\r\n",
        "\t\tsuper().__init__(a)\r\n",
        "\r\n",
        "cVar = C(10,20)\r\n",
        "cVar.print_a()\r\n"
      ],
      "execution_count": null,
      "outputs": [
        {
          "output_type": "stream",
          "text": [
            "20\n"
          ],
          "name": "stdout"
        }
      ]
    },
    {
      "cell_type": "code",
      "metadata": {
        "id": "Ah6_IZ5U-8lL"
      },
      "source": [
        "#############################\r\n",
        "#A->B->D\r\n",
        "#A->C\r\n",
        "class A(object):\r\n",
        "\tdef __init__(self, a):\r\n",
        "\t\tself.a = a\r\n",
        "\r\n",
        "class B(A):\r\n",
        "\tdef __init__(self, a, b):\r\n",
        "\t\tsuper().__init__(a)\r\n",
        "\t\tself.b = b\r\n",
        "\r\n",
        "class C(A):\r\n",
        "\tdef __init__(self, a, c):\r\n",
        "\t\tsuper().__init__(a)\r\n",
        "\t\tself.c = c\r\n",
        "\r\n",
        "class D(B):\r\n",
        "\tdef __init__(self, a, b, d):\r\n",
        "\t\tsuper().__init__(a,b)\r\n",
        "\t\tself.d = d\r\n",
        "\r\n",
        "dVar = D(1,2,3)"
      ],
      "execution_count": null,
      "outputs": []
    },
    {
      "cell_type": "code",
      "metadata": {
        "colab": {
          "base_uri": "https://localhost:8080/",
          "height": 345
        },
        "id": "5HDZRjvtDk0T",
        "outputId": "bec7ca0c-3ea6-4752-96c1-c6ffedd1345c"
      },
      "source": [
        "#############################\r\n",
        "#It should not work\r\n",
        "#A->C\r\n",
        "#A->B\r\n",
        "#B->D\r\n",
        "#C->D\r\n",
        "\r\n",
        "class A(object):\r\n",
        "\tdef __init__(self, a):\r\n",
        "\t\tself.a = a\r\n",
        "\r\n",
        "class B(A):\r\n",
        "\tdef __init__(self, a, b):\r\n",
        "\t\tsuper().__init__(a)\r\n",
        "\t\tself.b = b\r\n",
        "\r\n",
        "class C(A):\r\n",
        "\tdef __init__(self, a, c):\r\n",
        "\t\tsuper().__init__(a)\r\n",
        "\t\tself.c = c\r\n",
        "\r\n",
        "class D(C, B):\r\n",
        "\tdef __init__(self, a, b, c, d):\r\n",
        "\t\tsuper().__init__(a,b)\r\n",
        "\t\tself.c = c\r\n",
        "\t\tself.d = d\r\n",
        "\r\n",
        "dVar = D(1,2,3,4)"
      ],
      "execution_count": null,
      "outputs": [
        {
          "output_type": "error",
          "ename": "TypeError",
          "evalue": "ignored",
          "traceback": [
            "\u001b[0;31m---------------------------------------------------------------------------\u001b[0m",
            "\u001b[0;31mTypeError\u001b[0m                                 Traceback (most recent call last)",
            "\u001b[0;32m<ipython-input-7-974d737f609c>\u001b[0m in \u001b[0;36m<module>\u001b[0;34m()\u001b[0m\n\u001b[1;32m     26\u001b[0m                 \u001b[0mself\u001b[0m\u001b[0;34m.\u001b[0m\u001b[0md\u001b[0m \u001b[0;34m=\u001b[0m \u001b[0md\u001b[0m\u001b[0;34m\u001b[0m\u001b[0;34m\u001b[0m\u001b[0m\n\u001b[1;32m     27\u001b[0m \u001b[0;34m\u001b[0m\u001b[0m\n\u001b[0;32m---> 28\u001b[0;31m \u001b[0mdVar\u001b[0m \u001b[0;34m=\u001b[0m \u001b[0mD\u001b[0m\u001b[0;34m(\u001b[0m\u001b[0;36m1\u001b[0m\u001b[0;34m,\u001b[0m\u001b[0;36m2\u001b[0m\u001b[0;34m,\u001b[0m\u001b[0;36m3\u001b[0m\u001b[0;34m,\u001b[0m\u001b[0;36m4\u001b[0m\u001b[0;34m)\u001b[0m\u001b[0;34m\u001b[0m\u001b[0;34m\u001b[0m\u001b[0m\n\u001b[0m",
            "\u001b[0;32m<ipython-input-7-974d737f609c>\u001b[0m in \u001b[0;36m__init__\u001b[0;34m(self, a, b, c, d)\u001b[0m\n\u001b[1;32m     22\u001b[0m \u001b[0;32mclass\u001b[0m \u001b[0mD\u001b[0m\u001b[0;34m(\u001b[0m\u001b[0mC\u001b[0m\u001b[0;34m,\u001b[0m \u001b[0mB\u001b[0m\u001b[0;34m)\u001b[0m\u001b[0;34m:\u001b[0m\u001b[0;34m\u001b[0m\u001b[0;34m\u001b[0m\u001b[0m\n\u001b[1;32m     23\u001b[0m         \u001b[0;32mdef\u001b[0m \u001b[0m__init__\u001b[0m\u001b[0;34m(\u001b[0m\u001b[0mself\u001b[0m\u001b[0;34m,\u001b[0m \u001b[0ma\u001b[0m\u001b[0;34m,\u001b[0m \u001b[0mb\u001b[0m\u001b[0;34m,\u001b[0m \u001b[0mc\u001b[0m\u001b[0;34m,\u001b[0m \u001b[0md\u001b[0m\u001b[0;34m)\u001b[0m\u001b[0;34m:\u001b[0m\u001b[0;34m\u001b[0m\u001b[0;34m\u001b[0m\u001b[0m\n\u001b[0;32m---> 24\u001b[0;31m                 \u001b[0msuper\u001b[0m\u001b[0;34m(\u001b[0m\u001b[0;34m)\u001b[0m\u001b[0;34m.\u001b[0m\u001b[0m__init__\u001b[0m\u001b[0;34m(\u001b[0m\u001b[0ma\u001b[0m\u001b[0;34m,\u001b[0m\u001b[0mb\u001b[0m\u001b[0;34m)\u001b[0m\u001b[0;34m\u001b[0m\u001b[0;34m\u001b[0m\u001b[0m\n\u001b[0m\u001b[1;32m     25\u001b[0m                 \u001b[0mself\u001b[0m\u001b[0;34m.\u001b[0m\u001b[0mc\u001b[0m \u001b[0;34m=\u001b[0m \u001b[0mc\u001b[0m\u001b[0;34m\u001b[0m\u001b[0;34m\u001b[0m\u001b[0m\n\u001b[1;32m     26\u001b[0m                 \u001b[0mself\u001b[0m\u001b[0;34m.\u001b[0m\u001b[0md\u001b[0m \u001b[0;34m=\u001b[0m \u001b[0md\u001b[0m\u001b[0;34m\u001b[0m\u001b[0;34m\u001b[0m\u001b[0m\n",
            "\u001b[0;32m<ipython-input-7-974d737f609c>\u001b[0m in \u001b[0;36m__init__\u001b[0;34m(self, a, c)\u001b[0m\n\u001b[1;32m     17\u001b[0m \u001b[0;32mclass\u001b[0m \u001b[0mC\u001b[0m\u001b[0;34m(\u001b[0m\u001b[0mA\u001b[0m\u001b[0;34m)\u001b[0m\u001b[0;34m:\u001b[0m\u001b[0;34m\u001b[0m\u001b[0;34m\u001b[0m\u001b[0m\n\u001b[1;32m     18\u001b[0m         \u001b[0;32mdef\u001b[0m \u001b[0m__init__\u001b[0m\u001b[0;34m(\u001b[0m\u001b[0mself\u001b[0m\u001b[0;34m,\u001b[0m \u001b[0ma\u001b[0m\u001b[0;34m,\u001b[0m \u001b[0mc\u001b[0m\u001b[0;34m)\u001b[0m\u001b[0;34m:\u001b[0m\u001b[0;34m\u001b[0m\u001b[0;34m\u001b[0m\u001b[0m\n\u001b[0;32m---> 19\u001b[0;31m                 \u001b[0msuper\u001b[0m\u001b[0;34m(\u001b[0m\u001b[0;34m)\u001b[0m\u001b[0;34m.\u001b[0m\u001b[0m__init__\u001b[0m\u001b[0;34m(\u001b[0m\u001b[0ma\u001b[0m\u001b[0;34m)\u001b[0m\u001b[0;34m\u001b[0m\u001b[0;34m\u001b[0m\u001b[0m\n\u001b[0m\u001b[1;32m     20\u001b[0m                 \u001b[0mself\u001b[0m\u001b[0;34m.\u001b[0m\u001b[0mc\u001b[0m \u001b[0;34m=\u001b[0m \u001b[0mc\u001b[0m\u001b[0;34m\u001b[0m\u001b[0;34m\u001b[0m\u001b[0m\n\u001b[1;32m     21\u001b[0m \u001b[0;34m\u001b[0m\u001b[0m\n",
            "\u001b[0;31mTypeError\u001b[0m: __init__() missing 1 required positional argument: 'b'"
          ]
        }
      ]
    },
    {
      "cell_type": "markdown",
      "metadata": {
        "id": "wSSjgbwTVTJ4"
      },
      "source": [
        "# Getter , Setter and Deleter using Python decorator"
      ]
    },
    {
      "cell_type": "code",
      "metadata": {
        "colab": {
          "base_uri": "https://localhost:8080/"
        },
        "id": "A7JBrwTK7qL7",
        "outputId": "ccf46746-10f6-404b-b1c0-70b0111a5921"
      },
      "source": [
        "class Vehicle(object):\r\n",
        "\tdef __init__(self):\r\n",
        "\t\tself.wheels = None\r\n",
        "\r\n",
        "\tdef getNumWheels(self):\r\n",
        "\t\treturn self.wheels\r\n",
        "\t\r\n",
        "\tdef setNumWheels(self, wheels):\r\n",
        "\t\tself.wheels = wheels\r\n",
        "\r\n",
        "\tdef delNumWheels(self):\r\n",
        "\t\tself.wheels = None\r\n",
        "\r\n",
        "v = Vehicle()\r\n",
        "\r\n",
        "v.setNumWheels(12)\r\n",
        "print(v.getNumWheels())\r\n",
        "v.delNumWheels()\r\n",
        "print(v.getNumWheels())\r\n",
        "\r\n",
        "class Car(Vehicle):\r\n",
        "  def __init__(self):\r\n",
        "    super().__init__()\r\n",
        "    self.electric = None\r\n",
        "  \r\n",
        "  def getElectric(self):\r\n",
        "    return self.electric\r\n",
        "  \r\n",
        "  def setElectric(self, val):\r\n",
        "    self.electric = val\r\n",
        "  \r\n",
        "  def delElectric(self):\r\n",
        "    self.electric = None\r\n",
        "\r\n",
        "c = Car()\r\n",
        "c.setNumWheels(4)\r\n",
        "print(c.getNumWheels())\r\n",
        "c.setElectric(True)\r\n",
        "print(c.getElectric())"
      ],
      "execution_count": 4,
      "outputs": [
        {
          "output_type": "stream",
          "text": [
            "12\n",
            "None\n",
            "4\n",
            "True\n"
          ],
          "name": "stdout"
        }
      ]
    },
    {
      "cell_type": "code",
      "metadata": {
        "colab": {
          "base_uri": "https://localhost:8080/",
          "height": 253
        },
        "id": "lsaIpxnsVSIK",
        "outputId": "9c3b7054-c5bc-4b15-8bfe-3e9df34f1b62"
      },
      "source": [
        "class Vehicle(object):\r\n",
        "\tdef __init__(self):\r\n",
        "\t\tself.wheels = None\r\n",
        "\r\n",
        "\t@property\r\n",
        "\tdef numWheels(self):\r\n",
        "\t\treturn self.wheels\r\n",
        "\r\n",
        "\t@numWheels.setter\r\n",
        "\tdef numWheels(self, wheels):\r\n",
        "\t\tself.wheels = wheels\r\n",
        "\r\n",
        "\t@numWheels.deleter\r\n",
        "\tdef numWheels(self):\r\n",
        "\t\tself.wheels = None\r\n",
        "\r\n",
        "v = Vehicle()\r\n",
        "\r\n",
        "#Setter\r\n",
        "v.numWheels = 3\r\n",
        "\r\n",
        "#Getter\r\n",
        "print(v.numWheels)\r\n",
        "\r\n",
        "#Deleter\r\n",
        "#del v.numWheels\r\n",
        "\r\n",
        "#Getter\r\n",
        "#print(v.numWheels)\r\n",
        "\r\n",
        "class Vehicle(Car):\r\n",
        "  def __init__(self):\r\n",
        "    self.electric = None\r\n",
        "  \r\n",
        "  @property\r\n",
        "  def isElectric(self):\r\n",
        "    return self.electric\r\n",
        "  \r\n",
        "  @isElectric.setter\r\n",
        "  def isElectric(self, val):\r\n",
        "    self.electric = val\r\n",
        "  \r\n",
        "  @isElectric.deleter\r\n",
        "  def isElectric(self):\r\n",
        "    self.electric = None\r\n",
        "\r\n",
        "c = Car()\r\n",
        "c.isElectric = True\r\n",
        "print(c.isElectric)\r\n",
        "#del c.isElectric\r\n",
        "try:\r\n",
        "  print(c.isElectric)\r\n",
        "except:\r\n",
        "  print(\"Error\")\r\n",
        "\r\n",
        "print(c.numWheels)"
      ],
      "execution_count": 16,
      "outputs": [
        {
          "output_type": "stream",
          "text": [
            "3\n",
            "True\n",
            "True\n"
          ],
          "name": "stdout"
        },
        {
          "output_type": "error",
          "ename": "AttributeError",
          "evalue": "ignored",
          "traceback": [
            "\u001b[0;31m---------------------------------------------------------------------------\u001b[0m",
            "\u001b[0;31mAttributeError\u001b[0m                            Traceback (most recent call last)",
            "\u001b[0;32m<ipython-input-16-49693bca64e1>\u001b[0m in \u001b[0;36m<module>\u001b[0;34m()\u001b[0m\n\u001b[1;32m     54\u001b[0m   \u001b[0mprint\u001b[0m\u001b[0;34m(\u001b[0m\u001b[0;34m\"Error\"\u001b[0m\u001b[0;34m)\u001b[0m\u001b[0;34m\u001b[0m\u001b[0;34m\u001b[0m\u001b[0m\n\u001b[1;32m     55\u001b[0m \u001b[0;34m\u001b[0m\u001b[0m\n\u001b[0;32m---> 56\u001b[0;31m \u001b[0mprint\u001b[0m\u001b[0;34m(\u001b[0m\u001b[0mc\u001b[0m\u001b[0;34m.\u001b[0m\u001b[0mnumWheels\u001b[0m\u001b[0;34m)\u001b[0m\u001b[0;34m\u001b[0m\u001b[0;34m\u001b[0m\u001b[0m\n\u001b[0m",
            "\u001b[0;31mAttributeError\u001b[0m: 'Car' object has no attribute 'numWheels'"
          ]
        }
      ]
    },
    {
      "cell_type": "code",
      "metadata": {
        "colab": {
          "base_uri": "https://localhost:8080/"
        },
        "id": "IJJL5aSWKdjR",
        "outputId": "67515c01-103b-47ea-d5bf-be110ade3b81"
      },
      "source": [
        "class C(object):\r\n",
        "  def __init__(self):\r\n",
        "    self._p = None\r\n",
        "  @property\r\n",
        "  def p(self):\r\n",
        "    return self._p\r\n",
        "\r\n",
        "  @p.setter\r\n",
        "  def p(self, val):\r\n",
        "    self._p = val\r\n",
        "\r\n",
        "c1 = C()\r\n",
        "c1.p = 20\r\n",
        "print(c1.p)\r\n",
        "\r\n",
        "class D(C):\r\n",
        "  def __init__(self):\r\n",
        "    super().__init__()\r\n",
        "    self._c = None\r\n",
        "\r\n",
        "  @property\r\n",
        "  def p(self):\r\n",
        "    return super(D, D).p.fget(self) \r\n",
        "\r\n",
        "  @p.setter\r\n",
        "  def p(self, val):\r\n",
        "    super(D, D).p.fset(self, val) \r\n",
        "\r\n",
        "  @property\r\n",
        "  def c(self):\r\n",
        "    return self._c\r\n",
        "\r\n",
        "  @c.setter\r\n",
        "  def c(self, val):\r\n",
        "    self._c = val\r\n",
        "     \r\n",
        "d1 = D()\r\n",
        "d1.c = 5\r\n",
        "print(d1.c)"
      ],
      "execution_count": 1,
      "outputs": [
        {
          "output_type": "stream",
          "text": [
            "20\n",
            "5\n"
          ],
          "name": "stdout"
        }
      ]
    }
  ]
}