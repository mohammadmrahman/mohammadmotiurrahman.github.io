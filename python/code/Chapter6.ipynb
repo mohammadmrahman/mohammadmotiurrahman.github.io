{
  "nbformat": 4,
  "nbformat_minor": 0,
  "metadata": {
    "colab": {
      "name": "Chapter6.ipynb",
      "provenance": [],
      "collapsed_sections": [],
      "authorship_tag": "ABX9TyOcIfxPucBkF9evfy1xVI60",
      "include_colab_link": true
    },
    "kernelspec": {
      "name": "python3",
      "display_name": "Python 3"
    }
  },
  "cells": [
    {
      "cell_type": "markdown",
      "metadata": {
        "id": "view-in-github",
        "colab_type": "text"
      },
      "source": [
        "<a href=\"https://colab.research.google.com/github/mohammadmotiurrahman/mohammadmotiurrahman.github.io/blob/main/python/code/Chapter6.ipynb\" target=\"_parent\"><img src=\"https://colab.research.google.com/assets/colab-badge.svg\" alt=\"Open In Colab\"/></a>"
      ]
    },
    {
      "cell_type": "markdown",
      "metadata": {
        "id": "YvU9CZs3Qm8N"
      },
      "source": [
        "# Multiple Inheritance"
      ]
    },
    {
      "cell_type": "code",
      "metadata": {
        "colab": {
          "base_uri": "https://localhost:8080/"
        },
        "id": "ShNMVXAsQi50",
        "outputId": "bf532568-fc47-4623-90f8-164a497c12ad"
      },
      "source": [
        "#############################\r\n",
        "#First -> Second -> Third\r\n",
        "class First(object):\r\n",
        "\tdef __init__(self):\r\n",
        "\t\tprint(\"Enter first\")\r\n",
        "\t\tsuper(First, self).__init__()\r\n",
        "\t\tprint(\"Exit first\")\r\n",
        "\r\n",
        "class Second(First):\r\n",
        "\tdef __init__(self):\r\n",
        "\t\tprint(\"Enter second\")\r\n",
        "\t\tsuper(Second, self).__init__()\r\n",
        "\t\tprint(\"Exit second\")\r\n",
        "\r\n",
        "class Third(Second):\r\n",
        "\tdef __init__(self):\r\n",
        "\t\tprint(\"Enter third\")\r\n",
        "\t\tsuper(Third, self).__init__()\r\n",
        "\t\tprint(\"Exit third\")\r\n",
        "\r\n",
        "t = Third()\r\n",
        "print(Third.__mro__)"
      ],
      "execution_count": null,
      "outputs": [
        {
          "output_type": "stream",
          "text": [
            "Enter third\n",
            "Enter second\n",
            "Enter first\n",
            "Exit first\n",
            "Exit second\n",
            "Exit third\n",
            "(<class '__main__.Third'>, <class '__main__.Second'>, <class '__main__.First'>, <class 'object'>)\n"
          ],
          "name": "stdout"
        }
      ]
    },
    {
      "cell_type": "code",
      "metadata": {
        "colab": {
          "base_uri": "https://localhost:8080/"
        },
        "id": "YQX8GcXaXhtV",
        "outputId": "1f4853bf-6604-4588-d416-2451a9365a2a"
      },
      "source": [
        "###########################\r\n",
        "#First -> Second\r\n",
        "#First -> Third\r\n",
        "class First:\r\n",
        "\tdef __init__(self):\r\n",
        "\t\tprint(\"Enter first\")\r\n",
        "\t\tsuper(First, self).__init__()\r\n",
        "\t\tprint(\"Exit first\")\r\n",
        "\r\n",
        "\r\n",
        "class Second(First):\r\n",
        "\tdef __init__(self):\r\n",
        "\t\tprint(\"Enter second\")\r\n",
        "\t\tsuper(Second, self).__init__()\r\n",
        "\t\tprint(\"Exit second\")\r\n",
        "\r\n",
        "\r\n",
        "class Third(First):\r\n",
        "\tdef __init__(self):\r\n",
        "\t\tprint(\"Enter third\")\r\n",
        "\t\tsuper(Third, self).__init__()\r\n",
        "\t\tprint(\"Exit third\")\r\n",
        "\r\n",
        "#print(Third.__mro__)\r\n",
        "#print(Second.__mro__)\r\n",
        "\r\n",
        "s = Second()\r\n",
        "#print(\" \")\r\n",
        "t = Third()\r\n",
        "\r\n",
        "##########################\r\n",
        "################################\r\n",
        "#First->Third \r\n",
        "#Second->Third\r\n",
        "\r\n",
        "class Second:\r\n",
        "\tdef __init__(self):\r\n",
        "\t\tprint(\"Enter second\")\r\n",
        "\t\tsuper(Second, self).__init__()\r\n",
        "\t\tprint(\"Exit second\")\r\n",
        "\r\n",
        "class First:\r\n",
        "\tdef __init__(self):\r\n",
        "\t\tprint(\"Enter first\")\r\n",
        "\t\tsuper(First, self).__init__()\r\n",
        "\t\tprint(\"Exit first\")\r\n",
        "\r\n",
        "class Third(First, Second):\r\n",
        "\tdef __init__(self):\r\n",
        "\t\tprint(\"Enter third\")\r\n",
        "\t\tsuper(Third, self).__init__()\r\n",
        "\t\tprint(\"Exit third\")\r\n",
        "\r\n",
        "#s = Second()\r\n",
        "t = Third()\r\n",
        "print(Third.__mro__)\r\n"
      ],
      "execution_count": null,
      "outputs": [
        {
          "output_type": "stream",
          "text": [
            "Enter second\n",
            "Enter first\n",
            "Exit first\n",
            "Exit second\n",
            "Enter third\n",
            "Enter first\n",
            "Exit first\n",
            "Exit third\n",
            "Enter third\n",
            "Enter first\n",
            "Enter second\n",
            "Exit second\n",
            "Exit first\n",
            "Exit third\n",
            "(<class '__main__.Third'>, <class '__main__.First'>, <class '__main__.Second'>, <class 'object'>)\n"
          ],
          "name": "stdout"
        }
      ]
    },
    {
      "cell_type": "code",
      "metadata": {
        "colab": {
          "base_uri": "https://localhost:8080/"
        },
        "id": "PPQZZTAJXlNn",
        "outputId": "31830ff1-095d-4c7d-8d5f-f2e2b8d5a694"
      },
      "source": [
        "######################################\r\n",
        "#\t\tA\r\n",
        "#\t / \\\r\n",
        "# B   C\r\n",
        "#  \\ /\r\n",
        "#   D\r\n",
        "class First(object):\r\n",
        "\tdef __init__(self):\r\n",
        "\t\tprint(\"Enter first\")\r\n",
        "\t\tsuper(First, self).__init__()\r\n",
        "\t\tprint(\"Exit first\")\r\n",
        "\r\n",
        "class Second(First):\r\n",
        "\tdef __init__(self):\r\n",
        "\t\tprint(\"Enter second\")\r\n",
        "\t\tsuper(Second, self).__init__()\r\n",
        "\t\tprint(\"Exit second\")\r\n",
        "\r\n",
        "class Third(First):\r\n",
        "\tdef __init__(self):\r\n",
        "\t\tprint(\"Enter third\")\r\n",
        "\t\tsuper(Third, self).__init__()\r\n",
        "\t\tprint(\"Exit third\")\r\n",
        "\r\n",
        "class Fourth(Second, Third):\r\n",
        "\tdef __init__(self):\r\n",
        "\t\tprint(\"Enter fourth\")\r\n",
        "\t\tsuper(Fourth, self).__init__()\r\n",
        "\t\tprint(\"Exit fourth\")\r\n",
        "\r\n",
        "f = Fourth()\r\n",
        "print(Fourth.__mro__)"
      ],
      "execution_count": null,
      "outputs": [
        {
          "output_type": "stream",
          "text": [
            "Enter fourth\n",
            "Enter second\n",
            "Enter third\n",
            "Enter first\n",
            "Exit first\n",
            "Exit third\n",
            "Exit second\n",
            "Exit fourth\n",
            "(<class '__main__.Fourth'>, <class '__main__.Second'>, <class '__main__.Third'>, <class '__main__.First'>, <class 'object'>)\n"
          ],
          "name": "stdout"
        }
      ]
    },
    {
      "cell_type": "code",
      "metadata": {
        "colab": {
          "base_uri": "https://localhost:8080/"
        },
        "id": "Ah6_IZ5U-8lL",
        "outputId": "1bb45f94-069b-4992-fc6b-8c3080e2be14"
      },
      "source": [
        "class First(object):\r\n",
        "\tdef __init__(self, a):\r\n",
        "\t\tsuper().__init__()\r\n",
        "\t\tself.a = a\r\n",
        "\t\t\r\n",
        "class Second(First):\r\n",
        "\tdef __init__(self, a, b):\r\n",
        "\t\tsuper().__init__(a)\r\n",
        "\t\t#self.a = a\r\n",
        "\t\tself.b = b\r\n",
        "\r\n",
        "'''\r\n",
        "class Third(First):\r\n",
        "\tdef __init__(self, a, c):\r\n",
        "\t\tsuper().__init__(a)\r\n",
        "\t\tself.c = c\r\n",
        "'''\r\n",
        "#class Fourth(Second, Third):\r\n",
        "class Fourth(Second):\r\n",
        "\tdef __init__(self, a, b, c, d):\r\n",
        "\t\tsuper().__init__(a,b)\r\n",
        "\t\tself.c = c\r\n",
        "\t\tself.d = d\r\n",
        "\t\t\r\n",
        "\r\n",
        "f = Fourth(1,2,3,4)\r\n",
        "print(Fourth.__mro__)\r\n"
      ],
      "execution_count": null,
      "outputs": [
        {
          "output_type": "stream",
          "text": [
            "(<class '__main__.Fourth'>, <class '__main__.Second'>, <class '__main__.First'>, <class 'object'>)\n"
          ],
          "name": "stdout"
        }
      ]
    },
    {
      "cell_type": "code",
      "metadata": {
        "colab": {
          "base_uri": "https://localhost:8080/"
        },
        "id": "5HDZRjvtDk0T",
        "outputId": "4aa70c06-54dd-4a6e-957c-8147f0f18aa0"
      },
      "source": [
        "######################################\r\n",
        "#\t\tA\r\n",
        "#\t / \\\r\n",
        "# B   C\r\n",
        "#  \\ /\r\n",
        "#   D\r\n",
        "class First(object):\r\n",
        "\tdef __init__(self, a):\r\n",
        "\t\tself.a = a\r\n",
        "\t\t\r\n",
        "class Second(First):\r\n",
        "\tdef __init__(self, a , b):\r\n",
        "\t\tself.a = a\r\n",
        "\t\tself.b = b\r\n",
        "\t\t\r\n",
        "class Third(First):\r\n",
        "\tdef __init__(self, a , c):\r\n",
        "\t\tself.a = a\r\n",
        "\t\tself.c = c\r\n",
        "\r\n",
        "class Fourth(Second, Third):\r\n",
        "\tdef __init__(self, a, b, c, d):\r\n",
        "\t\tself.a = a\r\n",
        "\t\tself.b = b\r\n",
        "\t\tself.c = c\r\n",
        "\t\tself.d = d\r\n",
        "\t\t\r\n",
        "\r\n",
        "f = Fourth(1,2,3,4)\r\n",
        "print(Fourth.__mro__)"
      ],
      "execution_count": null,
      "outputs": [
        {
          "output_type": "stream",
          "text": [
            "(<class '__main__.Fourth'>, <class '__main__.Second'>, <class '__main__.Third'>, <class '__main__.First'>, <class 'object'>)\n"
          ],
          "name": "stdout"
        }
      ]
    },
    {
      "cell_type": "markdown",
      "metadata": {
        "id": "wSSjgbwTVTJ4"
      },
      "source": [
        "# Getter , Setter and Deleter using Python decorator"
      ]
    },
    {
      "cell_type": "code",
      "metadata": {
        "colab": {
          "base_uri": "https://localhost:8080/"
        },
        "id": "lsaIpxnsVSIK",
        "outputId": "58735c64-ff87-4fc3-d187-9a3e2fd09601"
      },
      "source": [
        "class Vehicle(object):\r\n",
        "\tdef __init__(self):\r\n",
        "\t\tself.wheels = None\r\n",
        "\r\n",
        "\t@property\r\n",
        "\tdef numWheels(self):\r\n",
        "\t\tprint(f\"Num of wheels: {self.wheels}\")\r\n",
        "\r\n",
        "\t@numWheels.setter\r\n",
        "\tdef numWheels(self, wheels):\r\n",
        "\t\tself.wheels = wheels\r\n",
        "\r\n",
        "\t@numWheels.deleter\r\n",
        "\tdef numWheels(self):\r\n",
        "\t\tself.wheels = None\r\n",
        "\r\n",
        "v = Vehicle()\r\n",
        "\r\n",
        "#Setter\r\n",
        "v.numWheels = 3\r\n",
        "\r\n",
        "#Getter\r\n",
        "v.numWheels\r\n",
        "\r\n",
        "#Deleter\r\n",
        "del v.numWheels\r\n",
        "\r\n",
        "#Getter\r\n",
        "v.numWheels"
      ],
      "execution_count": null,
      "outputs": [
        {
          "output_type": "stream",
          "text": [
            "Num of wheels: 3\n",
            "Num of wheels: None\n"
          ],
          "name": "stdout"
        }
      ]
    }
  ]
}