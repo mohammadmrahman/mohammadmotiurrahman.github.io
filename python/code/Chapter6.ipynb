{
  "nbformat": 4,
  "nbformat_minor": 0,
  "metadata": {
    "colab": {
      "name": "Chapter6.ipynb",
      "provenance": [],
      "collapsed_sections": [],
      "authorship_tag": "ABX9TyOCTfrmIzB4htLHsbBM5fYx",
      "include_colab_link": true
    },
    "kernelspec": {
      "name": "python3",
      "display_name": "Python 3"
    }
  },
  "cells": [
    {
      "cell_type": "markdown",
      "metadata": {
        "id": "view-in-github",
        "colab_type": "text"
      },
      "source": [
        "<a href=\"https://colab.research.google.com/github/mohammadmotiurrahman/mohammadmotiurrahman.github.io/blob/main/python/code/Chapter6.ipynb\" target=\"_parent\"><img src=\"https://colab.research.google.com/assets/colab-badge.svg\" alt=\"Open In Colab\"/></a>"
      ]
    },
    {
      "cell_type": "markdown",
      "metadata": {
        "id": "YvU9CZs3Qm8N"
      },
      "source": [
        "# Multiple Inheritance"
      ]
    },
    {
      "cell_type": "code",
      "metadata": {
        "colab": {
          "base_uri": "https://localhost:8080/"
        },
        "id": "ShNMVXAsQi50",
        "outputId": "db863958-48c3-4f0e-b277-4a762ca6f982"
      },
      "source": [
        "#############################\r\n",
        "#A->B->C\r\n",
        "class A(object):\r\n",
        "\tdef __init__(self, a):\r\n",
        "\t\tself.a = a + 4\r\n",
        "\r\n",
        "\tdef print_a(self):\r\n",
        "\t\tprint(self.a)\r\n",
        "\r\n",
        "class B(A):\r\n",
        "\tdef __init__(self, a, b):\r\n",
        "\t\tsuper().__init__(a)\r\n",
        "\t\tself.b = b  - 5\r\n",
        "\t\r\n",
        "\tdef print_b(self):\r\n",
        "\t\tprint(self.b)\r\n",
        "\r\n",
        "class C(B):\r\n",
        "\tdef __init__(self, a, b, c):\r\n",
        "\t\tsuper().__init__(a,b)\r\n",
        "\t\tself.c = c\r\n",
        "\r\n",
        "\tdef print_c(self):\r\n",
        "\t\tprint(self.c)\r\n",
        "\r\n",
        "cVar = C(10,20, 30)\r\n",
        "cVar.print_a()\r\n",
        "cVar.print_b()\r\n",
        "cVar.print_c()"
      ],
      "execution_count": 1,
      "outputs": [
        {
          "output_type": "stream",
          "text": [
            "14\n",
            "15\n",
            "30\n"
          ],
          "name": "stdout"
        }
      ]
    },
    {
      "cell_type": "code",
      "metadata": {
        "colab": {
          "base_uri": "https://localhost:8080/"
        },
        "id": "YQX8GcXaXhtV",
        "outputId": "e1d9fc9f-37e5-45e7-c703-22bd6ed87b57"
      },
      "source": [
        "#############################\r\n",
        "#A->B\r\n",
        "#A->C\r\n",
        "class A(object):\r\n",
        "\tdef __init__(self, a):\r\n",
        "\t\tself.a = a + 4\r\n",
        "\r\n",
        "\tdef print_a(self):\r\n",
        "\t\tprint(self.a)\r\n",
        "\r\n",
        "class B(A):\r\n",
        "\tdef __init__(self, a, b):\r\n",
        "\t\tsuper().__init__(a)\r\n",
        "\t\tself.b = b  - 5\r\n",
        "\t\r\n",
        "\tdef print_ab(self):\r\n",
        "\t\tprint(self.a)\r\n",
        "\t\tprint(self.b)\r\n",
        "\r\n",
        "bVar = B(10, 20)\r\n",
        "bVar.print_ab()\r\n",
        "\r\n",
        "class C(A):\r\n",
        "\tdef __init__(self, a,c):\r\n",
        "\t\tsuper().__init__(a)\r\n",
        "\t\tself.c = c + 100\r\n",
        "\r\n",
        "\tdef print_ac(self):\r\n",
        "\t\tprint(self.a)\r\n",
        "\t\tprint(self.c)\r\n",
        "\r\n",
        "cVar = C(10,20)\r\n",
        "cVar.print_ac()"
      ],
      "execution_count": 2,
      "outputs": [
        {
          "output_type": "stream",
          "text": [
            "14\n",
            "15\n",
            "14\n",
            "120\n"
          ],
          "name": "stdout"
        }
      ]
    },
    {
      "cell_type": "code",
      "metadata": {
        "colab": {
          "base_uri": "https://localhost:8080/"
        },
        "id": "PPQZZTAJXlNn",
        "outputId": "1af7aee4-c7d9-490a-a9d6-c5d33b8ad3ad"
      },
      "source": [
        "#############################\r\n",
        "#A->C\r\n",
        "#B->C\r\n",
        "class A(object):\r\n",
        "\tdef __init__(self, a):\r\n",
        "\t\tself. a = a+10\r\n",
        "\r\n",
        "\tdef print_a(self):\r\n",
        "\t\tprint(self.a)\r\n",
        "\r\n",
        "#aVar = A()\r\n",
        "\r\n",
        "class B(object):\r\n",
        "\tdef __init__(self,b):\r\n",
        "\t\tself.b = b\r\n",
        "\r\n",
        "\tdef print_b(self):\r\n",
        "\t\tprint(self.b)\r\n",
        "\r\n",
        "#bVar = B()\r\n",
        "\r\n",
        "class C(A, B):\r\n",
        "\tdef __init__(self, a,b):\r\n",
        "\t\tsuper().__init__(a)\r\n",
        "\r\n",
        "cVar = C(10,20)\r\n",
        "cVar.print_a()\r\n"
      ],
      "execution_count": 3,
      "outputs": [
        {
          "output_type": "stream",
          "text": [
            "20\n"
          ],
          "name": "stdout"
        }
      ]
    },
    {
      "cell_type": "code",
      "metadata": {
        "id": "Ah6_IZ5U-8lL"
      },
      "source": [
        "#############################\r\n",
        "#A->B->D\r\n",
        "#A->C\r\n",
        "class A(object):\r\n",
        "\tdef __init__(self, a):\r\n",
        "\t\tself.a = a\r\n",
        "\r\n",
        "class B(A):\r\n",
        "\tdef __init__(self, a, b):\r\n",
        "\t\tsuper().__init__(a)\r\n",
        "\t\tself.b = b\r\n",
        "\r\n",
        "class C(A):\r\n",
        "\tdef __init__(self, a, c):\r\n",
        "\t\tsuper().__init__(a)\r\n",
        "\t\tself.c = c\r\n",
        "\r\n",
        "class D(B):\r\n",
        "\tdef __init__(self, a, b, d):\r\n",
        "\t\tsuper().__init__(a,b)\r\n",
        "\t\tself.d = d\r\n",
        "\r\n",
        "dVar = D(1,2,3)"
      ],
      "execution_count": 4,
      "outputs": []
    },
    {
      "cell_type": "code",
      "metadata": {
        "colab": {
          "base_uri": "https://localhost:8080/"
        },
        "id": "5HDZRjvtDk0T",
        "outputId": "575377cc-852f-4755-c2be-59ee6b6873d6"
      },
      "source": [
        "#############################\r\n",
        "#It should not work\r\n",
        "#A->C\r\n",
        "#A->B\r\n",
        "#B->D\r\n",
        "#C->D\r\n",
        "\r\n",
        "class A(object):\r\n",
        "\tdef __init__(self, a):\r\n",
        "\t\tself.a = a\r\n",
        "\r\n",
        "class B(A):\r\n",
        "\tdef __init__(self, a, b):\r\n",
        "\t\tsuper().__init__(a)\r\n",
        "\t\tself.b = b\r\n",
        "\r\n",
        "class C(A):\r\n",
        "\tdef __init__(self, a, c):\r\n",
        "\t\tsuper().__init__(a)\r\n",
        "\t\tself.c = c\r\n",
        "\r\n",
        "class D(C, B):\r\n",
        "\tdef __init__(self, a, b, c, d):\r\n",
        "\t\tsuper().__init__(a,b)\r\n",
        "\t\tself.c = c\r\n",
        "\t\tself.d = d\r\n",
        "try:\r\n",
        "  dVar = D(1,2,3,4)\r\n",
        "except:\r\n",
        "  print(\"Error\")"
      ],
      "execution_count": 5,
      "outputs": [
        {
          "output_type": "stream",
          "text": [
            "Error\n"
          ],
          "name": "stdout"
        }
      ]
    },
    {
      "cell_type": "markdown",
      "metadata": {
        "id": "wSSjgbwTVTJ4"
      },
      "source": [
        "# Getter , Setter and Deleter using Python decorator"
      ]
    },
    {
      "cell_type": "code",
      "metadata": {
        "colab": {
          "base_uri": "https://localhost:8080/"
        },
        "id": "A7JBrwTK7qL7",
        "outputId": "dd36325f-19ec-45a4-eaf7-a14e5fa72b59"
      },
      "source": [
        "#############################\r\n",
        "#Using non-built decorators \r\n",
        "class Vehicle(object):\r\n",
        "\tdef __init__(self):\r\n",
        "\t\tself.wheels = None\r\n",
        "\r\n",
        "\tdef getNumWheels(self):\r\n",
        "\t\treturn self.wheels\r\n",
        "\t\r\n",
        "\tdef setNumWheels(self, wheels):\r\n",
        "\t\tself.wheels = wheels\r\n",
        "\r\n",
        "\tdef delNumWheels(self):\r\n",
        "\t\tself.wheels = None\r\n",
        "\r\n",
        "v = Vehicle()\r\n",
        "\r\n",
        "v.setNumWheels(12)\r\n",
        "print(v.getNumWheels())\r\n",
        "v.delNumWheels()\r\n",
        "print(v.getNumWheels())\r\n",
        "\r\n",
        "class Car(Vehicle):\r\n",
        "  def __init__(self):\r\n",
        "    super().__init__()\r\n",
        "    self.electric = None\r\n",
        "  \r\n",
        "  def getElectric(self):\r\n",
        "    return self.electric\r\n",
        "  \r\n",
        "  def setElectric(self, val):\r\n",
        "    self.electric = val\r\n",
        "  \r\n",
        "  def delElectric(self):\r\n",
        "    self.electric = None\r\n",
        "\r\n",
        "c = Car()\r\n",
        "c.setNumWheels(4)\r\n",
        "print(c.getNumWheels())\r\n",
        "c.setElectric(True)\r\n",
        "print(c.getElectric())"
      ],
      "execution_count": 9,
      "outputs": [
        {
          "output_type": "stream",
          "text": [
            "12\n",
            "None\n",
            "4\n",
            "True\n"
          ],
          "name": "stdout"
        }
      ]
    },
    {
      "cell_type": "code",
      "metadata": {
        "colab": {
          "base_uri": "https://localhost:8080/"
        },
        "id": "lsaIpxnsVSIK",
        "outputId": "76b63000-39c0-4819-92c5-02ebfdaff445"
      },
      "source": [
        "#Built in property decorator does not\r\n",
        "#work during object inheritance\r\n",
        "class Vehicle(object):\r\n",
        "  def __init__(self):\r\n",
        "    self.wheels = None\r\n",
        "\r\n",
        "  @property\r\n",
        "  def numWheels(self):\r\n",
        "    return self.wheels\r\n",
        "\r\n",
        "  @numWheels.setter\r\n",
        "  def numWheels(self, wheels):\r\n",
        "    self.wheels = wheels\r\n",
        "\r\n",
        "  @numWheels.deleter\r\n",
        "  def numWheels(self):\r\n",
        "    self.wheels = None\r\n",
        "\r\n",
        "v = Vehicle()\r\n",
        "\r\n",
        "#Setter\r\n",
        "v.numWheels = 3\r\n",
        "\r\n",
        "#Getter\r\n",
        "print(v.numWheels)\r\n",
        "\r\n",
        "#Deleter\r\n",
        "#del v.numWheels\r\n",
        "\r\n",
        "#Getter\r\n",
        "#print(v.numWheels)\r\n",
        "\r\n",
        "class Car(Vehicle):\r\n",
        "  def __init__(self):\r\n",
        "    self.electric = None\r\n",
        "  \r\n",
        "  @property\r\n",
        "  def isElectric(self):\r\n",
        "    return self.electric\r\n",
        "  \r\n",
        "  @isElectric.setter\r\n",
        "  def isElectric(self, val):\r\n",
        "    self.electric = val\r\n",
        "  \r\n",
        "  @isElectric.deleter\r\n",
        "  def isElectric(self):\r\n",
        "    self.electric = None\r\n",
        "\r\n",
        "c = Car()\r\n",
        "c.isElectric = True\r\n",
        "print(c.isElectric)\r\n",
        "#del c.isElectric\r\n",
        "try:\r\n",
        "  print(c.isElectric)\r\n",
        "except:\r\n",
        "  print(\"Error 1\")\r\n",
        "\r\n",
        "try:\r\n",
        "  print(c.numWheels)\r\n",
        "except:\r\n",
        "  print(\"Error 2\")"
      ],
      "execution_count": 10,
      "outputs": [
        {
          "output_type": "stream",
          "text": [
            "3\n",
            "True\n",
            "True\n",
            "Error 2\n"
          ],
          "name": "stdout"
        }
      ]
    },
    {
      "cell_type": "code",
      "metadata": {
        "colab": {
          "base_uri": "https://localhost:8080/"
        },
        "id": "IJJL5aSWKdjR",
        "outputId": "d2904990-77a4-4fdc-8b60-b3bb810b1cac"
      },
      "source": [
        "class C(object):\r\n",
        "  def __init__(self):\r\n",
        "    self._p = None\r\n",
        "  @property\r\n",
        "  def p(self):\r\n",
        "    return self._p\r\n",
        "\r\n",
        "  @p.setter\r\n",
        "  def p(self, val):\r\n",
        "    self._p = val\r\n",
        "\r\n",
        "c1 = C()\r\n",
        "c1.p = 20\r\n",
        "print(c1.p)\r\n",
        "\r\n",
        "class D(C):\r\n",
        "  def __init__(self):\r\n",
        "    super().__init__()\r\n",
        "    self._c = None\r\n",
        "\r\n",
        "  @property\r\n",
        "  def p(self):\r\n",
        "    return super(D, D).p.fget(self) \r\n",
        "\r\n",
        "  @p.setter\r\n",
        "  def p(self, val):\r\n",
        "    super(D, D).p.fset(self, val) \r\n",
        "\r\n",
        "  @property\r\n",
        "  def c(self):\r\n",
        "    return self._c\r\n",
        "\r\n",
        "  @c.setter\r\n",
        "  def c(self, val):\r\n",
        "    self._c = val\r\n",
        "     \r\n",
        "d1 = D()\r\n",
        "d1.c = 5\r\n",
        "print(d1.c)"
      ],
      "execution_count": 11,
      "outputs": [
        {
          "output_type": "stream",
          "text": [
            "20\n",
            "5\n"
          ],
          "name": "stdout"
        }
      ]
    }
  ]
}