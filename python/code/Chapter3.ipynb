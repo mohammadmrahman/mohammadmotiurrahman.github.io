{
  "nbformat": 4,
  "nbformat_minor": 0,
  "metadata": {
    "colab": {
      "name": "Chapter3.ipynb",
      "provenance": [],
      "collapsed_sections": [],
      "authorship_tag": "ABX9TyNMD/sq0J2KWSeE/Cn6f+kU",
      "include_colab_link": true
    },
    "kernelspec": {
      "name": "python3",
      "display_name": "Python 3"
    }
  },
  "cells": [
    {
      "cell_type": "markdown",
      "metadata": {
        "id": "view-in-github",
        "colab_type": "text"
      },
      "source": [
        "<a href=\"https://colab.research.google.com/github/mohammadmotiurrahman/mohammadmotiurrahman.github.io/blob/main/python/code/Chapter3.ipynb\" target=\"_parent\"><img src=\"https://colab.research.google.com/assets/colab-badge.svg\" alt=\"Open In Colab\"/></a>"
      ]
    },
    {
      "cell_type": "markdown",
      "metadata": {
        "id": "MJpJ7Vh9VQd0"
      },
      "source": [
        "#Containers Continued ...(aka Data Structures of Python)\n",
        "\n",
        "---\n",
        "Let us do a bit of exploration about the available containers in Python.\n",
        "What are containers you may ask. Here is a snippet of text from [stackoverflow.com](https://stackoverflow.com/questions/11575925/what-exactly-are-containers-in-python-and-what-are-all-the-python-container) to explain it: \n",
        "\n",
        "<i>\"Containers are any object that holds an arbitrary number of other objects. Generally, containers provide a way to access the contained objects and to iterate over them.\n",
        "\n",
        "Examples of containers include **tuple**, **list**, **set**, **dict**; these are the built-in containers. More container types are available in the [collections](https://docs.python.org/dev/library/collections.html#module-collections) module.\"</i>\n",
        "The Standard Library of Python 3 can be found [here](https://docs.python.org/3/library/index.html) and the Python Language Reference can be found [here](https://docs.python.org/3/reference/index.html) .\n",
        "\n"
      ]
    },
    {
      "cell_type": "markdown",
      "metadata": {
        "id": "2bJi2MxBV0Ul"
      },
      "source": [
        "#Collections\n",
        "---\n",
        "##1. Counter(what is it?)\n",
        "A counter return a dictionary when the constructor Counter() is called with a \n",
        "suitable datatype. The dictionary contains unique elements of the datatype as key, and the frequency of the elements as the value."
      ]
    },
    {
      "cell_type": "code",
      "metadata": {
        "colab": {
          "base_uri": "https://localhost:8080/"
        },
        "id": "yh6tX9PMWce5",
        "outputId": "d55f580d-2bc5-48d0-8de5-5796d3c88378"
      },
      "source": [
        "from collections import Counter\n",
        "a = \"aaaabbbcc\"\n",
        "\n",
        "myCounter = Counter(a)\n",
        "print(myCounter)\n",
        "print(type(myCounter))"
      ],
      "execution_count": null,
      "outputs": [
        {
          "output_type": "stream",
          "text": [
            "Counter({'a': 4, 'b': 3, 'c': 2})\n",
            "<class 'collections.Counter'>\n"
          ],
          "name": "stdout"
        }
      ]
    },
    {
      "cell_type": "code",
      "metadata": {
        "colab": {
          "base_uri": "https://localhost:8080/"
        },
        "id": "OHVoeFVdWtlF",
        "outputId": "66ef7cdf-e970-4866-9e0c-a0cf86b17a2d"
      },
      "source": [
        "print(f\"Elements in the dictionary: {list(myCounter.elements())}\")\n",
        "print(f\"Keys in the dictionary: {list(myCounter.keys())}\")\n",
        "print(f\"Values in the dictionary: {list(myCounter.values())}\")"
      ],
      "execution_count": null,
      "outputs": [
        {
          "output_type": "stream",
          "text": [
            "Elements in the dictionary: ['a', 'a', 'a', 'a', 'b', 'b', 'b', 'c', 'c']\n",
            "Keys in the dictionary: ['a', 'b', 'c']\n",
            "Values in the dictionary: [4, 3, 2]\n"
          ],
          "name": "stdout"
        }
      ]
    },
    {
      "cell_type": "code",
      "metadata": {
        "colab": {
          "base_uri": "https://localhost:8080/"
        },
        "id": "iKKJqxPAah4o",
        "outputId": "ebd479e0-96d7-44ef-f2af-83f27a8084df"
      },
      "source": [
        "#Most common elements and their frequency\n",
        "print(myCounter.most_common(1))\n",
        "print(myCounter.most_common(2))\n",
        "print(myCounter.most_common(3))\n"
      ],
      "execution_count": null,
      "outputs": [
        {
          "output_type": "stream",
          "text": [
            "[('a', 4)]\n",
            "[('a', 4), ('b', 3)]\n",
            "[('a', 4), ('b', 3), ('c', 2)]\n"
          ],
          "name": "stdout"
        }
      ]
    },
    {
      "cell_type": "code",
      "metadata": {
        "colab": {
          "base_uri": "https://localhost:8080/"
        },
        "id": "8QqcG0JFasTy",
        "outputId": "652e8235-3028-4951-e793-6978a74efa6f"
      },
      "source": [
        "#To find the most common element\n",
        "print(myCounter.most_common(1)[0][0])\n",
        "#To find the frequency of most common element\n",
        "print(myCounter.most_common(1)[0][1])\n"
      ],
      "execution_count": null,
      "outputs": [
        {
          "output_type": "stream",
          "text": [
            "a\n",
            "4\n"
          ],
          "name": "stdout"
        }
      ]
    },
    {
      "cell_type": "markdown",
      "metadata": {
        "id": "L0DzTQxIeULe"
      },
      "source": [
        "##2. Named Tuple\n",
        "\"Returns a new tuple subclass named typename. The new subclass is used to create tuple-like objects that have fields accessible by attribute lookup as well as being indexable and iterable.\" -- https://docs.python.org/3/library/collections.html#collections.namedtuple\n"
      ]
    },
    {
      "cell_type": "code",
      "metadata": {
        "colab": {
          "base_uri": "https://localhost:8080/"
        },
        "id": "VvxR2HvL1eVx",
        "outputId": "4dd06230-5b48-4c85-d28f-2b969d2f8ac9"
      },
      "source": [
        "from collections import namedtuple\n",
        "''' Signature: collections.namedtuple(typename, field_names, *, rename=False, \n",
        "defaults=None, module=None)\n",
        "'''\n",
        "apple = namedtuple(\"apple\", ['color', 'weight'])\n",
        "#typename is \"apple\"\n",
        "#field_names is ['color', weight]\n",
        "print(apple.__name__)#gives the name of the subclass a"
      ],
      "execution_count": null,
      "outputs": [
        {
          "output_type": "stream",
          "text": [
            "apple\n"
          ],
          "name": "stdout"
        }
      ]
    },
    {
      "cell_type": "code",
      "metadata": {
        "colab": {
          "base_uri": "https://localhost:8080/"
        },
        "id": "ZxGW8JKo14U9",
        "outputId": "33cb0647-5b46-40a8-d449-282d2dfe84f3"
      },
      "source": [
        "#In order to instantiate an object of apple, this has to be done the following way\n",
        "a = apple('red', '10')\n",
        "b = apple('yello', '12')\n",
        "#The fields of a and b can be accessed using attributes of the objects of the class\n",
        "print(a.color, a.weight)\n",
        "print(b.color, b.weight)"
      ],
      "execution_count": null,
      "outputs": [
        {
          "output_type": "stream",
          "text": [
            "red 10\n",
            "yello 12\n"
          ],
          "name": "stdout"
        }
      ]
    },
    {
      "cell_type": "code",
      "metadata": {
        "colab": {
          "base_uri": "https://localhost:8080/"
        },
        "id": "dq7qVgCN5f8T",
        "outputId": "6c5f03be-0d31-40a9-eb2f-ab144a2e3db2"
      },
      "source": [
        "#The fields of a and a can also be accessed using the indexes of the object of the class\n",
        "print(a[0], a[1])\n",
        "print(b[0], b[1])"
      ],
      "execution_count": null,
      "outputs": [
        {
          "output_type": "stream",
          "text": [
            "red 10\n",
            "yello 12\n"
          ],
          "name": "stdout"
        }
      ]
    },
    {
      "cell_type": "code",
      "metadata": {
        "colab": {
          "base_uri": "https://localhost:8080/"
        },
        "id": "CGvhM_v-8RyV",
        "outputId": "b3ba29a5-1b12-415e-a6d2-02a1054caeb0"
      },
      "source": [
        "#A useful example is to store coordinates of a point in 2d space\n",
        "#https://docs.python.org/3/library/collections.html#collections.namedtuple\n",
        "point = namedtuple(\"point\", ['x', 'y'])\n",
        "print(point.__name__)\n",
        "p1 = point(10, 20)\n",
        "p2 = point(30, 40)\n",
        "#Adding x and y coordinates of p1 and p2\n",
        "print(p1.x + p2.x)\n",
        "print(p1.y + p2.y)"
      ],
      "execution_count": null,
      "outputs": [
        {
          "output_type": "stream",
          "text": [
            "point\n",
            "40\n",
            "60\n"
          ],
          "name": "stdout"
        }
      ]
    },
    {
      "cell_type": "markdown",
      "metadata": {
        "id": "nPGO4v6I-GE0"
      },
      "source": [
        "##3. Deque\n",
        "\"Returns a new deque object initialized left-to-right (using append()) with data from iterable. If iterable is not specified, the new deque is empty.\n",
        "\n",
        "Deques are a generalization of stacks and queues (the name is pronounced “deck” and is short for “double-ended queue”). Deques support thread-safe, memory efficient appends and pops from either side of the deque with approximately the same O(1) performance in either direction.\n",
        "\n",
        "Though list objects support similar operations, they are optimized for fast fixed-length operations and incur O(n) memory movement costs for pop(0) and insert(0, v) operations which change both the size and position of the underlying data representation.\" -- https://docs.python.org/3/library/collections.html#collections.deque"
      ]
    },
    {
      "cell_type": "code",
      "metadata": {
        "colab": {
          "base_uri": "https://localhost:8080/"
        },
        "id": "RoJj_gKf9oFX",
        "outputId": "03f329f6-055a-442e-cfd5-6b541238919b"
      },
      "source": [
        "from collections import deque\n",
        "d = deque()\n",
        "print(type(d))"
      ],
      "execution_count": null,
      "outputs": [
        {
          "output_type": "stream",
          "text": [
            "<class 'collections.deque'>\n"
          ],
          "name": "stdout"
        }
      ]
    },
    {
      "cell_type": "code",
      "metadata": {
        "id": "ukPxIb8M-FA4",
        "colab": {
          "base_uri": "https://localhost:8080/"
        },
        "outputId": "1c9c3405-2dbb-4a7f-a731-1d09bdb4a91f"
      },
      "source": [
        "#To see the methods relevant with deque\n",
        "dir(deque)"
      ],
      "execution_count": null,
      "outputs": [
        {
          "output_type": "execute_result",
          "data": {
            "text/plain": [
              "['__add__',\n",
              " '__bool__',\n",
              " '__class__',\n",
              " '__contains__',\n",
              " '__copy__',\n",
              " '__delattr__',\n",
              " '__delitem__',\n",
              " '__dir__',\n",
              " '__doc__',\n",
              " '__eq__',\n",
              " '__format__',\n",
              " '__ge__',\n",
              " '__getattribute__',\n",
              " '__getitem__',\n",
              " '__gt__',\n",
              " '__hash__',\n",
              " '__iadd__',\n",
              " '__imul__',\n",
              " '__init__',\n",
              " '__init_subclass__',\n",
              " '__iter__',\n",
              " '__le__',\n",
              " '__len__',\n",
              " '__lt__',\n",
              " '__mul__',\n",
              " '__ne__',\n",
              " '__new__',\n",
              " '__reduce__',\n",
              " '__reduce_ex__',\n",
              " '__repr__',\n",
              " '__reversed__',\n",
              " '__rmul__',\n",
              " '__setattr__',\n",
              " '__setitem__',\n",
              " '__sizeof__',\n",
              " '__str__',\n",
              " '__subclasshook__',\n",
              " 'append',\n",
              " 'appendleft',\n",
              " 'clear',\n",
              " 'copy',\n",
              " 'count',\n",
              " 'extend',\n",
              " 'extendleft',\n",
              " 'index',\n",
              " 'insert',\n",
              " 'maxlen',\n",
              " 'pop',\n",
              " 'popleft',\n",
              " 'remove',\n",
              " 'reverse',\n",
              " 'rotate']"
            ]
          },
          "metadata": {
            "tags": []
          },
          "execution_count": 10
        }
      ]
    },
    {
      "cell_type": "code",
      "metadata": {
        "colab": {
          "base_uri": "https://localhost:8080/"
        },
        "id": "KevpUR8bO_hi",
        "outputId": "42a858b0-1942-40c5-b197-82a0191d542d"
      },
      "source": [
        "#Add an element\n",
        "d.append(1)\n",
        "d.append(2)\n",
        "d.append(\"Three\")\n",
        "print(d)\n",
        "print(list(d))"
      ],
      "execution_count": null,
      "outputs": [
        {
          "output_type": "stream",
          "text": [
            "deque([1, 2, 'Three'])\n",
            "[1, 2, 'Three']\n"
          ],
          "name": "stdout"
        }
      ]
    },
    {
      "cell_type": "code",
      "metadata": {
        "colab": {
          "base_uri": "https://localhost:8080/"
        },
        "id": "yvSefWr6Qgov",
        "outputId": "0a1e1a17-cdb7-4a5c-d5b5-fb6ba90f39fd"
      },
      "source": [
        "#Add an element to the left\n",
        "d = deque()\n",
        "#Add an element\n",
        "d.append(1)\n",
        "d.append(2)\n",
        "d.appendleft(\"Three\")\n",
        "print(d)\n",
        "print(list(d))"
      ],
      "execution_count": null,
      "outputs": [
        {
          "output_type": "stream",
          "text": [
            "deque(['Three', 1, 2])\n",
            "['Three', 1, 2]\n"
          ],
          "name": "stdout"
        }
      ]
    },
    {
      "cell_type": "code",
      "metadata": {
        "colab": {
          "base_uri": "https://localhost:8080/"
        },
        "id": "zZsvljrSQrii",
        "outputId": "33b50426-1726-40b2-a9e9-40b64bdff20b"
      },
      "source": [
        "#Remove by element\n",
        "d = deque()\n",
        "#Add an element\n",
        "d.append(1)\n",
        "d.append(2)\n",
        "d.appendleft(\"Three\")\n",
        "print(list(d))\n",
        "#The \n",
        "d.remove(2)\n",
        "print(list(d))"
      ],
      "execution_count": null,
      "outputs": [
        {
          "output_type": "stream",
          "text": [
            "['Three', 1, 2]\n",
            "['Three', 1]\n"
          ],
          "name": "stdout"
        }
      ]
    },
    {
      "cell_type": "code",
      "metadata": {
        "colab": {
          "base_uri": "https://localhost:8080/"
        },
        "id": "d_hhW_B_R6lD",
        "outputId": "d7f3f9f3-3968-4662-b157-1864f4dc73ef"
      },
      "source": [
        "#Remove an element by default\n",
        "d = deque()\n",
        "#Add an element\n",
        "d.append(1)\n",
        "d.append(2)\n",
        "d.append(\"Three\")\n",
        "print(list(d))\n",
        "#From the right side\n",
        "print(d.pop())\n",
        "print(list(d))\n",
        "#From the left side\n",
        "print(d.popleft())\n",
        "print(list(d))"
      ],
      "execution_count": null,
      "outputs": [
        {
          "output_type": "stream",
          "text": [
            "[1, 2, 'Three']\n",
            "Three\n",
            "[1, 2]\n",
            "1\n",
            "[2]\n"
          ],
          "name": "stdout"
        }
      ]
    },
    {
      "cell_type": "code",
      "metadata": {
        "colab": {
          "base_uri": "https://localhost:8080/"
        },
        "id": "iOtkP6WMSNi8",
        "outputId": "9efa5fcd-6f3e-46e0-966a-d3cd7e79322e"
      },
      "source": [
        "#If you want to add multiple values to an \n",
        "#existing deque containing values, do the \n",
        "#following:\n",
        "d = deque()\n",
        "d.append(1)\n",
        "print(list(d))\n",
        "d.extend([10,11,12])\n",
        "print(list(d))"
      ],
      "execution_count": null,
      "outputs": [
        {
          "output_type": "stream",
          "text": [
            "[1]\n",
            "[1, 10, 11, 12]\n"
          ],
          "name": "stdout"
        }
      ]
    },
    {
      "cell_type": "markdown",
      "metadata": {
        "id": "S9EgZy6DfxUU"
      },
      "source": [
        "#Itertools\n",
        "---\n",
        "\"This module implements a number of iterator building blocks inspired by constructs from APL, Haskell, and SML. Each has been recast in a form suitable for Python.\n",
        "\n",
        "The module standardizes a core set of fast, memory efficient tools that are useful by themselves or in combination. Together, they form an “iterator algebra” making it possible to construct specialized tools succinctly and efficiently in pure Python.\" --- https://docs.python.org/3/library/itertools.html#module-itertools"
      ]
    },
    {
      "cell_type": "markdown",
      "metadata": {
        "id": "2UzcSeS8n9N1"
      },
      "source": [
        "##1. Accumulate\n",
        "\"Make an iterator that returns accumulated sums, or accumulated results of other binary functions (specified via the optional func argument).\n",
        "\n",
        "If func is supplied, it should be a function of two arguments. Elements of the input iterable may be any type that can be accepted as arguments to func. (For example, with the default operation of addition, elements may be any addable type including Decimal or Fraction.)\" -- https://docs.python.org/3/library/itertools.html#itertools.accumulate"
      ]
    },
    {
      "cell_type": "code",
      "metadata": {
        "id": "gfTEzh1mkaeV",
        "colab": {
          "base_uri": "https://localhost:8080/"
        },
        "outputId": "c8840098-0e2f-4236-9944-ce12cc795105"
      },
      "source": [
        "from itertools import accumulate\n",
        "a = [1,2,3,4]\n",
        "#By default accumulate does a running sum,\n",
        "#and adds the previous two elements of the\n",
        "#original list\n",
        "acc = accumulate(a)\n",
        "print(f\"Original List:{a}\")\n",
        "print(f\"After accumulation:{list(acc)}\")"
      ],
      "execution_count": null,
      "outputs": [
        {
          "output_type": "stream",
          "text": [
            "Original List:[1, 2, 3, 4]\n",
            "After accumulation:[1, 3, 6, 10]\n"
          ],
          "name": "stdout"
        }
      ]
    },
    {
      "cell_type": "code",
      "metadata": {
        "colab": {
          "base_uri": "https://localhost:8080/"
        },
        "id": "25q80_Oxo3EI",
        "outputId": "98c34f29-6ea1-4f87-ae7d-bb01ca1c7663"
      },
      "source": [
        "from itertools import accumulate\n",
        "#https://docs.python.org/3/library/operator.html\n",
        "import operator\n",
        "a = [1,2,3,4]\n",
        "#By default accumulate does a running multiplication,\n",
        "#and adds the previous two elements of the\n",
        "#original list\n",
        "acc = accumulate(a, func = operator.mul)\n",
        "print(f\"Original List:{a}\")\n",
        "print(f\"After accumulation:{list(acc)}\")"
      ],
      "execution_count": null,
      "outputs": [
        {
          "output_type": "stream",
          "text": [
            "Original List:[1, 2, 3, 4]\n",
            "After accumulation:[1, 2, 6, 24]\n"
          ],
          "name": "stdout"
        }
      ]
    },
    {
      "cell_type": "code",
      "metadata": {
        "colab": {
          "base_uri": "https://localhost:8080/"
        },
        "id": "YxoWGOHSv-2y",
        "outputId": "bd0a9b28-eaf3-49b2-e947-cad2f4d4c54f"
      },
      "source": [
        "from itertools import accumulate\n",
        "#https://docs.python.org/3/library/operator.html\n",
        "import operator\n",
        "a = [1,2,3,4]\n",
        "#By default accumulate does a running subtraction,\n",
        "#and adds the previous two elements of the\n",
        "#original list\n",
        "acc = accumulate(a, func = operator.sub)\n",
        "print(f\"Original List:{a}\")\n",
        "print(f\"After accumulation:{list(acc)}\")"
      ],
      "execution_count": null,
      "outputs": [
        {
          "output_type": "stream",
          "text": [
            "Original List:[1, 2, 3, 4]\n",
            "After accumulation:[1, -1, -4, -8]\n"
          ],
          "name": "stdout"
        }
      ]
    },
    {
      "cell_type": "markdown",
      "metadata": {
        "id": "MZr8DaUMxJoe"
      },
      "source": [
        "##2. Product\n",
        "\"Cartesian product of input iterables.Roughly equivalent to nested for-loops in a generator expression. For example, product(A, B) returns the same as ((x,y) for x in A for y in B).\"\n",
        "--https://docs.python.org/3/library/itertools.html#itertools.product\n",
        "\n"
      ]
    },
    {
      "cell_type": "code",
      "metadata": {
        "colab": {
          "base_uri": "https://localhost:8080/"
        },
        "id": "c9z3Ol7dxFsp",
        "outputId": "9fb33785-7812-4292-f0fd-11c518582990"
      },
      "source": [
        "#now what is an iterator\n",
        "from itertools import product\n",
        "a = [1,2]\n",
        "b = [3,4]\n",
        "p = (product(a,b))\n",
        "print(list(p))"
      ],
      "execution_count": null,
      "outputs": [
        {
          "output_type": "stream",
          "text": [
            "[(1, 3), (1, 4), (2, 3), (2, 4)]\n"
          ],
          "name": "stdout"
        }
      ]
    },
    {
      "cell_type": "markdown",
      "metadata": {
        "id": "syaL3g782srB"
      },
      "source": [
        "##3. Permutations\n",
        "\"Return successive r length permutations of elements in the iterable.\n",
        "\n",
        "If r is not specified or is None, then r defaults to the length of the iterable and all possible full-length permutations are generated.\"\n",
        "-- https://docs.python.org/3/library/itertools.html#itertools.product"
      ]
    },
    {
      "cell_type": "code",
      "metadata": {
        "colab": {
          "base_uri": "https://localhost:8080/"
        },
        "id": "cW2SHo182sDB",
        "outputId": "b1348233-dae4-4d33-c6ec-c0452ebf5e36"
      },
      "source": [
        "#now what is an iterator\n",
        "from itertools import permutations\n",
        "a = [1,2,3]\n",
        "perm = permutations(a)\n",
        "print(list(perm))"
      ],
      "execution_count": null,
      "outputs": [
        {
          "output_type": "stream",
          "text": [
            "[(1, 2, 3), (1, 3, 2), (2, 1, 3), (2, 3, 1), (3, 1, 2), (3, 2, 1)]\n"
          ],
          "name": "stdout"
        }
      ]
    },
    {
      "cell_type": "code",
      "metadata": {
        "colab": {
          "base_uri": "https://localhost:8080/"
        },
        "id": "XQ-4dt5l267d",
        "outputId": "cc7b1124-f60a-457d-c29e-29ce5417c335"
      },
      "source": [
        "#now what is an iterator\n",
        "from itertools import permutations\n",
        "a = [1,2,3]\n",
        "perm = permutations(a, 2)\n",
        "print(list(perm))"
      ],
      "execution_count": null,
      "outputs": [
        {
          "output_type": "stream",
          "text": [
            "[(1, 2), (1, 3), (2, 1), (2, 3), (3, 1), (3, 2)]\n"
          ],
          "name": "stdout"
        }
      ]
    },
    {
      "cell_type": "markdown",
      "metadata": {
        "id": "uBqYf5Y-3LRA"
      },
      "source": [
        "##3. Combinations\n",
        "\"Return r length subsequences of elements from the input iterable.\n",
        "\n",
        "The combination tuples are emitted in lexicographic ordering according to the order of the input iterable. So, if the input iterable is sorted, the combination tuples will be produced in sorted order.\"\n",
        "-- https://docs.python.org/3/library/itertools.html#itertools.combinations"
      ]
    },
    {
      "cell_type": "code",
      "metadata": {
        "colab": {
          "base_uri": "https://localhost:8080/"
        },
        "id": "AshhjjnB3JK9",
        "outputId": "c74bd7c9-d5ee-41c8-a216-7a3615afff21"
      },
      "source": [
        "#now what is an iterator\n",
        "from itertools import combinations\n",
        "a = [1,2,3,4]\n",
        "comb = combinations(a,2)\n",
        "print(list(comb))"
      ],
      "execution_count": null,
      "outputs": [
        {
          "output_type": "stream",
          "text": [
            "[(1, 2), (1, 3), (1, 4), (2, 3), (2, 4), (3, 4)]\n"
          ],
          "name": "stdout"
        }
      ]
    },
    {
      "cell_type": "code",
      "metadata": {
        "colab": {
          "base_uri": "https://localhost:8080/"
        },
        "id": "wfXmYIxC3lAl",
        "outputId": "d26baf6a-1622-4911-e7ee-d6d6df2709c7"
      },
      "source": [
        "from itertools import combinations_with_replacement\n",
        "'''\n",
        "Return r length subsequences of elements from the input iterable allowing \n",
        "individual elements to be repeated more than once.\n",
        "The combination tuples are emitted in lexicographic ordering according to\n",
        "the order of the input iterable. So, if the input iterable is sorted, the\n",
        "combination tuples will be produced in sorted order.\n",
        "Elements are treated as unique based on their position, not on their value.\n",
        "So if the input elements are unique, the generated combinations will also \n",
        "be unique.\n",
        "'''\n",
        "a = [1,2,3,4]\n",
        "comb = combinations(a,2)\n",
        "print(list(comb))\n",
        "comb_wr = combinations_with_replacement(a,2)\n",
        "print(list(comb_wr))"
      ],
      "execution_count": null,
      "outputs": [
        {
          "output_type": "stream",
          "text": [
            "[(1, 2), (1, 3), (1, 4), (2, 3), (2, 4), (3, 4)]\n",
            "[(1, 1), (1, 2), (1, 3), (1, 4), (2, 2), (2, 3), (2, 4), (3, 3), (3, 4), (4, 4)]\n"
          ],
          "name": "stdout"
        }
      ]
    },
    {
      "cell_type": "markdown",
      "metadata": {
        "id": "83dLnRDF6Qg6"
      },
      "source": [
        "##4. Count\n",
        "\"Make an iterator that returns evenly spaced values starting with number start. Often used as an argument to map() to generate consecutive data points. Also, used with zip() to add sequence numbers.\"--https://docs.python.org/3/library/itertools.html#itertools.count"
      ]
    },
    {
      "cell_type": "code",
      "metadata": {
        "colab": {
          "base_uri": "https://localhost:8080/"
        },
        "id": "ZaQ1ATHD5sDf",
        "outputId": "ea2d9825-f157-4f3a-a646-61471fb7ce6e"
      },
      "source": [
        "from itertools import count\n",
        "#The function count will keep on iterating if\n",
        "#if it is not stopped\n",
        "for i in count(10):\n",
        "  if i > 20:\n",
        "    break\n",
        "  else:\n",
        "    print(i, end = \" \")"
      ],
      "execution_count": null,
      "outputs": [
        {
          "output_type": "stream",
          "text": [
            "10 11 12 13 14 15 16 17 18 19 20 "
          ],
          "name": "stdout"
        }
      ]
    },
    {
      "cell_type": "code",
      "metadata": {
        "colab": {
          "base_uri": "https://localhost:8080/"
        },
        "id": "wLYAEZg_Fm2i",
        "outputId": "56a83f27-d3c8-48ef-e0fb-2fcbba94be1f"
      },
      "source": [
        "from itertools import count\n",
        "#An additional argument can be added to \n",
        "#the count function to improve the step size\n",
        "for i in count(10,2):\n",
        "  if i > 20:\n",
        "    break\n",
        "  else:\n",
        "    print(i, end = \" \")"
      ],
      "execution_count": null,
      "outputs": [
        {
          "output_type": "stream",
          "text": [
            "10 12 14 16 18 20 "
          ],
          "name": "stdout"
        }
      ]
    },
    {
      "cell_type": "code",
      "metadata": {
        "colab": {
          "base_uri": "https://localhost:8080/"
        },
        "id": "8TihbCIiexqm",
        "outputId": "169d4ce8-f59f-482c-b8cb-608613006b1b"
      },
      "source": [
        "from itertools import count\n",
        "#An additional argument can be added to \n",
        "#the count function to improve the step size\n",
        "for i in count(10,-2):\n",
        "  if i < -20:\n",
        "    break\n",
        "  else:\n",
        "    print(i, end = \" \")"
      ],
      "execution_count": null,
      "outputs": [
        {
          "output_type": "stream",
          "text": [
            "10 8 6 4 2 0 -2 -4 -6 -8 -10 -12 -14 -16 -18 -20 "
          ],
          "name": "stdout"
        }
      ]
    },
    {
      "cell_type": "markdown",
      "metadata": {
        "id": "Oluh4X2sfmUy"
      },
      "source": [
        "##5. Repeat\n",
        "\"Make an iterator that returns object over and over again. Runs indefinitely unless the times argument is specified. Used as argument to map() for invariant parameters to the called function. Also used with zip() to create an invariant part of a tuple record.\" -- https://docs.python.org/3/library/itertools.html#itertools.repeat"
      ]
    },
    {
      "cell_type": "code",
      "metadata": {
        "colab": {
          "base_uri": "https://localhost:8080/"
        },
        "id": "-JJPYIWlfQFm",
        "outputId": "3f46c067-d7bc-491b-9947-39f43df0c959"
      },
      "source": [
        "from itertools import repeat\n",
        "a = [1,2]\n",
        "#Repeat a particular number of times if an\n",
        "#argument is provide along with the sequence\n",
        "#In the following example 5 is the additional\n",
        "#argument\n",
        "for i in repeat(a, 5):\n",
        "  print(i)\n",
        "#However if no additional argument is provided\n",
        "#the for will go on for infinity"
      ],
      "execution_count": null,
      "outputs": [
        {
          "output_type": "stream",
          "text": [
            "[1, 2]\n",
            "[1, 2]\n",
            "[1, 2]\n",
            "[1, 2]\n",
            "[1, 2]\n"
          ],
          "name": "stdout"
        }
      ]
    },
    {
      "cell_type": "markdown",
      "metadata": {
        "id": "ryTrS5rolTrH"
      },
      "source": [
        "##6. Cycle\n",
        "\"Make an iterator returning elements from the iterable and saving a copy of each. When the iterable is exhausted, return elements from the saved copy.\"\n",
        "-- https://docs.python.org/3/library/itertools.html#itertools.cycle"
      ]
    },
    {
      "cell_type": "code",
      "metadata": {
        "colab": {
          "base_uri": "https://localhost:8080/"
        },
        "id": "_fapzzclgBtH",
        "outputId": "2a97f5ba-c1af-4e54-e808-5a753ba5aac2"
      },
      "source": [
        "from itertools import cycle\n",
        "a = [1,2,3]; c = 0\n",
        "#Repeat the elements in the list a\n",
        "for i in cycle(a):\n",
        "  c += 1\n",
        "  if c == 10: break\n",
        "  else: print(i, end = \" \")"
      ],
      "execution_count": null,
      "outputs": [
        {
          "output_type": "stream",
          "text": [
            "1 2 3 1 2 3 1 2 3 "
          ],
          "name": "stdout"
        }
      ]
    },
    {
      "cell_type": "code",
      "metadata": {
        "id": "XHD0C_pjlt6H",
        "colab": {
          "base_uri": "https://localhost:8080/"
        },
        "outputId": "a7645066-944b-481b-8648-e07cfef63a0d"
      },
      "source": [
        "from itertools import repeat\r\n",
        "a = \"hello\"; c = 0\r\n",
        "#Repeat the elements in the string a\r\n",
        "for i in cycle(a):\r\n",
        "  c += 1\r\n",
        "  if c == 10: break\r\n",
        "  else: print(i, end =  \" \")"
      ],
      "execution_count": null,
      "outputs": [
        {
          "output_type": "stream",
          "text": [
            "h e l l o h e l l "
          ],
          "name": "stdout"
        }
      ]
    }
  ]
}