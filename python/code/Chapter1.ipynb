{
  "nbformat": 4,
  "nbformat_minor": 0,
  "metadata": {
    "colab": {
      "name": "Chapter1.ipynb",
      "provenance": [],
      "include_colab_link": true
    },
    "kernelspec": {
      "name": "python3",
      "display_name": "Python 3"
    }
  },
  "cells": [
    {
      "cell_type": "markdown",
      "metadata": {
        "id": "view-in-github",
        "colab_type": "text"
      },
      "source": [
        "<a href=\"https://colab.research.google.com/github/mohammadmotiurrahman/python_workshop/blob/main/Chapter1.ipynb\" target=\"_parent\"><img src=\"https://colab.research.google.com/assets/colab-badge.svg\" alt=\"Open In Colab\"/></a>"
      ]
    },
    {
      "cell_type": "markdown",
      "metadata": {
        "id": "W806Mq7xNIJ1"
      },
      "source": [
        "#Welcome to the Universe of Python\r\n",
        "\r\n",
        "---\r\n",
        "\r\n",
        "Welcome to the first workshop on Python. Hopefully at the end of this workshop you will be able to learn something, and do awesome stuff."
      ]
    },
    {
      "cell_type": "markdown",
      "metadata": {
        "id": "fzxkDkkKML3k"
      },
      "source": [
        "##Variables and Data Types\r\n",
        "\r\n",
        "---\r\n",
        "\r\n",
        "We will start the first chapter with variables and data types. In C++ every data has a type associated with it, during its declaration phase. The following is an example:"
      ]
    },
    {
      "cell_type": "code",
      "metadata": {
        "id": "gzOHwwxUMnlU"
      },
      "source": [
        "int x = 56;\r\n",
        "string str = \"Hello\";\r\n",
        "float y = 78;\r\n",
        "bool x = true;"
      ],
      "execution_count": null,
      "outputs": []
    },
    {
      "cell_type": "markdown",
      "metadata": {
        "id": "EVgLgxXaN4n8"
      },
      "source": [
        "However this not the case for Python. In Python data instances do not have a type associated with it. "
      ]
    },
    {
      "cell_type": "code",
      "metadata": {
        "id": "NDCWck8aOOZy"
      },
      "source": [
        "x = 67\r\n",
        "y = 12.45\r\n",
        "z = \"hello\"\r\n",
        "b = True"
      ],
      "execution_count": 2,
      "outputs": []
    },
    {
      "cell_type": "markdown",
      "metadata": {
        "id": "fyM0Rll0OYyw"
      },
      "source": [
        "As a result it is possible to do the following without getting any compilation error."
      ]
    },
    {
      "cell_type": "code",
      "metadata": {
        "id": "y57rb9XHOdq9"
      },
      "source": [
        "x = 34\r\n",
        "x = \"hello me\"\r\n",
        "x = True"
      ],
      "execution_count": 3,
      "outputs": []
    },
    {
      "cell_type": "markdown",
      "metadata": {
        "id": "z-c-tWL4OrQP"
      },
      "source": [
        "Even though it might seem counter intuitive that how come a variable have so states, however, one can check the state of the variable during the assignment operations, like the following:"
      ]
    },
    {
      "cell_type": "code",
      "metadata": {
        "colab": {
          "base_uri": "https://localhost:8080/"
        },
        "id": "ErHbhvMrOmfT",
        "outputId": "b5d341ff-8911-4e6d-c6f3-cff9998dd2cc"
      },
      "source": [
        "x = 34\r\n",
        "print(type(x))\r\n",
        "x = \"hello me\"\r\n",
        "print(type(x))\r\n",
        "x = True\r\n",
        "print(type(x))"
      ],
      "execution_count": 4,
      "outputs": [
        {
          "output_type": "stream",
          "text": [
            "<class 'int'>\n",
            "<class 'str'>\n",
            "<class 'bool'>\n"
          ],
          "name": "stdout"
        }
      ]
    },
    {
      "cell_type": "markdown",
      "metadata": {
        "id": "hZGrhFxSR2Xh"
      },
      "source": [
        "The type of `x` changes depending on the data type. In line 1, in the above codeblock it is an integer, denoted as `<class 'int'>`. In line 3 , `x` is of type `<class 'str'>` and in line 5, `x` is of type `<class 'bool'>`. What is a class, we will discuss it later, however, for the time remember that you do not need to put a data type whenever you instantiate a data literal.   "
      ]
    },
    {
      "cell_type": "markdown",
      "metadata": {
        "id": "8l10ETa0Vw0M"
      },
      "source": [
        "##Printing a variable \r\n",
        "\r\n",
        "---\r\n",
        "\r\n",
        "\r\n",
        "\r\n"
      ]
    },
    {
      "cell_type": "markdown",
      "metadata": {
        "id": "PAgngmTRV_2G"
      },
      "source": [
        "There are couple of ways to print variables in Python. Couple of examples are given below:"
      ]
    },
    {
      "cell_type": "code",
      "metadata": {
        "colab": {
          "base_uri": "https://localhost:8080/"
        },
        "id": "vyNHvH8vWwOd",
        "outputId": "8ec4934f-5294-4c54-c918-2bccb299cc4e"
      },
      "source": [
        "x = 56\r\n",
        "print(x)\r\n",
        "x = 78.6\r\n",
        "print(x)\r\n",
        "x = \"hello world\"\r\n",
        "print(x)\r\n",
        "x = True\r\n",
        "print(x)"
      ],
      "execution_count": 5,
      "outputs": [
        {
          "output_type": "stream",
          "text": [
            "56\n",
            "78.6\n",
            "hello world\n",
            "True\n"
          ],
          "name": "stdout"
        }
      ]
    },
    {
      "cell_type": "code",
      "metadata": {
        "colab": {
          "base_uri": "https://localhost:8080/"
        },
        "id": "A425bNgSW54i",
        "outputId": "3f005a49-b97c-46ef-ed6f-22af2160e093"
      },
      "source": [
        "x = 56\r\n",
        "print(f\"The value of x is {x}\")\r\n",
        "\r\n",
        "x = 78.6\r\n",
        "print(f\"The value of x is {x}\")\r\n",
        "\r\n",
        "x = \"hello world\"\r\n",
        "print(f\"The value of x is {x}\")\r\n",
        "\r\n",
        "x = True\r\n",
        "print(f\"The value of x is {x}\")"
      ],
      "execution_count": 6,
      "outputs": [
        {
          "output_type": "stream",
          "text": [
            "The value of x is 56\n",
            "The value of x is 78.6\n",
            "The value of x is hello world\n",
            "The value of x is True\n"
          ],
          "name": "stdout"
        }
      ]
    },
    {
      "cell_type": "markdown",
      "metadata": {
        "id": "awcJo7x6X0Am"
      },
      "source": [
        "One note of advice, do not forget `f` inside the `print` function. There are plenty of things to discuss about printing strings, which will be discussed in the subsequent notebooks."
      ]
    },
    {
      "cell_type": "markdown",
      "metadata": {
        "id": "Yt7yt6zzaG5q"
      },
      "source": [
        "##Operators and Operations in Python \r\n",
        "\r\n",
        "---\r\n",
        "The operators that are present in Python is similar to that found in C++. They behave more or less the same less way as they do in C++. Some example of them in action is given below:\r\n",
        "\r\n"
      ]
    },
    {
      "cell_type": "code",
      "metadata": {
        "colab": {
          "base_uri": "https://localhost:8080/"
        },
        "id": "dBa9Kz2raUhe",
        "outputId": "a6dca413-c646-4a03-9d60-71d7c0ae3990"
      },
      "source": [
        "a = 7\r\n",
        "b = 3\r\n",
        "print(a + b ) # 10 Addition\r\n",
        "\r\n",
        "print(a - b) # 4 Subtraction\r\n",
        "\r\n",
        "print(a * b) # 21 Multiplication\r\n",
        "\r\n",
        "print(a / b) # 2.3 Division with float result\r\n",
        "\r\n",
        "print(a // b) # 2 Division with int result\r\n",
        "\r\n",
        "print(a % b) # 1 Modulus\r\n",
        "\r\n",
        "print(a ** b) # 343 Power operation"
      ],
      "execution_count": 7,
      "outputs": [
        {
          "output_type": "stream",
          "text": [
            "10\n",
            "4\n",
            "21\n",
            "2.3333333333333335\n",
            "2\n",
            "1\n",
            "343\n"
          ],
          "name": "stdout"
        }
      ]
    },
    {
      "cell_type": "markdown",
      "metadata": {
        "id": "Kh_sFgydcLYD"
      },
      "source": [
        "Some other common operations are given below:"
      ]
    },
    {
      "cell_type": "code",
      "metadata": {
        "colab": {
          "base_uri": "https://localhost:8080/"
        },
        "id": "j3eOXnVXlxUZ",
        "outputId": "5808fcfc-1a34-47c6-dc1c-0ecc5f818107"
      },
      "source": [
        "a = 5\r\n",
        "a = a + 1\r\n",
        "print(a)\r\n",
        "\r\n",
        "a += 1\r\n",
        "print(a)\r\n",
        "\r\n",
        "#This gives error\r\n",
        "#a++;\r\n",
        "#print(a);\r\n",
        "\r\n",
        "#This does not work\r\n",
        "#++a;\r\n",
        "#print(a);\r\n",
        "#A proper explanation\r\n",
        "#https://stackoverflow.com/questions/3654830/why-are-there-no-and-operators-in-python"
      ],
      "execution_count": 8,
      "outputs": [
        {
          "output_type": "stream",
          "text": [
            "6\n",
            "7\n"
          ],
          "name": "stdout"
        }
      ]
    },
    {
      "cell_type": "code",
      "metadata": {
        "colab": {
          "base_uri": "https://localhost:8080/"
        },
        "id": "gTTxizWgl8nY",
        "outputId": "4f30ea1e-541b-42f8-e8a4-5a468343441b"
      },
      "source": [
        "#Similarly the following expression does not work:\r\n",
        "a = 5\r\n",
        "a = a - 1\r\n",
        "print(a)\r\n",
        "\r\n",
        "a -= 1\r\n",
        "print(a)\r\n",
        "\r\n",
        "#This gives error\r\n",
        "#a--;\r\n",
        "#print(a);\r\n",
        "\r\n",
        "#This does not work\r\n",
        "#--a;\r\n",
        "#print(a);\r\n",
        "#A proper explanation\r\n",
        "#https://stackoverflow.com/questions/3654830/why-are-there-no-and-operators-in-python"
      ],
      "execution_count": 9,
      "outputs": [
        {
          "output_type": "stream",
          "text": [
            "4\n",
            "3\n"
          ],
          "name": "stdout"
        }
      ]
    },
    {
      "cell_type": "code",
      "metadata": {
        "colab": {
          "base_uri": "https://localhost:8080/"
        },
        "id": "qP9wpXExoAJ4",
        "outputId": "0e77785a-c008-453b-baf5-22aadd0abb1e"
      },
      "source": [
        "#However the following still works\r\n",
        "a  = 10\r\n",
        "a *= 4 #a = a * 4\r\n",
        "print(a)\r\n",
        "\r\n",
        "a /= 9 #a = a / 9\r\n",
        "print(a)\r\n",
        "\r\n",
        "a //= 2 #a = a // 2\r\n",
        "print(a)\r\n",
        "\r\n",
        "a %= 2 #a = a % 2\r\n",
        "print(a)\r\n",
        "\r\n",
        "a **= 2 #a = a ** 2\r\n",
        "print(a)"
      ],
      "execution_count": 10,
      "outputs": [
        {
          "output_type": "stream",
          "text": [
            "40\n",
            "4.444444444444445\n",
            "2.0\n",
            "0.0\n",
            "0.0\n"
          ],
          "name": "stdout"
        }
      ]
    },
    {
      "cell_type": "markdown",
      "metadata": {
        "id": "EA168CJKWJ57"
      },
      "source": [
        "##Keywords in Python \r\n",
        "\r\n",
        "---\r\n",
        "\r\n",
        "As of Python 3.8, there are 35 keywords\r\n",
        "\r\n",
        "https://docs.python.org/3.8/reference/lexical_analysis.html#keywords\r\n",
        "\r\n",
        "```\r\n",
        "False      await      else       import     pass\r\n",
        "None       break      except     in         raise\r\n",
        "True       class      finally    is         return\r\n",
        "and        continue   for        lambda     try\r\n",
        "as         def        from       nonlocal   while\r\n",
        "assert     del        global     not        with\r\n",
        "async      elif       if         or         yield \r\n",
        "\r\n",
        "```\r\n",
        "\r\n"
      ]
    },
    {
      "cell_type": "markdown",
      "metadata": {
        "id": "0kHYIQ5-srB5"
      },
      "source": [
        "##Booleans \r\n",
        "\r\n",
        "---\r\n",
        "Python has `and`, `or` and `not` to represent the conditions. The condition of being true is being represented as `True` and the condition of being false is represented as `False`. So:\r\n"
      ]
    },
    {
      "cell_type": "code",
      "metadata": {
        "colab": {
          "base_uri": "https://localhost:8080/"
        },
        "id": "CT8zyTH6x8KS",
        "outputId": "99d5030a-e1e6-4585-c4d4-b11cefe69158"
      },
      "source": [
        "print(True) \r\n",
        "print(False)\r\n",
        "print(True and False)\r\n",
        "print(True or False)\r\n",
        "print(False and False)\r\n",
        "print(True and True)"
      ],
      "execution_count": 11,
      "outputs": [
        {
          "output_type": "stream",
          "text": [
            "True\n",
            "False\n",
            "False\n",
            "True\n",
            "False\n",
            "True\n"
          ],
          "name": "stdout"
        }
      ]
    },
    {
      "cell_type": "code",
      "metadata": {
        "colab": {
          "base_uri": "https://localhost:8080/"
        },
        "id": "qfUHr7dF3alr",
        "outputId": "56a6a8cf-ad57-4b8e-8ed6-9088bde24983"
      },
      "source": [
        "#Equality and comparison operations\r\n",
        "print(2 == 4) # False\r\n",
        "print(3 == 3) # True\r\n",
        "print(2.11 == 2.1) # False\r\n",
        "print(2 != 4) # True\r\n",
        "print( 2 < 4) # True\r\n",
        "print( 5 <= 5) # True"
      ],
      "execution_count": 12,
      "outputs": [
        {
          "output_type": "stream",
          "text": [
            "False\n",
            "True\n",
            "False\n",
            "True\n",
            "True\n",
            "True\n"
          ],
          "name": "stdout"
        }
      ]
    },
    {
      "cell_type": "markdown",
      "metadata": {
        "id": "CUBRaHOA6L0s"
      },
      "source": [
        "##Control flow \r\n",
        "\r\n",
        "---\r\n",
        "\r\n"
      ]
    },
    {
      "cell_type": "markdown",
      "metadata": {
        "id": "OPCAtWDDEb0S"
      },
      "source": [
        "###`if` , `elif` and `else` clause"
      ]
    },
    {
      "cell_type": "code",
      "metadata": {
        "id": "w_QTNaKR6NhZ"
      },
      "source": [
        "#The way to write control flow is the following:\r\n",
        "if something:\r\n",
        "  then something\r\n",
        "elif something_else:\r\n",
        "  then something different\r\n",
        "else:\r\n",
        "  then this is what you were looking "
      ],
      "execution_count": null,
      "outputs": []
    },
    {
      "cell_type": "code",
      "metadata": {
        "colab": {
          "base_uri": "https://localhost:8080/"
        },
        "id": "r50Vag-L604D",
        "outputId": "2f2d6525-8123-4226-ca00-e5d9b58339ca"
      },
      "source": [
        "#An example is the following\r\n",
        "name = input(\"Name please: \")\r\n",
        "if name == \"Motiur\":\r\n",
        "  print(f\"Hello, good morning: {name}\")\r\n",
        "else:\r\n",
        "  print(f\"Hmm, we weren't expecting you {name}\")"
      ],
      "execution_count": 14,
      "outputs": [
        {
          "output_type": "stream",
          "text": [
            "Name please: Motiur\n",
            "Hello, good morning: Motiur\n"
          ],
          "name": "stdout"
        }
      ]
    },
    {
      "cell_type": "markdown",
      "metadata": {
        "id": "i8yYDl25DQlE"
      },
      "source": [
        "The important thing to realize in the example of control flow is the indentation after each control block. If the indentation is not given properly then the code will not run as expected."
      ]
    },
    {
      "cell_type": "code",
      "metadata": {
        "colab": {
          "base_uri": "https://localhost:8080/"
        },
        "id": "0cdCCTDoDEe7",
        "outputId": "d473a9d0-4605-4a29-f54e-82b3bcb4d50c"
      },
      "source": [
        "#An example of else and elif is the following\r\n",
        "name = input(\"Name please: \")\r\n",
        "if name == \"Motiur\":\r\n",
        "  print(f\"Hello, good morning: {name}\")\r\n",
        "elif name == \"Asif\":\r\n",
        "  print(f\"We were expecting you, {name}\")\r\n",
        "else:\r\n",
        "  print(f\"{name}, are you supposed to be here? \")"
      ],
      "execution_count": 15,
      "outputs": [
        {
          "output_type": "stream",
          "text": [
            "Name please: Motiur\n",
            "Hello, good morning: Motiur\n"
          ],
          "name": "stdout"
        }
      ]
    },
    {
      "cell_type": "code",
      "metadata": {
        "colab": {
          "base_uri": "https://localhost:8080/"
        },
        "id": "ra2oQk6kGDVn",
        "outputId": "205e2ddc-2669-4b4e-f1b8-d485f556deb9"
      },
      "source": [
        "#An example using conjugate conditions\r\n",
        "age = int(input(\"Age please: \"))\r\n",
        "#Don't forget type casting the variable age\r\n",
        "#to an int,by default it is a string\r\n",
        "if (age > 0) and (age <= 30):\r\n",
        "  print(\"Hello there, young man\")\r\n",
        "elif (age > 30) and (age < 65):\r\n",
        "  print(\"How is life for middle aged people?\")\r\n",
        "elif (age > 65):\r\n",
        "  print(\"Hmm, you seem to have lived quite a long life\")\r\n",
        "else:\r\n",
        "  print(\"Re-enter value\")"
      ],
      "execution_count": 16,
      "outputs": [
        {
          "output_type": "stream",
          "text": [
            "Age please: 56\n",
            "How is life for middle aged people?\n"
          ],
          "name": "stdout"
        }
      ]
    },
    {
      "cell_type": "code",
      "metadata": {
        "colab": {
          "base_uri": "https://localhost:8080/"
        },
        "id": "WTknJnQMJKkV",
        "outputId": "7b88cc35-cdcd-4fac-b7c7-e40f56640c65"
      },
      "source": [
        "#One other example\r\n",
        "day = input(\"What day is today? \")\r\n",
        "if not ((day == \"Friday\") or (day == \"Saturday\")):\r\n",
        "  print(\"Today is a weekday , I guess. Work harder.\")\r\n",
        "else:\r\n",
        "  print(\"Today is weekend, enjoy, my brethens.\") "
      ],
      "execution_count": 17,
      "outputs": [
        {
          "output_type": "stream",
          "text": [
            "What day is today? Monday\n",
            "Today is a weekday , I guess. Work harder.\n"
          ],
          "name": "stdout"
        }
      ]
    },
    {
      "cell_type": "markdown",
      "metadata": {
        "id": "RIP3Dk3qElOa"
      },
      "source": [
        "###`for` loop"
      ]
    },
    {
      "cell_type": "markdown",
      "metadata": {
        "id": "XXFdDzYJMApe"
      },
      "source": [
        "Let us now do something with loops, for-loops, an example is given down below."
      ]
    },
    {
      "cell_type": "code",
      "metadata": {
        "colab": {
          "base_uri": "https://localhost:8080/"
        },
        "id": "Z6S2kI94Luqd",
        "outputId": "3e3c2b69-e070-44e0-a678-595ee75049a5"
      },
      "source": [
        "for x in range(5):\r\n",
        "  print(f\"{x} sheep\")"
      ],
      "execution_count": 18,
      "outputs": [
        {
          "output_type": "stream",
          "text": [
            "0 sheep\n",
            "1 sheep\n",
            "2 sheep\n",
            "3 sheep\n",
            "4 sheep\n"
          ],
          "name": "stdout"
        }
      ]
    },
    {
      "cell_type": "code",
      "metadata": {
        "colab": {
          "base_uri": "https://localhost:8080/"
        },
        "id": "uTdocswTNj9W",
        "outputId": "5cbb6479-d5f1-4536-e491-2497a04d4781"
      },
      "source": [
        "#Or you can start from an arbitrary position\r\n",
        "#and end in a specified position\r\n",
        "for x in range(10, 15):\r\n",
        "  print(f\"{x} sheep\")"
      ],
      "execution_count": 19,
      "outputs": [
        {
          "output_type": "stream",
          "text": [
            "10 sheep\n",
            "11 sheep\n",
            "12 sheep\n",
            "13 sheep\n",
            "14 sheep\n"
          ],
          "name": "stdout"
        }
      ]
    },
    {
      "cell_type": "code",
      "metadata": {
        "colab": {
          "base_uri": "https://localhost:8080/"
        },
        "id": "xhYMyTcSN4WR",
        "outputId": "100ad4fa-b946-4b13-bba7-62be3f2a75fc"
      },
      "source": [
        "#You can do one more thing, you can \r\n",
        "#skip by a constant value\r\n",
        "for x in range(10,20,2):\r\n",
        "  print(f\"{x} sheep\")"
      ],
      "execution_count": 20,
      "outputs": [
        {
          "output_type": "stream",
          "text": [
            "10 sheep\n",
            "12 sheep\n",
            "14 sheep\n",
            "16 sheep\n",
            "18 sheep\n"
          ],
          "name": "stdout"
        }
      ]
    },
    {
      "cell_type": "code",
      "metadata": {
        "id": "OA4h0OJuQrWf"
      },
      "source": [
        "#However, can yo do this?\r\n",
        "#Skip without having a starting point\r\n",
        "for x in range(20,2):\r\n",
        "  print(f\"{x} sheep\")\r\n",
        "#The answer is no. So remember this bit:\r\n",
        "#the parameter that goes inside range is \r\n",
        "#like the following:\r\n",
        "#range(start, stop, step)\r\n",
        "#And you need start and stop, if you are\r\n",
        "#interested to skip"
      ],
      "execution_count": 21,
      "outputs": []
    },
    {
      "cell_type": "markdown",
      "metadata": {
        "id": "On8RrP7aEq6C"
      },
      "source": [
        "###`while` loop"
      ]
    },
    {
      "cell_type": "markdown",
      "metadata": {
        "id": "VToTRNGpTF8i"
      },
      "source": [
        "Now let us move to `while` loops, shall we? The idea is similar to that of C++, but with the constructs of Python."
      ]
    },
    {
      "cell_type": "code",
      "metadata": {
        "colab": {
          "base_uri": "https://localhost:8080/"
        },
        "id": "XcY_VO1rQ_MR",
        "outputId": "8a180e16-372b-4666-f83f-2b9c1df9e3b7"
      },
      "source": [
        "i = 0\r\n",
        "while(i < 10):\r\n",
        "  print(f\"Hello there, I been waiting for you for {i} years\")\r\n",
        "  i += 1"
      ],
      "execution_count": 22,
      "outputs": [
        {
          "output_type": "stream",
          "text": [
            "Hello there, I been waiting for you for 0 years\n",
            "Hello there, I been waiting for you for 1 years\n",
            "Hello there, I been waiting for you for 2 years\n",
            "Hello there, I been waiting for you for 3 years\n",
            "Hello there, I been waiting for you for 4 years\n",
            "Hello there, I been waiting for you for 5 years\n",
            "Hello there, I been waiting for you for 6 years\n",
            "Hello there, I been waiting for you for 7 years\n",
            "Hello there, I been waiting for you for 8 years\n",
            "Hello there, I been waiting for you for 9 years\n"
          ],
          "name": "stdout"
        }
      ]
    },
    {
      "cell_type": "code",
      "metadata": {
        "colab": {
          "base_uri": "https://localhost:8080/"
        },
        "id": "RrHVk9_QTi8v",
        "outputId": "cbfc335b-0f67-427d-8fc3-30dc94b82a09"
      },
      "source": [
        "#You can do all the useful tricks in C++,\r\n",
        "#for example:\r\n",
        "i = 10\r\n",
        "while(i):\r\n",
        "  print(f\"Hello there, I been waiting for you for {i} years\")\r\n",
        "  i -= 1"
      ],
      "execution_count": 23,
      "outputs": [
        {
          "output_type": "stream",
          "text": [
            "Hello there, I been waiting for you for 10 years\n",
            "Hello there, I been waiting for you for 9 years\n",
            "Hello there, I been waiting for you for 8 years\n",
            "Hello there, I been waiting for you for 7 years\n",
            "Hello there, I been waiting for you for 6 years\n",
            "Hello there, I been waiting for you for 5 years\n",
            "Hello there, I been waiting for you for 4 years\n",
            "Hello there, I been waiting for you for 3 years\n",
            "Hello there, I been waiting for you for 2 years\n",
            "Hello there, I been waiting for you for 1 years\n"
          ],
          "name": "stdout"
        }
      ]
    },
    {
      "cell_type": "markdown",
      "metadata": {
        "id": "C553-BucUcPK"
      },
      "source": [
        "Oh, one more thing, while we are on the subject of loops, `do-while` loops does not exist in Python. However it can be simulated to a certain extent in the following way:"
      ]
    },
    {
      "cell_type": "code",
      "metadata": {
        "colab": {
          "base_uri": "https://localhost:8080/"
        },
        "id": "Fy41HvBgTyoI",
        "outputId": "3ce469c7-548f-49a0-d02b-0128096fadda"
      },
      "source": [
        "loopOn = True\r\n",
        "while loopOn:\r\n",
        "  drink = input(\"Favorite drink: \")\r\n",
        "  if drink == \"Water\":\r\n",
        "    loopOn = False\r\n",
        "    print(\"Hmm, not impressed by your choice of drink\")"
      ],
      "execution_count": 24,
      "outputs": [
        {
          "output_type": "stream",
          "text": [
            "Favorite drink: Honey\n",
            "Favorite drink: Water\n",
            "Hmm, not impressed by your choice of drink\n"
          ],
          "name": "stdout"
        }
      ]
    },
    {
      "cell_type": "markdown",
      "metadata": {
        "id": "X2e-3oMZGk5f"
      },
      "source": [
        "###`break` and `continue`"
      ]
    },
    {
      "cell_type": "markdown",
      "metadata": {
        "id": "TlQf6YOvYrsd"
      },
      "source": [
        "We can also use `break` and `continue` in Python like so:"
      ]
    },
    {
      "cell_type": "code",
      "metadata": {
        "colab": {
          "base_uri": "https://localhost:8080/"
        },
        "id": "pQWs_u-sULKE",
        "outputId": "df83cd2f-1364-40dc-943a-6951886c1e20"
      },
      "source": [
        "loopOn = True\r\n",
        "while loopOn:\r\n",
        "  drink = input(\"Favorite drink: \")\r\n",
        "  if drink == \"Water\":\r\n",
        "    print(\"Hmm, not impressed by your choice of drink\")\r\n",
        "    break"
      ],
      "execution_count": 25,
      "outputs": [
        {
          "output_type": "stream",
          "text": [
            "Favorite drink: Water\n",
            "Hmm, not impressed by your choice of drink\n"
          ],
          "name": "stdout"
        }
      ]
    },
    {
      "cell_type": "code",
      "metadata": {
        "colab": {
          "base_uri": "https://localhost:8080/"
        },
        "id": "r289t9SyZKir",
        "outputId": "7678a17e-996c-406e-8300-4ac5bb7372dd"
      },
      "source": [
        "loopOn = True\r\n",
        "while loopOn:\r\n",
        "  drink = input(\"Favorite drink: \")\r\n",
        "  if drink == \"Water\":\r\n",
        "    print(\"Hmm, not impressed by your choice of drink\")\r\n",
        "    break\r\n",
        "  elif drink == \"Honey\":\r\n",
        "    print(\"Honey is not a drink\")\r\n",
        "    continue"
      ],
      "execution_count": 26,
      "outputs": [
        {
          "output_type": "stream",
          "text": [
            "Favorite drink: Cola\n",
            "Favorite drink: Miranda\n",
            "Favorite drink: Water\n",
            "Hmm, not impressed by your choice of drink\n"
          ],
          "name": "stdout"
        }
      ]
    },
    {
      "cell_type": "code",
      "metadata": {
        "colab": {
          "base_uri": "https://localhost:8080/"
        },
        "id": "MBtO5uTF5gPn",
        "outputId": "bf0d69ed-5c66-4fc6-e37e-1866826001aa"
      },
      "source": [
        "loopOn = True\r\n",
        "while loopOn:\r\n",
        "  password = input(\"Password: \")\r\n",
        "  #The len function is used to find\r\n",
        "  #the length of a string\r\n",
        "  lenPassword = len(password)\r\n",
        "  if lenPassword > 5:\r\n",
        "    print(\"Good password\")\r\n",
        "    loopOn = False\r\n",
        "  else:\r\n",
        "    loopOn = True"
      ],
      "execution_count": 27,
      "outputs": [
        {
          "output_type": "stream",
          "text": [
            "Password: ab\n",
            "Password: abcde\n",
            "Password: abcdefg\n",
            "Good password\n"
          ],
          "name": "stdout"
        }
      ]
    },
    {
      "cell_type": "markdown",
      "metadata": {
        "id": "Xq5p-4lAiaSS"
      },
      "source": [
        "##Functions\r\n",
        "\r\n",
        "---\r\n",
        "In Python the keyword `def` is used to denote a function definition:\r\n"
      ]
    },
    {
      "cell_type": "code",
      "metadata": {
        "id": "fxpPkrxaZ3RS"
      },
      "source": [
        "def function_name(param1, param2):\r\n",
        "  #do something with/without the parameters\r\n",
        "  pass\r\n",
        "  return something/some_value"
      ],
      "execution_count": 28,
      "outputs": []
    },
    {
      "cell_type": "markdown",
      "metadata": {
        "id": "KfHXa1RUW57a"
      },
      "source": [
        "Functions can be like this as well:"
      ]
    },
    {
      "cell_type": "code",
      "metadata": {
        "id": "VXl5g0ZuW4Q7"
      },
      "source": [
        "def function_name():\r\n",
        "  #do something\r\n",
        "  pass \r\n",
        "  return something/some_value"
      ],
      "execution_count": 29,
      "outputs": []
    },
    {
      "cell_type": "markdown",
      "metadata": {
        "id": "v-9CfXOwXFBe"
      },
      "source": [
        "Also functions can be like this as well:"
      ]
    },
    {
      "cell_type": "code",
      "metadata": {
        "id": "4GeaFS3SXL4O"
      },
      "source": [
        "def function_name():\r\n",
        "  #do something \r\n",
        "  pass"
      ],
      "execution_count": 30,
      "outputs": []
    },
    {
      "cell_type": "markdown",
      "metadata": {
        "id": "ShXiqvapYCCM"
      },
      "source": [
        "Some examples on using these functions are given below:"
      ]
    },
    {
      "cell_type": "code",
      "metadata": {
        "colab": {
          "base_uri": "https://localhost:8080/"
        },
        "id": "zx9jUpIzYBVQ",
        "outputId": "dcaaf5c7-bd6b-4ef4-907d-2d964562b97b"
      },
      "source": [
        "#Definition of the function\r\n",
        "def printSomething():\r\n",
        "  print(\"Today is Sunday\")\r\n",
        "\r\n",
        "#Call of the function\r\n",
        "printSomething()"
      ],
      "execution_count": 31,
      "outputs": [
        {
          "output_type": "stream",
          "text": [
            "Today is Sunday\n"
          ],
          "name": "stdout"
        }
      ]
    },
    {
      "cell_type": "code",
      "metadata": {
        "colab": {
          "base_uri": "https://localhost:8080/"
        },
        "id": "3Y6yReO9YYmc",
        "outputId": "1608acb7-fe5a-4d23-de15-36396c0b0dbc"
      },
      "source": [
        "#Definition of the function\r\n",
        "def addTwoNumbers(a, b):\r\n",
        "  print(f\"Sum of {a} and {b} is {a+b}\")\r\n",
        "\r\n",
        "#Call of the function\r\n",
        "addTwoNumbers(4,5)"
      ],
      "execution_count": 32,
      "outputs": [
        {
          "output_type": "stream",
          "text": [
            "Sum of 4 and 5 is 9\n"
          ],
          "name": "stdout"
        }
      ]
    },
    {
      "cell_type": "code",
      "metadata": {
        "colab": {
          "base_uri": "https://localhost:8080/"
        },
        "id": "QtBUe56HY0ME",
        "outputId": "9fe0d04b-d40c-436a-a77f-45370d3ca65a"
      },
      "source": [
        "#Definition of the function\r\n",
        "def multTwoNumbers(a, b):\r\n",
        "  return a*b\r\n",
        "\r\n",
        "#Call of the function\r\n",
        "a = int(input(\"a: \"))\r\n",
        "b = int(input(\"b: \"))\r\n",
        "val = multTwoNumbers(a, b)\r\n",
        "print(f\"Multiplication of {a} and {b} is {val}\")"
      ],
      "execution_count": 33,
      "outputs": [
        {
          "output_type": "stream",
          "text": [
            "a: 5\n",
            "b: 3\n",
            "Multiplication of 5 and 3 is 15\n"
          ],
          "name": "stdout"
        }
      ]
    },
    {
      "cell_type": "markdown",
      "metadata": {
        "id": "3nv_Fg9heH5v"
      },
      "source": [
        "##Global variables and local variables\r\n",
        "\r\n",
        "---\r\n",
        "The scope of a variable depends on the context it is defined in. However if someone wants to explicitly make the scope of a variable, he/she needs to use `global` keyword. \r\n"
      ]
    },
    {
      "cell_type": "code",
      "metadata": {
        "colab": {
          "base_uri": "https://localhost:8080/"
        },
        "id": "HyEMnqzblEVV",
        "outputId": "38ee9e00-14dc-4c6f-ce2d-34a837b8fb3d"
      },
      "source": [
        "a = 14\r\n",
        "def func(x):\r\n",
        "  a = x\r\n",
        "\r\n",
        "a = 67\r\n",
        "func(a)\r\n",
        "print(a) # -> 67"
      ],
      "execution_count": 34,
      "outputs": [
        {
          "output_type": "stream",
          "text": [
            "67\n"
          ],
          "name": "stdout"
        }
      ]
    },
    {
      "cell_type": "markdown",
      "metadata": {
        "id": "sVQ4uTAnbb-B"
      },
      "source": [
        "Inorder to change the value of `a` to `7`, one can do the following:"
      ]
    },
    {
      "cell_type": "code",
      "metadata": {
        "colab": {
          "base_uri": "https://localhost:8080/"
        },
        "id": "itH2ZYiXbVXf",
        "outputId": "04805c53-05ca-4d7d-ee87-8245f5356252"
      },
      "source": [
        "#global a\r\n",
        "a = 14\r\n",
        "def func(x):\r\n",
        "  global a\r\n",
        "  a = x \r\n",
        "\r\n",
        "b = 7\r\n",
        "func(b)\r\n",
        "print(a) # -> 7"
      ],
      "execution_count": 35,
      "outputs": [
        {
          "output_type": "stream",
          "text": [
            "7\n"
          ],
          "name": "stdout"
        }
      ]
    },
    {
      "cell_type": "markdown",
      "metadata": {
        "id": "fvZc58Ojp775"
      },
      "source": [
        "Also beware that the placement of the `global` keyword determines the value that a variable is going to take."
      ]
    },
    {
      "cell_type": "markdown",
      "metadata": {
        "id": "G9dRh3Jmqm9y"
      },
      "source": [
        "##Reading and Writing to a file\r\n",
        "\r\n",
        "---\r\n"
      ]
    },
    {
      "cell_type": "markdown",
      "metadata": {
        "id": "dgwhbEocEzRN"
      },
      "source": [
        "###Read file"
      ]
    },
    {
      "cell_type": "code",
      "metadata": {
        "colab": {
          "base_uri": "https://localhost:8080/"
        },
        "id": "N8bpeNYQqwPx",
        "outputId": "9e538643-22ac-4c9d-ee94-adad92809d0c"
      },
      "source": [
        "%%writefile hello.txt\r\n",
        "Hello there, welcome,\r\n",
        "I have \r\n",
        "been waiting for you\r\n",
        "for sometime"
      ],
      "execution_count": 36,
      "outputs": [
        {
          "output_type": "stream",
          "text": [
            "Overwriting hello.txt\n"
          ],
          "name": "stdout"
        }
      ]
    },
    {
      "cell_type": "code",
      "metadata": {
        "colab": {
          "base_uri": "https://localhost:8080/"
        },
        "id": "rw1_mfJVq_GJ",
        "outputId": "c887af76-582e-4012-a1b8-00f038b5eec7"
      },
      "source": [
        "#Read the text file hello.txt\r\n",
        "file = open('hello.txt', 'r')\r\n",
        "\r\n",
        "#To read the first line of the file\r\n",
        "print(file.readline())\r\n",
        "\r\n",
        "#To read all the lines of the file\r\n",
        "print(file.readlines())\r\n",
        "\r\n",
        "#Close the file after reading\r\n",
        "file.close()"
      ],
      "execution_count": 37,
      "outputs": [
        {
          "output_type": "stream",
          "text": [
            "Hello there, welcome,\n",
            "\n",
            "['I have \\n', 'been waiting for you\\n', 'for sometime']\n"
          ],
          "name": "stdout"
        }
      ]
    },
    {
      "cell_type": "markdown",
      "metadata": {
        "id": "a8sJlmN1E5pe"
      },
      "source": [
        "###Write file"
      ]
    },
    {
      "cell_type": "code",
      "metadata": {
        "id": "CyIf0MKprYmX"
      },
      "source": [
        "#Writing to a file\r\n",
        "file = open('hello.txt', 'w')\r\n",
        "file.write('There is a horse who is eating carrot\\n')\r\n",
        "file.write('And the other pony is eating a cabbage\\n')\r\n",
        "file.close()\r\n",
        "#Open hello.txt file to read the content "
      ],
      "execution_count": 38,
      "outputs": []
    }
  ]
}